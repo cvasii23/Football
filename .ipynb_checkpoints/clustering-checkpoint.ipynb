{
 "cells": [
  {
   "cell_type": "markdown",
   "metadata": {},
   "source": [
    "# An Unsupervised Learning Approach to Football Coaching\n",
    "## A. Types of players\n",
    "## By Catalin Vasii"
   ]
  },
  {
   "cell_type": "code",
   "execution_count": 39,
   "metadata": {
    "collapsed": false
   },
   "outputs": [],
   "source": [
    "import numpy as np\n",
    "import pandas as pd\n",
    "from __future__ import division\n",
    "from IPython.display import YouTubeVideo\n",
    "import matplotlib.pyplot as plt\n",
    "%matplotlib inline"
   ]
  },
  {
   "cell_type": "markdown",
   "metadata": {},
   "source": [
    "### Nobody can deny that there are several types of players in the game of football. Some say there are two types: germans and greeks"
   ]
  },
  {
   "cell_type": "code",
   "execution_count": 40,
   "metadata": {
    "collapsed": false
   },
   "outputs": [
    {
     "data": {
      "text/html": [
       "\n",
       "        <iframe\n",
       "            width=\"400\"\n",
       "            height=\"300\"\n",
       "            src=\"https://www.youtube.com/embed/https://www.youtube.com/watch?v=ur5fGSBsfq8\"\n",
       "            frameborder=\"0\"\n",
       "            allowfullscreen\n",
       "        ></iframe>\n",
       "        "
      ],
      "text/plain": [
       "<IPython.lib.display.YouTubeVideo at 0x7f2519420850>"
      ]
     },
     "execution_count": 40,
     "metadata": {},
     "output_type": "execute_result"
    }
   ],
   "source": [
    "YouTubeVideo('https://www.youtube.com/watch?v=ur5fGSBsfq8')"
   ]
  },
  {
   "cell_type": "markdown",
   "metadata": {},
   "source": [
    "### While other people say there are defenders, midfielders and attackers (excepting the goalkeepers who are standing most of the time).  These other people are called football coaches. People that we aim to replace with machine learning and data science. "
   ]
  },
  {
   "cell_type": "markdown",
   "metadata": {},
   "source": [
    "### We were able to develop an AI system that beated humans at the game of GO, but is football more complex and hard to beat? This notebook is a small step in answering this question."
   ]
  },
  {
   "cell_type": "markdown",
   "metadata": {},
   "source": [
    "## 1. Getting and pre-processing the data"
   ]
  },
  {
   "cell_type": "markdown",
   "metadata": {},
   "source": [
    "![](euro2016.jpg)"
   ]
  },
  {
   "cell_type": "markdown",
   "metadata": {},
   "source": [
    "We got __UEFA EURO 2016__ data from the [UEFA website](http://www.uefa.com/uefaeuro/season=2016/statistics/index.html)\n",
    "To download speciffic datapoints we have simply done:\n",
    "\n",
    "```python\n",
    "url_g = r'http://www.uefa.com/uefaeuro/season=2016/statistics/round=2000448/players/\\\n",
    "category=attacking/kind=goals/index.html'\n",
    "tabele = pd.read_html(url_g)\n",
    "dfGoals = tabele[0]\n",
    "```\n",
    "\n",
    "more details in the speciffic noteboon in my [Football repo](https://github.com/cvasii23/Football)\n",
    "A csv file with various datapoints was created:"
   ]
  },
  {
   "cell_type": "code",
   "execution_count": 41,
   "metadata": {
    "collapsed": true
   },
   "outputs": [],
   "source": [
    "df = pd.read_csv('jucatori.csv')"
   ]
  },
  {
   "cell_type": "code",
   "execution_count": 42,
   "metadata": {
    "collapsed": false
   },
   "outputs": [
    {
     "data": {
      "text/html": [
       "<div>\n",
       "<table border=\"1\" class=\"dataframe\">\n",
       "  <thead>\n",
       "    <tr style=\"text-align: right;\">\n",
       "      <th></th>\n",
       "      <th>Name</th>\n",
       "      <th>Goals</th>\n",
       "      <th>Assists</th>\n",
       "      <th>Minutes</th>\n",
       "      <th>Solo runs into attacking third</th>\n",
       "      <th>Solo runs into key area</th>\n",
       "      <th>Solo runs into penalty area</th>\n",
       "      <th>Deliveries into attacking third</th>\n",
       "      <th>Deliveries into a key area</th>\n",
       "      <th>Deliveries into penalty area</th>\n",
       "      <th>Total attempts</th>\n",
       "      <th>On target</th>\n",
       "      <th>Red cards</th>\n",
       "      <th>Yellow cards</th>\n",
       "      <th>Fouls committed</th>\n",
       "      <th>Tackles</th>\n",
       "      <th>Blocks</th>\n",
       "    </tr>\n",
       "  </thead>\n",
       "  <tbody>\n",
       "    <tr>\n",
       "      <th>0</th>\n",
       "      <td>Antoine Griezmann</td>\n",
       "      <td>6</td>\n",
       "      <td>2</td>\n",
       "      <td>555</td>\n",
       "      <td>11</td>\n",
       "      <td>11</td>\n",
       "      <td>5</td>\n",
       "      <td>21</td>\n",
       "      <td>17</td>\n",
       "      <td>11</td>\n",
       "      <td>26</td>\n",
       "      <td>14</td>\n",
       "      <td>0</td>\n",
       "      <td>0</td>\n",
       "      <td>4</td>\n",
       "      <td>5</td>\n",
       "      <td>1</td>\n",
       "    </tr>\n",
       "    <tr>\n",
       "      <th>1</th>\n",
       "      <td>Cristiano Ronaldo</td>\n",
       "      <td>3</td>\n",
       "      <td>3</td>\n",
       "      <td>625</td>\n",
       "      <td>18</td>\n",
       "      <td>11</td>\n",
       "      <td>4</td>\n",
       "      <td>20</td>\n",
       "      <td>14</td>\n",
       "      <td>5</td>\n",
       "      <td>46</td>\n",
       "      <td>12</td>\n",
       "      <td>0</td>\n",
       "      <td>1</td>\n",
       "      <td>8</td>\n",
       "      <td>0</td>\n",
       "      <td>0</td>\n",
       "    </tr>\n",
       "    <tr>\n",
       "      <th>2</th>\n",
       "      <td>Olivier Giroud</td>\n",
       "      <td>3</td>\n",
       "      <td>2</td>\n",
       "      <td>456</td>\n",
       "      <td>3</td>\n",
       "      <td>0</td>\n",
       "      <td>3</td>\n",
       "      <td>8</td>\n",
       "      <td>6</td>\n",
       "      <td>2</td>\n",
       "      <td>15</td>\n",
       "      <td>6</td>\n",
       "      <td>0</td>\n",
       "      <td>1</td>\n",
       "      <td>6</td>\n",
       "      <td>0</td>\n",
       "      <td>0</td>\n",
       "    </tr>\n",
       "    <tr>\n",
       "      <th>3</th>\n",
       "      <td>Dimitri Payet</td>\n",
       "      <td>3</td>\n",
       "      <td>2</td>\n",
       "      <td>506</td>\n",
       "      <td>22</td>\n",
       "      <td>17</td>\n",
       "      <td>12</td>\n",
       "      <td>32</td>\n",
       "      <td>24</td>\n",
       "      <td>32</td>\n",
       "      <td>20</td>\n",
       "      <td>7</td>\n",
       "      <td>0</td>\n",
       "      <td>0</td>\n",
       "      <td>2</td>\n",
       "      <td>1</td>\n",
       "      <td>0</td>\n",
       "    </tr>\n",
       "    <tr>\n",
       "      <th>4</th>\n",
       "      <td>Gareth Bale</td>\n",
       "      <td>3</td>\n",
       "      <td>1</td>\n",
       "      <td>533</td>\n",
       "      <td>27</td>\n",
       "      <td>21</td>\n",
       "      <td>6</td>\n",
       "      <td>21</td>\n",
       "      <td>11</td>\n",
       "      <td>8</td>\n",
       "      <td>25</td>\n",
       "      <td>16</td>\n",
       "      <td>0</td>\n",
       "      <td>1</td>\n",
       "      <td>5</td>\n",
       "      <td>3</td>\n",
       "      <td>1</td>\n",
       "    </tr>\n",
       "  </tbody>\n",
       "</table>\n",
       "</div>"
      ],
      "text/plain": [
       "                Name  Goals  Assists  Minutes  Solo runs into attacking third  \\\n",
       "0  Antoine Griezmann      6        2      555                              11   \n",
       "1  Cristiano Ronaldo      3        3      625                              18   \n",
       "2     Olivier Giroud      3        2      456                               3   \n",
       "3      Dimitri Payet      3        2      506                              22   \n",
       "4        Gareth Bale      3        1      533                              27   \n",
       "\n",
       "   Solo runs into key area  Solo runs into penalty area  \\\n",
       "0                       11                            5   \n",
       "1                       11                            4   \n",
       "2                        0                            3   \n",
       "3                       17                           12   \n",
       "4                       21                            6   \n",
       "\n",
       "   Deliveries into attacking third  Deliveries into a key area  \\\n",
       "0                               21                          17   \n",
       "1                               20                          14   \n",
       "2                                8                           6   \n",
       "3                               32                          24   \n",
       "4                               21                          11   \n",
       "\n",
       "   Deliveries into penalty area  Total attempts  On target  Red cards  \\\n",
       "0                            11              26         14          0   \n",
       "1                             5              46         12          0   \n",
       "2                             2              15          6          0   \n",
       "3                            32              20          7          0   \n",
       "4                             8              25         16          0   \n",
       "\n",
       "   Yellow cards  Fouls committed  Tackles  Blocks  \n",
       "0             0                4        5       1  \n",
       "1             1                8        0       0  \n",
       "2             1                6        0       0  \n",
       "3             0                2        1       0  \n",
       "4             1                5        3       1  "
      ]
     },
     "execution_count": 42,
     "metadata": {},
     "output_type": "execute_result"
    }
   ],
   "source": [
    "df.head()"
   ]
  },
  {
   "cell_type": "code",
   "execution_count": 43,
   "metadata": {
    "collapsed": false
   },
   "outputs": [],
   "source": [
    "df.drop(['Solo runs into attacking third','Solo runs into key area',\n",
    "'Deliveries into attacking third','Deliveries into a key area'],axis=1,inplace=True)"
   ]
  },
  {
   "cell_type": "markdown",
   "metadata": {},
   "source": [
    "### After dropping some datapoints that we decided are not so relevant for this exercise, we don't want the number of goals, attacks, tackles and fouls, but a density of them, per minute of football played, for each player"
   ]
  },
  {
   "cell_type": "code",
   "execution_count": 44,
   "metadata": {
    "collapsed": false
   },
   "outputs": [],
   "source": [
    "df.set_index('Name',inplace=True)"
   ]
  },
  {
   "cell_type": "markdown",
   "metadata": {},
   "source": [
    "We made the copy just to have the initial one as it is"
   ]
  },
  {
   "cell_type": "code",
   "execution_count": 45,
   "metadata": {
    "collapsed": true
   },
   "outputs": [],
   "source": [
    "df1 = df.copy()"
   ]
  },
  {
   "cell_type": "code",
   "execution_count": 46,
   "metadata": {
    "collapsed": false
   },
   "outputs": [],
   "source": [
    "coloane = df1.columns.tolist()\n",
    "coloane.remove('Minutes')"
   ]
  },
  {
   "cell_type": "code",
   "execution_count": 47,
   "metadata": {
    "collapsed": true
   },
   "outputs": [],
   "source": [
    "for col in coloane:\n",
    "    df1[col] = df1[col] / df1['Minutes']\n",
    "\n",
    "df1.drop('Minutes',axis=1,inplace=True)"
   ]
  },
  {
   "cell_type": "code",
   "execution_count": 48,
   "metadata": {
    "collapsed": false
   },
   "outputs": [
    {
     "data": {
      "text/html": [
       "<div>\n",
       "<table border=\"1\" class=\"dataframe\">\n",
       "  <thead>\n",
       "    <tr style=\"text-align: right;\">\n",
       "      <th></th>\n",
       "      <th>Goals</th>\n",
       "      <th>Assists</th>\n",
       "      <th>Solo runs into penalty area</th>\n",
       "      <th>Deliveries into penalty area</th>\n",
       "      <th>Total attempts</th>\n",
       "      <th>On target</th>\n",
       "      <th>Red cards</th>\n",
       "      <th>Yellow cards</th>\n",
       "      <th>Fouls committed</th>\n",
       "      <th>Tackles</th>\n",
       "      <th>Blocks</th>\n",
       "    </tr>\n",
       "    <tr>\n",
       "      <th>Name</th>\n",
       "      <th></th>\n",
       "      <th></th>\n",
       "      <th></th>\n",
       "      <th></th>\n",
       "      <th></th>\n",
       "      <th></th>\n",
       "      <th></th>\n",
       "      <th></th>\n",
       "      <th></th>\n",
       "      <th></th>\n",
       "      <th></th>\n",
       "    </tr>\n",
       "  </thead>\n",
       "  <tbody>\n",
       "    <tr>\n",
       "      <th>Antoine Griezmann</th>\n",
       "      <td>0.010811</td>\n",
       "      <td>0.003604</td>\n",
       "      <td>0.009009</td>\n",
       "      <td>0.019820</td>\n",
       "      <td>0.046847</td>\n",
       "      <td>0.025225</td>\n",
       "      <td>0.0</td>\n",
       "      <td>0.000000</td>\n",
       "      <td>0.007207</td>\n",
       "      <td>0.009009</td>\n",
       "      <td>0.001802</td>\n",
       "    </tr>\n",
       "    <tr>\n",
       "      <th>Cristiano Ronaldo</th>\n",
       "      <td>0.004800</td>\n",
       "      <td>0.004800</td>\n",
       "      <td>0.006400</td>\n",
       "      <td>0.008000</td>\n",
       "      <td>0.073600</td>\n",
       "      <td>0.019200</td>\n",
       "      <td>0.0</td>\n",
       "      <td>0.001600</td>\n",
       "      <td>0.012800</td>\n",
       "      <td>0.000000</td>\n",
       "      <td>0.000000</td>\n",
       "    </tr>\n",
       "    <tr>\n",
       "      <th>Olivier Giroud</th>\n",
       "      <td>0.006579</td>\n",
       "      <td>0.004386</td>\n",
       "      <td>0.006579</td>\n",
       "      <td>0.004386</td>\n",
       "      <td>0.032895</td>\n",
       "      <td>0.013158</td>\n",
       "      <td>0.0</td>\n",
       "      <td>0.002193</td>\n",
       "      <td>0.013158</td>\n",
       "      <td>0.000000</td>\n",
       "      <td>0.000000</td>\n",
       "    </tr>\n",
       "    <tr>\n",
       "      <th>Dimitri Payet</th>\n",
       "      <td>0.005929</td>\n",
       "      <td>0.003953</td>\n",
       "      <td>0.023715</td>\n",
       "      <td>0.063241</td>\n",
       "      <td>0.039526</td>\n",
       "      <td>0.013834</td>\n",
       "      <td>0.0</td>\n",
       "      <td>0.000000</td>\n",
       "      <td>0.003953</td>\n",
       "      <td>0.001976</td>\n",
       "      <td>0.000000</td>\n",
       "    </tr>\n",
       "    <tr>\n",
       "      <th>Gareth Bale</th>\n",
       "      <td>0.005629</td>\n",
       "      <td>0.001876</td>\n",
       "      <td>0.011257</td>\n",
       "      <td>0.015009</td>\n",
       "      <td>0.046904</td>\n",
       "      <td>0.030019</td>\n",
       "      <td>0.0</td>\n",
       "      <td>0.001876</td>\n",
       "      <td>0.009381</td>\n",
       "      <td>0.005629</td>\n",
       "      <td>0.001876</td>\n",
       "    </tr>\n",
       "  </tbody>\n",
       "</table>\n",
       "</div>"
      ],
      "text/plain": [
       "                      Goals   Assists  Solo runs into penalty area  \\\n",
       "Name                                                                 \n",
       "Antoine Griezmann  0.010811  0.003604                     0.009009   \n",
       "Cristiano Ronaldo  0.004800  0.004800                     0.006400   \n",
       "Olivier Giroud     0.006579  0.004386                     0.006579   \n",
       "Dimitri Payet      0.005929  0.003953                     0.023715   \n",
       "Gareth Bale        0.005629  0.001876                     0.011257   \n",
       "\n",
       "                   Deliveries into penalty area  Total attempts  On target  \\\n",
       "Name                                                                         \n",
       "Antoine Griezmann                      0.019820        0.046847   0.025225   \n",
       "Cristiano Ronaldo                      0.008000        0.073600   0.019200   \n",
       "Olivier Giroud                         0.004386        0.032895   0.013158   \n",
       "Dimitri Payet                          0.063241        0.039526   0.013834   \n",
       "Gareth Bale                            0.015009        0.046904   0.030019   \n",
       "\n",
       "                   Red cards  Yellow cards  Fouls committed   Tackles  \\\n",
       "Name                                                                    \n",
       "Antoine Griezmann        0.0      0.000000         0.007207  0.009009   \n",
       "Cristiano Ronaldo        0.0      0.001600         0.012800  0.000000   \n",
       "Olivier Giroud           0.0      0.002193         0.013158  0.000000   \n",
       "Dimitri Payet            0.0      0.000000         0.003953  0.001976   \n",
       "Gareth Bale              0.0      0.001876         0.009381  0.005629   \n",
       "\n",
       "                     Blocks  \n",
       "Name                         \n",
       "Antoine Griezmann  0.001802  \n",
       "Cristiano Ronaldo  0.000000  \n",
       "Olivier Giroud     0.000000  \n",
       "Dimitri Payet      0.000000  \n",
       "Gareth Bale        0.001876  "
      ]
     },
     "execution_count": 48,
     "metadata": {},
     "output_type": "execute_result"
    }
   ],
   "source": [
    "df1.head()"
   ]
  },
  {
   "cell_type": "markdown",
   "metadata": {},
   "source": [
    "### Moreover, since not all the datapoints are on the same scale, we want to standardize. Easiest way: use scikit-learn"
   ]
  },
  {
   "cell_type": "code",
   "execution_count": 49,
   "metadata": {
    "collapsed": true
   },
   "outputs": [],
   "source": [
    "from sklearn.preprocessing import StandardScaler\n",
    "from sklearn.metrics.pairwise import pairwise_distances"
   ]
  },
  {
   "cell_type": "code",
   "execution_count": 50,
   "metadata": {
    "collapsed": false
   },
   "outputs": [
    {
     "data": {
      "text/plain": [
       "array([[  4.33454227e+00,   1.34919285e+00,   8.29062366e-01, ...,\n",
       "         -6.52384087e-01,   1.15872964e+00,  -3.33226871e-01],\n",
       "       [  1.69263292e+00,   1.92376516e+00,   4.14590517e-01, ...,\n",
       "         -1.95612374e-01,  -6.88291331e-01,  -6.78727860e-01],\n",
       "       [  2.47452705e+00,   1.72492379e+00,   4.43018416e-01, ...,\n",
       "         -1.66382578e-01,  -6.88291331e-01,  -6.78727860e-01],\n",
       "       ..., \n",
       "       [ -4.17093249e-01,  -3.81446641e-01,  -6.02124959e-01, ...,\n",
       "         -7.22458294e-01,  -3.74363221e-02,   1.45186157e+00],\n",
       "       [ -4.17093249e-01,  -3.81446641e-01,  -6.02124959e-01, ...,\n",
       "         -7.32150801e-01,  -4.96018363e-02,   1.11335671e+00],\n",
       "       [ -4.17093249e-01,  -3.81446641e-01,  -3.61425273e-01, ...,\n",
       "         -3.56063145e-03,  -3.77655986e-01,  -9.76580155e-02]])"
      ]
     },
     "execution_count": 50,
     "metadata": {},
     "output_type": "execute_result"
    }
   ],
   "source": [
    "\n",
    "normalizer = StandardScaler(copy=False)\n",
    "normalizer.fit_transform(df1)"
   ]
  },
  {
   "cell_type": "code",
   "execution_count": 51,
   "metadata": {
    "collapsed": false
   },
   "outputs": [
    {
     "data": {
      "text/html": [
       "<div>\n",
       "<table border=\"1\" class=\"dataframe\">\n",
       "  <thead>\n",
       "    <tr style=\"text-align: right;\">\n",
       "      <th></th>\n",
       "      <th>Goals</th>\n",
       "      <th>Assists</th>\n",
       "      <th>Solo runs into penalty area</th>\n",
       "      <th>Deliveries into penalty area</th>\n",
       "      <th>Total attempts</th>\n",
       "      <th>On target</th>\n",
       "      <th>Red cards</th>\n",
       "      <th>Yellow cards</th>\n",
       "      <th>Fouls committed</th>\n",
       "      <th>Tackles</th>\n",
       "      <th>Blocks</th>\n",
       "    </tr>\n",
       "    <tr>\n",
       "      <th>Name</th>\n",
       "      <th></th>\n",
       "      <th></th>\n",
       "      <th></th>\n",
       "      <th></th>\n",
       "      <th></th>\n",
       "      <th></th>\n",
       "      <th></th>\n",
       "      <th></th>\n",
       "      <th></th>\n",
       "      <th></th>\n",
       "      <th></th>\n",
       "    </tr>\n",
       "  </thead>\n",
       "  <tbody>\n",
       "    <tr>\n",
       "      <th>Antoine Griezmann</th>\n",
       "      <td>4.334542</td>\n",
       "      <td>1.349193</td>\n",
       "      <td>0.829062</td>\n",
       "      <td>0.907426</td>\n",
       "      <td>2.235545</td>\n",
       "      <td>3.320213</td>\n",
       "      <td>-0.075378</td>\n",
       "      <td>-0.645252</td>\n",
       "      <td>-0.652384</td>\n",
       "      <td>1.158730</td>\n",
       "      <td>-0.333227</td>\n",
       "    </tr>\n",
       "    <tr>\n",
       "      <th>Cristiano Ronaldo</th>\n",
       "      <td>1.692633</td>\n",
       "      <td>1.923765</td>\n",
       "      <td>0.414591</td>\n",
       "      <td>-0.158653</td>\n",
       "      <td>4.078032</td>\n",
       "      <td>2.359938</td>\n",
       "      <td>-0.075378</td>\n",
       "      <td>-0.222420</td>\n",
       "      <td>-0.195612</td>\n",
       "      <td>-0.688291</td>\n",
       "      <td>-0.678728</td>\n",
       "    </tr>\n",
       "    <tr>\n",
       "      <th>Olivier Giroud</th>\n",
       "      <td>2.474527</td>\n",
       "      <td>1.724924</td>\n",
       "      <td>0.443018</td>\n",
       "      <td>-0.484618</td>\n",
       "      <td>1.274664</td>\n",
       "      <td>1.396974</td>\n",
       "      <td>-0.075378</td>\n",
       "      <td>-0.065713</td>\n",
       "      <td>-0.166383</td>\n",
       "      <td>-0.688291</td>\n",
       "      <td>-0.678728</td>\n",
       "    </tr>\n",
       "    <tr>\n",
       "      <th>Dimitri Payet</th>\n",
       "      <td>2.188794</td>\n",
       "      <td>1.516784</td>\n",
       "      <td>3.165348</td>\n",
       "      <td>4.823774</td>\n",
       "      <td>1.731337</td>\n",
       "      <td>1.504727</td>\n",
       "      <td>-0.075378</td>\n",
       "      <td>-0.645252</td>\n",
       "      <td>-0.918195</td>\n",
       "      <td>-0.283115</td>\n",
       "      <td>-0.678728</td>\n",
       "    </tr>\n",
       "    <tr>\n",
       "      <th>Gareth Bale</th>\n",
       "      <td>2.056788</td>\n",
       "      <td>0.519590</td>\n",
       "      <td>1.186188</td>\n",
       "      <td>0.473552</td>\n",
       "      <td>2.239502</td>\n",
       "      <td>4.084186</td>\n",
       "      <td>-0.075378</td>\n",
       "      <td>-0.149436</td>\n",
       "      <td>-0.474858</td>\n",
       "      <td>0.465664</td>\n",
       "      <td>-0.318966</td>\n",
       "    </tr>\n",
       "  </tbody>\n",
       "</table>\n",
       "</div>"
      ],
      "text/plain": [
       "                      Goals   Assists  Solo runs into penalty area  \\\n",
       "Name                                                                 \n",
       "Antoine Griezmann  4.334542  1.349193                     0.829062   \n",
       "Cristiano Ronaldo  1.692633  1.923765                     0.414591   \n",
       "Olivier Giroud     2.474527  1.724924                     0.443018   \n",
       "Dimitri Payet      2.188794  1.516784                     3.165348   \n",
       "Gareth Bale        2.056788  0.519590                     1.186188   \n",
       "\n",
       "                   Deliveries into penalty area  Total attempts  On target  \\\n",
       "Name                                                                         \n",
       "Antoine Griezmann                      0.907426        2.235545   3.320213   \n",
       "Cristiano Ronaldo                     -0.158653        4.078032   2.359938   \n",
       "Olivier Giroud                        -0.484618        1.274664   1.396974   \n",
       "Dimitri Payet                          4.823774        1.731337   1.504727   \n",
       "Gareth Bale                            0.473552        2.239502   4.084186   \n",
       "\n",
       "                   Red cards  Yellow cards  Fouls committed   Tackles  \\\n",
       "Name                                                                    \n",
       "Antoine Griezmann  -0.075378     -0.645252        -0.652384  1.158730   \n",
       "Cristiano Ronaldo  -0.075378     -0.222420        -0.195612 -0.688291   \n",
       "Olivier Giroud     -0.075378     -0.065713        -0.166383 -0.688291   \n",
       "Dimitri Payet      -0.075378     -0.645252        -0.918195 -0.283115   \n",
       "Gareth Bale        -0.075378     -0.149436        -0.474858  0.465664   \n",
       "\n",
       "                     Blocks  \n",
       "Name                         \n",
       "Antoine Griezmann -0.333227  \n",
       "Cristiano Ronaldo -0.678728  \n",
       "Olivier Giroud    -0.678728  \n",
       "Dimitri Payet     -0.678728  \n",
       "Gareth Bale       -0.318966  "
      ]
     },
     "execution_count": 51,
     "metadata": {},
     "output_type": "execute_result"
    }
   ],
   "source": [
    "df1.head()"
   ]
  },
  {
   "cell_type": "markdown",
   "metadata": {},
   "source": [
    "## 2. The quest for the best distance"
   ]
  },
  {
   "cell_type": "markdown",
   "metadata": {},
   "source": [
    "### We would like to choose the best distance to use for our clustering. So we took the most popular: $L_1$, $L_2$ and cosine similarity."
   ]
  },
  {
   "cell_type": "code",
   "execution_count": 52,
   "metadata": {
    "collapsed": true
   },
   "outputs": [],
   "source": [
    "dataL2 = pairwise_distances(df1, metric='l2')\n",
    "\n",
    "dataL1 = pairwise_distances(df1, metric='l1')\n",
    "\n",
    "dataCosine = pairwise_distances(df1, metric='cosine')"
   ]
  },
  {
   "cell_type": "markdown",
   "metadata": {},
   "source": [
    "### For each, we want to plot a histogram with all the paiwise distances. Te above procedure has constructed symmetric distance matirces, but since we want for our histogram, to count only once each distance, there is the following trick to extract the upper triangle in a single vector:"
   ]
  },
  {
   "cell_type": "code",
   "execution_count": 53,
   "metadata": {
    "collapsed": false
   },
   "outputs": [
    {
     "data": {
      "text/plain": [
       "array([2, 3, 3])"
      ]
     },
     "execution_count": 53,
     "metadata": {},
     "output_type": "execute_result"
    }
   ],
   "source": [
    "A = np.array([[1,2,3],[1,2,3],[1,2,3]])\n",
    "\n",
    "A[np.triu_indices_from(A,k=1)]"
   ]
  },
  {
   "cell_type": "code",
   "execution_count": 54,
   "metadata": {
    "collapsed": false
   },
   "outputs": [
    {
     "data": {
      "image/png": "[encoded data removed]",
      "text/plain": [
       "<matplotlib.figure.Figure at 0x7f251945aed0>"
      ]
     },
     "metadata": {},
     "output_type": "display_data"
    }
   ],
   "source": [
    "\n",
    "fig = plt.figure(figsize=(15, 5))\n",
    "fig.suptitle(\"histograms for variaous distances\", fontsize=14)\n",
    "\n",
    "ax1 = fig.add_subplot(131)\n",
    "ax1.hist(dataL1[np.triu_indices_from(dataL1,k=1)])\n",
    "ax1.set_title(\"L1-distances\")\n",
    "\n",
    "\n",
    "ax2 = fig.add_subplot(132)\n",
    "ax2.hist(dataL2[np.triu_indices_from(dataL2,k=1)])\n",
    "ax2.set_title(\"L2-distances\")\n",
    "\n",
    "\n",
    "ax3 = fig.add_subplot(133)\n",
    "ax3.hist(dataCosine[np.triu_indices_from(dataCosine,k=1)])\n",
    "ax3.set_title(\"Cosine-distances\")\n",
    "\n",
    "plt.show()"
   ]
  },
  {
   "cell_type": "markdown",
   "metadata": {},
   "source": [
    "### It's time to remember what a clustering algorithm is looking for: to minimize distances within the clusters and to maximize the distances between different clusters.\n",
    "### Both $L_1$ and $L_2$ seem not to be proper for this purpose: the distances are too grouped, with a very little amout of small distances that we need inside a cluster. The choice remains the cosine. Moreover, taking into account that our data is standardized, it make sense for $-u$ to be the opposite of $u$."
   ]
  },
  {
   "cell_type": "markdown",
   "metadata": {},
   "source": [
    "## 3. The clustering itself"
   ]
  },
  {
   "cell_type": "code",
   "execution_count": 55,
   "metadata": {
    "collapsed": true
   },
   "outputs": [],
   "source": [
    "from scipy.cluster.hierarchy import dendrogram, linkage\n"
   ]
  },
  {
   "cell_type": "markdown",
   "metadata": {},
   "source": [
    "### Traditionally, the numer of clusters should be 3, equal to the number of football roles, but we aim to find out if the computer is able to find different behavior classes, so our choice is for a hierarchical clustering. \n",
    "### From the dendrogram:"
   ]
  },
  {
   "cell_type": "code",
   "execution_count": 56,
   "metadata": {
    "collapsed": false,
    "scrolled": true
   },
   "outputs": [
    {
     "data": {
      "image/png": "[encoded data removed]",
      "text/plain": [
       "<matplotlib.figure.Figure at 0x7f251939bc90>"
      ]
     },
     "metadata": {},
     "output_type": "display_data"
    }
   ],
   "source": [
    "linkage_matrix = linkage(dataCosine, \"complete\")\n",
    "plt.figure(figsize=(15, 6))\n",
    "dendrogram(linkage_matrix,truncate_mode='lastp')\n",
    "plt.title('denrdo')\n",
    "plt.show()"
   ]
  },
  {
   "cell_type": "markdown",
   "metadata": {},
   "source": [
    "### A choice of 3 or 4 clusters would work. We go for the four cluster structure. Moreover, we choose agglomerative clustering, in which small clusters consisting by a single player are initially formed, then merged into bigger and bigger clusters. The complete linkage considers the distance between clusters to be maximum of the distances from all the players in the two clusters."
   ]
  },
  {
   "cell_type": "code",
   "execution_count": 57,
   "metadata": {
    "collapsed": true
   },
   "outputs": [],
   "source": [
    "from sklearn.cluster import AgglomerativeClustering"
   ]
  },
  {
   "cell_type": "code",
   "execution_count": 58,
   "metadata": {
    "collapsed": true
   },
   "outputs": [],
   "source": [
    "clusterizare = AgglomerativeClustering(n_clusters=4, affinity='cosine', \n",
    "                                       linkage='complete')"
   ]
  },
  {
   "cell_type": "code",
   "execution_count": 59,
   "metadata": {
    "collapsed": false
   },
   "outputs": [],
   "source": [
    "y = clusterizare.fit_predict(df1)"
   ]
  },
  {
   "cell_type": "code",
   "execution_count": 60,
   "metadata": {
    "collapsed": false
   },
   "outputs": [],
   "source": [
    "df['cluster'] = y"
   ]
  },
  {
   "cell_type": "code",
   "execution_count": 61,
   "metadata": {
    "collapsed": false
   },
   "outputs": [
    {
     "data": {
      "text/html": [
       "<div>\n",
       "<table border=\"1\" class=\"dataframe\">\n",
       "  <thead>\n",
       "    <tr style=\"text-align: right;\">\n",
       "      <th></th>\n",
       "      <th>Goals</th>\n",
       "      <th>Assists</th>\n",
       "      <th>Minutes</th>\n",
       "      <th>Solo runs into penalty area</th>\n",
       "      <th>Deliveries into penalty area</th>\n",
       "      <th>Total attempts</th>\n",
       "      <th>On target</th>\n",
       "      <th>Red cards</th>\n",
       "      <th>Yellow cards</th>\n",
       "      <th>Fouls committed</th>\n",
       "      <th>Tackles</th>\n",
       "      <th>Blocks</th>\n",
       "      <th>cluster</th>\n",
       "    </tr>\n",
       "    <tr>\n",
       "      <th>Name</th>\n",
       "      <th></th>\n",
       "      <th></th>\n",
       "      <th></th>\n",
       "      <th></th>\n",
       "      <th></th>\n",
       "      <th></th>\n",
       "      <th></th>\n",
       "      <th></th>\n",
       "      <th></th>\n",
       "      <th></th>\n",
       "      <th></th>\n",
       "      <th></th>\n",
       "      <th></th>\n",
       "    </tr>\n",
       "  </thead>\n",
       "  <tbody>\n",
       "    <tr>\n",
       "      <th>Antoine Griezmann</th>\n",
       "      <td>6</td>\n",
       "      <td>2</td>\n",
       "      <td>555</td>\n",
       "      <td>5</td>\n",
       "      <td>11</td>\n",
       "      <td>26</td>\n",
       "      <td>14</td>\n",
       "      <td>0</td>\n",
       "      <td>0</td>\n",
       "      <td>4</td>\n",
       "      <td>5</td>\n",
       "      <td>1</td>\n",
       "      <td>0</td>\n",
       "    </tr>\n",
       "    <tr>\n",
       "      <th>Cristiano Ronaldo</th>\n",
       "      <td>3</td>\n",
       "      <td>3</td>\n",
       "      <td>625</td>\n",
       "      <td>4</td>\n",
       "      <td>5</td>\n",
       "      <td>46</td>\n",
       "      <td>12</td>\n",
       "      <td>0</td>\n",
       "      <td>1</td>\n",
       "      <td>8</td>\n",
       "      <td>0</td>\n",
       "      <td>0</td>\n",
       "      <td>0</td>\n",
       "    </tr>\n",
       "    <tr>\n",
       "      <th>Olivier Giroud</th>\n",
       "      <td>3</td>\n",
       "      <td>2</td>\n",
       "      <td>456</td>\n",
       "      <td>3</td>\n",
       "      <td>2</td>\n",
       "      <td>15</td>\n",
       "      <td>6</td>\n",
       "      <td>0</td>\n",
       "      <td>1</td>\n",
       "      <td>6</td>\n",
       "      <td>0</td>\n",
       "      <td>0</td>\n",
       "      <td>0</td>\n",
       "    </tr>\n",
       "  </tbody>\n",
       "</table>\n",
       "</div>"
      ],
      "text/plain": [
       "                   Goals  Assists  Minutes  Solo runs into penalty area  \\\n",
       "Name                                                                      \n",
       "Antoine Griezmann      6        2      555                            5   \n",
       "Cristiano Ronaldo      3        3      625                            4   \n",
       "Olivier Giroud         3        2      456                            3   \n",
       "\n",
       "                   Deliveries into penalty area  Total attempts  On target  \\\n",
       "Name                                                                         \n",
       "Antoine Griezmann                            11              26         14   \n",
       "Cristiano Ronaldo                             5              46         12   \n",
       "Olivier Giroud                                2              15          6   \n",
       "\n",
       "                   Red cards  Yellow cards  Fouls committed  Tackles  Blocks  \\\n",
       "Name                                                                           \n",
       "Antoine Griezmann          0             0                4        5       1   \n",
       "Cristiano Ronaldo          0             1                8        0       0   \n",
       "Olivier Giroud             0             1                6        0       0   \n",
       "\n",
       "                   cluster  \n",
       "Name                        \n",
       "Antoine Griezmann        0  \n",
       "Cristiano Ronaldo        0  \n",
       "Olivier Giroud           0  "
      ]
     },
     "execution_count": 61,
     "metadata": {},
     "output_type": "execute_result"
    }
   ],
   "source": [
    "df.head(3)"
   ]
  },
  {
   "cell_type": "markdown",
   "metadata": {},
   "source": [
    "### Notice that the clusters are well balanced:"
   ]
  },
  {
   "cell_type": "code",
   "execution_count": 62,
   "metadata": {
    "collapsed": false
   },
   "outputs": [
    {
     "name": "stdout",
     "output_type": "stream",
     "text": [
      "A proportion of 0.33 players are in the cluster 0\n",
      "A proportion of 0.32 players are in the cluster 1\n",
      "A proportion of 0.21 players are in the cluster 2\n",
      "A proportion of 0.14 players are in the cluster 3\n"
     ]
    }
   ],
   "source": [
    "for i in set(y):\n",
    "    print 'A proportion of {:.2f} players are in the cluster {:d}'.format(\n",
    "    float((len(df[df['cluster'] == i]) / float(len(df)))), i)"
   ]
  },
  {
   "cell_type": "markdown",
   "metadata": {},
   "source": [
    "## 4. Visualizing and describing the clusters"
   ]
  },
  {
   "cell_type": "markdown",
   "metadata": {},
   "source": [
    "### When in doubt about finding two axes for the plot, the two top principal components will always work"
   ]
  },
  {
   "cell_type": "code",
   "execution_count": 63,
   "metadata": {
    "collapsed": false
   },
   "outputs": [],
   "source": [
    "from sklearn.decomposition import PCA\n"
   ]
  },
  {
   "cell_type": "code",
   "execution_count": 64,
   "metadata": {
    "collapsed": false
   },
   "outputs": [],
   "source": [
    "pca = PCA(n_components=2)\n",
    "dfSmall = pd.DataFrame(pca.fit_transform(df1), \n",
    "                       index = df1.index, columns = ['firstComp','secondComp'])\n"
   ]
  },
  {
   "cell_type": "code",
   "execution_count": 65,
   "metadata": {
    "collapsed": true
   },
   "outputs": [],
   "source": [
    "dfSmall['cluster'] = y"
   ]
  },
  {
   "cell_type": "code",
   "execution_count": 66,
   "metadata": {
    "collapsed": false
   },
   "outputs": [
    {
     "data": {
      "text/html": [
       "<div>\n",
       "<table border=\"1\" class=\"dataframe\">\n",
       "  <thead>\n",
       "    <tr style=\"text-align: right;\">\n",
       "      <th></th>\n",
       "      <th>firstComp</th>\n",
       "      <th>secondComp</th>\n",
       "      <th>cluster</th>\n",
       "    </tr>\n",
       "    <tr>\n",
       "      <th>Name</th>\n",
       "      <th></th>\n",
       "      <th></th>\n",
       "      <th></th>\n",
       "    </tr>\n",
       "  </thead>\n",
       "  <tbody>\n",
       "    <tr>\n",
       "      <th>Antoine Griezmann</th>\n",
       "      <td>5.330951</td>\n",
       "      <td>0.697611</td>\n",
       "      <td>0</td>\n",
       "    </tr>\n",
       "    <tr>\n",
       "      <th>Cristiano Ronaldo</th>\n",
       "      <td>4.644956</td>\n",
       "      <td>0.856424</td>\n",
       "      <td>0</td>\n",
       "    </tr>\n",
       "    <tr>\n",
       "      <th>Olivier Giroud</th>\n",
       "      <td>2.912013</td>\n",
       "      <td>0.724922</td>\n",
       "      <td>0</td>\n",
       "    </tr>\n",
       "    <tr>\n",
       "      <th>Dimitri Payet</th>\n",
       "      <td>5.638030</td>\n",
       "      <td>-1.912259</td>\n",
       "      <td>0</td>\n",
       "    </tr>\n",
       "    <tr>\n",
       "      <th>Gareth Bale</th>\n",
       "      <td>4.672945</td>\n",
       "      <td>0.859801</td>\n",
       "      <td>0</td>\n",
       "    </tr>\n",
       "  </tbody>\n",
       "</table>\n",
       "</div>"
      ],
      "text/plain": [
       "                   firstComp  secondComp  cluster\n",
       "Name                                             \n",
       "Antoine Griezmann   5.330951    0.697611        0\n",
       "Cristiano Ronaldo   4.644956    0.856424        0\n",
       "Olivier Giroud      2.912013    0.724922        0\n",
       "Dimitri Payet       5.638030   -1.912259        0\n",
       "Gareth Bale         4.672945    0.859801        0"
      ]
     },
     "execution_count": 66,
     "metadata": {},
     "output_type": "execute_result"
    }
   ],
   "source": [
    "dfSmall.head()"
   ]
  },
  {
   "cell_type": "code",
   "execution_count": 67,
   "metadata": {
    "collapsed": false
   },
   "outputs": [
    {
     "data": {
      "text/html": [
       "\n",
       "    <div class=\"bk-banner\">\n",
       "        <a href=\"http://bokeh.pydata.org\" target=\"_blank\" class=\"bk-logo bk-logo-small bk-logo-notebook\"></a>\n",
       "        <span id=\"48901c98-2bfe-44b0-836f-107767cd4ceb\">Loading BokehJS ...</span>\n",
       "    </div>"
      ]
     },
     "metadata": {},
     "output_type": "display_data"
    },
    {
     "data": {
      "application/javascript": [
       "\n",
       "(function(global) {\n",
       "  function now() {\n",
       "    return new Date();\n",
       "  }\n",
       "\n",
       "  if (typeof (window._bokeh_onload_callbacks) === \"undefined\") {\n",
       "    window._bokeh_onload_callbacks = [];\n",
       "  }\n",
       "\n",
       "  function run_callbacks() {\n",
       "    window._bokeh_onload_callbacks.forEach(function(callback) { callback() });\n",
       "    delete window._bokeh_onload_callbacks\n",
       "    console.info(\"Bokeh: all callbacks have finished\");\n",
       "  }\n",
       "\n",
       "  function load_libs(js_urls, callback) {\n",
       "    window._bokeh_onload_callbacks.push(callback);\n",
       "    if (window._bokeh_is_loading > 0) {\n",
       "      console.log(\"Bokeh: BokehJS is being loaded, scheduling callback at\", now());\n",
       "      return null;\n",
       "    }\n",
       "    if (js_urls == null || js_urls.length === 0) {\n",
       "      run_callbacks();\n",
       "      return null;\n",
       "    }\n",
       "    console.log(\"Bokeh: BokehJS not loaded, scheduling load and callback at\", now());\n",
       "    window._bokeh_is_loading = js_urls.length;\n",
       "    for (var i = 0; i < js_urls.length; i++) {\n",
       "      var url = js_urls[i];\n",
       "      var s = document.createElement('script');\n",
       "      s.src = url;\n",
       "      s.async = false;\n",
       "      s.onreadystatechange = s.onload = function() {\n",
       "        window._bokeh_is_loading--;\n",
       "        if (window._bokeh_is_loading === 0) {\n",
       "          console.log(\"Bokeh: all BokehJS libraries loaded\");\n",
       "          run_callbacks()\n",
       "        }\n",
       "      };\n",
       "      s.onerror = function() {\n",
       "        console.warn(\"failed to load library \" + url);\n",
       "      };\n",
       "      console.log(\"Bokeh: injecting script tag for BokehJS library: \", url);\n",
       "      document.getElementsByTagName(\"head\")[0].appendChild(s);\n",
       "    }\n",
       "  };\n",
       "\n",
       "  var js_urls = ['https://cdn.pydata.org/bokeh/release/bokeh-0.11.1.min.js', 'https://cdn.pydata.org/bokeh/release/bokeh-widgets-0.11.1.min.js', 'https://cdn.pydata.org/bokeh/release/bokeh-compiler-0.11.1.min.js'];\n",
       "\n",
       "  var inline_js = [\n",
       "    function(Bokeh) {\n",
       "      Bokeh.set_log_level(\"info\");\n",
       "    },\n",
       "    \n",
       "    function(Bokeh) {\n",
       "      Bokeh.$(\"#48901c98-2bfe-44b0-836f-107767cd4ceb\").text(\"BokehJS successfully loaded\");\n",
       "    },\n",
       "    function(Bokeh) {\n",
       "      console.log(\"Bokeh: injecting CSS: https://cdn.pydata.org/bokeh/release/bokeh-0.11.1.min.css\");\n",
       "      Bokeh.embed.inject_css(\"https://cdn.pydata.org/bokeh/release/bokeh-0.11.1.min.css\");\n",
       "      console.log(\"Bokeh: injecting CSS: https://cdn.pydata.org/bokeh/release/bokeh-widgets-0.11.1.min.css\");\n",
       "      Bokeh.embed.inject_css(\"https://cdn.pydata.org/bokeh/release/bokeh-widgets-0.11.1.min.css\");\n",
       "    }\n",
       "  ];\n",
       "\n",
       "  function run_inline_js() {\n",
       "    for (var i = 0; i < inline_js.length; i++) {\n",
       "      inline_js[i](window.Bokeh);\n",
       "    }\n",
       "  }\n",
       "\n",
       "  if (window._bokeh_is_loading === 0) {\n",
       "    console.log(\"Bokeh: BokehJS loaded, going straight to plotting\");\n",
       "    run_inline_js();\n",
       "  } else {\n",
       "    load_libs(js_urls, function() {\n",
       "      console.log(\"Bokeh: BokehJS plotting callback run at\", now());\n",
       "      run_inline_js();\n",
       "    });\n",
       "  }\n",
       "}(this));"
      ]
     },
     "metadata": {},
     "output_type": "display_data"
    }
   ],
   "source": [
    "from bokeh.charts import Scatter, output_notebook, show \n",
    "output_notebook()"
   ]
  },
  {
   "cell_type": "code",
   "execution_count": 68,
   "metadata": {
    "collapsed": false
   },
   "outputs": [
    {
     "data": {
      "text/html": [
       "\n",
       "\n",
       "    <div class=\"plotdiv\" id=\"9edfb58b-15d1-4eda-8183-739c14337fd3\"></div>\n",
       "<script type=\"text/javascript\">\n",
       "  \n",
       "  (function(global) {\n",
       "    function now() {\n",
       "      return new Date();\n",
       "    }\n",
       "  \n",
       "    if (typeof (window._bokeh_onload_callbacks) === \"undefined\") {\n",
       "      window._bokeh_onload_callbacks = [];\n",
       "    }\n",
       "  \n",
       "    function run_callbacks() {\n",
       "      window._bokeh_onload_callbacks.forEach(function(callback) { callback() });\n",
       "      delete window._bokeh_onload_callbacks\n",
       "      console.info(\"Bokeh: all callbacks have finished\");\n",
       "    }\n",
       "  \n",
       "    function load_libs(js_urls, callback) {\n",
       "      window._bokeh_onload_callbacks.push(callback);\n",
       "      if (window._bokeh_is_loading > 0) {\n",
       "        console.log(\"Bokeh: BokehJS is being loaded, scheduling callback at\", now());\n",
       "        return null;\n",
       "      }\n",
       "      if (js_urls == null || js_urls.length === 0) {\n",
       "        run_callbacks();\n",
       "        return null;\n",
       "      }\n",
       "      console.log(\"Bokeh: BokehJS not loaded, scheduling load and callback at\", now());\n",
       "      window._bokeh_is_loading = js_urls.length;\n",
       "      for (var i = 0; i < js_urls.length; i++) {\n",
       "        var url = js_urls[i];\n",
       "        var s = document.createElement('script');\n",
       "        s.src = url;\n",
       "        s.async = false;\n",
       "        s.onreadystatechange = s.onload = function() {\n",
       "          window._bokeh_is_loading--;\n",
       "          if (window._bokeh_is_loading === 0) {\n",
       "            console.log(\"Bokeh: all BokehJS libraries loaded\");\n",
       "            run_callbacks()\n",
       "          }\n",
       "        };\n",
       "        s.onerror = function() {\n",
       "          console.warn(\"failed to load library \" + url);\n",
       "        };\n",
       "        console.log(\"Bokeh: injecting script tag for BokehJS library: \", url);\n",
       "        document.getElementsByTagName(\"head\")[0].appendChild(s);\n",
       "      }\n",
       "    };var element = document.getElementById(\"9edfb58b-15d1-4eda-8183-739c14337fd3\");\n",
       "    if (element == null) {\n",
       "      console.log(\"Bokeh: ERROR: autoload.js configured with elementid '9edfb58b-15d1-4eda-8183-739c14337fd3' but no matching script tag was found. \")\n",
       "      return false;\n",
       "    }\n",
       "  \n",
       "    var js_urls = [];\n",
       "  \n",
       "    var inline_js = [\n",
       "      function(Bokeh) {\n",
       "        Bokeh.$(function() {\n",
       "            var docs_json = {\"a5f47ed4-5eb2-484f-8327-0d78d990428b\":{\"roots\":{\"references\":[{\"attributes\":{\"plot\":{\"id\":\"a4cf4327-8452-47a3-b4e2-dc5cd869859d\",\"subtype\":\"Chart\",\"type\":\"Plot\"}},\"id\":\"55b564ec-a7a8-4524-9576-0eb058281a46\",\"type\":\"PanTool\"},{\"attributes\":{},\"id\":\"3b88bcd2-83a8-4d9e-b570-96d4d6965ec1\",\"type\":\"BasicTicker\"},{\"attributes\":{\"overlay\":{\"id\":\"ec73179e-831b-4801-b7d0-be442dfcff05\",\"type\":\"BoxAnnotation\"},\"plot\":{\"id\":\"a4cf4327-8452-47a3-b4e2-dc5cd869859d\",\"subtype\":\"Chart\",\"type\":\"Plot\"}},\"id\":\"1693197e-cdc7-4d71-82b1-f7ee47b0b608\",\"type\":\"BoxZoomTool\"},{\"attributes\":{\"plot\":{\"id\":\"8e82fca6-f450-48a5-99fd-fa8258f23551\",\"subtype\":\"Chart\",\"type\":\"Plot\"}},\"id\":\"8a2b2fee-8876-4d83-9409-c07f5407fea3\",\"type\":\"ResizeTool\"},{\"attributes\":{\"plot\":{\"id\":\"8e82fca6-f450-48a5-99fd-fa8258f23551\",\"subtype\":\"Chart\",\"type\":\"Plot\"}},\"id\":\"0f160676-995c-43b8-a19f-857ea95937e4\",\"type\":\"PreviewSaveTool\"},{\"attributes\":{\"callback\":null,\"end\":7.1122417264689775,\"start\":-3.628358564452873},\"id\":\"5de13dba-0002-4fa3-a5ac-9e414d9ac1a0\",\"type\":\"Range1d\"},{\"attributes\":{},\"id\":\"f77b6f4e-4047-4c29-b208-a5d798c1bb9c\",\"type\":\"BasicTicker\"},{\"attributes\":{},\"id\":\"0cc9c9f1-d802-4ef3-b438-e70731d01a4e\",\"type\":\"BasicTickFormatter\"},{\"attributes\":{\"data_source\":{\"id\":\"c7410dca-d778-4fd6-813a-02047086716f\",\"type\":\"ColumnDataSource\"},\"glyph\":{\"id\":\"6574357b-ff0a-475d-91e0-5754413b7642\",\"type\":\"Circle\"},\"hover_glyph\":null,\"nonselection_glyph\":null,\"selection_glyph\":null},\"id\":\"916050f6-b1f0-4f1e-b739-2995b77224b7\",\"type\":\"GlyphRenderer\"},{\"attributes\":{\"fill_alpha\":{\"value\":0.7},\"fill_color\":{\"value\":\"#f22c40\"},\"line_color\":{\"value\":\"#f22c40\"},\"size\":{\"units\":\"screen\",\"value\":8},\"x\":{\"field\":\"x_values\"},\"y\":{\"field\":\"y_values\"}},\"id\":\"04bf47e4-5f7d-4f5f-bf2e-2ac055c09c4e\",\"type\":\"Circle\"},{\"attributes\":{\"fill_alpha\":{\"value\":0.7},\"fill_color\":{\"value\":\"#5ab738\"},\"line_color\":{\"value\":\"#5ab738\"},\"size\":{\"units\":\"screen\",\"value\":8},\"x\":{\"field\":\"x_values\"},\"y\":{\"field\":\"y_values\"}},\"id\":\"5e3fcb17-3e68-44ff-9fe7-f74503a25aac\",\"type\":\"Circle\"},{\"attributes\":{\"callback\":null,\"column_names\":[\"x_values\",\"y_values\"],\"data\":{\"chart_index\":[{\"cluster\":1},{\"cluster\":1},{\"cluster\":1},{\"cluster\":1},{\"cluster\":1},{\"cluster\":1},{\"cluster\":1},{\"cluster\":1},{\"cluster\":1},{\"cluster\":1},{\"cluster\":1},{\"cluster\":1},{\"cluster\":1},{\"cluster\":1},{\"cluster\":1},{\"cluster\":1},{\"cluster\":1},{\"cluster\":1},{\"cluster\":1},{\"cluster\":1},{\"cluster\":1},{\"cluster\":1},{\"cluster\":1},{\"cluster\":1},{\"cluster\":1},{\"cluster\":1},{\"cluster\":1},{\"cluster\":1},{\"cluster\":1},{\"cluster\":1},{\"cluster\":1},{\"cluster\":1},{\"cluster\":1},{\"cluster\":1},{\"cluster\":1},{\"cluster\":1},{\"cluster\":1},{\"cluster\":1},{\"cluster\":1},{\"cluster\":1},{\"cluster\":1},{\"cluster\":1},{\"cluster\":1},{\"cluster\":1},{\"cluster\":1},{\"cluster\":1},{\"cluster\":1},{\"cluster\":1},{\"cluster\":1},{\"cluster\":1},{\"cluster\":1},{\"cluster\":1},{\"cluster\":1},{\"cluster\":1},{\"cluster\":1},{\"cluster\":1},{\"cluster\":1},{\"cluster\":1},{\"cluster\":1},{\"cluster\":1},{\"cluster\":1},{\"cluster\":1},{\"cluster\":1},{\"cluster\":1},{\"cluster\":1},{\"cluster\":1},{\"cluster\":1},{\"cluster\":1},{\"cluster\":1},{\"cluster\":1},{\"cluster\":1},{\"cluster\":1},{\"cluster\":1},{\"cluster\":1},{\"cluster\":1},{\"cluster\":1},{\"cluster\":1},{\"cluster\":1},{\"cluster\":1},{\"cluster\":1},{\"cluster\":1},{\"cluster\":1},{\"cluster\":1},{\"cluster\":1},{\"cluster\":1},{\"cluster\":1},{\"cluster\":1},{\"cluster\":1},{\"cluster\":1},{\"cluster\":1},{\"cluster\":1},{\"cluster\":1},{\"cluster\":1},{\"cluster\":1},{\"cluster\":1},{\"cluster\":1},{\"cluster\":1},{\"cluster\":1},{\"cluster\":1},{\"cluster\":1},{\"cluster\":1},{\"cluster\":1},{\"cluster\":1},{\"cluster\":1},{\"cluster\":1},{\"cluster\":1},{\"cluster\":1},{\"cluster\":1},{\"cluster\":1},{\"cluster\":1},{\"cluster\":1},{\"cluster\":1}],\"cluster\":[1,1,1,1,1,1,1,1,1,1,1,1,1,1,1,1,1,1,1,1,1,1,1,1,1,1,1,1,1,1,1,1,1,1,1,1,1,1,1,1,1,1,1,1,1,1,1,1,1,1,1,1,1,1,1,1,1,1,1,1,1,1,1,1,1,1,1,1,1,1,1,1,1,1,1,1,1,1,1,1,1,1,1,1,1,1,1,1,1,1,1,1,1,1,1,1,1,1,1,1,1,1,1,1,1,1,1,1,1,1,1,1],\"x_values\":[-0.18476821444790809,0.35310574844056486,-0.7097650964202641,-0.1150207126337457,-0.2931787354023057,-0.009127089481638831,-1.2776614897485694,-0.3622244909666906,-1.3688330451672472,-1.9056627596065545,-2.010011088774072,-2.010011088774072,-2.010011088774072,-2.010011088774072,-2.010011088774072,-1.1155968387667785,-2.010011088774072,-0.33025749729695986,-1.2091983300466116,1.156420968723013,-1.236192018543043,-2.010011088774072,-1.2447900082122765,-2.010011088774072,-1.2447900082122765,-1.2447900082122765,-2.010011088774072,-0.24488005428290038,-2.010011088774072,-2.010011088774072,0.22265254215501656,-2.010011088774072,-2.010011088774072,0.49434881124634944,-1.4163050779933686,-1.4882694429364842,-2.010011088774072,-1.5284034156932218,-2.010011088774072,-2.010011088774072,-1.149137373142052,-1.1802532905745347,-2.010011088774072,-2.010011088774072,-2.010011088774072,-1.6274005484931742,-1.2447900082122765,-1.6274005484931742,0.020386049314207066,-1.2447900082122765,-0.4811369258600069,-2.010011088774072,-1.6820591971047312,0.03876901550164408,-0.691781810528167,-2.010011088774072,-0.2371891209926358,-1.7345314997718257,-1.7345314997718257,-0.9381060732011289,-1.7491402658552782,-1.4921923124540601,-1.499863701732875,-0.7346426211710797,-1.7549373952534735,-1.499863701732875,-1.1665603837564162,-1.7549373952534735,-0.9114866902358179,-1.7549373952534735,-1.2447900082122765,-2.010011088774072,-0.479568927650481,-1.7549373952534735,-1.4216340772770149,-1.1665603837564162,-2.010011088774072,-1.1665603837564162,-1.7549373952534735,-1.7549373952534735,-2.010011088774072,-0.6564129967152192,1.504016545097132,-1.8115387624035777,-1.8187058186336231,-1.4360952783527254,-1.568728330151279,-1.8187058186336231,-1.8187058186336231,-1.0534847380718277,-2.010011088774072,-1.6274005484931742,-0.288263657510032,-2.010011088774072,-0.7448350312475884,-2.010011088774072,-0.15184100733768913,-1.3036531682554915,-1.4802426483851368,-1.656832128514782,-0.2193802118339227,-1.5508784404369949,-2.010011088774072,-1.703922656549354,-2.010011088774072,-2.010011088774072,-1.7399330603404972,-1.4284393483714668,-1.8765422956528286,-1.5727418998816174,-1.5809151557487662,-1.664963073085031],\"y_values\":[1.9205078449869406,3.1260833619194983,2.658104149818659,0.8225314787862238,1.2961195504045273,2.637330163093315,1.9472310315713224,1.3699191461197997,-1.0306103334156598,-0.4552135783215996,-1.3670191905480804,-1.3670191905480804,1.5383300301410068,1.494966608936692,-1.3670191905480804,1.123280141471137,-1.3670191905480804,-1.3670191905480804,0.8626674206784282,-1.3670191905480804,-1.3670191905480804,0.7635702379572502,-1.3670191905480804,0.7635702379572502,-1.3670191905480804,-1.3670191905480804,-1.3670191905480804,0.7635702379572502,2.8941596664625804,-1.3670191905480804,4.2727763554954405,-1.3670191905480804,0.4084719998730282,-1.3670191905480804,-1.3670191905480804,0.18615753484585007,-1.3670191905480804,-0.026088780999271033,-1.3670191905480804,-1.3670191905480804,-1.3670191905480804,-1.3670191905480804,4.1874466495314495,-0.2280229252591981,2.9678612174987977,-1.3670191905480804,-0.30172447629541516,-1.3670191905480804,0.7635702379572502,-1.3670191905480804,-0.3786014144373601,-0.41774667289719064,-1.3670191905480804,-0.39994688983110493,-0.4558221783169746,-1.3670191905480804,-0.5302056078868607,-0.5469418795400851,-0.6000069962861614,-1.3670191905480804,1.5383300301410068,-1.3670191905480804,0.1516424965037627,-0.6568227143796369,3.70262487734598,0.10250812914628465,-0.6568227143796369,-1.3670191905480804,0.10250812914628465,2.943294033820058,0.7635702379572502,-1.3670191905480804,2.943294033820058,-0.6076883470221588,-1.3670191905480804,0.10250812914628465,-0.6076883470221588,-0.6076883470221588,0.8127046053147282,1.4737667141256936,-1.3670191905480804,0.7635702379572502,-0.7403752409876891,0.8816219433090898,0.8372717889934671,-1.3670191905480804,0.8004210134753587,0.8372717889934671,-1.3670191905480804,0.26777365634902606,0.3046244318671345,4.0331559317514625,-0.2648737007773066,3.5005085746251297,0.3046244318671345,0.2542629716639259,-0.29361956880986667,1.5830277104593002,0.6336948439350942,-0.8753447070468503,0.49078669861486723,0.39641359308515756,2.953120907291554,0.39641359308515756,-0.967533672703331,-0.18703545707851696,1.6668840794722273,0.13692628839685872,-1.3670191905480804,1.4144252466937544,1.0637548700389539,-0.47531400133147694]}},\"id\":\"95789e5d-e3df-4f30-a8dc-bf29722ee76d\",\"type\":\"ColumnDataSource\"},{\"attributes\":{\"fill_alpha\":{\"value\":0.7},\"fill_color\":{\"value\":\"#407ee7\"},\"line_color\":{\"value\":\"#407ee7\"},\"size\":{\"units\":\"screen\",\"value\":8},\"x\":{\"field\":\"x_values\"},\"y\":{\"field\":\"y_values\"}},\"id\":\"218abdc9-1c67-4721-aae8-b044eb97ad2e\",\"type\":\"Circle\"},{\"attributes\":{\"bottom_units\":\"screen\",\"fill_alpha\":{\"value\":0.5},\"fill_color\":{\"value\":\"lightgrey\"},\"left_units\":\"screen\",\"level\":\"overlay\",\"line_alpha\":{\"value\":1.0},\"line_color\":{\"value\":\"black\"},\"line_dash\":[4,4],\"line_width\":{\"value\":2},\"plot\":null,\"render_mode\":\"css\",\"right_units\":\"screen\",\"top_units\":\"screen\"},\"id\":\"f0f28c50-15d9-4991-b5a9-484a3fc15ff6\",\"type\":\"BoxAnnotation\"},{\"attributes\":{\"callback\":null,\"column_names\":[\"x_values\",\"y_values\"],\"data\":{\"chart_index\":[{\"cluster\":2},{\"cluster\":2},{\"cluster\":2},{\"cluster\":2},{\"cluster\":2},{\"cluster\":2},{\"cluster\":2},{\"cluster\":2},{\"cluster\":2},{\"cluster\":2},{\"cluster\":2},{\"cluster\":2},{\"cluster\":2},{\"cluster\":2},{\"cluster\":2},{\"cluster\":2},{\"cluster\":2},{\"cluster\":2},{\"cluster\":2},{\"cluster\":2},{\"cluster\":2},{\"cluster\":2},{\"cluster\":2},{\"cluster\":2},{\"cluster\":2},{\"cluster\":2},{\"cluster\":2},{\"cluster\":2},{\"cluster\":2},{\"cluster\":2},{\"cluster\":2},{\"cluster\":2},{\"cluster\":2},{\"cluster\":2},{\"cluster\":2},{\"cluster\":2},{\"cluster\":2},{\"cluster\":2},{\"cluster\":2},{\"cluster\":2},{\"cluster\":2},{\"cluster\":2},{\"cluster\":2},{\"cluster\":2},{\"cluster\":2},{\"cluster\":2},{\"cluster\":2},{\"cluster\":2},{\"cluster\":2},{\"cluster\":2},{\"cluster\":2},{\"cluster\":2},{\"cluster\":2},{\"cluster\":2},{\"cluster\":2},{\"cluster\":2},{\"cluster\":2},{\"cluster\":2},{\"cluster\":2},{\"cluster\":2},{\"cluster\":2},{\"cluster\":2},{\"cluster\":2},{\"cluster\":2},{\"cluster\":2},{\"cluster\":2},{\"cluster\":2},{\"cluster\":2},{\"cluster\":2},{\"cluster\":2},{\"cluster\":2},{\"cluster\":2},{\"cluster\":2},{\"cluster\":2},{\"cluster\":2}],\"cluster\":[2,2,2,2,2,2,2,2,2,2,2,2,2,2,2,2,2,2,2,2,2,2,2,2,2,2,2,2,2,2,2,2,2,2,2,2,2,2,2,2,2,2,2,2,2,2,2,2,2,2,2,2,2,2,2,2,2,2,2,2,2,2,2,2,2,2,2,2,2,2,2,2,2,2,2],\"x_values\":[-0.3700166889375138,-0.026522195633325682,0.5146061885530127,-0.9340724220331015,1.151122237279351,-0.3087212553124318,-0.5258992657492605,0.6387729309730602,-0.552992977589261,-0.9037277029166209,0.26971980599467826,0.17950239137665294,0.010470046844189207,-0.05164011789303197,-0.1885899517387578,-1.3084902780433756,-0.2768763897424506,-0.022076646244256374,-0.8961731879893438,0.14704350528969018,-0.6646372505949425,-0.8013063971025689,-0.19920588542475096,-0.3812816521360217,-0.34995362302982475,0.9890786177081471,-1.4715848231479862,1.2204911378482644,-1.4727147630497712,-0.6596468911418781,-1.7605082904382225,-1.4106552574043072,-1.8936629182900562,0.8640182864278121,-1.3640819109845654,0.9222823697660668,-1.6043375053297906,-1.3464372893142065,-0.6220763841198211,-0.5861048681241215,-0.7283832628327278,-1.0644738005947143,-1.2083619639078524,-1.1090982946850383,-0.01833668432027071,-0.030757222219842034,0.432384831061816,-1.412179812998597,1.268521055035784,-0.34822582156636794,-0.5337945793955087,-1.2152868718348402,-1.1158496620615233,-0.7370497907076518,-1.031016762550472,-1.7765067619710173,-1.1024628966500005,0.3200114465328193,-1.5543685775859162,-0.5620056628856982,-0.8070922055959096,-1.0429500971207608,-1.0875697394619193,0.5624385302579828,-1.5880750582362877,-1.0690467152274705,-0.6794909202971557,-1.502294891394715,-1.5102191437831334,-0.8996797821975494,-0.7557557304076894,-1.3220738418654194,-1.6540139524853623,-2.1119468278503803,-1.3682077909161758],\"y_values\":[-0.3049415824388582,-0.5773003401629917,0.24010278741182225,-0.568752743324461,0.41593287971875187,3.6209822025937233,-0.7913521550791268,-1.3417036181173123,-0.29557039305099175,-1.2902660086630657,0.6659371756574303,-1.162629711367905,-0.8125485961549247,-0.6103122300475935,-0.7503218017975211,0.031744303769331135,-0.4938989211430822,-0.9063957348583518,-0.587091632907328,-1.2863412764213842,-0.07299678155907895,-0.8951361973959142,0.12961745891436613,-0.6045559943097288,-1.5719798027113965,-2.5054760139477095,-1.2499171157177025,0.2905758609584448,2.0628279585701774,3.450711190954576,2.3330839028148915,0.03364561744149615,0.827336611707785,-1.3361815199118554,-0.3123618106878266,0.7335121039556176,1.8403516653824405,0.9652000969678463,-1.2705815811469354,-0.567846121224887,-1.510142959273284,0.314014020038996,-0.39239547339671443,0.5262091099771499,-0.9262535666688945,-0.6202768377344253,-0.7862703650430296,0.5080344398099701,-0.8737112191155461,-1.0862858896367034,-0.7880691268398186,-0.341980760611419,-0.6275218239160963,1.152964075797963,-0.8994448803232694,-0.7182656357678004,-0.3187788393777241,-1.5797091766340399,-0.25262253418706704,-0.017020482054684653,0.23279320033729906,-0.25955379875088713,0.2099289369417563,-1.319998803084148,-0.2831406050822434,-0.8688962110821747,-1.1803507154199073,0.213205365080959,-1.173847054652518,-0.054373607581085975,-0.18072243162075577,-0.9213630556649733,-0.36601066887888256,-0.1711916883578599,-0.05337329900910078]}},\"id\":\"80db2e44-429e-4004-a184-14c5685709ea\",\"type\":\"ColumnDataSource\"},{\"attributes\":{\"fill_alpha\":{\"value\":0.7},\"fill_color\":{\"value\":\"#df5320\"},\"line_color\":{\"value\":\"#df5320\"},\"size\":{\"units\":\"screen\",\"value\":8},\"x\":{\"field\":\"x_values\"},\"y\":{\"field\":\"y_values\"}},\"id\":\"b88b492d-0728-4dcb-ab93-b0698955f698\",\"type\":\"Circle\"},{\"attributes\":{\"axis_label\":\"second princ component\",\"formatter\":{\"id\":\"0cc9c9f1-d802-4ef3-b438-e70731d01a4e\",\"type\":\"BasicTickFormatter\"},\"plot\":{\"id\":\"a4cf4327-8452-47a3-b4e2-dc5cd869859d\",\"subtype\":\"Chart\",\"type\":\"Plot\"},\"ticker\":{\"id\":\"f3076d39-df7c-4e2b-a0ac-877e78a0efcd\",\"type\":\"BasicTicker\"}},\"id\":\"255660aa-26f5-4684-8145-26dfc474cfc5\",\"type\":\"LinearAxis\"},{\"attributes\":{\"callback\":null,\"column_names\":[\"x_values\",\"y_values\"],\"data\":{\"chart_index\":[{\"cluster\":0},{\"cluster\":0},{\"cluster\":0},{\"cluster\":0},{\"cluster\":0},{\"cluster\":0},{\"cluster\":0},{\"cluster\":0},{\"cluster\":0},{\"cluster\":0},{\"cluster\":0},{\"cluster\":0},{\"cluster\":0},{\"cluster\":0},{\"cluster\":0},{\"cluster\":0},{\"cluster\":0},{\"cluster\":0},{\"cluster\":0},{\"cluster\":0},{\"cluster\":0},{\"cluster\":0},{\"cluster\":0},{\"cluster\":0},{\"cluster\":0},{\"cluster\":0},{\"cluster\":0},{\"cluster\":0},{\"cluster\":0},{\"cluster\":0},{\"cluster\":0},{\"cluster\":0},{\"cluster\":0},{\"cluster\":0},{\"cluster\":0},{\"cluster\":0},{\"cluster\":0},{\"cluster\":0},{\"cluster\":0},{\"cluster\":0},{\"cluster\":0},{\"cluster\":0},{\"cluster\":0},{\"cluster\":0},{\"cluster\":0},{\"cluster\":0},{\"cluster\":0},{\"cluster\":0},{\"cluster\":0},{\"cluster\":0},{\"cluster\":0},{\"cluster\":0},{\"cluster\":0},{\"cluster\":0},{\"cluster\":0},{\"cluster\":0},{\"cluster\":0},{\"cluster\":0},{\"cluster\":0},{\"cluster\":0},{\"cluster\":0},{\"cluster\":0},{\"cluster\":0},{\"cluster\":0},{\"cluster\":0},{\"cluster\":0},{\"cluster\":0},{\"cluster\":0},{\"cluster\":0},{\"cluster\":0},{\"cluster\":0},{\"cluster\":0},{\"cluster\":0},{\"cluster\":0},{\"cluster\":0},{\"cluster\":0},{\"cluster\":0},{\"cluster\":0},{\"cluster\":0},{\"cluster\":0},{\"cluster\":0},{\"cluster\":0},{\"cluster\":0},{\"cluster\":0},{\"cluster\":0},{\"cluster\":0},{\"cluster\":0},{\"cluster\":0},{\"cluster\":0},{\"cluster\":0},{\"cluster\":0},{\"cluster\":0},{\"cluster\":0},{\"cluster\":0},{\"cluster\":0},{\"cluster\":0},{\"cluster\":0},{\"cluster\":0},{\"cluster\":0},{\"cluster\":0},{\"cluster\":0},{\"cluster\":0},{\"cluster\":0},{\"cluster\":0},{\"cluster\":0},{\"cluster\":0},{\"cluster\":0},{\"cluster\":0},{\"cluster\":0},{\"cluster\":0},{\"cluster\":0},{\"cluster\":0},{\"cluster\":0},{\"cluster\":0},{\"cluster\":0},{\"cluster\":0},{\"cluster\":0}],\"cluster\":[0,0,0,0,0,0,0,0,0,0,0,0,0,0,0,0,0,0,0,0,0,0,0,0,0,0,0,0,0,0,0,0,0,0,0,0,0,0,0,0,0,0,0,0,0,0,0,0,0,0,0,0,0,0,0,0,0,0,0,0,0,0,0,0,0,0,0,0,0,0,0,0,0,0,0,0,0,0,0,0,0,0,0,0,0,0,0,0,0,0,0,0,0,0,0,0,0,0,0,0,0,0,0,0,0,0,0,0,0,0,0,0,0,0,0,0,0],\"x_values\":[7.3991492870715,6.185254996381108,4.1922097343627085,7.085479661307012,5.482478680773028,3.2563025913482484,6.200194152197685,2.0965139708823908,5.161254784739022,2.119713027149753,2.8849584378279136,2.872494315040078,6.119873473742504,3.61003036882233,2.977442340059088,2.2122212594972925,3.641900885585515,1.2409640439635674,1.2616683484041764,3.7425045520426172,2.5888148449034807,3.2861854482051256,2.9346832011116257,4.7581705904278815,2.276288386314561,4.304382015730752,3.7877494039574766,2.006513479208717,1.2055637888950428,3.5109332531108777,2.0366164433633958,1.9092609794086282,2.0405338518707485,1.8461534950656944,1.928583124821209,8.298311773027722,9.348272828295697,7.943239142777131,2.8409643756032428,2.921063909584712,1.7384699518811262,2.3233578491775866,3.1608035139846797,3.2867026211952863,1.580856586177664,4.875459599196424,4.399218097122786,0.9403815026024668,0.5556159346077078,1.38339052167002,2.478782813831147,1.2265358292489987,0.383085124231343,2.6657025271575154,2.320057473361964,1.3530218033365045,0.5500321515417848,2.0319382278771068,0.49715615181569073,1.4067544643222667,-0.558389288750766,0.5505281832670623,1.164408315419794,3.122092700189,2.1221827462596234,1.2855621068406906,0.47220442847913824,2.694770481592646,0.020386049314207066,0.6682626931922122,6.713565017265005,0.519903504103701,1.1474307018621754,1.6392502449701674,-0.064156746571436,0.5856251390901273,2.3334027322904465,0.020386049314207066,1.1217668534597642,0.3597644287116031,6.854098750133108,0.44962809874598486,1.8498480697813016,6.713565017265005,-0.07001398312444962,-1.2447900082122765,-0.479568927650481,1.5399836148631236,-1.3951012918940577,1.3055719807408273,2.384086505378945,1.7174798694260274,-1.0261554137660494,-0.12082900211592774,7.242431565805428,0.11560302389758204,1.8170008907705455,0.6620752860487085,0.8642089733700384,5.096791175046146,2.669323722109544,1.4883197375821418,-2.010011088774072,-1.2447900082122765,-1.2447900082122765,-1.2447900082122765,0.3638817773671747,1.873939118337748,1.3637917312965508,2.4827009499878234,3.5975327907583092,1.2341157675008942,2.969006066117937,0.7394102058401957,-1.3036531682554915,-0.31238782605299803,0.3939700944655825],\"y_values\":[0.8255027685969174,-1.3670191905480804,-1.3670191905480804,-0.9618426534887943,0.14669756709071163,-1.0766235421741444,-1.3670191905480804,-0.27997158419882406,0.7177638374143903,1.7983802159484443,0.13590647732115657,-1.3670191905480804,-0.6594433655832106,-1.3670191905480804,-0.8343718334217478,-0.7975210579036393,-1.3670191905480804,-1.3670191905480804,-0.029704292615908512,-1.3670191905480804,0.4338982911962859,0.31346710250109033,0.7517990256450657,-1.3670191905480804,-1.3670191905480804,-0.6501683942124202,-0.7959347121302565,-0.2648737007773066,-0.8402251010824767,-0.8232013450520623,0.1420203604338639,0.36693297267067093,-0.9650205086814161,-1.3670191905480804,-1.3670191905480804,2.2940402335947554,-1.3670191905480804,1.1030931920061222,1.96720245917863,-1.3670191905480804,1.2955694815558003,-0.12447781023293614,-0.2323857670837033,-1.3670191905480804,-1.3670191905480804,-1.3670191905480804,-1.3670191905480804,1.3203115166800397,-0.5147834191459483,-0.5369194132083412,1.0705195624029333,0.8618389726722062,-0.6076883470221588,-1.3670191905480804,-1.3670191905480804,1.2364008443979362,0.8372717889934671,-0.8274946438322941,-0.0591849130303953,-0.9910328208118456,0.10250812914628465,0.33579914626254115,-1.3670191905480804,-0.9409013048470143,-1.3670191905480804,-1.3670191905480804,0.23469430751441034,-1.3670191905480804,-0.2280229252591981,-0.2280229252591981,-1.3670191905480804,1.0892734791232561,-1.3670191905480804,-1.3670191905480804,-0.7147979369239997,-1.3670191905480804,-1.3670191905480804,-0.7975210579036393,-1.3670191905480804,-0.28797009711650773,2.817048722758017,-1.3670191905480804,-1.3670191905480804,-1.3670191905480804,-1.3670191905480804,-1.3670191905480804,-1.3670191905480804,0.6098163616733603,-1.3670191905480804,-1.3670191905480804,-1.3670191905480804,3.188965870607449,0.0026454420624890673,1.1601933974613372,-1.3670191905480804,-1.3670191905480804,0.8497790587638241,-0.44350870517871643,-1.3670191905480804,0.38528275605020035,-1.3670191905480804,0.8784722425469842,0.10250812914628465,0.053373761788806595,-1.3670191905480804,0.8618389726722062,1.5720354488406496,-0.6076883470221588,-0.6076883470221588,-0.6076883470221588,-1.3670191905480804,-0.7035138321900191,-0.7929082666993387,-1.3670191905480804,1.2274176288710863,-0.34965412306736615,-0.8413286065685963]}},\"id\":\"a318a316-0c69-421d-a681-9c14c9942884\",\"type\":\"ColumnDataSource\"},{\"attributes\":{\"callback\":null,\"end\":8.07596481396934,\"start\":-3.467425180121987},\"id\":\"58195d8a-4c0c-495b-9b30-105b05f68360\",\"type\":\"Range1d\"},{\"attributes\":{\"callback\":null,\"column_names\":[\"x_values\",\"y_values\"],\"data\":{\"chart_index\":[{\"cluster\":1},{\"cluster\":1},{\"cluster\":1},{\"cluster\":1},{\"cluster\":1},{\"cluster\":1},{\"cluster\":1},{\"cluster\":1},{\"cluster\":1},{\"cluster\":1},{\"cluster\":1},{\"cluster\":1},{\"cluster\":1},{\"cluster\":1},{\"cluster\":1},{\"cluster\":1},{\"cluster\":1},{\"cluster\":1},{\"cluster\":1},{\"cluster\":1},{\"cluster\":1},{\"cluster\":1},{\"cluster\":1},{\"cluster\":1},{\"cluster\":1},{\"cluster\":1},{\"cluster\":1},{\"cluster\":1},{\"cluster\":1},{\"cluster\":1},{\"cluster\":1},{\"cluster\":1},{\"cluster\":1},{\"cluster\":1},{\"cluster\":1},{\"cluster\":1},{\"cluster\":1},{\"cluster\":1},{\"cluster\":1},{\"cluster\":1},{\"cluster\":1},{\"cluster\":1},{\"cluster\":1},{\"cluster\":1},{\"cluster\":1},{\"cluster\":1},{\"cluster\":1},{\"cluster\":1},{\"cluster\":1},{\"cluster\":1},{\"cluster\":1},{\"cluster\":1},{\"cluster\":1},{\"cluster\":1},{\"cluster\":1},{\"cluster\":1},{\"cluster\":1},{\"cluster\":1},{\"cluster\":1},{\"cluster\":1},{\"cluster\":1},{\"cluster\":1},{\"cluster\":1},{\"cluster\":1},{\"cluster\":1},{\"cluster\":1},{\"cluster\":1},{\"cluster\":1},{\"cluster\":1},{\"cluster\":1},{\"cluster\":1},{\"cluster\":1},{\"cluster\":1},{\"cluster\":1},{\"cluster\":1},{\"cluster\":1},{\"cluster\":1},{\"cluster\":1},{\"cluster\":1},{\"cluster\":1},{\"cluster\":1},{\"cluster\":1},{\"cluster\":1},{\"cluster\":1},{\"cluster\":1},{\"cluster\":1},{\"cluster\":1},{\"cluster\":1},{\"cluster\":1},{\"cluster\":1},{\"cluster\":1},{\"cluster\":1},{\"cluster\":1},{\"cluster\":1},{\"cluster\":1},{\"cluster\":1},{\"cluster\":1},{\"cluster\":1},{\"cluster\":1},{\"cluster\":1},{\"cluster\":1},{\"cluster\":1},{\"cluster\":1},{\"cluster\":1},{\"cluster\":1},{\"cluster\":1},{\"cluster\":1},{\"cluster\":1},{\"cluster\":1},{\"cluster\":1},{\"cluster\":1},{\"cluster\":1}],\"cluster\":[1,1,1,1,1,1,1,1,1,1,1,1,1,1,1,1,1,1,1,1,1,1,1,1,1,1,1,1,1,1,1,1,1,1,1,1,1,1,1,1,1,1,1,1,1,1,1,1,1,1,1,1,1,1,1,1,1,1,1,1,1,1,1,1,1,1,1,1,1,1,1,1,1,1,1,1,1,1,1,1,1,1,1,1,1,1,1,1,1,1,1,1,1,1,1,1,1,1,1,1,1,1,1,1,1,1,1,1,1,1,1,1],\"x_values\":[-0.7556962442174402,-0.49906708106799724,-1.3897015357127729,-0.4403309606000306,-0.7790765416540989,-0.873815677868536,-1.3131000447327565,-0.4385440053074596,-0.4380691031250365,-0.9345033909586142,-1.264900772417169,-0.8126315862511237,-2.0191836383663144,-2.0076185374553814,-1.2443218773338007,-1.1289776197302512,-0.6086193053827227,-0.4236474380230406,-1.1630631623593424,0.600414048090627,-0.8715765130099392,-1.5457965118988586,-0.8652000262375936,-1.8230719373558104,0.001836698170051341,0.012354800101550696,-1.5941749103677156,-1.1572644591517391,-2.1035103680578695,-1.2540809409815834,-1.5910947197859775,-0.9976417110008428,-1.7353786789617247,-0.06294113449100257,-0.9583362098784242,-0.5009059927668612,-1.2443218773338007,-1.1888332153643015,-1.2941793030388784,-1.4605445583130492,-0.8355590918599731,-0.20141052171451834,-2.4933897627343398,-1.178332752709079,-2.179836504504819,-0.33344906219342335,-1.1598341072143483,-0.9418939409142039,-0.3458983668325619,0.28963022555850243,-0.44675495773370005,-1.4974945319285826,-0.4696484261451023,0.22841069119025328,-0.3944200674403515,-1.2817674019097853,-0.4999007981481263,-0.8758336016617204,-1.0243036064442614,-0.7279897773365452,-1.9114518521706743,-0.722530055761456,-0.32678270824570077,-0.22734432924236236,-2.18290217845392,-1.151016015458684,-0.9965036457553943,-0.8508409014617684,-1.0386857991142993,-1.824421341052536,-1.0555006350170715,-1.0524595257415,-1.6086996103042106,-0.8033421177347877,-1.0430725531475984,-1.0621165057292181,-1.1008919178106693,-0.0903632986549262,-1.263201450916359,-1.9887021814565504,-1.3714576569432717,-0.9501824866270197,0.4483344564353943,-1.7329240558943682,-1.4551315272387613,-0.7484803588754839,-1.49708239238117,-1.3884421963573979,-1.1729448674197394,-0.9615639137172416,-1.2458128349017186,-2.3592252907775753,-0.3070054113356807,-2.491561959578655,-0.7458375875509974,-1.4272297310708564,0.43774419913876633,-1.5666503827139928,-1.2918515483526132,-0.4050898512397753,-0.9078283822456491,-1.0233127168527085,-2.3536567143614855,-1.0493516996500762,-1.4204071013939426,-1.2709899441736123,-1.8038214299279496,-1.3489049532817312,-1.1169763906850194,-1.3589563467676553,-1.611113574406085,-0.8270534942595911],\"y_values\":[-0.08446627655804069,0.471726773947433,0.16697727073799432,-0.2085868096406444,-0.5618551831954589,-0.17895418280622633,-0.5635319604431629,-0.6800651308526008,-1.4012767030694508,-1.436184800181939,-0.054854934040028225,-1.607479113673156,-1.1821498037290434,-1.1824474961704918,-1.2020951973060847,-1.3965835611098916,-1.150507920478709,-0.36264248881423805,-0.14894984605510728,0.10074628787366872,-0.5189032073815342,-0.2849900282556662,-1.1128614751611243,-0.60110132968027,-0.14747423257534584,-0.7338414782446635,1.0973430880673112,-0.87645986925978,-0.8567306519684872,-0.6580431136953775,-0.53130084831003,-1.4337431495158397,-0.2126276028934745,1.229937555275784,-0.6779220326225933,-0.04028074243631072,-1.2020951973060847,-0.9377773784435288,0.7190549021743061,0.5293881213195438,-0.1122125328260309,-1.0463672772666266,-0.83804259661247,-1.01253638488931,-0.5622848569975489,-0.9450406591854296,-0.5191809185135584,-0.2780151377916204,-1.1454419047420132,-0.4177301768200601,-1.6163885351723273,-1.195578385543289,-1.4916718059100667,-0.7114146572318163,-0.360400412488577,0.3132184339485696,-0.9335829825017031,0.0384802583957108,-0.1900286425681249,-0.25572808285806886,0.047658331325797554,0.2682786250280187,-0.8383211627031999,-0.20944954279869385,0.06676578694766257,-0.22953497272033876,-0.9584350801007951,-0.7662124537929179,0.05424677876474465,-0.8051750646653618,-0.47561292331139415,-1.3822658268025603,0.37459873217476203,-0.8352956607381741,-0.6174872634563605,-0.4564946071446918,-1.3612637189995787,-0.8754835906061372,-0.42889018950898017,-0.5818247807477425,0.15075147682103202,0.19908032528656772,-0.6196888336780947,0.3576700775444712,-0.40805507203147234,-0.600639472216261,-0.07152262857371393,-0.18243543525799222,-0.23271574723568558,-0.25128177080460595,-1.2230355268786937,-0.08208692502080063,0.28553456939819066,0.2979073183436146,0.07501185276817002,-0.8770912099076223,-0.3651431832056506,-0.07542104970224638,-0.22691516745797483,-1.3607386458524493,-0.4679460107511456,-0.38873268089780455,-0.1164413095288892,-0.8192722969021168,-0.5483203100557354,-0.29374145813451463,-0.5205855051967435,-0.9461314587237956,0.4998628692704451,-0.5076091949035056,-0.35087149847747323,-0.6607927921556264]}},\"id\":\"d76b666d-1670-444c-a529-77c53beaaccc\",\"type\":\"ColumnDataSource\"},{\"attributes\":{},\"id\":\"f3076d39-df7c-4e2b-a0ac-877e78a0efcd\",\"type\":\"BasicTicker\"},{\"attributes\":{\"fill_alpha\":{\"value\":0.7},\"fill_color\":{\"value\":\"#f22c40\"},\"line_color\":{\"value\":\"#f22c40\"},\"size\":{\"units\":\"screen\",\"value\":8},\"x\":{\"field\":\"x_values\"},\"y\":{\"field\":\"y_values\"}},\"id\":\"bae17a57-f182-40eb-8847-c8ae701252a9\",\"type\":\"Circle\"},{\"attributes\":{},\"id\":\"b575581b-d29f-40bc-b6af-21395c319826\",\"type\":\"BasicTicker\"},{\"attributes\":{\"plot\":{\"id\":\"8e82fca6-f450-48a5-99fd-fa8258f23551\",\"subtype\":\"Chart\",\"type\":\"Plot\"}},\"id\":\"b1fd331f-da03-437e-8480-fe63df71a4e0\",\"type\":\"PanTool\"},{\"attributes\":{\"bottom_units\":\"screen\",\"fill_alpha\":{\"value\":0.5},\"fill_color\":{\"value\":\"lightgrey\"},\"left_units\":\"screen\",\"level\":\"overlay\",\"line_alpha\":{\"value\":1.0},\"line_color\":{\"value\":\"black\"},\"line_dash\":[4,4],\"line_width\":{\"value\":2},\"plot\":null,\"render_mode\":\"css\",\"right_units\":\"screen\",\"top_units\":\"screen\"},\"id\":\"e4e52d0f-c3d6-4b4a-bb65-2ba49ee57d02\",\"type\":\"BoxAnnotation\"},{\"attributes\":{\"plot\":{\"id\":\"a4cf4327-8452-47a3-b4e2-dc5cd869859d\",\"subtype\":\"Chart\",\"type\":\"Plot\"}},\"id\":\"d3416748-3626-41f9-ad1f-61f4b718c2df\",\"type\":\"WheelZoomTool\"},{\"attributes\":{\"plot\":{\"id\":\"3e564601-0504-4937-81bc-40fa5433e628\",\"subtype\":\"Chart\",\"type\":\"Plot\"}},\"id\":\"8a70936c-14b3-48f3-a409-cbf2b4975119\",\"type\":\"WheelZoomTool\"},{\"attributes\":{\"plot\":{\"id\":\"a4cf4327-8452-47a3-b4e2-dc5cd869859d\",\"subtype\":\"Chart\",\"type\":\"Plot\"}},\"id\":\"4e813f04-9526-4902-80e2-df03c82fdae8\",\"type\":\"ResizeTool\"},{\"attributes\":{\"callback\":null,\"end\":10.484101220002673,\"start\":-3.145839480481049},\"id\":\"f24f2ef5-0be6-451e-8c64-6b826ec14e55\",\"type\":\"Range1d\"},{\"attributes\":{\"below\":[{\"id\":\"1f5ba79a-ff8b-4f02-88d6-5bfdc3f00b64\",\"type\":\"LinearAxis\"}],\"left\":[{\"id\":\"3320240a-71cd-4a65-8492-8db4c7edc937\",\"type\":\"LinearAxis\"}],\"legend\":\"top_right\",\"renderers\":[{\"id\":\"e4e52d0f-c3d6-4b4a-bb65-2ba49ee57d02\",\"type\":\"BoxAnnotation\"},{\"id\":\"98e66068-3901-40ea-8a77-906cde93b2b2\",\"type\":\"GlyphRenderer\"},{\"id\":\"fc058ce0-05b5-4d0a-ae10-f2e564561544\",\"type\":\"GlyphRenderer\"},{\"id\":\"ca2e7b23-dce1-48e1-9808-bb9cc9db2706\",\"type\":\"GlyphRenderer\"},{\"id\":\"916050f6-b1f0-4f1e-b739-2995b77224b7\",\"type\":\"GlyphRenderer\"},{\"id\":\"bde2c7a4-1543-45e0-8cad-b61e94371d30\",\"type\":\"Legend\"},{\"id\":\"1f5ba79a-ff8b-4f02-88d6-5bfdc3f00b64\",\"type\":\"LinearAxis\"},{\"id\":\"3320240a-71cd-4a65-8492-8db4c7edc937\",\"type\":\"LinearAxis\"},{\"id\":\"43b66b44-d3f0-4f97-b0bb-6d90cbc6fde3\",\"type\":\"Grid\"},{\"id\":\"d1ed55f3-5efb-419a-b440-b3fae0b2ffdf\",\"type\":\"Grid\"}],\"title\":\"Player attitude\",\"title_text_font_size\":{\"value\":\"14pt\"},\"tool_events\":{\"id\":\"a38c6120-430b-4998-ad72-a845bdd9638e\",\"type\":\"ToolEvents\"},\"tools\":[{\"id\":\"b1fd331f-da03-437e-8480-fe63df71a4e0\",\"type\":\"PanTool\"},{\"id\":\"f6527291-519c-4aac-a7c6-61a3fb637ae1\",\"type\":\"WheelZoomTool\"},{\"id\":\"c7a47eec-dd33-40ba-bcbd-ff527a30bd3b\",\"type\":\"BoxZoomTool\"},{\"id\":\"0f160676-995c-43b8-a19f-857ea95937e4\",\"type\":\"PreviewSaveTool\"},{\"id\":\"8a2b2fee-8876-4d83-9409-c07f5407fea3\",\"type\":\"ResizeTool\"},{\"id\":\"258bbd2c-a897-42ad-ac62-9a98ace50eda\",\"type\":\"ResetTool\"},{\"id\":\"34279a25-6e88-40d6-8755-77579fd7884b\",\"type\":\"HelpTool\"}],\"x_mapper_type\":\"auto\",\"x_range\":{\"id\":\"f24f2ef5-0be6-451e-8c64-6b826ec14e55\",\"type\":\"Range1d\"},\"xscale\":\"auto\",\"y_mapper_type\":\"auto\",\"y_range\":{\"id\":\"ebd67de4-934a-4a2b-8615-28d0b32636ee\",\"type\":\"Range1d\"},\"yscale\":\"auto\"},\"id\":\"8e82fca6-f450-48a5-99fd-fa8258f23551\",\"subtype\":\"Chart\",\"type\":\"Plot\"},{\"attributes\":{\"callback\":null,\"end\":8.385641633667566,\"start\":-2.25362472002223},\"id\":\"ebd67de4-934a-4a2b-8615-28d0b32636ee\",\"type\":\"Range1d\"},{\"attributes\":{\"plot\":{\"id\":\"8e82fca6-f450-48a5-99fd-fa8258f23551\",\"subtype\":\"Chart\",\"type\":\"Plot\"}},\"id\":\"34279a25-6e88-40d6-8755-77579fd7884b\",\"type\":\"HelpTool\"},{\"attributes\":{\"plot\":{\"id\":\"8e82fca6-f450-48a5-99fd-fa8258f23551\",\"subtype\":\"Chart\",\"type\":\"Plot\"}},\"id\":\"f6527291-519c-4aac-a7c6-61a3fb637ae1\",\"type\":\"WheelZoomTool\"},{\"attributes\":{\"below\":[{\"id\":\"eed2e4e8-df5f-492e-86c5-df57e89b4ade\",\"type\":\"LinearAxis\"}],\"left\":[{\"id\":\"255660aa-26f5-4684-8145-26dfc474cfc5\",\"type\":\"LinearAxis\"}],\"legend\":\"top_right\",\"renderers\":[{\"id\":\"ec73179e-831b-4801-b7d0-be442dfcff05\",\"type\":\"BoxAnnotation\"},{\"id\":\"56d699a1-90ae-480c-8ec4-6932f9bcd7ef\",\"type\":\"GlyphRenderer\"},{\"id\":\"81c25af0-e850-4cbd-9708-7443a5f42543\",\"type\":\"GlyphRenderer\"},{\"id\":\"36c267e5-1f0e-4323-b14b-dfd2ff57fbf7\",\"type\":\"GlyphRenderer\"},{\"id\":\"867b4f23-7856-4b5f-a808-0343aaff5366\",\"type\":\"GlyphRenderer\"},{\"id\":\"a0d17b55-d681-4b56-85d5-f3934202053a\",\"type\":\"Legend\"},{\"id\":\"eed2e4e8-df5f-492e-86c5-df57e89b4ade\",\"type\":\"LinearAxis\"},{\"id\":\"255660aa-26f5-4684-8145-26dfc474cfc5\",\"type\":\"LinearAxis\"},{\"id\":\"9a402332-38f2-4b83-940f-ab8e172a4f2a\",\"type\":\"Grid\"},{\"id\":\"9f0d4054-35b2-4ee6-a437-9c7105ec8269\",\"type\":\"Grid\"}],\"title\":\"Player position\",\"title_text_font_size\":{\"value\":\"14pt\"},\"tool_events\":{\"id\":\"069a1b29-497e-40be-abc3-2577e6a8842c\",\"type\":\"ToolEvents\"},\"tools\":[{\"id\":\"55b564ec-a7a8-4524-9576-0eb058281a46\",\"type\":\"PanTool\"},{\"id\":\"d3416748-3626-41f9-ad1f-61f4b718c2df\",\"type\":\"WheelZoomTool\"},{\"id\":\"1693197e-cdc7-4d71-82b1-f7ee47b0b608\",\"type\":\"BoxZoomTool\"},{\"id\":\"5abd674d-44a9-4b8f-ab7d-dddf961a552b\",\"type\":\"PreviewSaveTool\"},{\"id\":\"4e813f04-9526-4902-80e2-df03c82fdae8\",\"type\":\"ResizeTool\"},{\"id\":\"3f89f420-d69f-438e-949f-a14d0b111559\",\"type\":\"ResetTool\"},{\"id\":\"11063f33-885e-45fd-8c0f-1601db65f28a\",\"type\":\"HelpTool\"}],\"x_mapper_type\":\"auto\",\"x_range\":{\"id\":\"fa63e38d-1714-4295-8836-6d80bc4a8d54\",\"type\":\"Range1d\"},\"xscale\":\"auto\",\"y_mapper_type\":\"auto\",\"y_range\":{\"id\":\"58195d8a-4c0c-495b-9b30-105b05f68360\",\"type\":\"Range1d\"},\"yscale\":\"auto\"},\"id\":\"a4cf4327-8452-47a3-b4e2-dc5cd869859d\",\"subtype\":\"Chart\",\"type\":\"Plot\"},{\"attributes\":{\"plot\":{\"id\":\"3e564601-0504-4937-81bc-40fa5433e628\",\"subtype\":\"Chart\",\"type\":\"Plot\"}},\"id\":\"88dd6707-f114-4dcc-bf61-95121053d520\",\"type\":\"ResetTool\"},{\"attributes\":{\"callback\":null,\"column_names\":[\"x_values\",\"y_values\"],\"data\":{\"chart_index\":[{\"cluster\":2},{\"cluster\":2},{\"cluster\":2},{\"cluster\":2},{\"cluster\":2},{\"cluster\":2},{\"cluster\":2},{\"cluster\":2},{\"cluster\":2},{\"cluster\":2},{\"cluster\":2},{\"cluster\":2},{\"cluster\":2},{\"cluster\":2},{\"cluster\":2},{\"cluster\":2},{\"cluster\":2},{\"cluster\":2},{\"cluster\":2},{\"cluster\":2},{\"cluster\":2},{\"cluster\":2},{\"cluster\":2},{\"cluster\":2},{\"cluster\":2},{\"cluster\":2},{\"cluster\":2},{\"cluster\":2},{\"cluster\":2},{\"cluster\":2},{\"cluster\":2},{\"cluster\":2},{\"cluster\":2},{\"cluster\":2},{\"cluster\":2},{\"cluster\":2},{\"cluster\":2},{\"cluster\":2},{\"cluster\":2},{\"cluster\":2},{\"cluster\":2},{\"cluster\":2},{\"cluster\":2},{\"cluster\":2},{\"cluster\":2},{\"cluster\":2},{\"cluster\":2},{\"cluster\":2},{\"cluster\":2},{\"cluster\":2},{\"cluster\":2},{\"cluster\":2},{\"cluster\":2},{\"cluster\":2},{\"cluster\":2},{\"cluster\":2},{\"cluster\":2},{\"cluster\":2},{\"cluster\":2},{\"cluster\":2},{\"cluster\":2},{\"cluster\":2},{\"cluster\":2},{\"cluster\":2},{\"cluster\":2},{\"cluster\":2},{\"cluster\":2},{\"cluster\":2},{\"cluster\":2},{\"cluster\":2},{\"cluster\":2},{\"cluster\":2},{\"cluster\":2},{\"cluster\":2},{\"cluster\":2}],\"cluster\":[2,2,2,2,2,2,2,2,2,2,2,2,2,2,2,2,2,2,2,2,2,2,2,2,2,2,2,2,2,2,2,2,2,2,2,2,2,2,2,2,2,2,2,2,2,2,2,2,2,2,2,2,2,2,2,2,2,2,2,2,2,2,2,2,2,2,2,2,2,2,2,2,2,2,2],\"x_values\":[-0.3700166889375138,-0.026522195633325682,0.5146061885530127,-0.9340724220331015,1.151122237279351,-0.3087212553124318,-0.5258992657492605,0.6387729309730602,-0.552992977589261,-0.9037277029166209,0.26971980599467826,0.17950239137665294,0.010470046844189207,-0.05164011789303197,-0.1885899517387578,-1.3084902780433756,-0.2768763897424506,-0.022076646244256374,-0.8961731879893438,0.14704350528969018,-0.6646372505949425,-0.8013063971025689,-0.19920588542475096,-0.3812816521360217,-0.34995362302982475,0.9890786177081471,-1.4715848231479862,1.2204911378482644,-1.4727147630497712,-0.6596468911418781,-1.7605082904382225,-1.4106552574043072,-1.8936629182900562,0.8640182864278121,-1.3640819109845654,0.9222823697660668,-1.6043375053297906,-1.3464372893142065,-0.6220763841198211,-0.5861048681241215,-0.7283832628327278,-1.0644738005947143,-1.2083619639078524,-1.1090982946850383,-0.01833668432027071,-0.030757222219842034,0.432384831061816,-1.412179812998597,1.268521055035784,-0.34822582156636794,-0.5337945793955087,-1.2152868718348402,-1.1158496620615233,-0.7370497907076518,-1.031016762550472,-1.7765067619710173,-1.1024628966500005,0.3200114465328193,-1.5543685775859162,-0.5620056628856982,-0.8070922055959096,-1.0429500971207608,-1.0875697394619193,0.5624385302579828,-1.5880750582362877,-1.0690467152274705,-0.6794909202971557,-1.502294891394715,-1.5102191437831334,-0.8996797821975494,-0.7557557304076894,-1.3220738418654194,-1.6540139524853623,-2.1119468278503803,-1.3682077909161758],\"y_values\":[-0.3049415824388582,-0.5773003401629917,0.24010278741182225,-0.568752743324461,0.41593287971875187,3.6209822025937233,-0.7913521550791268,-1.3417036181173123,-0.29557039305099175,-1.2902660086630657,0.6659371756574303,-1.162629711367905,-0.8125485961549247,-0.6103122300475935,-0.7503218017975211,0.031744303769331135,-0.4938989211430822,-0.9063957348583518,-0.587091632907328,-1.2863412764213842,-0.07299678155907895,-0.8951361973959142,0.12961745891436613,-0.6045559943097288,-1.5719798027113965,-2.5054760139477095,-1.2499171157177025,0.2905758609584448,2.0628279585701774,3.450711190954576,2.3330839028148915,0.03364561744149615,0.827336611707785,-1.3361815199118554,-0.3123618106878266,0.7335121039556176,1.8403516653824405,0.9652000969678463,-1.2705815811469354,-0.567846121224887,-1.510142959273284,0.314014020038996,-0.39239547339671443,0.5262091099771499,-0.9262535666688945,-0.6202768377344253,-0.7862703650430296,0.5080344398099701,-0.8737112191155461,-1.0862858896367034,-0.7880691268398186,-0.341980760611419,-0.6275218239160963,1.152964075797963,-0.8994448803232694,-0.7182656357678004,-0.3187788393777241,-1.5797091766340399,-0.25262253418706704,-0.017020482054684653,0.23279320033729906,-0.25955379875088713,0.2099289369417563,-1.319998803084148,-0.2831406050822434,-0.8688962110821747,-1.1803507154199073,0.213205365080959,-1.173847054652518,-0.054373607581085975,-0.18072243162075577,-0.9213630556649733,-0.36601066887888256,-0.1711916883578599,-0.05337329900910078]}},\"id\":\"bccd5d7e-69b1-4bca-a689-3e2035960b28\",\"type\":\"ColumnDataSource\"},{\"attributes\":{\"overlay\":{\"id\":\"f0f28c50-15d9-4991-b5a9-484a3fc15ff6\",\"type\":\"BoxAnnotation\"},\"plot\":{\"id\":\"3e564601-0504-4937-81bc-40fa5433e628\",\"subtype\":\"Chart\",\"type\":\"Plot\"}},\"id\":\"2831af2a-38de-4e91-b61c-d739b68d4aaf\",\"type\":\"BoxZoomTool\"},{\"attributes\":{\"plot\":{\"id\":\"3e564601-0504-4937-81bc-40fa5433e628\",\"subtype\":\"Chart\",\"type\":\"Plot\"}},\"id\":\"17be00d4-adf0-4723-ac48-5a5ffa91a907\",\"type\":\"ResizeTool\"},{\"attributes\":{\"plot\":{\"id\":\"3e564601-0504-4937-81bc-40fa5433e628\",\"subtype\":\"Chart\",\"type\":\"Plot\"}},\"id\":\"57ead827-cea0-4f8d-9666-9ee68752fcda\",\"type\":\"PreviewSaveTool\"},{\"attributes\":{\"plot\":{\"id\":\"a4cf4327-8452-47a3-b4e2-dc5cd869859d\",\"subtype\":\"Chart\",\"type\":\"Plot\"},\"ticker\":{\"id\":\"a6857b1d-03a2-481e-bca3-d4c55716a2a6\",\"type\":\"BasicTicker\"}},\"id\":\"9a402332-38f2-4b83-940f-ab8e172a4f2a\",\"type\":\"Grid\"},{\"attributes\":{},\"id\":\"bcb48863-b049-466f-b24c-035895448465\",\"type\":\"BasicTickFormatter\"},{\"attributes\":{},\"id\":\"a6857b1d-03a2-481e-bca3-d4c55716a2a6\",\"type\":\"BasicTicker\"},{\"attributes\":{\"fill_alpha\":{\"value\":0.7},\"fill_color\":{\"value\":\"#df5320\"},\"line_color\":{\"value\":\"#df5320\"},\"size\":{\"units\":\"screen\",\"value\":8},\"x\":{\"field\":\"x_values\"},\"y\":{\"field\":\"y_values\"}},\"id\":\"6574357b-ff0a-475d-91e0-5754413b7642\",\"type\":\"Circle\"},{\"attributes\":{\"callback\":null,\"column_names\":[\"x_values\",\"y_values\"],\"data\":{\"chart_index\":[{\"cluster\":3},{\"cluster\":3},{\"cluster\":3},{\"cluster\":3},{\"cluster\":3},{\"cluster\":3},{\"cluster\":3},{\"cluster\":3},{\"cluster\":3},{\"cluster\":3},{\"cluster\":3},{\"cluster\":3},{\"cluster\":3},{\"cluster\":3},{\"cluster\":3},{\"cluster\":3},{\"cluster\":3},{\"cluster\":3},{\"cluster\":3},{\"cluster\":3},{\"cluster\":3},{\"cluster\":3},{\"cluster\":3},{\"cluster\":3},{\"cluster\":3},{\"cluster\":3},{\"cluster\":3},{\"cluster\":3},{\"cluster\":3},{\"cluster\":3},{\"cluster\":3},{\"cluster\":3},{\"cluster\":3},{\"cluster\":3},{\"cluster\":3},{\"cluster\":3},{\"cluster\":3},{\"cluster\":3},{\"cluster\":3},{\"cluster\":3},{\"cluster\":3},{\"cluster\":3},{\"cluster\":3},{\"cluster\":3},{\"cluster\":3},{\"cluster\":3},{\"cluster\":3},{\"cluster\":3},{\"cluster\":3},{\"cluster\":3}],\"cluster\":[3,3,3,3,3,3,3,3,3,3,3,3,3,3,3,3,3,3,3,3,3,3,3,3,3,3,3,3,3,3,3,3,3,3,3,3,3,3,3,3,3,3,3,3,3,3,3,3,3,3],\"x_values\":[-0.9041589862869073,-1.9493958370487416,-1.2950341545035298,-2.19135282031013,-0.9320709687033097,0.3603877564138099,-1.2743069093847788,-0.8407544390393366,-0.9194151365667639,-0.01887947296901421,0.8202864653540961,0.658338441064638,1.656385942832402,-1.783285017362019,-0.7413124301338616,-1.844108141218809,-2.152318022401913,-0.03602224132376945,-1.0019093908332155,-0.5916205317262911,-0.4974005919421866,-0.8357308320660598,0.655946654826808,-0.7354150299262374,-2.335849058657835,-1.651223715852296,-1.5704256799675078,-2.7333085402093853,-2.0314220381910943,-1.0412364120478124,-0.5824502302303711,0.41116720418908964,-1.5181922367832605,-0.10233033837256092,0.34410310425502055,-0.9612779406854466,-1.2083721807489642,-0.5578867152413584,-1.5145451174663376,-2.112331927088855,-0.9594413323823486,-1.5921709273296594,-1.845072886029608,-1.1962726030166895,-1.1797074614988268,-0.7772598648605863,-0.2752216017767789,0.0020648585156865357,-1.7917901138970163,-0.7511860915064493],\"y_values\":[2.2319134113469103,4.444046059081832,1.6250325943138397,1.5985285273746266,3.2699298864233106,2.152669659665696,5.638558248805988,7.114015647795064,2.4101432162927563,2.5999160871423923,1.9292665834215323,1.460186186598458,3.385052461818709,1.2012034321687681,0.872942501002487,0.5716331616583653,1.0865404253278756,2.059971829035163,2.0901368972726284,0.9089757305813372,1.5929541777806941,1.0561477551183793,1.0453782313239641,3.314512354548928,2.5307024627594763,0.8973506358991655,1.5112262006519621,3.731611875311991,2.007855782392563,1.0813220003011863,0.6206778987904082,0.8791219453701528,1.4450452212583804,1.4783091243922957,2.261719176444889,1.1250116224960005,0.709984268297233,0.46406308458767237,0.3155469527041275,0.5755661448229352,0.18451999891823978,0.7938070184920183,0.5570659915161256,0.17488189840575238,1.2967733608321652,0.08367233449518227,1.6109449932961821,0.7084469998035068,0.8659912865673113,0.3227798341578006]}},\"id\":\"487b8f24-dae0-437d-8a61-5c1f781dbebb\",\"type\":\"ColumnDataSource\"},{\"attributes\":{\"fill_alpha\":{\"value\":0.7},\"fill_color\":{\"value\":\"#5ab738\"},\"line_color\":{\"value\":\"#5ab738\"},\"size\":{\"units\":\"screen\",\"value\":8},\"x\":{\"field\":\"x_values\"},\"y\":{\"field\":\"y_values\"}},\"id\":\"86422669-53f3-4a50-9bfc-e6cf61e55001\",\"type\":\"Circle\"},{\"attributes\":{\"plot\":{\"id\":\"a4cf4327-8452-47a3-b4e2-dc5cd869859d\",\"subtype\":\"Chart\",\"type\":\"Plot\"}},\"id\":\"11063f33-885e-45fd-8c0f-1601db65f28a\",\"type\":\"HelpTool\"},{\"attributes\":{},\"id\":\"9b34b42d-6a98-4a8f-8cad-662e6199b934\",\"type\":\"BasicTickFormatter\"},{\"attributes\":{\"dimension\":1,\"plot\":{\"id\":\"3e564601-0504-4937-81bc-40fa5433e628\",\"subtype\":\"Chart\",\"type\":\"Plot\"},\"ticker\":{\"id\":\"b575581b-d29f-40bc-b6af-21395c319826\",\"type\":\"BasicTicker\"}},\"id\":\"d6f3a263-1bc0-421f-aa4c-6f980fa56d88\",\"type\":\"Grid\"},{\"attributes\":{\"axis_label\":\"defensive attitude\",\"formatter\":{\"id\":\"e68b655e-56f7-4266-b4dd-347ea99fb2a5\",\"type\":\"BasicTickFormatter\"},\"plot\":{\"id\":\"8e82fca6-f450-48a5-99fd-fa8258f23551\",\"subtype\":\"Chart\",\"type\":\"Plot\"},\"ticker\":{\"id\":\"f77b6f4e-4047-4c29-b208-a5d798c1bb9c\",\"type\":\"BasicTicker\"}},\"id\":\"3320240a-71cd-4a65-8492-8db4c7edc937\",\"type\":\"LinearAxis\"},{\"attributes\":{\"dimension\":1,\"plot\":{\"id\":\"a4cf4327-8452-47a3-b4e2-dc5cd869859d\",\"subtype\":\"Chart\",\"type\":\"Plot\"},\"ticker\":{\"id\":\"f3076d39-df7c-4e2b-a0ac-877e78a0efcd\",\"type\":\"BasicTicker\"}},\"id\":\"9f0d4054-35b2-4ee6-a437-9c7105ec8269\",\"type\":\"Grid\"},{\"attributes\":{},\"id\":\"e68b655e-56f7-4266-b4dd-347ea99fb2a5\",\"type\":\"BasicTickFormatter\"},{\"attributes\":{\"plot\":{\"id\":\"8e82fca6-f450-48a5-99fd-fa8258f23551\",\"subtype\":\"Chart\",\"type\":\"Plot\"}},\"id\":\"258bbd2c-a897-42ad-ac62-9a98ace50eda\",\"type\":\"ResetTool\"},{\"attributes\":{\"fill_alpha\":{\"value\":0.7},\"fill_color\":{\"value\":\"#df5320\"},\"line_color\":{\"value\":\"#df5320\"},\"size\":{\"units\":\"screen\",\"value\":8},\"x\":{\"field\":\"x_values\"},\"y\":{\"field\":\"y_values\"}},\"id\":\"854bf900-6772-414d-9761-cdf910c923f9\",\"type\":\"Circle\"},{\"attributes\":{\"callback\":null,\"end\":8.07596481396934,\"start\":-3.467425180121987},\"id\":\"fbbe002c-eb5d-45d7-bcca-aa51ca8a0db0\",\"type\":\"Range1d\"},{\"attributes\":{\"data_source\":{\"id\":\"e84e4fa6-e90d-4a27-a1c4-a38e3ae4a0aa\",\"type\":\"ColumnDataSource\"},\"glyph\":{\"id\":\"bba69ffb-4aca-4278-ab3d-024726e32b44\",\"type\":\"Circle\"},\"hover_glyph\":null,\"nonselection_glyph\":null,\"selection_glyph\":null},\"id\":\"d9e94871-fd20-491f-8b04-45afa5e3a102\",\"type\":\"GlyphRenderer\"},{\"attributes\":{\"data_source\":{\"id\":\"ac5cc265-c811-4b85-994a-dfc20dbf012a\",\"type\":\"ColumnDataSource\"},\"glyph\":{\"id\":\"86422669-53f3-4a50-9bfc-e6cf61e55001\",\"type\":\"Circle\"},\"hover_glyph\":null,\"nonselection_glyph\":null,\"selection_glyph\":null},\"id\":\"92ffcded-51af-4a55-bd77-fe68c29d4b39\",\"type\":\"GlyphRenderer\"},{\"attributes\":{\"plot\":{\"id\":\"3e564601-0504-4937-81bc-40fa5433e628\",\"subtype\":\"Chart\",\"type\":\"Plot\"},\"ticker\":{\"id\":\"3b88bcd2-83a8-4d9e-b570-96d4d6965ec1\",\"type\":\"BasicTicker\"}},\"id\":\"3be749fa-04c6-4640-8aa0-51370d937da1\",\"type\":\"Grid\"},{\"attributes\":{\"fill_alpha\":{\"value\":0.7},\"fill_color\":{\"value\":\"#407ee7\"},\"line_color\":{\"value\":\"#407ee7\"},\"size\":{\"units\":\"screen\",\"value\":8},\"x\":{\"field\":\"x_values\"},\"y\":{\"field\":\"y_values\"}},\"id\":\"85d82020-41ff-4cbb-a1b8-44e8d3af2f7c\",\"type\":\"Circle\"},{\"attributes\":{\"data_source\":{\"id\":\"95789e5d-e3df-4f30-a8dc-bf29722ee76d\",\"type\":\"ColumnDataSource\"},\"glyph\":{\"id\":\"55c03d3a-fd14-446a-9e72-3a325077220a\",\"type\":\"Circle\"},\"hover_glyph\":null,\"nonselection_glyph\":null,\"selection_glyph\":null},\"id\":\"ca2e7b23-dce1-48e1-9808-bb9cc9db2706\",\"type\":\"GlyphRenderer\"},{\"attributes\":{\"axis_label\":\"offensive attitude\",\"formatter\":{\"id\":\"9b34b42d-6a98-4a8f-8cad-662e6199b934\",\"type\":\"BasicTickFormatter\"},\"plot\":{\"id\":\"8e82fca6-f450-48a5-99fd-fa8258f23551\",\"subtype\":\"Chart\",\"type\":\"Plot\"},\"ticker\":{\"id\":\"e3341536-7bd4-4855-990a-5479d3d3346e\",\"type\":\"BasicTicker\"}},\"id\":\"1f5ba79a-ff8b-4f02-88d6-5bfdc3f00b64\",\"type\":\"LinearAxis\"},{\"attributes\":{\"overlay\":{\"id\":\"e4e52d0f-c3d6-4b4a-bb65-2ba49ee57d02\",\"type\":\"BoxAnnotation\"},\"plot\":{\"id\":\"8e82fca6-f450-48a5-99fd-fa8258f23551\",\"subtype\":\"Chart\",\"type\":\"Plot\"}},\"id\":\"c7a47eec-dd33-40ba-bcbd-ff527a30bd3b\",\"type\":\"BoxZoomTool\"},{\"attributes\":{\"data_source\":{\"id\":\"487b8f24-dae0-437d-8a61-5c1f781dbebb\",\"type\":\"ColumnDataSource\"},\"glyph\":{\"id\":\"854bf900-6772-414d-9761-cdf910c923f9\",\"type\":\"Circle\"},\"hover_glyph\":null,\"nonselection_glyph\":null,\"selection_glyph\":null},\"id\":\"9f253931-8f21-4be6-a105-538f3cdb053f\",\"type\":\"GlyphRenderer\"},{\"attributes\":{\"callback\":null,\"column_names\":[\"x_values\",\"y_values\"],\"data\":{\"chart_index\":[{\"cluster\":1},{\"cluster\":1},{\"cluster\":1},{\"cluster\":1},{\"cluster\":1},{\"cluster\":1},{\"cluster\":1},{\"cluster\":1},{\"cluster\":1},{\"cluster\":1},{\"cluster\":1},{\"cluster\":1},{\"cluster\":1},{\"cluster\":1},{\"cluster\":1},{\"cluster\":1},{\"cluster\":1},{\"cluster\":1},{\"cluster\":1},{\"cluster\":1},{\"cluster\":1},{\"cluster\":1},{\"cluster\":1},{\"cluster\":1},{\"cluster\":1},{\"cluster\":1},{\"cluster\":1},{\"cluster\":1},{\"cluster\":1},{\"cluster\":1},{\"cluster\":1},{\"cluster\":1},{\"cluster\":1},{\"cluster\":1},{\"cluster\":1},{\"cluster\":1},{\"cluster\":1},{\"cluster\":1},{\"cluster\":1},{\"cluster\":1},{\"cluster\":1},{\"cluster\":1},{\"cluster\":1},{\"cluster\":1},{\"cluster\":1},{\"cluster\":1},{\"cluster\":1},{\"cluster\":1},{\"cluster\":1},{\"cluster\":1},{\"cluster\":1},{\"cluster\":1},{\"cluster\":1},{\"cluster\":1},{\"cluster\":1},{\"cluster\":1},{\"cluster\":1},{\"cluster\":1},{\"cluster\":1},{\"cluster\":1},{\"cluster\":1},{\"cluster\":1},{\"cluster\":1},{\"cluster\":1},{\"cluster\":1},{\"cluster\":1},{\"cluster\":1},{\"cluster\":1},{\"cluster\":1},{\"cluster\":1},{\"cluster\":1},{\"cluster\":1},{\"cluster\":1},{\"cluster\":1},{\"cluster\":1},{\"cluster\":1},{\"cluster\":1},{\"cluster\":1},{\"cluster\":1},{\"cluster\":1},{\"cluster\":1},{\"cluster\":1},{\"cluster\":1},{\"cluster\":1},{\"cluster\":1},{\"cluster\":1},{\"cluster\":1},{\"cluster\":1},{\"cluster\":1},{\"cluster\":1},{\"cluster\":1},{\"cluster\":1},{\"cluster\":1},{\"cluster\":1},{\"cluster\":1},{\"cluster\":1},{\"cluster\":1},{\"cluster\":1},{\"cluster\":1},{\"cluster\":1},{\"cluster\":1},{\"cluster\":1},{\"cluster\":1},{\"cluster\":1},{\"cluster\":1},{\"cluster\":1},{\"cluster\":1},{\"cluster\":1},{\"cluster\":1},{\"cluster\":1},{\"cluster\":1},{\"cluster\":1}],\"cluster\":[1,1,1,1,1,1,1,1,1,1,1,1,1,1,1,1,1,1,1,1,1,1,1,1,1,1,1,1,1,1,1,1,1,1,1,1,1,1,1,1,1,1,1,1,1,1,1,1,1,1,1,1,1,1,1,1,1,1,1,1,1,1,1,1,1,1,1,1,1,1,1,1,1,1,1,1,1,1,1,1,1,1,1,1,1,1,1,1,1,1,1,1,1,1,1,1,1,1,1,1,1,1,1,1,1,1,1,1,1,1,1,1],\"x_values\":[-0.7556962442174402,-0.49906708106799724,-1.3897015357127729,-0.4403309606000306,-0.7790765416540989,-0.873815677868536,-1.3131000447327565,-0.4385440053074596,-0.4380691031250365,-0.9345033909586142,-1.264900772417169,-0.8126315862511237,-2.0191836383663144,-2.0076185374553814,-1.2443218773338007,-1.1289776197302512,-0.6086193053827227,-0.4236474380230406,-1.1630631623593424,0.600414048090627,-0.8715765130099392,-1.5457965118988586,-0.8652000262375936,-1.8230719373558104,0.001836698170051341,0.012354800101550696,-1.5941749103677156,-1.1572644591517391,-2.1035103680578695,-1.2540809409815834,-1.5910947197859775,-0.9976417110008428,-1.7353786789617247,-0.06294113449100257,-0.9583362098784242,-0.5009059927668612,-1.2443218773338007,-1.1888332153643015,-1.2941793030388784,-1.4605445583130492,-0.8355590918599731,-0.20141052171451834,-2.4933897627343398,-1.178332752709079,-2.179836504504819,-0.33344906219342335,-1.1598341072143483,-0.9418939409142039,-0.3458983668325619,0.28963022555850243,-0.44675495773370005,-1.4974945319285826,-0.4696484261451023,0.22841069119025328,-0.3944200674403515,-1.2817674019097853,-0.4999007981481263,-0.8758336016617204,-1.0243036064442614,-0.7279897773365452,-1.9114518521706743,-0.722530055761456,-0.32678270824570077,-0.22734432924236236,-2.18290217845392,-1.151016015458684,-0.9965036457553943,-0.8508409014617684,-1.0386857991142993,-1.824421341052536,-1.0555006350170715,-1.0524595257415,-1.6086996103042106,-0.8033421177347877,-1.0430725531475984,-1.0621165057292181,-1.1008919178106693,-0.0903632986549262,-1.263201450916359,-1.9887021814565504,-1.3714576569432717,-0.9501824866270197,0.4483344564353943,-1.7329240558943682,-1.4551315272387613,-0.7484803588754839,-1.49708239238117,-1.3884421963573979,-1.1729448674197394,-0.9615639137172416,-1.2458128349017186,-2.3592252907775753,-0.3070054113356807,-2.491561959578655,-0.7458375875509974,-1.4272297310708564,0.43774419913876633,-1.5666503827139928,-1.2918515483526132,-0.4050898512397753,-0.9078283822456491,-1.0233127168527085,-2.3536567143614855,-1.0493516996500762,-1.4204071013939426,-1.2709899441736123,-1.8038214299279496,-1.3489049532817312,-1.1169763906850194,-1.3589563467676553,-1.611113574406085,-0.8270534942595911],\"y_values\":[-0.08446627655804069,0.471726773947433,0.16697727073799432,-0.2085868096406444,-0.5618551831954589,-0.17895418280622633,-0.5635319604431629,-0.6800651308526008,-1.4012767030694508,-1.436184800181939,-0.054854934040028225,-1.607479113673156,-1.1821498037290434,-1.1824474961704918,-1.2020951973060847,-1.3965835611098916,-1.150507920478709,-0.36264248881423805,-0.14894984605510728,0.10074628787366872,-0.5189032073815342,-0.2849900282556662,-1.1128614751611243,-0.60110132968027,-0.14747423257534584,-0.7338414782446635,1.0973430880673112,-0.87645986925978,-0.8567306519684872,-0.6580431136953775,-0.53130084831003,-1.4337431495158397,-0.2126276028934745,1.229937555275784,-0.6779220326225933,-0.04028074243631072,-1.2020951973060847,-0.9377773784435288,0.7190549021743061,0.5293881213195438,-0.1122125328260309,-1.0463672772666266,-0.83804259661247,-1.01253638488931,-0.5622848569975489,-0.9450406591854296,-0.5191809185135584,-0.2780151377916204,-1.1454419047420132,-0.4177301768200601,-1.6163885351723273,-1.195578385543289,-1.4916718059100667,-0.7114146572318163,-0.360400412488577,0.3132184339485696,-0.9335829825017031,0.0384802583957108,-0.1900286425681249,-0.25572808285806886,0.047658331325797554,0.2682786250280187,-0.8383211627031999,-0.20944954279869385,0.06676578694766257,-0.22953497272033876,-0.9584350801007951,-0.7662124537929179,0.05424677876474465,-0.8051750646653618,-0.47561292331139415,-1.3822658268025603,0.37459873217476203,-0.8352956607381741,-0.6174872634563605,-0.4564946071446918,-1.3612637189995787,-0.8754835906061372,-0.42889018950898017,-0.5818247807477425,0.15075147682103202,0.19908032528656772,-0.6196888336780947,0.3576700775444712,-0.40805507203147234,-0.600639472216261,-0.07152262857371393,-0.18243543525799222,-0.23271574723568558,-0.25128177080460595,-1.2230355268786937,-0.08208692502080063,0.28553456939819066,0.2979073183436146,0.07501185276817002,-0.8770912099076223,-0.3651431832056506,-0.07542104970224638,-0.22691516745797483,-1.3607386458524493,-0.4679460107511456,-0.38873268089780455,-0.1164413095288892,-0.8192722969021168,-0.5483203100557354,-0.29374145813451463,-0.5205855051967435,-0.9461314587237956,0.4998628692704451,-0.5076091949035056,-0.35087149847747323,-0.6607927921556264]}},\"id\":\"ac5cc265-c811-4b85-994a-dfc20dbf012a\",\"type\":\"ColumnDataSource\"},{\"attributes\":{\"axis_label\":\"first principal component\",\"formatter\":{\"id\":\"0b6080c5-1194-413e-9fd6-8577ecd60cf7\",\"type\":\"BasicTickFormatter\"},\"plot\":{\"id\":\"a4cf4327-8452-47a3-b4e2-dc5cd869859d\",\"subtype\":\"Chart\",\"type\":\"Plot\"},\"ticker\":{\"id\":\"a6857b1d-03a2-481e-bca3-d4c55716a2a6\",\"type\":\"BasicTicker\"}},\"id\":\"eed2e4e8-df5f-492e-86c5-df57e89b4ade\",\"type\":\"LinearAxis\"},{\"attributes\":{\"plot\":{\"id\":\"3e564601-0504-4937-81bc-40fa5433e628\",\"subtype\":\"Chart\",\"type\":\"Plot\"}},\"id\":\"639c2ae6-3ca7-4df5-a3f2-f36692dc7336\",\"type\":\"HelpTool\"},{\"attributes\":{},\"id\":\"069a1b29-497e-40be-abc3-2577e6a8842c\",\"type\":\"ToolEvents\"},{\"attributes\":{\"legends\":[[\"0\",[{\"id\":\"56d699a1-90ae-480c-8ec4-6932f9bcd7ef\",\"type\":\"GlyphRenderer\"}]],[\"2\",[{\"id\":\"81c25af0-e850-4cbd-9708-7443a5f42543\",\"type\":\"GlyphRenderer\"}]],[\"1\",[{\"id\":\"36c267e5-1f0e-4323-b14b-dfd2ff57fbf7\",\"type\":\"GlyphRenderer\"}]],[\"3\",[{\"id\":\"867b4f23-7856-4b5f-a808-0343aaff5366\",\"type\":\"GlyphRenderer\"}]]],\"plot\":{\"id\":\"a4cf4327-8452-47a3-b4e2-dc5cd869859d\",\"subtype\":\"Chart\",\"type\":\"Plot\"}},\"id\":\"a0d17b55-d681-4b56-85d5-f3934202053a\",\"type\":\"Legend\"},{\"attributes\":{\"axis_label\":\"first principal component\",\"formatter\":{\"id\":\"5361be7f-34f0-4d31-ab26-47e86782ea1f\",\"type\":\"BasicTickFormatter\"},\"plot\":{\"id\":\"3e564601-0504-4937-81bc-40fa5433e628\",\"subtype\":\"Chart\",\"type\":\"Plot\"},\"ticker\":{\"id\":\"3b88bcd2-83a8-4d9e-b570-96d4d6965ec1\",\"type\":\"BasicTicker\"}},\"id\":\"f8de7bb1-25e9-42ec-ac94-564370bdc3dc\",\"type\":\"LinearAxis\"},{\"attributes\":{\"callback\":null,\"column_names\":[\"x_values\",\"y_values\"],\"data\":{\"chart_index\":[{\"cluster\":2},{\"cluster\":2},{\"cluster\":2},{\"cluster\":2},{\"cluster\":2},{\"cluster\":2},{\"cluster\":2},{\"cluster\":2},{\"cluster\":2},{\"cluster\":2},{\"cluster\":2},{\"cluster\":2},{\"cluster\":2},{\"cluster\":2},{\"cluster\":2},{\"cluster\":2},{\"cluster\":2},{\"cluster\":2},{\"cluster\":2},{\"cluster\":2},{\"cluster\":2},{\"cluster\":2},{\"cluster\":2},{\"cluster\":2},{\"cluster\":2},{\"cluster\":2},{\"cluster\":2},{\"cluster\":2},{\"cluster\":2},{\"cluster\":2},{\"cluster\":2},{\"cluster\":2},{\"cluster\":2},{\"cluster\":2},{\"cluster\":2},{\"cluster\":2},{\"cluster\":2},{\"cluster\":2},{\"cluster\":2},{\"cluster\":2},{\"cluster\":2},{\"cluster\":2},{\"cluster\":2},{\"cluster\":2},{\"cluster\":2},{\"cluster\":2},{\"cluster\":2},{\"cluster\":2},{\"cluster\":2},{\"cluster\":2},{\"cluster\":2},{\"cluster\":2},{\"cluster\":2},{\"cluster\":2},{\"cluster\":2},{\"cluster\":2},{\"cluster\":2},{\"cluster\":2},{\"cluster\":2},{\"cluster\":2},{\"cluster\":2},{\"cluster\":2},{\"cluster\":2},{\"cluster\":2},{\"cluster\":2},{\"cluster\":2},{\"cluster\":2},{\"cluster\":2},{\"cluster\":2},{\"cluster\":2},{\"cluster\":2},{\"cluster\":2},{\"cluster\":2},{\"cluster\":2},{\"cluster\":2}],\"cluster\":[2,2,2,2,2,2,2,2,2,2,2,2,2,2,2,2,2,2,2,2,2,2,2,2,2,2,2,2,2,2,2,2,2,2,2,2,2,2,2,2,2,2,2,2,2,2,2,2,2,2,2,2,2,2,2,2,2,2,2,2,2,2,2,2,2,2,2,2,2,2,2,2,2,2,2],\"x_values\":[-0.9508523741691994,0.11229067689100308,1.4772688729689427,-0.7271975770831821,0.6075945474876181,-1.4408383842239763,-2.010011088774072,-1.2447900082122765,-2.010011088774072,-2.010011088774072,-0.8497841527236267,-1.068418747169854,-1.3602950769763211,-1.6153411904900516,-1.1649923206677226,-2.010011088774072,-0.49485754276524446,-1.1905682976173675,-1.856966872661713,-0.9819066221856492,-1.1408061637558773,-2.010011088774072,-0.7469844497906234,-0.7200197194518374,0.3610604500946657,2.4649689986683354,-1.1038282302140512,3.8813740568449804,-2.010011088774072,-1.2447900082122765,-2.010011088774072,-2.010011088774072,-1.253199031075593,3.39053620393066,-2.010011088774072,1.576314743584464,-2.010011088774072,-0.989716314691678,-0.8419096688902084,-0.38335615766859327,-0.883331705056303,-1.5569196594940617,-1.5822477518140623,-1.1802532905745347,0.6227252159053156,1.624005246674338,1.1895991915058215,-2.010011088774072,2.8324638109047635,-0.19541594650501193,-0.3067115511017119,-2.010011088774072,-2.010011088774072,-0.9114866902358179,-1.7549373952534735,-2.010011088774072,-1.499863701732875,1.1869476622318125,-1.2447900082122765,-0.6564129967152192,-0.6326131437628402,-1.2509054542581817,-1.091739919717327,0.8912024105671221,-2.010011088774072,-1.6274005484931742,-0.9361403013880374,-1.656832128514782,-2.010011088774072,-0.8963152372190674,-1.3036531682554915,-1.8468122801234523,-1.5039406657634786,-1.7399330603404972,-1.6274005484931742],\"y_values\":[-0.08564839209808783,0.1404758664519109,-1.3670191905480804,3.100524009363988,-1.3670191905480804,-1.3670191905480804,2.088362737856394,-1.3670191905480804,-0.2280229252591981,-0.6568227143796369,0.5434306636407366,-0.7582793538322717,-0.764022182480534,2.08164387002199,-1.3670191905480804,-0.30172447629541516,-0.8343718334217478,-0.9073345991758858,-0.9114206844325274,-0.9650205086814161,-0.19324441334198034,-1.3670191905480804,-0.6374130419644548,-0.38029681371027724,-1.3670191905480804,1.5205769749730296,6.551292705102936,-1.3670191905480804,0.9109733400296842,3.188965870607449,0.9109733400296842,0.9109733400296842,7.499036104193417,-1.3670191905480804,0.2731354314679102,0.24730622482198894,3.188965870607449,3.0906971358924924,1.647970923451902,-1.3670191905480804,0.08701859492708841,1.330603543030851,2.370817480690909,1.0231758475090194,-1.3670191905480804,-0.34705616626361374,-1.3670191905480804,0.6234597196655001,-1.3670191905480804,-0.5502091198229856,1.0449729006519055,0.9109733400296842,0.9109733400296842,0.1516424965037627,0.8618389726722062,3.041562768535015,0.1516424965037627,-0.6076883470221588,3.0906971358924924,1.6703041835556056,0.6831740869719078,-0.0002236722014216097,1.1308477810354371,-0.2169543316568382,0.8741225645115756,0.9109733400296842,0.3046244318671345,2.770473280331285,2.2787987968300545,0.667710944413348,0.2100525613903721,1.453637513130677,2.130365756303909,3.6508651766751195,0.5067407345879844]}},\"id\":\"916b6bda-ce06-4d8a-a67c-856c594a5c1d\",\"type\":\"ColumnDataSource\"},{\"attributes\":{\"callback\":null,\"end\":7.1122417264689775,\"start\":-3.628358564452873},\"id\":\"fa63e38d-1714-4295-8836-6d80bc4a8d54\",\"type\":\"Range1d\"},{\"attributes\":{\"data_source\":{\"id\":\"80db2e44-429e-4004-a184-14c5685709ea\",\"type\":\"ColumnDataSource\"},\"glyph\":{\"id\":\"34912fb9-0719-447f-a955-0f77c1419c2c\",\"type\":\"Circle\"},\"hover_glyph\":null,\"nonselection_glyph\":null,\"selection_glyph\":null},\"id\":\"81c25af0-e850-4cbd-9708-7443a5f42543\",\"type\":\"GlyphRenderer\"},{\"attributes\":{\"below\":[{\"id\":\"f8de7bb1-25e9-42ec-ac94-564370bdc3dc\",\"type\":\"LinearAxis\"}],\"left\":[{\"id\":\"e51fd182-f6ec-4e67-8ae9-3d9d78432a77\",\"type\":\"LinearAxis\"}],\"legend\":\"top_right\",\"renderers\":[{\"id\":\"f0f28c50-15d9-4991-b5a9-484a3fc15ff6\",\"type\":\"BoxAnnotation\"},{\"id\":\"d9e94871-fd20-491f-8b04-45afa5e3a102\",\"type\":\"GlyphRenderer\"},{\"id\":\"8bb5965c-4567-4333-9cd8-7dd832c294c1\",\"type\":\"GlyphRenderer\"},{\"id\":\"92ffcded-51af-4a55-bd77-fe68c29d4b39\",\"type\":\"GlyphRenderer\"},{\"id\":\"9f253931-8f21-4be6-a105-538f3cdb053f\",\"type\":\"GlyphRenderer\"},{\"id\":\"589b627e-f98e-4bd2-b98d-a708e963de98\",\"type\":\"Legend\"},{\"id\":\"f8de7bb1-25e9-42ec-ac94-564370bdc3dc\",\"type\":\"LinearAxis\"},{\"id\":\"e51fd182-f6ec-4e67-8ae9-3d9d78432a77\",\"type\":\"LinearAxis\"},{\"id\":\"3be749fa-04c6-4640-8aa0-51370d937da1\",\"type\":\"Grid\"},{\"id\":\"d6f3a263-1bc0-421f-aa4c-6f980fa56d88\",\"type\":\"Grid\"}],\"title\":\"Player position\",\"title_text_font_size\":{\"value\":\"14pt\"},\"tool_events\":{\"id\":\"4c30bacf-f474-4db7-8d0d-cb006885db95\",\"type\":\"ToolEvents\"},\"tools\":[{\"id\":\"1f1e76a4-2b46-451e-8f7a-6446f5c79a40\",\"type\":\"PanTool\"},{\"id\":\"8a70936c-14b3-48f3-a409-cbf2b4975119\",\"type\":\"WheelZoomTool\"},{\"id\":\"2831af2a-38de-4e91-b61c-d739b68d4aaf\",\"type\":\"BoxZoomTool\"},{\"id\":\"57ead827-cea0-4f8d-9666-9ee68752fcda\",\"type\":\"PreviewSaveTool\"},{\"id\":\"17be00d4-adf0-4723-ac48-5a5ffa91a907\",\"type\":\"ResizeTool\"},{\"id\":\"88dd6707-f114-4dcc-bf61-95121053d520\",\"type\":\"ResetTool\"},{\"id\":\"639c2ae6-3ca7-4df5-a3f2-f36692dc7336\",\"type\":\"HelpTool\"}],\"x_mapper_type\":\"auto\",\"x_range\":{\"id\":\"5de13dba-0002-4fa3-a5ac-9e414d9ac1a0\",\"type\":\"Range1d\"},\"xscale\":\"auto\",\"y_mapper_type\":\"auto\",\"y_range\":{\"id\":\"fbbe002c-eb5d-45d7-bcca-aa51ca8a0db0\",\"type\":\"Range1d\"},\"yscale\":\"auto\"},\"id\":\"3e564601-0504-4937-81bc-40fa5433e628\",\"subtype\":\"Chart\",\"type\":\"Plot\"},{\"attributes\":{\"axis_label\":\"second princ component\",\"formatter\":{\"id\":\"bcb48863-b049-466f-b24c-035895448465\",\"type\":\"BasicTickFormatter\"},\"plot\":{\"id\":\"3e564601-0504-4937-81bc-40fa5433e628\",\"subtype\":\"Chart\",\"type\":\"Plot\"},\"ticker\":{\"id\":\"b575581b-d29f-40bc-b6af-21395c319826\",\"type\":\"BasicTicker\"}},\"id\":\"e51fd182-f6ec-4e67-8ae9-3d9d78432a77\",\"type\":\"LinearAxis\"},{\"attributes\":{\"fill_alpha\":{\"value\":0.7},\"fill_color\":{\"value\":\"#f22c40\"},\"line_color\":{\"value\":\"#f22c40\"},\"size\":{\"units\":\"screen\",\"value\":8},\"x\":{\"field\":\"x_values\"},\"y\":{\"field\":\"y_values\"}},\"id\":\"bba69ffb-4aca-4278-ab3d-024726e32b44\",\"type\":\"Circle\"},{\"attributes\":{\"data_source\":{\"id\":\"d53fb34b-4f87-4bc6-a8b6-ed3105aaa0e8\",\"type\":\"ColumnDataSource\"},\"glyph\":{\"id\":\"b88b492d-0728-4dcb-ab93-b0698955f698\",\"type\":\"Circle\"},\"hover_glyph\":null,\"nonselection_glyph\":null,\"selection_glyph\":null},\"id\":\"867b4f23-7856-4b5f-a808-0343aaff5366\",\"type\":\"GlyphRenderer\"},{\"attributes\":{\"dimension\":1,\"plot\":{\"id\":\"8e82fca6-f450-48a5-99fd-fa8258f23551\",\"subtype\":\"Chart\",\"type\":\"Plot\"},\"ticker\":{\"id\":\"f77b6f4e-4047-4c29-b208-a5d798c1bb9c\",\"type\":\"BasicTicker\"}},\"id\":\"d1ed55f3-5efb-419a-b440-b3fae0b2ffdf\",\"type\":\"Grid\"},{\"attributes\":{\"plot\":{\"id\":\"a4cf4327-8452-47a3-b4e2-dc5cd869859d\",\"subtype\":\"Chart\",\"type\":\"Plot\"}},\"id\":\"5abd674d-44a9-4b8f-ab7d-dddf961a552b\",\"type\":\"PreviewSaveTool\"},{\"attributes\":{},\"id\":\"0b6080c5-1194-413e-9fd6-8577ecd60cf7\",\"type\":\"BasicTickFormatter\"},{\"attributes\":{\"legends\":[[\"0\",[{\"id\":\"d9e94871-fd20-491f-8b04-45afa5e3a102\",\"type\":\"GlyphRenderer\"}]],[\"2\",[{\"id\":\"8bb5965c-4567-4333-9cd8-7dd832c294c1\",\"type\":\"GlyphRenderer\"}]],[\"1\",[{\"id\":\"92ffcded-51af-4a55-bd77-fe68c29d4b39\",\"type\":\"GlyphRenderer\"}]],[\"3\",[{\"id\":\"9f253931-8f21-4be6-a105-538f3cdb053f\",\"type\":\"GlyphRenderer\"}]]],\"plot\":{\"id\":\"3e564601-0504-4937-81bc-40fa5433e628\",\"subtype\":\"Chart\",\"type\":\"Plot\"}},\"id\":\"589b627e-f98e-4bd2-b98d-a708e963de98\",\"type\":\"Legend\"},{\"attributes\":{},\"id\":\"a38c6120-430b-4998-ad72-a845bdd9638e\",\"type\":\"ToolEvents\"},{\"attributes\":{\"data_source\":{\"id\":\"916b6bda-ce06-4d8a-a67c-856c594a5c1d\",\"type\":\"ColumnDataSource\"},\"glyph\":{\"id\":\"85d82020-41ff-4cbb-a1b8-44e8d3af2f7c\",\"type\":\"Circle\"},\"hover_glyph\":null,\"nonselection_glyph\":null,\"selection_glyph\":null},\"id\":\"fc058ce0-05b5-4d0a-ae10-f2e564561544\",\"type\":\"GlyphRenderer\"},{\"attributes\":{\"data_source\":{\"id\":\"bccd5d7e-69b1-4bca-a689-3e2035960b28\",\"type\":\"ColumnDataSource\"},\"glyph\":{\"id\":\"218abdc9-1c67-4721-aae8-b044eb97ad2e\",\"type\":\"Circle\"},\"hover_glyph\":null,\"nonselection_glyph\":null,\"selection_glyph\":null},\"id\":\"8bb5965c-4567-4333-9cd8-7dd832c294c1\",\"type\":\"GlyphRenderer\"},{\"attributes\":{\"bottom_units\":\"screen\",\"fill_alpha\":{\"value\":0.5},\"fill_color\":{\"value\":\"lightgrey\"},\"left_units\":\"screen\",\"level\":\"overlay\",\"line_alpha\":{\"value\":1.0},\"line_color\":{\"value\":\"black\"},\"line_dash\":[4,4],\"line_width\":{\"value\":2},\"plot\":null,\"render_mode\":\"css\",\"right_units\":\"screen\",\"top_units\":\"screen\"},\"id\":\"ec73179e-831b-4801-b7d0-be442dfcff05\",\"type\":\"BoxAnnotation\"},{\"attributes\":{\"legends\":[[\"0\",[{\"id\":\"98e66068-3901-40ea-8a77-906cde93b2b2\",\"type\":\"GlyphRenderer\"}]],[\"2\",[{\"id\":\"fc058ce0-05b5-4d0a-ae10-f2e564561544\",\"type\":\"GlyphRenderer\"}]],[\"1\",[{\"id\":\"ca2e7b23-dce1-48e1-9808-bb9cc9db2706\",\"type\":\"GlyphRenderer\"}]],[\"3\",[{\"id\":\"916050f6-b1f0-4f1e-b739-2995b77224b7\",\"type\":\"GlyphRenderer\"}]]],\"plot\":{\"id\":\"8e82fca6-f450-48a5-99fd-fa8258f23551\",\"subtype\":\"Chart\",\"type\":\"Plot\"}},\"id\":\"bde2c7a4-1543-45e0-8cad-b61e94371d30\",\"type\":\"Legend\"},{\"attributes\":{},\"id\":\"4c30bacf-f474-4db7-8d0d-cb006885db95\",\"type\":\"ToolEvents\"},{\"attributes\":{},\"id\":\"e3341536-7bd4-4855-990a-5479d3d3346e\",\"type\":\"BasicTicker\"},{\"attributes\":{\"callback\":null,\"column_names\":[\"x_values\",\"y_values\"],\"data\":{\"chart_index\":[{\"cluster\":0},{\"cluster\":0},{\"cluster\":0},{\"cluster\":0},{\"cluster\":0},{\"cluster\":0},{\"cluster\":0},{\"cluster\":0},{\"cluster\":0},{\"cluster\":0},{\"cluster\":0},{\"cluster\":0},{\"cluster\":0},{\"cluster\":0},{\"cluster\":0},{\"cluster\":0},{\"cluster\":0},{\"cluster\":0},{\"cluster\":0},{\"cluster\":0},{\"cluster\":0},{\"cluster\":0},{\"cluster\":0},{\"cluster\":0},{\"cluster\":0},{\"cluster\":0},{\"cluster\":0},{\"cluster\":0},{\"cluster\":0},{\"cluster\":0},{\"cluster\":0},{\"cluster\":0},{\"cluster\":0},{\"cluster\":0},{\"cluster\":0},{\"cluster\":0},{\"cluster\":0},{\"cluster\":0},{\"cluster\":0},{\"cluster\":0},{\"cluster\":0},{\"cluster\":0},{\"cluster\":0},{\"cluster\":0},{\"cluster\":0},{\"cluster\":0},{\"cluster\":0},{\"cluster\":0},{\"cluster\":0},{\"cluster\":0},{\"cluster\":0},{\"cluster\":0},{\"cluster\":0},{\"cluster\":0},{\"cluster\":0},{\"cluster\":0},{\"cluster\":0},{\"cluster\":0},{\"cluster\":0},{\"cluster\":0},{\"cluster\":0},{\"cluster\":0},{\"cluster\":0},{\"cluster\":0},{\"cluster\":0},{\"cluster\":0},{\"cluster\":0},{\"cluster\":0},{\"cluster\":0},{\"cluster\":0},{\"cluster\":0},{\"cluster\":0},{\"cluster\":0},{\"cluster\":0},{\"cluster\":0},{\"cluster\":0},{\"cluster\":0},{\"cluster\":0},{\"cluster\":0},{\"cluster\":0},{\"cluster\":0},{\"cluster\":0},{\"cluster\":0},{\"cluster\":0},{\"cluster\":0},{\"cluster\":0},{\"cluster\":0},{\"cluster\":0},{\"cluster\":0},{\"cluster\":0},{\"cluster\":0},{\"cluster\":0},{\"cluster\":0},{\"cluster\":0},{\"cluster\":0},{\"cluster\":0},{\"cluster\":0},{\"cluster\":0},{\"cluster\":0},{\"cluster\":0},{\"cluster\":0},{\"cluster\":0},{\"cluster\":0},{\"cluster\":0},{\"cluster\":0},{\"cluster\":0},{\"cluster\":0},{\"cluster\":0},{\"cluster\":0},{\"cluster\":0},{\"cluster\":0},{\"cluster\":0},{\"cluster\":0},{\"cluster\":0},{\"cluster\":0},{\"cluster\":0},{\"cluster\":0}],\"cluster\":[0,0,0,0,0,0,0,0,0,0,0,0,0,0,0,0,0,0,0,0,0,0,0,0,0,0,0,0,0,0,0,0,0,0,0,0,0,0,0,0,0,0,0,0,0,0,0,0,0,0,0,0,0,0,0,0,0,0,0,0,0,0,0,0,0,0,0,0,0,0,0,0,0,0,0,0,0,0,0,0,0,0,0,0,0,0,0,0,0,0,0,0,0,0,0,0,0,0,0,0,0,0,0,0,0,0,0,0,0,0,0,0,0,0,0,0,0],\"x_values\":[5.330951399777972,4.644955912761866,2.912013354931537,5.638030156671741,4.67294528936352,2.2838703826036926,4.115011832844031,1.4642143868473343,2.8261266604632835,1.2303888231487274,1.6843467600580948,1.729642897428503,3.612741310570761,2.915497516728186,1.5972998339052504,1.6566840402670797,2.1752749388605905,0.5242043735538475,0.22643283551750343,3.385258035314103,2.9713183729407873,3.4579110483414106,2.621417775360325,3.093687510975277,1.6155802557479173,3.0926231558600965,2.3550943802554927,1.0613403293708672,0.834991043715043,3.299064268622777,1.02124269686977,1.5556288656042,2.260656738510413,2.0978778988525058,1.0949863939927538,5.372619721737124,6.21719170222549,3.9141043926855867,0.9857849061992126,1.3012019677565572,0.5640680533075828,1.3978040331133763,1.93754724359542,2.166040126643418,0.3666125303731929,3.423710739969621,2.4369451302931004,-0.1597504645641021,0.11680758449613135,0.6258409428089381,1.3767977778537828,0.24479779507340882,0.23026223920213904,2.692607342523555,1.5416255679630877,0.8976386217018575,0.5237458923081426,1.50158481644018,0.294197102973448,1.1935207843560447,-0.02509837356889874,0.9701051429952638,1.4078120562799725,4.454395342207803,4.745465106589357,1.4924683589477836,0.5128274605389804,2.89731050739169,1.5502306956731626,2.5201279607177116,4.515139697722161,1.2434592862293739,1.2433523451122228,1.3950254615897675,0.6692328393280506,1.0271219540873413,1.708465349539136,1.6865169557929933,1.5978884119174652,1.2753016201443237,2.477783518594572,1.3846400435204902,2.5502506610328823,4.053677168739964,0.44644950473998046,1.1635289096553558,0.6545778324809182,1.0685163556623938,-0.02307181229213913,1.0057232111132053,1.776101059929063,0.3575452096792215,-0.6137981296043259,-0.18104112805561126,5.671348108720593,0.43664876776166617,1.1891617078000547,0.8878007904163238,1.0191114240321377,3.047590902974727,2.9517247449319197,1.2249799820166298,-0.2455777386813513,-0.4925336790859551,0.48377989704720575,-0.6070930121091878,0.7437562170799233,1.4156378470386513,1.0552219544994328,2.30011037456992,2.1943934654671176,1.6847571369788,1.7371428595265164,0.8362463092527979,-0.38182340949905375,-0.028984438662752497,1.1452324255810211],\"y_values\":[0.6976111637351402,0.8564244896667639,0.724921738433249,-1.9122588377068686,0.8598009333332198,0.13687262879187417,3.089475764525391,0.3877754242871221,0.5754628790492111,-0.38450557579163863,0.7137036674691603,0.584997112000507,0.8368614374708371,0.11026110575957762,2.4961283943889745,-0.6334859233658652,0.3809097134744387,0.4860619667850333,1.2155323894603836,-1.9375114778354818,-0.2260952117243705,0.9158559404106124,-0.7814238458181191,-0.1148297176752464,0.12535124047374274,-0.7707439256238999,0.018008191585950566,-0.9177112981962187,-0.42919001698800024,-0.7089120149298076,-0.1951721129806238,0.0037447786274481085,-0.5988893194084106,-0.6808601567558065,0.5181208189688395,4.151557549709712,4.94468831555085,1.3548224429256608,1.2807549473552786,2.157742481525952,0.5600043041043585,1.6717580157223597,1.3209112291380567,1.3531739784691443,1.727214648819591,0.47013199769316183,-1.1079015062922335,2.5874635988847325,-0.49134204661543707,0.8665742486333932,2.0329454132147577,0.8638078328181954,0.8098864754263269,-0.5436561776230302,-0.8569059167860461,-0.49425927963532557,-0.326907510562287,-0.406542818809527,-0.06775135017849465,-0.07271435940222575,-0.004557737827798598,0.5659329363592088,-0.7964469053395973,-1.1106679043628493,-1.1094477466873511,-1.8942366500477197,-1.9635522300263257,0.49955325673812845,-1.49840982035056,-0.7081838241959717,-1.1993076596268113,-1.1927246810885566,-0.6683920731806992,-0.016459413589116182,-0.4188722032530015,0.32610118432787993,-1.3470585522529148,-2.068179685619507,-0.11999832160410866,-1.1222985961660041,0.14046587671582017,-0.3061332382244008,-0.8378994634152035,-0.5385449076212384,-1.6610247744603903,-1.81486525522352,-1.518284284325703,-0.6736381284218166,-1.5278813832419063,0.7256154817954946,0.9177763960617425,-0.7514683021082648,0.08225354432194917,-0.4785179013330841,-0.4576554892794086,-0.9032733500368736,-0.3535571590246078,-0.4538471020126145,-0.026737734027888507,-0.239146861529393,-0.43664805331128764,0.22667987483451577,-1.7609593949087134,-0.7508028549162692,-1.3854082466462823,-0.34373224801354485,-1.105320638742116,-0.7800095001196666,-0.7550977795720579,0.027513720359067715,-2.148095686211642,-0.41604962057251255,-1.0453112750063405,0.18106470476756517,-1.0676877421438846,-0.5518080781610072,-1.0116860441623852]}},\"id\":\"1b7a4947-65f9-4d20-acf2-5f199f4b8aad\",\"type\":\"ColumnDataSource\"},{\"attributes\":{\"fill_alpha\":{\"value\":0.7},\"fill_color\":{\"value\":\"#5ab738\"},\"line_color\":{\"value\":\"#5ab738\"},\"size\":{\"units\":\"screen\",\"value\":8},\"x\":{\"field\":\"x_values\"},\"y\":{\"field\":\"y_values\"}},\"id\":\"55c03d3a-fd14-446a-9e72-3a325077220a\",\"type\":\"Circle\"},{\"attributes\":{\"fill_alpha\":{\"value\":0.7},\"fill_color\":{\"value\":\"#407ee7\"},\"line_color\":{\"value\":\"#407ee7\"},\"size\":{\"units\":\"screen\",\"value\":8},\"x\":{\"field\":\"x_values\"},\"y\":{\"field\":\"y_values\"}},\"id\":\"34912fb9-0719-447f-a955-0f77c1419c2c\",\"type\":\"Circle\"},{\"attributes\":{},\"id\":\"5361be7f-34f0-4d31-ab26-47e86782ea1f\",\"type\":\"BasicTickFormatter\"},{\"attributes\":{\"callback\":null,\"column_names\":[\"x_values\",\"y_values\"],\"data\":{\"chart_index\":[{\"cluster\":3},{\"cluster\":3},{\"cluster\":3},{\"cluster\":3},{\"cluster\":3},{\"cluster\":3},{\"cluster\":3},{\"cluster\":3},{\"cluster\":3},{\"cluster\":3},{\"cluster\":3},{\"cluster\":3},{\"cluster\":3},{\"cluster\":3},{\"cluster\":3},{\"cluster\":3},{\"cluster\":3},{\"cluster\":3},{\"cluster\":3},{\"cluster\":3},{\"cluster\":3},{\"cluster\":3},{\"cluster\":3},{\"cluster\":3},{\"cluster\":3},{\"cluster\":3},{\"cluster\":3},{\"cluster\":3},{\"cluster\":3},{\"cluster\":3},{\"cluster\":3},{\"cluster\":3},{\"cluster\":3},{\"cluster\":3},{\"cluster\":3},{\"cluster\":3},{\"cluster\":3},{\"cluster\":3},{\"cluster\":3},{\"cluster\":3},{\"cluster\":3},{\"cluster\":3},{\"cluster\":3},{\"cluster\":3},{\"cluster\":3},{\"cluster\":3},{\"cluster\":3},{\"cluster\":3},{\"cluster\":3},{\"cluster\":3}],\"cluster\":[3,3,3,3,3,3,3,3,3,3,3,3,3,3,3,3,3,3,3,3,3,3,3,3,3,3,3,3,3,3,3,3,3,3,3,3,3,3,3,3,3,3,3,3,3,3,3,3,3,3],\"x_values\":[-0.9041589862869073,-1.9493958370487416,-1.2950341545035298,-2.19135282031013,-0.9320709687033097,0.3603877564138099,-1.2743069093847788,-0.8407544390393366,-0.9194151365667639,-0.01887947296901421,0.8202864653540961,0.658338441064638,1.656385942832402,-1.783285017362019,-0.7413124301338616,-1.844108141218809,-2.152318022401913,-0.03602224132376945,-1.0019093908332155,-0.5916205317262911,-0.4974005919421866,-0.8357308320660598,0.655946654826808,-0.7354150299262374,-2.335849058657835,-1.651223715852296,-1.5704256799675078,-2.7333085402093853,-2.0314220381910943,-1.0412364120478124,-0.5824502302303711,0.41116720418908964,-1.5181922367832605,-0.10233033837256092,0.34410310425502055,-0.9612779406854466,-1.2083721807489642,-0.5578867152413584,-1.5145451174663376,-2.112331927088855,-0.9594413323823486,-1.5921709273296594,-1.845072886029608,-1.1962726030166895,-1.1797074614988268,-0.7772598648605863,-0.2752216017767789,0.0020648585156865357,-1.7917901138970163,-0.7511860915064493],\"y_values\":[2.2319134113469103,4.444046059081832,1.6250325943138397,1.5985285273746266,3.2699298864233106,2.152669659665696,5.638558248805988,7.114015647795064,2.4101432162927563,2.5999160871423923,1.9292665834215323,1.460186186598458,3.385052461818709,1.2012034321687681,0.872942501002487,0.5716331616583653,1.0865404253278756,2.059971829035163,2.0901368972726284,0.9089757305813372,1.5929541777806941,1.0561477551183793,1.0453782313239641,3.314512354548928,2.5307024627594763,0.8973506358991655,1.5112262006519621,3.731611875311991,2.007855782392563,1.0813220003011863,0.6206778987904082,0.8791219453701528,1.4450452212583804,1.4783091243922957,2.261719176444889,1.1250116224960005,0.709984268297233,0.46406308458767237,0.3155469527041275,0.5755661448229352,0.18451999891823978,0.7938070184920183,0.5570659915161256,0.17488189840575238,1.2967733608321652,0.08367233449518227,1.6109449932961821,0.7084469998035068,0.8659912865673113,0.3227798341578006]}},\"id\":\"d53fb34b-4f87-4bc6-a8b6-ed3105aaa0e8\",\"type\":\"ColumnDataSource\"},{\"attributes\":{\"data_source\":{\"id\":\"d76b666d-1670-444c-a529-77c53beaaccc\",\"type\":\"ColumnDataSource\"},\"glyph\":{\"id\":\"5e3fcb17-3e68-44ff-9fe7-f74503a25aac\",\"type\":\"Circle\"},\"hover_glyph\":null,\"nonselection_glyph\":null,\"selection_glyph\":null},\"id\":\"36c267e5-1f0e-4323-b14b-dfd2ff57fbf7\",\"type\":\"GlyphRenderer\"},{\"attributes\":{\"plot\":{\"id\":\"3e564601-0504-4937-81bc-40fa5433e628\",\"subtype\":\"Chart\",\"type\":\"Plot\"}},\"id\":\"1f1e76a4-2b46-451e-8f7a-6446f5c79a40\",\"type\":\"PanTool\"},{\"attributes\":{\"callback\":null,\"column_names\":[\"x_values\",\"y_values\"],\"data\":{\"chart_index\":[{\"cluster\":0},{\"cluster\":0},{\"cluster\":0},{\"cluster\":0},{\"cluster\":0},{\"cluster\":0},{\"cluster\":0},{\"cluster\":0},{\"cluster\":0},{\"cluster\":0},{\"cluster\":0},{\"cluster\":0},{\"cluster\":0},{\"cluster\":0},{\"cluster\":0},{\"cluster\":0},{\"cluster\":0},{\"cluster\":0},{\"cluster\":0},{\"cluster\":0},{\"cluster\":0},{\"cluster\":0},{\"cluster\":0},{\"cluster\":0},{\"cluster\":0},{\"cluster\":0},{\"cluster\":0},{\"cluster\":0},{\"cluster\":0},{\"cluster\":0},{\"cluster\":0},{\"cluster\":0},{\"cluster\":0},{\"cluster\":0},{\"cluster\":0},{\"cluster\":0},{\"cluster\":0},{\"cluster\":0},{\"cluster\":0},{\"cluster\":0},{\"cluster\":0},{\"cluster\":0},{\"cluster\":0},{\"cluster\":0},{\"cluster\":0},{\"cluster\":0},{\"cluster\":0},{\"cluster\":0},{\"cluster\":0},{\"cluster\":0},{\"cluster\":0},{\"cluster\":0},{\"cluster\":0},{\"cluster\":0},{\"cluster\":0},{\"cluster\":0},{\"cluster\":0},{\"cluster\":0},{\"cluster\":0},{\"cluster\":0},{\"cluster\":0},{\"cluster\":0},{\"cluster\":0},{\"cluster\":0},{\"cluster\":0},{\"cluster\":0},{\"cluster\":0},{\"cluster\":0},{\"cluster\":0},{\"cluster\":0},{\"cluster\":0},{\"cluster\":0},{\"cluster\":0},{\"cluster\":0},{\"cluster\":0},{\"cluster\":0},{\"cluster\":0},{\"cluster\":0},{\"cluster\":0},{\"cluster\":0},{\"cluster\":0},{\"cluster\":0},{\"cluster\":0},{\"cluster\":0},{\"cluster\":0},{\"cluster\":0},{\"cluster\":0},{\"cluster\":0},{\"cluster\":0},{\"cluster\":0},{\"cluster\":0},{\"cluster\":0},{\"cluster\":0},{\"cluster\":0},{\"cluster\":0},{\"cluster\":0},{\"cluster\":0},{\"cluster\":0},{\"cluster\":0},{\"cluster\":0},{\"cluster\":0},{\"cluster\":0},{\"cluster\":0},{\"cluster\":0},{\"cluster\":0},{\"cluster\":0},{\"cluster\":0},{\"cluster\":0},{\"cluster\":0},{\"cluster\":0},{\"cluster\":0},{\"cluster\":0},{\"cluster\":0},{\"cluster\":0},{\"cluster\":0},{\"cluster\":0},{\"cluster\":0}],\"cluster\":[0,0,0,0,0,0,0,0,0,0,0,0,0,0,0,0,0,0,0,0,0,0,0,0,0,0,0,0,0,0,0,0,0,0,0,0,0,0,0,0,0,0,0,0,0,0,0,0,0,0,0,0,0,0,0,0,0,0,0,0,0,0,0,0,0,0,0,0,0,0,0,0,0,0,0,0,0,0,0,0,0,0,0,0,0,0,0,0,0,0,0,0,0,0,0,0,0,0,0,0,0,0,0,0,0,0,0,0,0,0,0,0,0,0,0,0,0],\"x_values\":[5.330951399777972,4.644955912761866,2.912013354931537,5.638030156671741,4.67294528936352,2.2838703826036926,4.115011832844031,1.4642143868473343,2.8261266604632835,1.2303888231487274,1.6843467600580948,1.729642897428503,3.612741310570761,2.915497516728186,1.5972998339052504,1.6566840402670797,2.1752749388605905,0.5242043735538475,0.22643283551750343,3.385258035314103,2.9713183729407873,3.4579110483414106,2.621417775360325,3.093687510975277,1.6155802557479173,3.0926231558600965,2.3550943802554927,1.0613403293708672,0.834991043715043,3.299064268622777,1.02124269686977,1.5556288656042,2.260656738510413,2.0978778988525058,1.0949863939927538,5.372619721737124,6.21719170222549,3.9141043926855867,0.9857849061992126,1.3012019677565572,0.5640680533075828,1.3978040331133763,1.93754724359542,2.166040126643418,0.3666125303731929,3.423710739969621,2.4369451302931004,-0.1597504645641021,0.11680758449613135,0.6258409428089381,1.3767977778537828,0.24479779507340882,0.23026223920213904,2.692607342523555,1.5416255679630877,0.8976386217018575,0.5237458923081426,1.50158481644018,0.294197102973448,1.1935207843560447,-0.02509837356889874,0.9701051429952638,1.4078120562799725,4.454395342207803,4.745465106589357,1.4924683589477836,0.5128274605389804,2.89731050739169,1.5502306956731626,2.5201279607177116,4.515139697722161,1.2434592862293739,1.2433523451122228,1.3950254615897675,0.6692328393280506,1.0271219540873413,1.708465349539136,1.6865169557929933,1.5978884119174652,1.2753016201443237,2.477783518594572,1.3846400435204902,2.5502506610328823,4.053677168739964,0.44644950473998046,1.1635289096553558,0.6545778324809182,1.0685163556623938,-0.02307181229213913,1.0057232111132053,1.776101059929063,0.3575452096792215,-0.6137981296043259,-0.18104112805561126,5.671348108720593,0.43664876776166617,1.1891617078000547,0.8878007904163238,1.0191114240321377,3.047590902974727,2.9517247449319197,1.2249799820166298,-0.2455777386813513,-0.4925336790859551,0.48377989704720575,-0.6070930121091878,0.7437562170799233,1.4156378470386513,1.0552219544994328,2.30011037456992,2.1943934654671176,1.6847571369788,1.7371428595265164,0.8362463092527979,-0.38182340949905375,-0.028984438662752497,1.1452324255810211],\"y_values\":[0.6976111637351402,0.8564244896667639,0.724921738433249,-1.9122588377068686,0.8598009333332198,0.13687262879187417,3.089475764525391,0.3877754242871221,0.5754628790492111,-0.38450557579163863,0.7137036674691603,0.584997112000507,0.8368614374708371,0.11026110575957762,2.4961283943889745,-0.6334859233658652,0.3809097134744387,0.4860619667850333,1.2155323894603836,-1.9375114778354818,-0.2260952117243705,0.9158559404106124,-0.7814238458181191,-0.1148297176752464,0.12535124047374274,-0.7707439256238999,0.018008191585950566,-0.9177112981962187,-0.42919001698800024,-0.7089120149298076,-0.1951721129806238,0.0037447786274481085,-0.5988893194084106,-0.6808601567558065,0.5181208189688395,4.151557549709712,4.94468831555085,1.3548224429256608,1.2807549473552786,2.157742481525952,0.5600043041043585,1.6717580157223597,1.3209112291380567,1.3531739784691443,1.727214648819591,0.47013199769316183,-1.1079015062922335,2.5874635988847325,-0.49134204661543707,0.8665742486333932,2.0329454132147577,0.8638078328181954,0.8098864754263269,-0.5436561776230302,-0.8569059167860461,-0.49425927963532557,-0.326907510562287,-0.406542818809527,-0.06775135017849465,-0.07271435940222575,-0.004557737827798598,0.5659329363592088,-0.7964469053395973,-1.1106679043628493,-1.1094477466873511,-1.8942366500477197,-1.9635522300263257,0.49955325673812845,-1.49840982035056,-0.7081838241959717,-1.1993076596268113,-1.1927246810885566,-0.6683920731806992,-0.016459413589116182,-0.4188722032530015,0.32610118432787993,-1.3470585522529148,-2.068179685619507,-0.11999832160410866,-1.1222985961660041,0.14046587671582017,-0.3061332382244008,-0.8378994634152035,-0.5385449076212384,-1.6610247744603903,-1.81486525522352,-1.518284284325703,-0.6736381284218166,-1.5278813832419063,0.7256154817954946,0.9177763960617425,-0.7514683021082648,0.08225354432194917,-0.4785179013330841,-0.4576554892794086,-0.9032733500368736,-0.3535571590246078,-0.4538471020126145,-0.026737734027888507,-0.239146861529393,-0.43664805331128764,0.22667987483451577,-1.7609593949087134,-0.7508028549162692,-1.3854082466462823,-0.34373224801354485,-1.105320638742116,-0.7800095001196666,-0.7550977795720579,0.027513720359067715,-2.148095686211642,-0.41604962057251255,-1.0453112750063405,0.18106470476756517,-1.0676877421438846,-0.5518080781610072,-1.0116860441623852]}},\"id\":\"e84e4fa6-e90d-4a27-a1c4-a38e3ae4a0aa\",\"type\":\"ColumnDataSource\"},{\"attributes\":{\"plot\":{\"id\":\"8e82fca6-f450-48a5-99fd-fa8258f23551\",\"subtype\":\"Chart\",\"type\":\"Plot\"},\"ticker\":{\"id\":\"e3341536-7bd4-4855-990a-5479d3d3346e\",\"type\":\"BasicTicker\"}},\"id\":\"43b66b44-d3f0-4f97-b0bb-6d90cbc6fde3\",\"type\":\"Grid\"},{\"attributes\":{\"data_source\":{\"id\":\"a318a316-0c69-421d-a681-9c14c9942884\",\"type\":\"ColumnDataSource\"},\"glyph\":{\"id\":\"bae17a57-f182-40eb-8847-c8ae701252a9\",\"type\":\"Circle\"},\"hover_glyph\":null,\"nonselection_glyph\":null,\"selection_glyph\":null},\"id\":\"98e66068-3901-40ea-8a77-906cde93b2b2\",\"type\":\"GlyphRenderer\"},{\"attributes\":{\"plot\":{\"id\":\"a4cf4327-8452-47a3-b4e2-dc5cd869859d\",\"subtype\":\"Chart\",\"type\":\"Plot\"}},\"id\":\"3f89f420-d69f-438e-949f-a14d0b111559\",\"type\":\"ResetTool\"},{\"attributes\":{\"callback\":null,\"column_names\":[\"x_values\",\"y_values\"],\"data\":{\"chart_index\":[{\"cluster\":3},{\"cluster\":3},{\"cluster\":3},{\"cluster\":3},{\"cluster\":3},{\"cluster\":3},{\"cluster\":3},{\"cluster\":3},{\"cluster\":3},{\"cluster\":3},{\"cluster\":3},{\"cluster\":3},{\"cluster\":3},{\"cluster\":3},{\"cluster\":3},{\"cluster\":3},{\"cluster\":3},{\"cluster\":3},{\"cluster\":3},{\"cluster\":3},{\"cluster\":3},{\"cluster\":3},{\"cluster\":3},{\"cluster\":3},{\"cluster\":3},{\"cluster\":3},{\"cluster\":3},{\"cluster\":3},{\"cluster\":3},{\"cluster\":3},{\"cluster\":3},{\"cluster\":3},{\"cluster\":3},{\"cluster\":3},{\"cluster\":3},{\"cluster\":3},{\"cluster\":3},{\"cluster\":3},{\"cluster\":3},{\"cluster\":3},{\"cluster\":3},{\"cluster\":3},{\"cluster\":3},{\"cluster\":3},{\"cluster\":3},{\"cluster\":3},{\"cluster\":3},{\"cluster\":3},{\"cluster\":3},{\"cluster\":3}],\"cluster\":[3,3,3,3,3,3,3,3,3,3,3,3,3,3,3,3,3,3,3,3,3,3,3,3,3,3,3,3,3,3,3,3,3,3,3,3,3,3,3,3,3,3,3,3,3,3,3,3,3,3],\"x_values\":[-1.163250057004872,-2.010011088774072,-2.010011088774072,-2.010011088774072,-2.010011088774072,-0.9821021745865856,-1.0261554137660494,-0.17348049542576272,-1.170134293035516,-0.35049549237499733,0.3924271874083092,-0.4623729483120138,1.0508732334731101,-1.2447900082122765,-2.010011088774072,-2.010011088774072,-2.010011088774072,-0.5601185150780386,-1.3602950769763211,0.7362999075715634,-1.372326854972576,-1.4921923124540601,-0.479568927650481,0.04972215848515454,-2.010011088774072,-1.5685373884499594,-0.6855899878017336,-1.5685373884499594,-2.010011088774072,-1.1852219001445918,-1.2138273055305855,-0.4358420087612356,-2.010011088774072,0.610880991210373,2.288562644636488,-1.3572158541715924,-1.3693608817921037,-0.479568927650481,-1.4655850235522414,-1.7549373952534735,-0.989716314691678,-2.010011088774072,-2.010011088774072,-1.376239028186082,-1.3574847553793241,-0.3893845261463805,-1.0534847380718277,-0.6708741977909298,-2.010011088774072,-1.4741718173510907],\"y_values\":[0.2590971058350285,-1.3670191905480804,-1.3670191905480804,1.9970693807761255,-1.3670191905480804,-1.3670191905480804,-1.3670191905480804,1.1896881236583163,-1.3670191905480804,1.1030931920061222,-1.3670191905480804,-1.3670191905480804,-1.3670191905480804,0.7635702379572502,-1.3670191905480804,0.7635702379572502,0.7401571673143346,-1.3670191905480804,-1.3670191905480804,0.4084719998730282,-1.3670191905480804,-1.3670191905480804,-1.3670191905480804,0.05672614106302232,1.123280141471137,1.176393478153705,-0.13783298179500525,1.0913532269580701,1.0523245674853254,-1.3670191905480804,-0.2586200658921282,-1.3670191905480804,-0.2280229252591981,-1.3670191905480804,0.5497555742706565,-1.3670191905480804,-0.475144546057477,1.24864936448729,0.14881518546361705,1.4737667141256936,-0.6568227143796369,0.627982249733134,0.5947322257284474,-0.19062011959421699,-1.3670191905480804,0.30019164481440774,-0.7975210579036393,-0.7975210579036393,0.8372717889934671,0.4377153841858463]}},\"id\":\"c7410dca-d778-4fd6-813a-02047086716f\",\"type\":\"ColumnDataSource\"},{\"attributes\":{\"data_source\":{\"id\":\"1b7a4947-65f9-4d20-acf2-5f199f4b8aad\",\"type\":\"ColumnDataSource\"},\"glyph\":{\"id\":\"04bf47e4-5f7d-4f5f-bf2e-2ac055c09c4e\",\"type\":\"Circle\"},\"hover_glyph\":null,\"nonselection_glyph\":null,\"selection_glyph\":null},\"id\":\"56d699a1-90ae-480c-8ec4-6932f9bcd7ef\",\"type\":\"GlyphRenderer\"}],\"root_ids\":[\"3e564601-0504-4937-81bc-40fa5433e628\",\"8e82fca6-f450-48a5-99fd-fa8258f23551\",\"a4cf4327-8452-47a3-b4e2-dc5cd869859d\"]},\"title\":\"Bokeh Application\",\"version\":\"0.11.1\"}};\n",
       "            var render_items = [{\"docid\":\"a5f47ed4-5eb2-484f-8327-0d78d990428b\",\"elementid\":\"9edfb58b-15d1-4eda-8183-739c14337fd3\",\"modelid\":\"a4cf4327-8452-47a3-b4e2-dc5cd869859d\",\"notebook_comms_target\":\"6784d218-8f96-409a-9456-214b1177aad2\"}];\n",
       "            \n",
       "            Bokeh.embed.embed_items(docs_json, render_items);\n",
       "        });\n",
       "      },\n",
       "      function(Bokeh) {\n",
       "      }\n",
       "    ];\n",
       "  \n",
       "    function run_inline_js() {\n",
       "      for (var i = 0; i < inline_js.length; i++) {\n",
       "        inline_js[i](window.Bokeh);\n",
       "      }\n",
       "    }\n",
       "  \n",
       "    if (window._bokeh_is_loading === 0) {\n",
       "      console.log(\"Bokeh: BokehJS loaded, going straight to plotting\");\n",
       "      run_inline_js();\n",
       "    } else {\n",
       "      load_libs(js_urls, function() {\n",
       "        console.log(\"Bokeh: BokehJS plotting callback run at\", now());\n",
       "        run_inline_js();\n",
       "      });\n",
       "    }\n",
       "  }(this));\n",
       "</script>"
      ]
     },
     "metadata": {},
     "output_type": "display_data"
    },
    {
     "data": {
      "text/html": [
       "<p><code>&lt;Bokeh Notebook handle for <strong>In[68]</strong>&gt;</code></p>"
      ],
      "text/plain": [
       "<bokeh.io._CommsHandle at 0x7f25192b8fd0>"
      ]
     },
     "execution_count": 68,
     "metadata": {},
     "output_type": "execute_result"
    }
   ],
   "source": [
    "p = Scatter(dfSmall, x='firstComp', y='secondComp', color='cluster',\n",
    "            title=\"Player position\", xlabel=\"first principal component\",\n",
    "            ylabel=\"second princ component\",legend=\"top_right\")\n",
    "\n",
    "show(p)"
   ]
  },
  {
   "cell_type": "markdown",
   "metadata": {},
   "source": [
    "### Except for the cluster no2, i.e. the blue cluster, the other three are pretty well defined"
   ]
  },
  {
   "cell_type": "code",
   "execution_count": 69,
   "metadata": {
    "collapsed": false
   },
   "outputs": [
    {
     "data": {
      "text/html": [
       "<div>\n",
       "<table border=\"1\" class=\"dataframe\">\n",
       "  <thead>\n",
       "    <tr style=\"text-align: right;\">\n",
       "      <th></th>\n",
       "      <th>Goals</th>\n",
       "      <th>Assists</th>\n",
       "      <th>Solo runs into penalty area</th>\n",
       "      <th>Deliveries into penalty area</th>\n",
       "      <th>Total attempts</th>\n",
       "      <th>On target</th>\n",
       "      <th>Red cards</th>\n",
       "      <th>Yellow cards</th>\n",
       "      <th>Fouls committed</th>\n",
       "      <th>Tackles</th>\n",
       "      <th>Blocks</th>\n",
       "    </tr>\n",
       "    <tr>\n",
       "      <th>Name</th>\n",
       "      <th></th>\n",
       "      <th></th>\n",
       "      <th></th>\n",
       "      <th></th>\n",
       "      <th></th>\n",
       "      <th></th>\n",
       "      <th></th>\n",
       "      <th></th>\n",
       "      <th></th>\n",
       "      <th></th>\n",
       "      <th></th>\n",
       "    </tr>\n",
       "  </thead>\n",
       "  <tbody>\n",
       "    <tr>\n",
       "      <th>Antoine Griezmann</th>\n",
       "      <td>4.334542</td>\n",
       "      <td>1.349193</td>\n",
       "      <td>0.829062</td>\n",
       "      <td>0.907426</td>\n",
       "      <td>2.235545</td>\n",
       "      <td>3.320213</td>\n",
       "      <td>-0.075378</td>\n",
       "      <td>-0.645252</td>\n",
       "      <td>-0.652384</td>\n",
       "      <td>1.158730</td>\n",
       "      <td>-0.333227</td>\n",
       "    </tr>\n",
       "    <tr>\n",
       "      <th>Cristiano Ronaldo</th>\n",
       "      <td>1.692633</td>\n",
       "      <td>1.923765</td>\n",
       "      <td>0.414591</td>\n",
       "      <td>-0.158653</td>\n",
       "      <td>4.078032</td>\n",
       "      <td>2.359938</td>\n",
       "      <td>-0.075378</td>\n",
       "      <td>-0.222420</td>\n",
       "      <td>-0.195612</td>\n",
       "      <td>-0.688291</td>\n",
       "      <td>-0.678728</td>\n",
       "    </tr>\n",
       "    <tr>\n",
       "      <th>Olivier Giroud</th>\n",
       "      <td>2.474527</td>\n",
       "      <td>1.724924</td>\n",
       "      <td>0.443018</td>\n",
       "      <td>-0.484618</td>\n",
       "      <td>1.274664</td>\n",
       "      <td>1.396974</td>\n",
       "      <td>-0.075378</td>\n",
       "      <td>-0.065713</td>\n",
       "      <td>-0.166383</td>\n",
       "      <td>-0.688291</td>\n",
       "      <td>-0.678728</td>\n",
       "    </tr>\n",
       "    <tr>\n",
       "      <th>Dimitri Payet</th>\n",
       "      <td>2.188794</td>\n",
       "      <td>1.516784</td>\n",
       "      <td>3.165348</td>\n",
       "      <td>4.823774</td>\n",
       "      <td>1.731337</td>\n",
       "      <td>1.504727</td>\n",
       "      <td>-0.075378</td>\n",
       "      <td>-0.645252</td>\n",
       "      <td>-0.918195</td>\n",
       "      <td>-0.283115</td>\n",
       "      <td>-0.678728</td>\n",
       "    </tr>\n",
       "    <tr>\n",
       "      <th>Gareth Bale</th>\n",
       "      <td>2.056788</td>\n",
       "      <td>0.519590</td>\n",
       "      <td>1.186188</td>\n",
       "      <td>0.473552</td>\n",
       "      <td>2.239502</td>\n",
       "      <td>4.084186</td>\n",
       "      <td>-0.075378</td>\n",
       "      <td>-0.149436</td>\n",
       "      <td>-0.474858</td>\n",
       "      <td>0.465664</td>\n",
       "      <td>-0.318966</td>\n",
       "    </tr>\n",
       "  </tbody>\n",
       "</table>\n",
       "</div>"
      ],
      "text/plain": [
       "                      Goals   Assists  Solo runs into penalty area  \\\n",
       "Name                                                                 \n",
       "Antoine Griezmann  4.334542  1.349193                     0.829062   \n",
       "Cristiano Ronaldo  1.692633  1.923765                     0.414591   \n",
       "Olivier Giroud     2.474527  1.724924                     0.443018   \n",
       "Dimitri Payet      2.188794  1.516784                     3.165348   \n",
       "Gareth Bale        2.056788  0.519590                     1.186188   \n",
       "\n",
       "                   Deliveries into penalty area  Total attempts  On target  \\\n",
       "Name                                                                         \n",
       "Antoine Griezmann                      0.907426        2.235545   3.320213   \n",
       "Cristiano Ronaldo                     -0.158653        4.078032   2.359938   \n",
       "Olivier Giroud                        -0.484618        1.274664   1.396974   \n",
       "Dimitri Payet                          4.823774        1.731337   1.504727   \n",
       "Gareth Bale                            0.473552        2.239502   4.084186   \n",
       "\n",
       "                   Red cards  Yellow cards  Fouls committed   Tackles  \\\n",
       "Name                                                                    \n",
       "Antoine Griezmann  -0.075378     -0.645252        -0.652384  1.158730   \n",
       "Cristiano Ronaldo  -0.075378     -0.222420        -0.195612 -0.688291   \n",
       "Olivier Giroud     -0.075378     -0.065713        -0.166383 -0.688291   \n",
       "Dimitri Payet      -0.075378     -0.645252        -0.918195 -0.283115   \n",
       "Gareth Bale        -0.075378     -0.149436        -0.474858  0.465664   \n",
       "\n",
       "                     Blocks  \n",
       "Name                         \n",
       "Antoine Griezmann -0.333227  \n",
       "Cristiano Ronaldo -0.678728  \n",
       "Olivier Giroud    -0.678728  \n",
       "Dimitri Payet     -0.678728  \n",
       "Gareth Bale       -0.318966  "
      ]
     },
     "execution_count": 69,
     "metadata": {},
     "output_type": "execute_result"
    }
   ],
   "source": [
    "df2 = df1.copy()\n",
    "df2.head()"
   ]
  },
  {
   "cell_type": "markdown",
   "metadata": {},
   "source": [
    "### But do, somehow, these clusters represent the traditional roles in a football team? Let's do a second scatterplot, this time with respect to the offensive and defensive attitude. We can extract thevalues for both these measures by summing speciffic columns:"
   ]
  },
  {
   "cell_type": "code",
   "execution_count": 70,
   "metadata": {
    "collapsed": true
   },
   "outputs": [],
   "source": [
    "df2['offensive'] = df2['Goals'] + df2['Solo runs into penalty area'] + df2['Total attempts']\n",
    "df2['defensive'] = df2['Tackles'] + df2['Blocks']\n",
    "df2['cluster'] = y"
   ]
  },
  {
   "cell_type": "code",
   "execution_count": 71,
   "metadata": {
    "collapsed": false
   },
   "outputs": [],
   "source": [
    "df2 = df2[['offensive', 'defensive', 'cluster']]"
   ]
  },
  {
   "cell_type": "code",
   "execution_count": 72,
   "metadata": {
    "collapsed": false
   },
   "outputs": [
    {
     "data": {
      "text/html": [
       "\n",
       "\n",
       "    <div class=\"plotdiv\" id=\"b737c9b6-b093-41ec-ac0c-d510c2d4458d\"></div>\n",
       "<script type=\"text/javascript\">\n",
       "  \n",
       "  (function(global) {\n",
       "    function now() {\n",
       "      return new Date();\n",
       "    }\n",
       "  \n",
       "    if (typeof (window._bokeh_onload_callbacks) === \"undefined\") {\n",
       "      window._bokeh_onload_callbacks = [];\n",
       "    }\n",
       "  \n",
       "    function run_callbacks() {\n",
       "      window._bokeh_onload_callbacks.forEach(function(callback) { callback() });\n",
       "      delete window._bokeh_onload_callbacks\n",
       "      console.info(\"Bokeh: all callbacks have finished\");\n",
       "    }\n",
       "  \n",
       "    function load_libs(js_urls, callback) {\n",
       "      window._bokeh_onload_callbacks.push(callback);\n",
       "      if (window._bokeh_is_loading > 0) {\n",
       "        console.log(\"Bokeh: BokehJS is being loaded, scheduling callback at\", now());\n",
       "        return null;\n",
       "      }\n",
       "      if (js_urls == null || js_urls.length === 0) {\n",
       "        run_callbacks();\n",
       "        return null;\n",
       "      }\n",
       "      console.log(\"Bokeh: BokehJS not loaded, scheduling load and callback at\", now());\n",
       "      window._bokeh_is_loading = js_urls.length;\n",
       "      for (var i = 0; i < js_urls.length; i++) {\n",
       "        var url = js_urls[i];\n",
       "        var s = document.createElement('script');\n",
       "        s.src = url;\n",
       "        s.async = false;\n",
       "        s.onreadystatechange = s.onload = function() {\n",
       "          window._bokeh_is_loading--;\n",
       "          if (window._bokeh_is_loading === 0) {\n",
       "            console.log(\"Bokeh: all BokehJS libraries loaded\");\n",
       "            run_callbacks()\n",
       "          }\n",
       "        };\n",
       "        s.onerror = function() {\n",
       "          console.warn(\"failed to load library \" + url);\n",
       "        };\n",
       "        console.log(\"Bokeh: injecting script tag for BokehJS library: \", url);\n",
       "        document.getElementsByTagName(\"head\")[0].appendChild(s);\n",
       "      }\n",
       "    };var element = document.getElementById(\"b737c9b6-b093-41ec-ac0c-d510c2d4458d\");\n",
       "    if (element == null) {\n",
       "      console.log(\"Bokeh: ERROR: autoload.js configured with elementid 'b737c9b6-b093-41ec-ac0c-d510c2d4458d' but no matching script tag was found. \")\n",
       "      return false;\n",
       "    }\n",
       "  \n",
       "    var js_urls = [];\n",
       "  \n",
       "    var inline_js = [\n",
       "      function(Bokeh) {\n",
       "        Bokeh.$(function() {\n",
       "            var docs_json = {\"d879d77a-fb3f-4049-9b61-34dfc9efea42\":{\"roots\":{\"references\":[{\"attributes\":{\"plot\":{\"id\":\"a4cf4327-8452-47a3-b4e2-dc5cd869859d\",\"subtype\":\"Chart\",\"type\":\"Plot\"}},\"id\":\"55b564ec-a7a8-4524-9576-0eb058281a46\",\"type\":\"PanTool\"},{\"attributes\":{},\"id\":\"3b88bcd2-83a8-4d9e-b570-96d4d6965ec1\",\"type\":\"BasicTicker\"},{\"attributes\":{\"plot\":{\"id\":\"9aa5f849-5b8c-4073-8e00-af6ebd0d1ec1\",\"subtype\":\"Chart\",\"type\":\"Plot\"}},\"id\":\"1b16ebd6-60ab-49e9-be44-727b62e05f13\",\"type\":\"HelpTool\"},{\"attributes\":{\"overlay\":{\"id\":\"ec73179e-831b-4801-b7d0-be442dfcff05\",\"type\":\"BoxAnnotation\"},\"plot\":{\"id\":\"a4cf4327-8452-47a3-b4e2-dc5cd869859d\",\"subtype\":\"Chart\",\"type\":\"Plot\"}},\"id\":\"1693197e-cdc7-4d71-82b1-f7ee47b0b608\",\"type\":\"BoxZoomTool\"},{\"attributes\":{\"plot\":{\"id\":\"8e82fca6-f450-48a5-99fd-fa8258f23551\",\"subtype\":\"Chart\",\"type\":\"Plot\"}},\"id\":\"8a2b2fee-8876-4d83-9409-c07f5407fea3\",\"type\":\"ResizeTool\"},{\"attributes\":{\"plot\":{\"id\":\"9aa5f849-5b8c-4073-8e00-af6ebd0d1ec1\",\"subtype\":\"Chart\",\"type\":\"Plot\"}},\"id\":\"94898df6-0bcf-4893-96da-870a4859303a\",\"type\":\"ResizeTool\"},{\"attributes\":{\"callback\":null,\"end\":7.1122417264689775,\"start\":-3.628358564452873},\"id\":\"5de13dba-0002-4fa3-a5ac-9e414d9ac1a0\",\"type\":\"Range1d\"},{\"attributes\":{},\"id\":\"f77b6f4e-4047-4c29-b208-a5d798c1bb9c\",\"type\":\"BasicTicker\"},{\"attributes\":{},\"id\":\"afa0ecc0-3971-4cab-9b9e-1cab5a6e8045\",\"type\":\"BasicTicker\"},{\"attributes\":{},\"id\":\"0cc9c9f1-d802-4ef3-b438-e70731d01a4e\",\"type\":\"BasicTickFormatter\"},{\"attributes\":{\"data_source\":{\"id\":\"c7410dca-d778-4fd6-813a-02047086716f\",\"type\":\"ColumnDataSource\"},\"glyph\":{\"id\":\"6574357b-ff0a-475d-91e0-5754413b7642\",\"type\":\"Circle\"},\"hover_glyph\":null,\"nonselection_glyph\":null,\"selection_glyph\":null},\"id\":\"916050f6-b1f0-4f1e-b739-2995b77224b7\",\"type\":\"GlyphRenderer\"},{\"attributes\":{\"fill_alpha\":{\"value\":0.7},\"fill_color\":{\"value\":\"#f22c40\"},\"line_color\":{\"value\":\"#f22c40\"},\"size\":{\"units\":\"screen\",\"value\":8},\"x\":{\"field\":\"x_values\"},\"y\":{\"field\":\"y_values\"}},\"id\":\"04bf47e4-5f7d-4f5f-bf2e-2ac055c09c4e\",\"type\":\"Circle\"},{\"attributes\":{\"fill_alpha\":{\"value\":0.7},\"fill_color\":{\"value\":\"#5ab738\"},\"line_color\":{\"value\":\"#5ab738\"},\"size\":{\"units\":\"screen\",\"value\":8},\"x\":{\"field\":\"x_values\"},\"y\":{\"field\":\"y_values\"}},\"id\":\"5e3fcb17-3e68-44ff-9fe7-f74503a25aac\",\"type\":\"Circle\"},{\"attributes\":{\"callback\":null,\"column_names\":[\"x_values\",\"y_values\"],\"data\":{\"chart_index\":[{\"cluster\":1},{\"cluster\":1},{\"cluster\":1},{\"cluster\":1},{\"cluster\":1},{\"cluster\":1},{\"cluster\":1},{\"cluster\":1},{\"cluster\":1},{\"cluster\":1},{\"cluster\":1},{\"cluster\":1},{\"cluster\":1},{\"cluster\":1},{\"cluster\":1},{\"cluster\":1},{\"cluster\":1},{\"cluster\":1},{\"cluster\":1},{\"cluster\":1},{\"cluster\":1},{\"cluster\":1},{\"cluster\":1},{\"cluster\":1},{\"cluster\":1},{\"cluster\":1},{\"cluster\":1},{\"cluster\":1},{\"cluster\":1},{\"cluster\":1},{\"cluster\":1},{\"cluster\":1},{\"cluster\":1},{\"cluster\":1},{\"cluster\":1},{\"cluster\":1},{\"cluster\":1},{\"cluster\":1},{\"cluster\":1},{\"cluster\":1},{\"cluster\":1},{\"cluster\":1},{\"cluster\":1},{\"cluster\":1},{\"cluster\":1},{\"cluster\":1},{\"cluster\":1},{\"cluster\":1},{\"cluster\":1},{\"cluster\":1},{\"cluster\":1},{\"cluster\":1},{\"cluster\":1},{\"cluster\":1},{\"cluster\":1},{\"cluster\":1},{\"cluster\":1},{\"cluster\":1},{\"cluster\":1},{\"cluster\":1},{\"cluster\":1},{\"cluster\":1},{\"cluster\":1},{\"cluster\":1},{\"cluster\":1},{\"cluster\":1},{\"cluster\":1},{\"cluster\":1},{\"cluster\":1},{\"cluster\":1},{\"cluster\":1},{\"cluster\":1},{\"cluster\":1},{\"cluster\":1},{\"cluster\":1},{\"cluster\":1},{\"cluster\":1},{\"cluster\":1},{\"cluster\":1},{\"cluster\":1},{\"cluster\":1},{\"cluster\":1},{\"cluster\":1},{\"cluster\":1},{\"cluster\":1},{\"cluster\":1},{\"cluster\":1},{\"cluster\":1},{\"cluster\":1},{\"cluster\":1},{\"cluster\":1},{\"cluster\":1},{\"cluster\":1},{\"cluster\":1},{\"cluster\":1},{\"cluster\":1},{\"cluster\":1},{\"cluster\":1},{\"cluster\":1},{\"cluster\":1},{\"cluster\":1},{\"cluster\":1},{\"cluster\":1},{\"cluster\":1},{\"cluster\":1},{\"cluster\":1},{\"cluster\":1},{\"cluster\":1},{\"cluster\":1},{\"cluster\":1},{\"cluster\":1},{\"cluster\":1}],\"cluster\":[1,1,1,1,1,1,1,1,1,1,1,1,1,1,1,1,1,1,1,1,1,1,1,1,1,1,1,1,1,1,1,1,1,1,1,1,1,1,1,1,1,1,1,1,1,1,1,1,1,1,1,1,1,1,1,1,1,1,1,1,1,1,1,1,1,1,1,1,1,1,1,1,1,1,1,1,1,1,1,1,1,1,1,1,1,1,1,1,1,1,1,1,1,1,1,1,1,1,1,1,1,1,1,1,1,1,1,1,1,1,1,1],\"x_values\":[-0.18476821444790809,0.35310574844056486,-0.7097650964202641,-0.1150207126337457,-0.2931787354023057,-0.009127089481638831,-1.2776614897485694,-0.3622244909666906,-1.3688330451672472,-1.9056627596065545,-2.010011088774072,-2.010011088774072,-2.010011088774072,-2.010011088774072,-2.010011088774072,-1.1155968387667785,-2.010011088774072,-0.33025749729695986,-1.2091983300466116,1.156420968723013,-1.236192018543043,-2.010011088774072,-1.2447900082122765,-2.010011088774072,-1.2447900082122765,-1.2447900082122765,-2.010011088774072,-0.24488005428290038,-2.010011088774072,-2.010011088774072,0.22265254215501656,-2.010011088774072,-2.010011088774072,0.49434881124634944,-1.4163050779933686,-1.4882694429364842,-2.010011088774072,-1.5284034156932218,-2.010011088774072,-2.010011088774072,-1.149137373142052,-1.1802532905745347,-2.010011088774072,-2.010011088774072,-2.010011088774072,-1.6274005484931742,-1.2447900082122765,-1.6274005484931742,0.020386049314207066,-1.2447900082122765,-0.4811369258600069,-2.010011088774072,-1.6820591971047312,0.03876901550164408,-0.691781810528167,-2.010011088774072,-0.2371891209926358,-1.7345314997718257,-1.7345314997718257,-0.9381060732011289,-1.7491402658552782,-1.4921923124540601,-1.499863701732875,-0.7346426211710797,-1.7549373952534735,-1.499863701732875,-1.1665603837564162,-1.7549373952534735,-0.9114866902358179,-1.7549373952534735,-1.2447900082122765,-2.010011088774072,-0.479568927650481,-1.7549373952534735,-1.4216340772770149,-1.1665603837564162,-2.010011088774072,-1.1665603837564162,-1.7549373952534735,-1.7549373952534735,-2.010011088774072,-0.6564129967152192,1.504016545097132,-1.8115387624035777,-1.8187058186336231,-1.4360952783527254,-1.568728330151279,-1.8187058186336231,-1.8187058186336231,-1.0534847380718277,-2.010011088774072,-1.6274005484931742,-0.288263657510032,-2.010011088774072,-0.7448350312475884,-2.010011088774072,-0.15184100733768913,-1.3036531682554915,-1.4802426483851368,-1.656832128514782,-0.2193802118339227,-1.5508784404369949,-2.010011088774072,-1.703922656549354,-2.010011088774072,-2.010011088774072,-1.7399330603404972,-1.4284393483714668,-1.8765422956528286,-1.5727418998816174,-1.5809151557487662,-1.664963073085031],\"y_values\":[1.9205078449869406,3.1260833619194983,2.658104149818659,0.8225314787862238,1.2961195504045273,2.637330163093315,1.9472310315713224,1.3699191461197997,-1.0306103334156598,-0.4552135783215996,-1.3670191905480804,-1.3670191905480804,1.5383300301410068,1.494966608936692,-1.3670191905480804,1.123280141471137,-1.3670191905480804,-1.3670191905480804,0.8626674206784282,-1.3670191905480804,-1.3670191905480804,0.7635702379572502,-1.3670191905480804,0.7635702379572502,-1.3670191905480804,-1.3670191905480804,-1.3670191905480804,0.7635702379572502,2.8941596664625804,-1.3670191905480804,4.2727763554954405,-1.3670191905480804,0.4084719998730282,-1.3670191905480804,-1.3670191905480804,0.18615753484585007,-1.3670191905480804,-0.026088780999271033,-1.3670191905480804,-1.3670191905480804,-1.3670191905480804,-1.3670191905480804,4.1874466495314495,-0.2280229252591981,2.9678612174987977,-1.3670191905480804,-0.30172447629541516,-1.3670191905480804,0.7635702379572502,-1.3670191905480804,-0.3786014144373601,-0.41774667289719064,-1.3670191905480804,-0.39994688983110493,-0.4558221783169746,-1.3670191905480804,-0.5302056078868607,-0.5469418795400851,-0.6000069962861614,-1.3670191905480804,1.5383300301410068,-1.3670191905480804,0.1516424965037627,-0.6568227143796369,3.70262487734598,0.10250812914628465,-0.6568227143796369,-1.3670191905480804,0.10250812914628465,2.943294033820058,0.7635702379572502,-1.3670191905480804,2.943294033820058,-0.6076883470221588,-1.3670191905480804,0.10250812914628465,-0.6076883470221588,-0.6076883470221588,0.8127046053147282,1.4737667141256936,-1.3670191905480804,0.7635702379572502,-0.7403752409876891,0.8816219433090898,0.8372717889934671,-1.3670191905480804,0.8004210134753587,0.8372717889934671,-1.3670191905480804,0.26777365634902606,0.3046244318671345,4.0331559317514625,-0.2648737007773066,3.5005085746251297,0.3046244318671345,0.2542629716639259,-0.29361956880986667,1.5830277104593002,0.6336948439350942,-0.8753447070468503,0.49078669861486723,0.39641359308515756,2.953120907291554,0.39641359308515756,-0.967533672703331,-0.18703545707851696,1.6668840794722273,0.13692628839685872,-1.3670191905480804,1.4144252466937544,1.0637548700389539,-0.47531400133147694]}},\"id\":\"95789e5d-e3df-4f30-a8dc-bf29722ee76d\",\"type\":\"ColumnDataSource\"},{\"attributes\":{\"fill_alpha\":{\"value\":0.7},\"fill_color\":{\"value\":\"#407ee7\"},\"line_color\":{\"value\":\"#407ee7\"},\"size\":{\"units\":\"screen\",\"value\":8},\"x\":{\"field\":\"x_values\"},\"y\":{\"field\":\"y_values\"}},\"id\":\"218abdc9-1c67-4721-aae8-b044eb97ad2e\",\"type\":\"Circle\"},{\"attributes\":{\"bottom_units\":\"screen\",\"fill_alpha\":{\"value\":0.5},\"fill_color\":{\"value\":\"lightgrey\"},\"left_units\":\"screen\",\"level\":\"overlay\",\"line_alpha\":{\"value\":1.0},\"line_color\":{\"value\":\"black\"},\"line_dash\":[4,4],\"line_width\":{\"value\":2},\"plot\":null,\"render_mode\":\"css\",\"right_units\":\"screen\",\"top_units\":\"screen\"},\"id\":\"f0f28c50-15d9-4991-b5a9-484a3fc15ff6\",\"type\":\"BoxAnnotation\"},{\"attributes\":{\"callback\":null,\"column_names\":[\"x_values\",\"y_values\"],\"data\":{\"chart_index\":[{\"cluster\":2},{\"cluster\":2},{\"cluster\":2},{\"cluster\":2},{\"cluster\":2},{\"cluster\":2},{\"cluster\":2},{\"cluster\":2},{\"cluster\":2},{\"cluster\":2},{\"cluster\":2},{\"cluster\":2},{\"cluster\":2},{\"cluster\":2},{\"cluster\":2},{\"cluster\":2},{\"cluster\":2},{\"cluster\":2},{\"cluster\":2},{\"cluster\":2},{\"cluster\":2},{\"cluster\":2},{\"cluster\":2},{\"cluster\":2},{\"cluster\":2},{\"cluster\":2},{\"cluster\":2},{\"cluster\":2},{\"cluster\":2},{\"cluster\":2},{\"cluster\":2},{\"cluster\":2},{\"cluster\":2},{\"cluster\":2},{\"cluster\":2},{\"cluster\":2},{\"cluster\":2},{\"cluster\":2},{\"cluster\":2},{\"cluster\":2},{\"cluster\":2},{\"cluster\":2},{\"cluster\":2},{\"cluster\":2},{\"cluster\":2},{\"cluster\":2},{\"cluster\":2},{\"cluster\":2},{\"cluster\":2},{\"cluster\":2},{\"cluster\":2},{\"cluster\":2},{\"cluster\":2},{\"cluster\":2},{\"cluster\":2},{\"cluster\":2},{\"cluster\":2},{\"cluster\":2},{\"cluster\":2},{\"cluster\":2},{\"cluster\":2},{\"cluster\":2},{\"cluster\":2},{\"cluster\":2},{\"cluster\":2},{\"cluster\":2},{\"cluster\":2},{\"cluster\":2},{\"cluster\":2},{\"cluster\":2},{\"cluster\":2},{\"cluster\":2},{\"cluster\":2},{\"cluster\":2},{\"cluster\":2}],\"cluster\":[2,2,2,2,2,2,2,2,2,2,2,2,2,2,2,2,2,2,2,2,2,2,2,2,2,2,2,2,2,2,2,2,2,2,2,2,2,2,2,2,2,2,2,2,2,2,2,2,2,2,2,2,2,2,2,2,2,2,2,2,2,2,2,2,2,2,2,2,2,2,2,2,2,2,2],\"x_values\":[-0.3700166889375138,-0.026522195633325682,0.5146061885530127,-0.9340724220331015,1.151122237279351,-0.3087212553124318,-0.5258992657492605,0.6387729309730602,-0.552992977589261,-0.9037277029166209,0.26971980599467826,0.17950239137665294,0.010470046844189207,-0.05164011789303197,-0.1885899517387578,-1.3084902780433756,-0.2768763897424506,-0.022076646244256374,-0.8961731879893438,0.14704350528969018,-0.6646372505949425,-0.8013063971025689,-0.19920588542475096,-0.3812816521360217,-0.34995362302982475,0.9890786177081471,-1.4715848231479862,1.2204911378482644,-1.4727147630497712,-0.6596468911418781,-1.7605082904382225,-1.4106552574043072,-1.8936629182900562,0.8640182864278121,-1.3640819109845654,0.9222823697660668,-1.6043375053297906,-1.3464372893142065,-0.6220763841198211,-0.5861048681241215,-0.7283832628327278,-1.0644738005947143,-1.2083619639078524,-1.1090982946850383,-0.01833668432027071,-0.030757222219842034,0.432384831061816,-1.412179812998597,1.268521055035784,-0.34822582156636794,-0.5337945793955087,-1.2152868718348402,-1.1158496620615233,-0.7370497907076518,-1.031016762550472,-1.7765067619710173,-1.1024628966500005,0.3200114465328193,-1.5543685775859162,-0.5620056628856982,-0.8070922055959096,-1.0429500971207608,-1.0875697394619193,0.5624385302579828,-1.5880750582362877,-1.0690467152274705,-0.6794909202971557,-1.502294891394715,-1.5102191437831334,-0.8996797821975494,-0.7557557304076894,-1.3220738418654194,-1.6540139524853623,-2.1119468278503803,-1.3682077909161758],\"y_values\":[-0.3049415824388582,-0.5773003401629917,0.24010278741182225,-0.568752743324461,0.41593287971875187,3.6209822025937233,-0.7913521550791268,-1.3417036181173123,-0.29557039305099175,-1.2902660086630657,0.6659371756574303,-1.162629711367905,-0.8125485961549247,-0.6103122300475935,-0.7503218017975211,0.031744303769331135,-0.4938989211430822,-0.9063957348583518,-0.587091632907328,-1.2863412764213842,-0.07299678155907895,-0.8951361973959142,0.12961745891436613,-0.6045559943097288,-1.5719798027113965,-2.5054760139477095,-1.2499171157177025,0.2905758609584448,2.0628279585701774,3.450711190954576,2.3330839028148915,0.03364561744149615,0.827336611707785,-1.3361815199118554,-0.3123618106878266,0.7335121039556176,1.8403516653824405,0.9652000969678463,-1.2705815811469354,-0.567846121224887,-1.510142959273284,0.314014020038996,-0.39239547339671443,0.5262091099771499,-0.9262535666688945,-0.6202768377344253,-0.7862703650430296,0.5080344398099701,-0.8737112191155461,-1.0862858896367034,-0.7880691268398186,-0.341980760611419,-0.6275218239160963,1.152964075797963,-0.8994448803232694,-0.7182656357678004,-0.3187788393777241,-1.5797091766340399,-0.25262253418706704,-0.017020482054684653,0.23279320033729906,-0.25955379875088713,0.2099289369417563,-1.319998803084148,-0.2831406050822434,-0.8688962110821747,-1.1803507154199073,0.213205365080959,-1.173847054652518,-0.054373607581085975,-0.18072243162075577,-0.9213630556649733,-0.36601066887888256,-0.1711916883578599,-0.05337329900910078]}},\"id\":\"80db2e44-429e-4004-a184-14c5685709ea\",\"type\":\"ColumnDataSource\"},{\"attributes\":{\"fill_alpha\":{\"value\":0.7},\"fill_color\":{\"value\":\"#df5320\"},\"line_color\":{\"value\":\"#df5320\"},\"size\":{\"units\":\"screen\",\"value\":8},\"x\":{\"field\":\"x_values\"},\"y\":{\"field\":\"y_values\"}},\"id\":\"b88b492d-0728-4dcb-ab93-b0698955f698\",\"type\":\"Circle\"},{\"attributes\":{\"plot\":{\"id\":\"9aa5f849-5b8c-4073-8e00-af6ebd0d1ec1\",\"subtype\":\"Chart\",\"type\":\"Plot\"}},\"id\":\"d0d63acd-0228-4b2d-b86b-5dc980684cf6\",\"type\":\"PreviewSaveTool\"},{\"attributes\":{\"axis_label\":\"second princ component\",\"formatter\":{\"id\":\"0cc9c9f1-d802-4ef3-b438-e70731d01a4e\",\"type\":\"BasicTickFormatter\"},\"plot\":{\"id\":\"a4cf4327-8452-47a3-b4e2-dc5cd869859d\",\"subtype\":\"Chart\",\"type\":\"Plot\"},\"ticker\":{\"id\":\"f3076d39-df7c-4e2b-a0ac-877e78a0efcd\",\"type\":\"BasicTicker\"}},\"id\":\"255660aa-26f5-4684-8145-26dfc474cfc5\",\"type\":\"LinearAxis\"},{\"attributes\":{\"plot\":{\"id\":\"9aa5f849-5b8c-4073-8e00-af6ebd0d1ec1\",\"subtype\":\"Chart\",\"type\":\"Plot\"},\"ticker\":{\"id\":\"afa0ecc0-3971-4cab-9b9e-1cab5a6e8045\",\"type\":\"BasicTicker\"}},\"id\":\"df7b7752-d415-43c6-8dd1-5b1c14a52d21\",\"type\":\"Grid\"},{\"attributes\":{\"callback\":null,\"column_names\":[\"x_values\",\"y_values\"],\"data\":{\"chart_index\":[{\"cluster\":0},{\"cluster\":0},{\"cluster\":0},{\"cluster\":0},{\"cluster\":0},{\"cluster\":0},{\"cluster\":0},{\"cluster\":0},{\"cluster\":0},{\"cluster\":0},{\"cluster\":0},{\"cluster\":0},{\"cluster\":0},{\"cluster\":0},{\"cluster\":0},{\"cluster\":0},{\"cluster\":0},{\"cluster\":0},{\"cluster\":0},{\"cluster\":0},{\"cluster\":0},{\"cluster\":0},{\"cluster\":0},{\"cluster\":0},{\"cluster\":0},{\"cluster\":0},{\"cluster\":0},{\"cluster\":0},{\"cluster\":0},{\"cluster\":0},{\"cluster\":0},{\"cluster\":0},{\"cluster\":0},{\"cluster\":0},{\"cluster\":0},{\"cluster\":0},{\"cluster\":0},{\"cluster\":0},{\"cluster\":0},{\"cluster\":0},{\"cluster\":0},{\"cluster\":0},{\"cluster\":0},{\"cluster\":0},{\"cluster\":0},{\"cluster\":0},{\"cluster\":0},{\"cluster\":0},{\"cluster\":0},{\"cluster\":0},{\"cluster\":0},{\"cluster\":0},{\"cluster\":0},{\"cluster\":0},{\"cluster\":0},{\"cluster\":0},{\"cluster\":0},{\"cluster\":0},{\"cluster\":0},{\"cluster\":0},{\"cluster\":0},{\"cluster\":0},{\"cluster\":0},{\"cluster\":0},{\"cluster\":0},{\"cluster\":0},{\"cluster\":0},{\"cluster\":0},{\"cluster\":0},{\"cluster\":0},{\"cluster\":0},{\"cluster\":0},{\"cluster\":0},{\"cluster\":0},{\"cluster\":0},{\"cluster\":0},{\"cluster\":0},{\"cluster\":0},{\"cluster\":0},{\"cluster\":0},{\"cluster\":0},{\"cluster\":0},{\"cluster\":0},{\"cluster\":0},{\"cluster\":0},{\"cluster\":0},{\"cluster\":0},{\"cluster\":0},{\"cluster\":0},{\"cluster\":0},{\"cluster\":0},{\"cluster\":0},{\"cluster\":0},{\"cluster\":0},{\"cluster\":0},{\"cluster\":0},{\"cluster\":0},{\"cluster\":0},{\"cluster\":0},{\"cluster\":0},{\"cluster\":0},{\"cluster\":0},{\"cluster\":0},{\"cluster\":0},{\"cluster\":0},{\"cluster\":0},{\"cluster\":0},{\"cluster\":0},{\"cluster\":0},{\"cluster\":0},{\"cluster\":0},{\"cluster\":0},{\"cluster\":0},{\"cluster\":0},{\"cluster\":0},{\"cluster\":0},{\"cluster\":0}],\"cluster\":[0,0,0,0,0,0,0,0,0,0,0,0,0,0,0,0,0,0,0,0,0,0,0,0,0,0,0,0,0,0,0,0,0,0,0,0,0,0,0,0,0,0,0,0,0,0,0,0,0,0,0,0,0,0,0,0,0,0,0,0,0,0,0,0,0,0,0,0,0,0,0,0,0,0,0,0,0,0,0,0,0,0,0,0,0,0,0,0,0,0,0,0,0,0,0,0,0,0,0,0,0,0,0,0,0,0,0,0,0,0,0,0,0,0,0,0,0],\"x_values\":[7.3991492870715,6.185254996381108,4.1922097343627085,7.085479661307012,5.482478680773028,3.2563025913482484,6.200194152197685,2.0965139708823908,5.161254784739022,2.119713027149753,2.8849584378279136,2.872494315040078,6.119873473742504,3.61003036882233,2.977442340059088,2.2122212594972925,3.641900885585515,1.2409640439635674,1.2616683484041764,3.7425045520426172,2.5888148449034807,3.2861854482051256,2.9346832011116257,4.7581705904278815,2.276288386314561,4.304382015730752,3.7877494039574766,2.006513479208717,1.2055637888950428,3.5109332531108777,2.0366164433633958,1.9092609794086282,2.0405338518707485,1.8461534950656944,1.928583124821209,8.298311773027722,9.348272828295697,7.943239142777131,2.8409643756032428,2.921063909584712,1.7384699518811262,2.3233578491775866,3.1608035139846797,3.2867026211952863,1.580856586177664,4.875459599196424,4.399218097122786,0.9403815026024668,0.5556159346077078,1.38339052167002,2.478782813831147,1.2265358292489987,0.383085124231343,2.6657025271575154,2.320057473361964,1.3530218033365045,0.5500321515417848,2.0319382278771068,0.49715615181569073,1.4067544643222667,-0.558389288750766,0.5505281832670623,1.164408315419794,3.122092700189,2.1221827462596234,1.2855621068406906,0.47220442847913824,2.694770481592646,0.020386049314207066,0.6682626931922122,6.713565017265005,0.519903504103701,1.1474307018621754,1.6392502449701674,-0.064156746571436,0.5856251390901273,2.3334027322904465,0.020386049314207066,1.1217668534597642,0.3597644287116031,6.854098750133108,0.44962809874598486,1.8498480697813016,6.713565017265005,-0.07001398312444962,-1.2447900082122765,-0.479568927650481,1.5399836148631236,-1.3951012918940577,1.3055719807408273,2.384086505378945,1.7174798694260274,-1.0261554137660494,-0.12082900211592774,7.242431565805428,0.11560302389758204,1.8170008907705455,0.6620752860487085,0.8642089733700384,5.096791175046146,2.669323722109544,1.4883197375821418,-2.010011088774072,-1.2447900082122765,-1.2447900082122765,-1.2447900082122765,0.3638817773671747,1.873939118337748,1.3637917312965508,2.4827009499878234,3.5975327907583092,1.2341157675008942,2.969006066117937,0.7394102058401957,-1.3036531682554915,-0.31238782605299803,0.3939700944655825],\"y_values\":[0.8255027685969174,-1.3670191905480804,-1.3670191905480804,-0.9618426534887943,0.14669756709071163,-1.0766235421741444,-1.3670191905480804,-0.27997158419882406,0.7177638374143903,1.7983802159484443,0.13590647732115657,-1.3670191905480804,-0.6594433655832106,-1.3670191905480804,-0.8343718334217478,-0.7975210579036393,-1.3670191905480804,-1.3670191905480804,-0.029704292615908512,-1.3670191905480804,0.4338982911962859,0.31346710250109033,0.7517990256450657,-1.3670191905480804,-1.3670191905480804,-0.6501683942124202,-0.7959347121302565,-0.2648737007773066,-0.8402251010824767,-0.8232013450520623,0.1420203604338639,0.36693297267067093,-0.9650205086814161,-1.3670191905480804,-1.3670191905480804,2.2940402335947554,-1.3670191905480804,1.1030931920061222,1.96720245917863,-1.3670191905480804,1.2955694815558003,-0.12447781023293614,-0.2323857670837033,-1.3670191905480804,-1.3670191905480804,-1.3670191905480804,-1.3670191905480804,1.3203115166800397,-0.5147834191459483,-0.5369194132083412,1.0705195624029333,0.8618389726722062,-0.6076883470221588,-1.3670191905480804,-1.3670191905480804,1.2364008443979362,0.8372717889934671,-0.8274946438322941,-0.0591849130303953,-0.9910328208118456,0.10250812914628465,0.33579914626254115,-1.3670191905480804,-0.9409013048470143,-1.3670191905480804,-1.3670191905480804,0.23469430751441034,-1.3670191905480804,-0.2280229252591981,-0.2280229252591981,-1.3670191905480804,1.0892734791232561,-1.3670191905480804,-1.3670191905480804,-0.7147979369239997,-1.3670191905480804,-1.3670191905480804,-0.7975210579036393,-1.3670191905480804,-0.28797009711650773,2.817048722758017,-1.3670191905480804,-1.3670191905480804,-1.3670191905480804,-1.3670191905480804,-1.3670191905480804,-1.3670191905480804,0.6098163616733603,-1.3670191905480804,-1.3670191905480804,-1.3670191905480804,3.188965870607449,0.0026454420624890673,1.1601933974613372,-1.3670191905480804,-1.3670191905480804,0.8497790587638241,-0.44350870517871643,-1.3670191905480804,0.38528275605020035,-1.3670191905480804,0.8784722425469842,0.10250812914628465,0.053373761788806595,-1.3670191905480804,0.8618389726722062,1.5720354488406496,-0.6076883470221588,-0.6076883470221588,-0.6076883470221588,-1.3670191905480804,-0.7035138321900191,-0.7929082666993387,-1.3670191905480804,1.2274176288710863,-0.34965412306736615,-0.8413286065685963]}},\"id\":\"a318a316-0c69-421d-a681-9c14c9942884\",\"type\":\"ColumnDataSource\"},{\"attributes\":{\"callback\":null,\"end\":8.07596481396934,\"start\":-3.467425180121987},\"id\":\"58195d8a-4c0c-495b-9b30-105b05f68360\",\"type\":\"Range1d\"},{\"attributes\":{\"callback\":null,\"column_names\":[\"x_values\",\"y_values\"],\"data\":{\"chart_index\":[{\"cluster\":1},{\"cluster\":1},{\"cluster\":1},{\"cluster\":1},{\"cluster\":1},{\"cluster\":1},{\"cluster\":1},{\"cluster\":1},{\"cluster\":1},{\"cluster\":1},{\"cluster\":1},{\"cluster\":1},{\"cluster\":1},{\"cluster\":1},{\"cluster\":1},{\"cluster\":1},{\"cluster\":1},{\"cluster\":1},{\"cluster\":1},{\"cluster\":1},{\"cluster\":1},{\"cluster\":1},{\"cluster\":1},{\"cluster\":1},{\"cluster\":1},{\"cluster\":1},{\"cluster\":1},{\"cluster\":1},{\"cluster\":1},{\"cluster\":1},{\"cluster\":1},{\"cluster\":1},{\"cluster\":1},{\"cluster\":1},{\"cluster\":1},{\"cluster\":1},{\"cluster\":1},{\"cluster\":1},{\"cluster\":1},{\"cluster\":1},{\"cluster\":1},{\"cluster\":1},{\"cluster\":1},{\"cluster\":1},{\"cluster\":1},{\"cluster\":1},{\"cluster\":1},{\"cluster\":1},{\"cluster\":1},{\"cluster\":1},{\"cluster\":1},{\"cluster\":1},{\"cluster\":1},{\"cluster\":1},{\"cluster\":1},{\"cluster\":1},{\"cluster\":1},{\"cluster\":1},{\"cluster\":1},{\"cluster\":1},{\"cluster\":1},{\"cluster\":1},{\"cluster\":1},{\"cluster\":1},{\"cluster\":1},{\"cluster\":1},{\"cluster\":1},{\"cluster\":1},{\"cluster\":1},{\"cluster\":1},{\"cluster\":1},{\"cluster\":1},{\"cluster\":1},{\"cluster\":1},{\"cluster\":1},{\"cluster\":1},{\"cluster\":1},{\"cluster\":1},{\"cluster\":1},{\"cluster\":1},{\"cluster\":1},{\"cluster\":1},{\"cluster\":1},{\"cluster\":1},{\"cluster\":1},{\"cluster\":1},{\"cluster\":1},{\"cluster\":1},{\"cluster\":1},{\"cluster\":1},{\"cluster\":1},{\"cluster\":1},{\"cluster\":1},{\"cluster\":1},{\"cluster\":1},{\"cluster\":1},{\"cluster\":1},{\"cluster\":1},{\"cluster\":1},{\"cluster\":1},{\"cluster\":1},{\"cluster\":1},{\"cluster\":1},{\"cluster\":1},{\"cluster\":1},{\"cluster\":1},{\"cluster\":1},{\"cluster\":1},{\"cluster\":1},{\"cluster\":1},{\"cluster\":1},{\"cluster\":1}],\"cluster\":[1,1,1,1,1,1,1,1,1,1,1,1,1,1,1,1,1,1,1,1,1,1,1,1,1,1,1,1,1,1,1,1,1,1,1,1,1,1,1,1,1,1,1,1,1,1,1,1,1,1,1,1,1,1,1,1,1,1,1,1,1,1,1,1,1,1,1,1,1,1,1,1,1,1,1,1,1,1,1,1,1,1,1,1,1,1,1,1,1,1,1,1,1,1,1,1,1,1,1,1,1,1,1,1,1,1,1,1,1,1,1,1],\"x_values\":[-0.7556962442174402,-0.49906708106799724,-1.3897015357127729,-0.4403309606000306,-0.7790765416540989,-0.873815677868536,-1.3131000447327565,-0.4385440053074596,-0.4380691031250365,-0.9345033909586142,-1.264900772417169,-0.8126315862511237,-2.0191836383663144,-2.0076185374553814,-1.2443218773338007,-1.1289776197302512,-0.6086193053827227,-0.4236474380230406,-1.1630631623593424,0.600414048090627,-0.8715765130099392,-1.5457965118988586,-0.8652000262375936,-1.8230719373558104,0.001836698170051341,0.012354800101550696,-1.5941749103677156,-1.1572644591517391,-2.1035103680578695,-1.2540809409815834,-1.5910947197859775,-0.9976417110008428,-1.7353786789617247,-0.06294113449100257,-0.9583362098784242,-0.5009059927668612,-1.2443218773338007,-1.1888332153643015,-1.2941793030388784,-1.4605445583130492,-0.8355590918599731,-0.20141052171451834,-2.4933897627343398,-1.178332752709079,-2.179836504504819,-0.33344906219342335,-1.1598341072143483,-0.9418939409142039,-0.3458983668325619,0.28963022555850243,-0.44675495773370005,-1.4974945319285826,-0.4696484261451023,0.22841069119025328,-0.3944200674403515,-1.2817674019097853,-0.4999007981481263,-0.8758336016617204,-1.0243036064442614,-0.7279897773365452,-1.9114518521706743,-0.722530055761456,-0.32678270824570077,-0.22734432924236236,-2.18290217845392,-1.151016015458684,-0.9965036457553943,-0.8508409014617684,-1.0386857991142993,-1.824421341052536,-1.0555006350170715,-1.0524595257415,-1.6086996103042106,-0.8033421177347877,-1.0430725531475984,-1.0621165057292181,-1.1008919178106693,-0.0903632986549262,-1.263201450916359,-1.9887021814565504,-1.3714576569432717,-0.9501824866270197,0.4483344564353943,-1.7329240558943682,-1.4551315272387613,-0.7484803588754839,-1.49708239238117,-1.3884421963573979,-1.1729448674197394,-0.9615639137172416,-1.2458128349017186,-2.3592252907775753,-0.3070054113356807,-2.491561959578655,-0.7458375875509974,-1.4272297310708564,0.43774419913876633,-1.5666503827139928,-1.2918515483526132,-0.4050898512397753,-0.9078283822456491,-1.0233127168527085,-2.3536567143614855,-1.0493516996500762,-1.4204071013939426,-1.2709899441736123,-1.8038214299279496,-1.3489049532817312,-1.1169763906850194,-1.3589563467676553,-1.611113574406085,-0.8270534942595911],\"y_values\":[-0.08446627655804069,0.471726773947433,0.16697727073799432,-0.2085868096406444,-0.5618551831954589,-0.17895418280622633,-0.5635319604431629,-0.6800651308526008,-1.4012767030694508,-1.436184800181939,-0.054854934040028225,-1.607479113673156,-1.1821498037290434,-1.1824474961704918,-1.2020951973060847,-1.3965835611098916,-1.150507920478709,-0.36264248881423805,-0.14894984605510728,0.10074628787366872,-0.5189032073815342,-0.2849900282556662,-1.1128614751611243,-0.60110132968027,-0.14747423257534584,-0.7338414782446635,1.0973430880673112,-0.87645986925978,-0.8567306519684872,-0.6580431136953775,-0.53130084831003,-1.4337431495158397,-0.2126276028934745,1.229937555275784,-0.6779220326225933,-0.04028074243631072,-1.2020951973060847,-0.9377773784435288,0.7190549021743061,0.5293881213195438,-0.1122125328260309,-1.0463672772666266,-0.83804259661247,-1.01253638488931,-0.5622848569975489,-0.9450406591854296,-0.5191809185135584,-0.2780151377916204,-1.1454419047420132,-0.4177301768200601,-1.6163885351723273,-1.195578385543289,-1.4916718059100667,-0.7114146572318163,-0.360400412488577,0.3132184339485696,-0.9335829825017031,0.0384802583957108,-0.1900286425681249,-0.25572808285806886,0.047658331325797554,0.2682786250280187,-0.8383211627031999,-0.20944954279869385,0.06676578694766257,-0.22953497272033876,-0.9584350801007951,-0.7662124537929179,0.05424677876474465,-0.8051750646653618,-0.47561292331139415,-1.3822658268025603,0.37459873217476203,-0.8352956607381741,-0.6174872634563605,-0.4564946071446918,-1.3612637189995787,-0.8754835906061372,-0.42889018950898017,-0.5818247807477425,0.15075147682103202,0.19908032528656772,-0.6196888336780947,0.3576700775444712,-0.40805507203147234,-0.600639472216261,-0.07152262857371393,-0.18243543525799222,-0.23271574723568558,-0.25128177080460595,-1.2230355268786937,-0.08208692502080063,0.28553456939819066,0.2979073183436146,0.07501185276817002,-0.8770912099076223,-0.3651431832056506,-0.07542104970224638,-0.22691516745797483,-1.3607386458524493,-0.4679460107511456,-0.38873268089780455,-0.1164413095288892,-0.8192722969021168,-0.5483203100557354,-0.29374145813451463,-0.5205855051967435,-0.9461314587237956,0.4998628692704451,-0.5076091949035056,-0.35087149847747323,-0.6607927921556264]}},\"id\":\"d76b666d-1670-444c-a529-77c53beaaccc\",\"type\":\"ColumnDataSource\"},{\"attributes\":{},\"id\":\"f3076d39-df7c-4e2b-a0ac-877e78a0efcd\",\"type\":\"BasicTicker\"},{\"attributes\":{\"fill_alpha\":{\"value\":0.7},\"fill_color\":{\"value\":\"#f22c40\"},\"line_color\":{\"value\":\"#f22c40\"},\"size\":{\"units\":\"screen\",\"value\":8},\"x\":{\"field\":\"x_values\"},\"y\":{\"field\":\"y_values\"}},\"id\":\"bae17a57-f182-40eb-8847-c8ae701252a9\",\"type\":\"Circle\"},{\"attributes\":{},\"id\":\"b575581b-d29f-40bc-b6af-21395c319826\",\"type\":\"BasicTicker\"},{\"attributes\":{\"plot\":{\"id\":\"8e82fca6-f450-48a5-99fd-fa8258f23551\",\"subtype\":\"Chart\",\"type\":\"Plot\"}},\"id\":\"b1fd331f-da03-437e-8480-fe63df71a4e0\",\"type\":\"PanTool\"},{\"attributes\":{\"bottom_units\":\"screen\",\"fill_alpha\":{\"value\":0.5},\"fill_color\":{\"value\":\"lightgrey\"},\"left_units\":\"screen\",\"level\":\"overlay\",\"line_alpha\":{\"value\":1.0},\"line_color\":{\"value\":\"black\"},\"line_dash\":[4,4],\"line_width\":{\"value\":2},\"plot\":null,\"render_mode\":\"css\",\"right_units\":\"screen\",\"top_units\":\"screen\"},\"id\":\"e4e52d0f-c3d6-4b4a-bb65-2ba49ee57d02\",\"type\":\"BoxAnnotation\"},{\"attributes\":{\"plot\":{\"id\":\"a4cf4327-8452-47a3-b4e2-dc5cd869859d\",\"subtype\":\"Chart\",\"type\":\"Plot\"}},\"id\":\"d3416748-3626-41f9-ad1f-61f4b718c2df\",\"type\":\"WheelZoomTool\"},{\"attributes\":{\"plot\":{\"id\":\"3e564601-0504-4937-81bc-40fa5433e628\",\"subtype\":\"Chart\",\"type\":\"Plot\"}},\"id\":\"8a70936c-14b3-48f3-a409-cbf2b4975119\",\"type\":\"WheelZoomTool\"},{\"attributes\":{\"data_source\":{\"id\":\"d76b666d-1670-444c-a529-77c53beaaccc\",\"type\":\"ColumnDataSource\"},\"glyph\":{\"id\":\"5e3fcb17-3e68-44ff-9fe7-f74503a25aac\",\"type\":\"Circle\"},\"hover_glyph\":null,\"nonselection_glyph\":null,\"selection_glyph\":null},\"id\":\"36c267e5-1f0e-4323-b14b-dfd2ff57fbf7\",\"type\":\"GlyphRenderer\"},{\"attributes\":{\"callback\":null,\"end\":10.484101220002673,\"start\":-3.145839480481049},\"id\":\"3bfb727c-dd8b-4dd7-a6af-7075bc14c5b0\",\"type\":\"Range1d\"},{\"attributes\":{\"plot\":{\"id\":\"a4cf4327-8452-47a3-b4e2-dc5cd869859d\",\"subtype\":\"Chart\",\"type\":\"Plot\"}},\"id\":\"4e813f04-9526-4902-80e2-df03c82fdae8\",\"type\":\"ResizeTool\"},{\"attributes\":{\"callback\":null,\"end\":10.484101220002673,\"start\":-3.145839480481049},\"id\":\"f24f2ef5-0be6-451e-8c64-6b826ec14e55\",\"type\":\"Range1d\"},{\"attributes\":{\"below\":[{\"id\":\"1f5ba79a-ff8b-4f02-88d6-5bfdc3f00b64\",\"type\":\"LinearAxis\"}],\"left\":[{\"id\":\"3320240a-71cd-4a65-8492-8db4c7edc937\",\"type\":\"LinearAxis\"}],\"legend\":\"top_right\",\"renderers\":[{\"id\":\"e4e52d0f-c3d6-4b4a-bb65-2ba49ee57d02\",\"type\":\"BoxAnnotation\"},{\"id\":\"98e66068-3901-40ea-8a77-906cde93b2b2\",\"type\":\"GlyphRenderer\"},{\"id\":\"fc058ce0-05b5-4d0a-ae10-f2e564561544\",\"type\":\"GlyphRenderer\"},{\"id\":\"ca2e7b23-dce1-48e1-9808-bb9cc9db2706\",\"type\":\"GlyphRenderer\"},{\"id\":\"916050f6-b1f0-4f1e-b739-2995b77224b7\",\"type\":\"GlyphRenderer\"},{\"id\":\"bde2c7a4-1543-45e0-8cad-b61e94371d30\",\"type\":\"Legend\"},{\"id\":\"1f5ba79a-ff8b-4f02-88d6-5bfdc3f00b64\",\"type\":\"LinearAxis\"},{\"id\":\"3320240a-71cd-4a65-8492-8db4c7edc937\",\"type\":\"LinearAxis\"},{\"id\":\"43b66b44-d3f0-4f97-b0bb-6d90cbc6fde3\",\"type\":\"Grid\"},{\"id\":\"d1ed55f3-5efb-419a-b440-b3fae0b2ffdf\",\"type\":\"Grid\"}],\"title\":\"Player attitude\",\"title_text_font_size\":{\"value\":\"14pt\"},\"tool_events\":{\"id\":\"a38c6120-430b-4998-ad72-a845bdd9638e\",\"type\":\"ToolEvents\"},\"tools\":[{\"id\":\"b1fd331f-da03-437e-8480-fe63df71a4e0\",\"type\":\"PanTool\"},{\"id\":\"f6527291-519c-4aac-a7c6-61a3fb637ae1\",\"type\":\"WheelZoomTool\"},{\"id\":\"c7a47eec-dd33-40ba-bcbd-ff527a30bd3b\",\"type\":\"BoxZoomTool\"},{\"id\":\"0f160676-995c-43b8-a19f-857ea95937e4\",\"type\":\"PreviewSaveTool\"},{\"id\":\"8a2b2fee-8876-4d83-9409-c07f5407fea3\",\"type\":\"ResizeTool\"},{\"id\":\"258bbd2c-a897-42ad-ac62-9a98ace50eda\",\"type\":\"ResetTool\"},{\"id\":\"34279a25-6e88-40d6-8755-77579fd7884b\",\"type\":\"HelpTool\"}],\"x_mapper_type\":\"auto\",\"x_range\":{\"id\":\"f24f2ef5-0be6-451e-8c64-6b826ec14e55\",\"type\":\"Range1d\"},\"xscale\":\"auto\",\"y_mapper_type\":\"auto\",\"y_range\":{\"id\":\"ebd67de4-934a-4a2b-8615-28d0b32636ee\",\"type\":\"Range1d\"},\"yscale\":\"auto\"},\"id\":\"8e82fca6-f450-48a5-99fd-fa8258f23551\",\"subtype\":\"Chart\",\"type\":\"Plot\"},{\"attributes\":{\"callback\":null,\"end\":8.385641633667566,\"start\":-2.25362472002223},\"id\":\"ebd67de4-934a-4a2b-8615-28d0b32636ee\",\"type\":\"Range1d\"},{\"attributes\":{\"below\":[{\"id\":\"4166da3b-d704-448f-8655-4b2ae84b2d66\",\"type\":\"LinearAxis\"}],\"left\":[{\"id\":\"4de3057b-c1ac-4aae-91da-9ae7ca7eb195\",\"type\":\"LinearAxis\"}],\"legend\":\"top_right\",\"renderers\":[{\"id\":\"f84eaa4b-86bf-4a2d-a841-0cba0c874d7f\",\"type\":\"BoxAnnotation\"},{\"id\":\"63070415-9d10-4a2f-9f01-0161b175bd00\",\"type\":\"GlyphRenderer\"},{\"id\":\"0ef3d0d4-14a9-4c49-bc16-4e59ae659f51\",\"type\":\"GlyphRenderer\"},{\"id\":\"ddb70a78-307e-45eb-957d-be1323a6dd6d\",\"type\":\"GlyphRenderer\"},{\"id\":\"24d9c996-6fda-4d03-ba75-c2c34d723ad0\",\"type\":\"GlyphRenderer\"},{\"id\":\"60924e64-7626-4f66-9de9-b442974c9362\",\"type\":\"Legend\"},{\"id\":\"4166da3b-d704-448f-8655-4b2ae84b2d66\",\"type\":\"LinearAxis\"},{\"id\":\"4de3057b-c1ac-4aae-91da-9ae7ca7eb195\",\"type\":\"LinearAxis\"},{\"id\":\"df7b7752-d415-43c6-8dd1-5b1c14a52d21\",\"type\":\"Grid\"},{\"id\":\"7f91b287-22c2-4a76-91a8-66c98b46d8d0\",\"type\":\"Grid\"}],\"title\":\"Player attitude\",\"title_text_font_size\":{\"value\":\"14pt\"},\"tool_events\":{\"id\":\"330d9af2-b10c-41ca-a378-b7f6d82fb44e\",\"type\":\"ToolEvents\"},\"tools\":[{\"id\":\"c96daaf4-0cf6-4bd1-8d40-f3fcd53c9fb2\",\"type\":\"PanTool\"},{\"id\":\"8a1cbdd2-44e0-439b-a9fb-e302e4be1359\",\"type\":\"WheelZoomTool\"},{\"id\":\"8f221725-62e9-4d4f-825f-c7e8d579e2c0\",\"type\":\"BoxZoomTool\"},{\"id\":\"d0d63acd-0228-4b2d-b86b-5dc980684cf6\",\"type\":\"PreviewSaveTool\"},{\"id\":\"94898df6-0bcf-4893-96da-870a4859303a\",\"type\":\"ResizeTool\"},{\"id\":\"fc7755be-67ba-4d9b-8e98-7075a54d2812\",\"type\":\"ResetTool\"},{\"id\":\"1b16ebd6-60ab-49e9-be44-727b62e05f13\",\"type\":\"HelpTool\"}],\"x_mapper_type\":\"auto\",\"x_range\":{\"id\":\"3bfb727c-dd8b-4dd7-a6af-7075bc14c5b0\",\"type\":\"Range1d\"},\"xscale\":\"auto\",\"y_mapper_type\":\"auto\",\"y_range\":{\"id\":\"d4abebca-4ada-4a78-8110-36a458ddab73\",\"type\":\"Range1d\"},\"yscale\":\"auto\"},\"id\":\"9aa5f849-5b8c-4073-8e00-af6ebd0d1ec1\",\"subtype\":\"Chart\",\"type\":\"Plot\"},{\"attributes\":{\"overlay\":{\"id\":\"f84eaa4b-86bf-4a2d-a841-0cba0c874d7f\",\"type\":\"BoxAnnotation\"},\"plot\":{\"id\":\"9aa5f849-5b8c-4073-8e00-af6ebd0d1ec1\",\"subtype\":\"Chart\",\"type\":\"Plot\"}},\"id\":\"8f221725-62e9-4d4f-825f-c7e8d579e2c0\",\"type\":\"BoxZoomTool\"},{\"attributes\":{\"plot\":{\"id\":\"8e82fca6-f450-48a5-99fd-fa8258f23551\",\"subtype\":\"Chart\",\"type\":\"Plot\"}},\"id\":\"34279a25-6e88-40d6-8755-77579fd7884b\",\"type\":\"HelpTool\"},{\"attributes\":{\"plot\":{\"id\":\"8e82fca6-f450-48a5-99fd-fa8258f23551\",\"subtype\":\"Chart\",\"type\":\"Plot\"}},\"id\":\"f6527291-519c-4aac-a7c6-61a3fb637ae1\",\"type\":\"WheelZoomTool\"},{\"attributes\":{\"data_source\":{\"id\":\"d8874ee1-a71e-43b1-b26a-3d129f58a6cf\",\"type\":\"ColumnDataSource\"},\"glyph\":{\"id\":\"9e4596d3-9978-4b64-baed-c66f9c52c09c\",\"type\":\"Circle\"},\"hover_glyph\":null,\"nonselection_glyph\":null,\"selection_glyph\":null},\"id\":\"0ef3d0d4-14a9-4c49-bc16-4e59ae659f51\",\"type\":\"GlyphRenderer\"},{\"attributes\":{\"below\":[{\"id\":\"eed2e4e8-df5f-492e-86c5-df57e89b4ade\",\"type\":\"LinearAxis\"}],\"left\":[{\"id\":\"255660aa-26f5-4684-8145-26dfc474cfc5\",\"type\":\"LinearAxis\"}],\"legend\":\"top_right\",\"renderers\":[{\"id\":\"ec73179e-831b-4801-b7d0-be442dfcff05\",\"type\":\"BoxAnnotation\"},{\"id\":\"56d699a1-90ae-480c-8ec4-6932f9bcd7ef\",\"type\":\"GlyphRenderer\"},{\"id\":\"81c25af0-e850-4cbd-9708-7443a5f42543\",\"type\":\"GlyphRenderer\"},{\"id\":\"36c267e5-1f0e-4323-b14b-dfd2ff57fbf7\",\"type\":\"GlyphRenderer\"},{\"id\":\"867b4f23-7856-4b5f-a808-0343aaff5366\",\"type\":\"GlyphRenderer\"},{\"id\":\"a0d17b55-d681-4b56-85d5-f3934202053a\",\"type\":\"Legend\"},{\"id\":\"eed2e4e8-df5f-492e-86c5-df57e89b4ade\",\"type\":\"LinearAxis\"},{\"id\":\"255660aa-26f5-4684-8145-26dfc474cfc5\",\"type\":\"LinearAxis\"},{\"id\":\"9a402332-38f2-4b83-940f-ab8e172a4f2a\",\"type\":\"Grid\"},{\"id\":\"9f0d4054-35b2-4ee6-a437-9c7105ec8269\",\"type\":\"Grid\"}],\"title\":\"Player position\",\"title_text_font_size\":{\"value\":\"14pt\"},\"tool_events\":{\"id\":\"069a1b29-497e-40be-abc3-2577e6a8842c\",\"type\":\"ToolEvents\"},\"tools\":[{\"id\":\"55b564ec-a7a8-4524-9576-0eb058281a46\",\"type\":\"PanTool\"},{\"id\":\"d3416748-3626-41f9-ad1f-61f4b718c2df\",\"type\":\"WheelZoomTool\"},{\"id\":\"1693197e-cdc7-4d71-82b1-f7ee47b0b608\",\"type\":\"BoxZoomTool\"},{\"id\":\"5abd674d-44a9-4b8f-ab7d-dddf961a552b\",\"type\":\"PreviewSaveTool\"},{\"id\":\"4e813f04-9526-4902-80e2-df03c82fdae8\",\"type\":\"ResizeTool\"},{\"id\":\"3f89f420-d69f-438e-949f-a14d0b111559\",\"type\":\"ResetTool\"},{\"id\":\"11063f33-885e-45fd-8c0f-1601db65f28a\",\"type\":\"HelpTool\"}],\"x_mapper_type\":\"auto\",\"x_range\":{\"id\":\"fa63e38d-1714-4295-8836-6d80bc4a8d54\",\"type\":\"Range1d\"},\"xscale\":\"auto\",\"y_mapper_type\":\"auto\",\"y_range\":{\"id\":\"58195d8a-4c0c-495b-9b30-105b05f68360\",\"type\":\"Range1d\"},\"yscale\":\"auto\"},\"id\":\"a4cf4327-8452-47a3-b4e2-dc5cd869859d\",\"subtype\":\"Chart\",\"type\":\"Plot\"},{\"attributes\":{\"plot\":{\"id\":\"3e564601-0504-4937-81bc-40fa5433e628\",\"subtype\":\"Chart\",\"type\":\"Plot\"}},\"id\":\"88dd6707-f114-4dcc-bf61-95121053d520\",\"type\":\"ResetTool\"},{\"attributes\":{\"callback\":null,\"end\":8.385641633667566,\"start\":-2.25362472002223},\"id\":\"d4abebca-4ada-4a78-8110-36a458ddab73\",\"type\":\"Range1d\"},{\"attributes\":{\"overlay\":{\"id\":\"f0f28c50-15d9-4991-b5a9-484a3fc15ff6\",\"type\":\"BoxAnnotation\"},\"plot\":{\"id\":\"3e564601-0504-4937-81bc-40fa5433e628\",\"subtype\":\"Chart\",\"type\":\"Plot\"}},\"id\":\"2831af2a-38de-4e91-b61c-d739b68d4aaf\",\"type\":\"BoxZoomTool\"},{\"attributes\":{\"plot\":{\"id\":\"3e564601-0504-4937-81bc-40fa5433e628\",\"subtype\":\"Chart\",\"type\":\"Plot\"}},\"id\":\"17be00d4-adf0-4723-ac48-5a5ffa91a907\",\"type\":\"ResizeTool\"},{\"attributes\":{\"plot\":{\"id\":\"3e564601-0504-4937-81bc-40fa5433e628\",\"subtype\":\"Chart\",\"type\":\"Plot\"}},\"id\":\"57ead827-cea0-4f8d-9666-9ee68752fcda\",\"type\":\"PreviewSaveTool\"},{\"attributes\":{\"plot\":{\"id\":\"a4cf4327-8452-47a3-b4e2-dc5cd869859d\",\"subtype\":\"Chart\",\"type\":\"Plot\"},\"ticker\":{\"id\":\"a6857b1d-03a2-481e-bca3-d4c55716a2a6\",\"type\":\"BasicTicker\"}},\"id\":\"9a402332-38f2-4b83-940f-ab8e172a4f2a\",\"type\":\"Grid\"},{\"attributes\":{},\"id\":\"bcb48863-b049-466f-b24c-035895448465\",\"type\":\"BasicTickFormatter\"},{\"attributes\":{},\"id\":\"a6857b1d-03a2-481e-bca3-d4c55716a2a6\",\"type\":\"BasicTicker\"},{\"attributes\":{\"fill_alpha\":{\"value\":0.7},\"fill_color\":{\"value\":\"#df5320\"},\"line_color\":{\"value\":\"#df5320\"},\"size\":{\"units\":\"screen\",\"value\":8},\"x\":{\"field\":\"x_values\"},\"y\":{\"field\":\"y_values\"}},\"id\":\"6574357b-ff0a-475d-91e0-5754413b7642\",\"type\":\"Circle\"},{\"attributes\":{\"callback\":null,\"column_names\":[\"x_values\",\"y_values\"],\"data\":{\"chart_index\":[{\"cluster\":3},{\"cluster\":3},{\"cluster\":3},{\"cluster\":3},{\"cluster\":3},{\"cluster\":3},{\"cluster\":3},{\"cluster\":3},{\"cluster\":3},{\"cluster\":3},{\"cluster\":3},{\"cluster\":3},{\"cluster\":3},{\"cluster\":3},{\"cluster\":3},{\"cluster\":3},{\"cluster\":3},{\"cluster\":3},{\"cluster\":3},{\"cluster\":3},{\"cluster\":3},{\"cluster\":3},{\"cluster\":3},{\"cluster\":3},{\"cluster\":3},{\"cluster\":3},{\"cluster\":3},{\"cluster\":3},{\"cluster\":3},{\"cluster\":3},{\"cluster\":3},{\"cluster\":3},{\"cluster\":3},{\"cluster\":3},{\"cluster\":3},{\"cluster\":3},{\"cluster\":3},{\"cluster\":3},{\"cluster\":3},{\"cluster\":3},{\"cluster\":3},{\"cluster\":3},{\"cluster\":3},{\"cluster\":3},{\"cluster\":3},{\"cluster\":3},{\"cluster\":3},{\"cluster\":3},{\"cluster\":3},{\"cluster\":3}],\"cluster\":[3,3,3,3,3,3,3,3,3,3,3,3,3,3,3,3,3,3,3,3,3,3,3,3,3,3,3,3,3,3,3,3,3,3,3,3,3,3,3,3,3,3,3,3,3,3,3,3,3,3],\"x_values\":[-0.9041589862869073,-1.9493958370487416,-1.2950341545035298,-2.19135282031013,-0.9320709687033097,0.3603877564138099,-1.2743069093847788,-0.8407544390393366,-0.9194151365667639,-0.01887947296901421,0.8202864653540961,0.658338441064638,1.656385942832402,-1.783285017362019,-0.7413124301338616,-1.844108141218809,-2.152318022401913,-0.03602224132376945,-1.0019093908332155,-0.5916205317262911,-0.4974005919421866,-0.8357308320660598,0.655946654826808,-0.7354150299262374,-2.335849058657835,-1.651223715852296,-1.5704256799675078,-2.7333085402093853,-2.0314220381910943,-1.0412364120478124,-0.5824502302303711,0.41116720418908964,-1.5181922367832605,-0.10233033837256092,0.34410310425502055,-0.9612779406854466,-1.2083721807489642,-0.5578867152413584,-1.5145451174663376,-2.112331927088855,-0.9594413323823486,-1.5921709273296594,-1.845072886029608,-1.1962726030166895,-1.1797074614988268,-0.7772598648605863,-0.2752216017767789,0.0020648585156865357,-1.7917901138970163,-0.7511860915064493],\"y_values\":[2.2319134113469103,4.444046059081832,1.6250325943138397,1.5985285273746266,3.2699298864233106,2.152669659665696,5.638558248805988,7.114015647795064,2.4101432162927563,2.5999160871423923,1.9292665834215323,1.460186186598458,3.385052461818709,1.2012034321687681,0.872942501002487,0.5716331616583653,1.0865404253278756,2.059971829035163,2.0901368972726284,0.9089757305813372,1.5929541777806941,1.0561477551183793,1.0453782313239641,3.314512354548928,2.5307024627594763,0.8973506358991655,1.5112262006519621,3.731611875311991,2.007855782392563,1.0813220003011863,0.6206778987904082,0.8791219453701528,1.4450452212583804,1.4783091243922957,2.261719176444889,1.1250116224960005,0.709984268297233,0.46406308458767237,0.3155469527041275,0.5755661448229352,0.18451999891823978,0.7938070184920183,0.5570659915161256,0.17488189840575238,1.2967733608321652,0.08367233449518227,1.6109449932961821,0.7084469998035068,0.8659912865673113,0.3227798341578006]}},\"id\":\"487b8f24-dae0-437d-8a61-5c1f781dbebb\",\"type\":\"ColumnDataSource\"},{\"attributes\":{\"fill_alpha\":{\"value\":0.7},\"fill_color\":{\"value\":\"#5ab738\"},\"line_color\":{\"value\":\"#5ab738\"},\"size\":{\"units\":\"screen\",\"value\":8},\"x\":{\"field\":\"x_values\"},\"y\":{\"field\":\"y_values\"}},\"id\":\"86422669-53f3-4a50-9bfc-e6cf61e55001\",\"type\":\"Circle\"},{\"attributes\":{\"plot\":{\"id\":\"a4cf4327-8452-47a3-b4e2-dc5cd869859d\",\"subtype\":\"Chart\",\"type\":\"Plot\"}},\"id\":\"11063f33-885e-45fd-8c0f-1601db65f28a\",\"type\":\"HelpTool\"},{\"attributes\":{},\"id\":\"9b34b42d-6a98-4a8f-8cad-662e6199b934\",\"type\":\"BasicTickFormatter\"},{\"attributes\":{\"dimension\":1,\"plot\":{\"id\":\"3e564601-0504-4937-81bc-40fa5433e628\",\"subtype\":\"Chart\",\"type\":\"Plot\"},\"ticker\":{\"id\":\"b575581b-d29f-40bc-b6af-21395c319826\",\"type\":\"BasicTicker\"}},\"id\":\"d6f3a263-1bc0-421f-aa4c-6f980fa56d88\",\"type\":\"Grid\"},{\"attributes\":{\"axis_label\":\"defensive attitude\",\"formatter\":{\"id\":\"e68b655e-56f7-4266-b4dd-347ea99fb2a5\",\"type\":\"BasicTickFormatter\"},\"plot\":{\"id\":\"8e82fca6-f450-48a5-99fd-fa8258f23551\",\"subtype\":\"Chart\",\"type\":\"Plot\"},\"ticker\":{\"id\":\"f77b6f4e-4047-4c29-b208-a5d798c1bb9c\",\"type\":\"BasicTicker\"}},\"id\":\"3320240a-71cd-4a65-8492-8db4c7edc937\",\"type\":\"LinearAxis\"},{\"attributes\":{\"axis_label\":\"offensive attitude\",\"formatter\":{\"id\":\"7107944c-a024-47b3-b3f4-06a330b4c3cc\",\"type\":\"BasicTickFormatter\"},\"plot\":{\"id\":\"9aa5f849-5b8c-4073-8e00-af6ebd0d1ec1\",\"subtype\":\"Chart\",\"type\":\"Plot\"},\"ticker\":{\"id\":\"afa0ecc0-3971-4cab-9b9e-1cab5a6e8045\",\"type\":\"BasicTicker\"}},\"id\":\"4166da3b-d704-448f-8655-4b2ae84b2d66\",\"type\":\"LinearAxis\"},{\"attributes\":{\"callback\":null,\"column_names\":[\"x_values\",\"y_values\"],\"data\":{\"chart_index\":[{\"cluster\":2},{\"cluster\":2},{\"cluster\":2},{\"cluster\":2},{\"cluster\":2},{\"cluster\":2},{\"cluster\":2},{\"cluster\":2},{\"cluster\":2},{\"cluster\":2},{\"cluster\":2},{\"cluster\":2},{\"cluster\":2},{\"cluster\":2},{\"cluster\":2},{\"cluster\":2},{\"cluster\":2},{\"cluster\":2},{\"cluster\":2},{\"cluster\":2},{\"cluster\":2},{\"cluster\":2},{\"cluster\":2},{\"cluster\":2},{\"cluster\":2},{\"cluster\":2},{\"cluster\":2},{\"cluster\":2},{\"cluster\":2},{\"cluster\":2},{\"cluster\":2},{\"cluster\":2},{\"cluster\":2},{\"cluster\":2},{\"cluster\":2},{\"cluster\":2},{\"cluster\":2},{\"cluster\":2},{\"cluster\":2},{\"cluster\":2},{\"cluster\":2},{\"cluster\":2},{\"cluster\":2},{\"cluster\":2},{\"cluster\":2},{\"cluster\":2},{\"cluster\":2},{\"cluster\":2},{\"cluster\":2},{\"cluster\":2},{\"cluster\":2},{\"cluster\":2},{\"cluster\":2},{\"cluster\":2},{\"cluster\":2},{\"cluster\":2},{\"cluster\":2},{\"cluster\":2},{\"cluster\":2},{\"cluster\":2},{\"cluster\":2},{\"cluster\":2},{\"cluster\":2},{\"cluster\":2},{\"cluster\":2},{\"cluster\":2},{\"cluster\":2},{\"cluster\":2},{\"cluster\":2},{\"cluster\":2},{\"cluster\":2},{\"cluster\":2},{\"cluster\":2},{\"cluster\":2},{\"cluster\":2}],\"cluster\":[2,2,2,2,2,2,2,2,2,2,2,2,2,2,2,2,2,2,2,2,2,2,2,2,2,2,2,2,2,2,2,2,2,2,2,2,2,2,2,2,2,2,2,2,2,2,2,2,2,2,2,2,2,2,2,2,2,2,2,2,2,2,2,2,2,2,2,2,2,2,2,2,2,2,2],\"x_values\":[-0.9508523741691994,0.11229067689100308,1.4772688729689427,-0.7271975770831821,0.6075945474876181,-1.4408383842239763,-2.010011088774072,-1.2447900082122765,-2.010011088774072,-2.010011088774072,-0.8497841527236267,-1.068418747169854,-1.3602950769763211,-1.6153411904900516,-1.1649923206677226,-2.010011088774072,-0.49485754276524446,-1.1905682976173675,-1.856966872661713,-0.9819066221856492,-1.1408061637558773,-2.010011088774072,-0.7469844497906234,-0.7200197194518374,0.3610604500946657,2.4649689986683354,-1.1038282302140512,3.8813740568449804,-2.010011088774072,-1.2447900082122765,-2.010011088774072,-2.010011088774072,-1.253199031075593,3.39053620393066,-2.010011088774072,1.576314743584464,-2.010011088774072,-0.989716314691678,-0.8419096688902084,-0.38335615766859327,-0.883331705056303,-1.5569196594940617,-1.5822477518140623,-1.1802532905745347,0.6227252159053156,1.624005246674338,1.1895991915058215,-2.010011088774072,2.8324638109047635,-0.19541594650501193,-0.3067115511017119,-2.010011088774072,-2.010011088774072,-0.9114866902358179,-1.7549373952534735,-2.010011088774072,-1.499863701732875,1.1869476622318125,-1.2447900082122765,-0.6564129967152192,-0.6326131437628402,-1.2509054542581817,-1.091739919717327,0.8912024105671221,-2.010011088774072,-1.6274005484931742,-0.9361403013880374,-1.656832128514782,-2.010011088774072,-0.8963152372190674,-1.3036531682554915,-1.8468122801234523,-1.5039406657634786,-1.7399330603404972,-1.6274005484931742],\"y_values\":[-0.08564839209808783,0.1404758664519109,-1.3670191905480804,3.100524009363988,-1.3670191905480804,-1.3670191905480804,2.088362737856394,-1.3670191905480804,-0.2280229252591981,-0.6568227143796369,0.5434306636407366,-0.7582793538322717,-0.764022182480534,2.08164387002199,-1.3670191905480804,-0.30172447629541516,-0.8343718334217478,-0.9073345991758858,-0.9114206844325274,-0.9650205086814161,-0.19324441334198034,-1.3670191905480804,-0.6374130419644548,-0.38029681371027724,-1.3670191905480804,1.5205769749730296,6.551292705102936,-1.3670191905480804,0.9109733400296842,3.188965870607449,0.9109733400296842,0.9109733400296842,7.499036104193417,-1.3670191905480804,0.2731354314679102,0.24730622482198894,3.188965870607449,3.0906971358924924,1.647970923451902,-1.3670191905480804,0.08701859492708841,1.330603543030851,2.370817480690909,1.0231758475090194,-1.3670191905480804,-0.34705616626361374,-1.3670191905480804,0.6234597196655001,-1.3670191905480804,-0.5502091198229856,1.0449729006519055,0.9109733400296842,0.9109733400296842,0.1516424965037627,0.8618389726722062,3.041562768535015,0.1516424965037627,-0.6076883470221588,3.0906971358924924,1.6703041835556056,0.6831740869719078,-0.0002236722014216097,1.1308477810354371,-0.2169543316568382,0.8741225645115756,0.9109733400296842,0.3046244318671345,2.770473280331285,2.2787987968300545,0.667710944413348,0.2100525613903721,1.453637513130677,2.130365756303909,3.6508651766751195,0.5067407345879844]}},\"id\":\"d8874ee1-a71e-43b1-b26a-3d129f58a6cf\",\"type\":\"ColumnDataSource\"},{\"attributes\":{\"legends\":[[\"0\",[{\"id\":\"56d699a1-90ae-480c-8ec4-6932f9bcd7ef\",\"type\":\"GlyphRenderer\"}]],[\"2\",[{\"id\":\"81c25af0-e850-4cbd-9708-7443a5f42543\",\"type\":\"GlyphRenderer\"}]],[\"1\",[{\"id\":\"36c267e5-1f0e-4323-b14b-dfd2ff57fbf7\",\"type\":\"GlyphRenderer\"}]],[\"3\",[{\"id\":\"867b4f23-7856-4b5f-a808-0343aaff5366\",\"type\":\"GlyphRenderer\"}]]],\"plot\":{\"id\":\"a4cf4327-8452-47a3-b4e2-dc5cd869859d\",\"subtype\":\"Chart\",\"type\":\"Plot\"}},\"id\":\"a0d17b55-d681-4b56-85d5-f3934202053a\",\"type\":\"Legend\"},{\"attributes\":{\"data_source\":{\"id\":\"ce789b6a-48c2-499a-8702-a530fd86ec5a\",\"type\":\"ColumnDataSource\"},\"glyph\":{\"id\":\"ee65c062-e3c9-4141-98e4-ec86f58b85cb\",\"type\":\"Circle\"},\"hover_glyph\":null,\"nonselection_glyph\":null,\"selection_glyph\":null},\"id\":\"ddb70a78-307e-45eb-957d-be1323a6dd6d\",\"type\":\"GlyphRenderer\"},{\"attributes\":{},\"id\":\"e68b655e-56f7-4266-b4dd-347ea99fb2a5\",\"type\":\"BasicTickFormatter\"},{\"attributes\":{\"plot\":{\"id\":\"8e82fca6-f450-48a5-99fd-fa8258f23551\",\"subtype\":\"Chart\",\"type\":\"Plot\"}},\"id\":\"258bbd2c-a897-42ad-ac62-9a98ace50eda\",\"type\":\"ResetTool\"},{\"attributes\":{\"fill_alpha\":{\"value\":0.7},\"fill_color\":{\"value\":\"#df5320\"},\"line_color\":{\"value\":\"#df5320\"},\"size\":{\"units\":\"screen\",\"value\":8},\"x\":{\"field\":\"x_values\"},\"y\":{\"field\":\"y_values\"}},\"id\":\"854bf900-6772-414d-9761-cdf910c923f9\",\"type\":\"Circle\"},{\"attributes\":{\"callback\":null,\"end\":8.07596481396934,\"start\":-3.467425180121987},\"id\":\"fbbe002c-eb5d-45d7-bcca-aa51ca8a0db0\",\"type\":\"Range1d\"},{\"attributes\":{\"data_source\":{\"id\":\"e84e4fa6-e90d-4a27-a1c4-a38e3ae4a0aa\",\"type\":\"ColumnDataSource\"},\"glyph\":{\"id\":\"bba69ffb-4aca-4278-ab3d-024726e32b44\",\"type\":\"Circle\"},\"hover_glyph\":null,\"nonselection_glyph\":null,\"selection_glyph\":null},\"id\":\"d9e94871-fd20-491f-8b04-45afa5e3a102\",\"type\":\"GlyphRenderer\"},{\"attributes\":{\"data_source\":{\"id\":\"ac5cc265-c811-4b85-994a-dfc20dbf012a\",\"type\":\"ColumnDataSource\"},\"glyph\":{\"id\":\"86422669-53f3-4a50-9bfc-e6cf61e55001\",\"type\":\"Circle\"},\"hover_glyph\":null,\"nonselection_glyph\":null,\"selection_glyph\":null},\"id\":\"92ffcded-51af-4a55-bd77-fe68c29d4b39\",\"type\":\"GlyphRenderer\"},{\"attributes\":{\"plot\":{\"id\":\"3e564601-0504-4937-81bc-40fa5433e628\",\"subtype\":\"Chart\",\"type\":\"Plot\"},\"ticker\":{\"id\":\"3b88bcd2-83a8-4d9e-b570-96d4d6965ec1\",\"type\":\"BasicTicker\"}},\"id\":\"3be749fa-04c6-4640-8aa0-51370d937da1\",\"type\":\"Grid\"},{\"attributes\":{\"fill_alpha\":{\"value\":0.7},\"fill_color\":{\"value\":\"#407ee7\"},\"line_color\":{\"value\":\"#407ee7\"},\"size\":{\"units\":\"screen\",\"value\":8},\"x\":{\"field\":\"x_values\"},\"y\":{\"field\":\"y_values\"}},\"id\":\"85d82020-41ff-4cbb-a1b8-44e8d3af2f7c\",\"type\":\"Circle\"},{\"attributes\":{\"data_source\":{\"id\":\"95789e5d-e3df-4f30-a8dc-bf29722ee76d\",\"type\":\"ColumnDataSource\"},\"glyph\":{\"id\":\"55c03d3a-fd14-446a-9e72-3a325077220a\",\"type\":\"Circle\"},\"hover_glyph\":null,\"nonselection_glyph\":null,\"selection_glyph\":null},\"id\":\"ca2e7b23-dce1-48e1-9808-bb9cc9db2706\",\"type\":\"GlyphRenderer\"},{\"attributes\":{\"axis_label\":\"offensive attitude\",\"formatter\":{\"id\":\"9b34b42d-6a98-4a8f-8cad-662e6199b934\",\"type\":\"BasicTickFormatter\"},\"plot\":{\"id\":\"8e82fca6-f450-48a5-99fd-fa8258f23551\",\"subtype\":\"Chart\",\"type\":\"Plot\"},\"ticker\":{\"id\":\"e3341536-7bd4-4855-990a-5479d3d3346e\",\"type\":\"BasicTicker\"}},\"id\":\"1f5ba79a-ff8b-4f02-88d6-5bfdc3f00b64\",\"type\":\"LinearAxis\"},{\"attributes\":{\"data_source\":{\"id\":\"bb816034-cf78-42f0-9b0d-26e45db67f3e\",\"type\":\"ColumnDataSource\"},\"glyph\":{\"id\":\"34a95965-699d-4c8a-9420-1eec30432691\",\"type\":\"Circle\"},\"hover_glyph\":null,\"nonselection_glyph\":null,\"selection_glyph\":null},\"id\":\"63070415-9d10-4a2f-9f01-0161b175bd00\",\"type\":\"GlyphRenderer\"},{\"attributes\":{\"overlay\":{\"id\":\"e4e52d0f-c3d6-4b4a-bb65-2ba49ee57d02\",\"type\":\"BoxAnnotation\"},\"plot\":{\"id\":\"8e82fca6-f450-48a5-99fd-fa8258f23551\",\"subtype\":\"Chart\",\"type\":\"Plot\"}},\"id\":\"c7a47eec-dd33-40ba-bcbd-ff527a30bd3b\",\"type\":\"BoxZoomTool\"},{\"attributes\":{\"data_source\":{\"id\":\"487b8f24-dae0-437d-8a61-5c1f781dbebb\",\"type\":\"ColumnDataSource\"},\"glyph\":{\"id\":\"854bf900-6772-414d-9761-cdf910c923f9\",\"type\":\"Circle\"},\"hover_glyph\":null,\"nonselection_glyph\":null,\"selection_glyph\":null},\"id\":\"9f253931-8f21-4be6-a105-538f3cdb053f\",\"type\":\"GlyphRenderer\"},{\"attributes\":{\"callback\":null,\"column_names\":[\"x_values\",\"y_values\"],\"data\":{\"chart_index\":[{\"cluster\":0},{\"cluster\":0},{\"cluster\":0},{\"cluster\":0},{\"cluster\":0},{\"cluster\":0},{\"cluster\":0},{\"cluster\":0},{\"cluster\":0},{\"cluster\":0},{\"cluster\":0},{\"cluster\":0},{\"cluster\":0},{\"cluster\":0},{\"cluster\":0},{\"cluster\":0},{\"cluster\":0},{\"cluster\":0},{\"cluster\":0},{\"cluster\":0},{\"cluster\":0},{\"cluster\":0},{\"cluster\":0},{\"cluster\":0},{\"cluster\":0},{\"cluster\":0},{\"cluster\":0},{\"cluster\":0},{\"cluster\":0},{\"cluster\":0},{\"cluster\":0},{\"cluster\":0},{\"cluster\":0},{\"cluster\":0},{\"cluster\":0},{\"cluster\":0},{\"cluster\":0},{\"cluster\":0},{\"cluster\":0},{\"cluster\":0},{\"cluster\":0},{\"cluster\":0},{\"cluster\":0},{\"cluster\":0},{\"cluster\":0},{\"cluster\":0},{\"cluster\":0},{\"cluster\":0},{\"cluster\":0},{\"cluster\":0},{\"cluster\":0},{\"cluster\":0},{\"cluster\":0},{\"cluster\":0},{\"cluster\":0},{\"cluster\":0},{\"cluster\":0},{\"cluster\":0},{\"cluster\":0},{\"cluster\":0},{\"cluster\":0},{\"cluster\":0},{\"cluster\":0},{\"cluster\":0},{\"cluster\":0},{\"cluster\":0},{\"cluster\":0},{\"cluster\":0},{\"cluster\":0},{\"cluster\":0},{\"cluster\":0},{\"cluster\":0},{\"cluster\":0},{\"cluster\":0},{\"cluster\":0},{\"cluster\":0},{\"cluster\":0},{\"cluster\":0},{\"cluster\":0},{\"cluster\":0},{\"cluster\":0},{\"cluster\":0},{\"cluster\":0},{\"cluster\":0},{\"cluster\":0},{\"cluster\":0},{\"cluster\":0},{\"cluster\":0},{\"cluster\":0},{\"cluster\":0},{\"cluster\":0},{\"cluster\":0},{\"cluster\":0},{\"cluster\":0},{\"cluster\":0},{\"cluster\":0},{\"cluster\":0},{\"cluster\":0},{\"cluster\":0},{\"cluster\":0},{\"cluster\":0},{\"cluster\":0},{\"cluster\":0},{\"cluster\":0},{\"cluster\":0},{\"cluster\":0},{\"cluster\":0},{\"cluster\":0},{\"cluster\":0},{\"cluster\":0},{\"cluster\":0},{\"cluster\":0},{\"cluster\":0},{\"cluster\":0},{\"cluster\":0},{\"cluster\":0},{\"cluster\":0}],\"cluster\":[0,0,0,0,0,0,0,0,0,0,0,0,0,0,0,0,0,0,0,0,0,0,0,0,0,0,0,0,0,0,0,0,0,0,0,0,0,0,0,0,0,0,0,0,0,0,0,0,0,0,0,0,0,0,0,0,0,0,0,0,0,0,0,0,0,0,0,0,0,0,0,0,0,0,0,0,0,0,0,0,0,0,0,0,0,0,0,0,0,0,0,0,0,0,0,0,0,0,0,0,0,0,0,0,0,0,0,0,0,0,0,0,0,0,0,0,0],\"x_values\":[7.3991492870715,6.185254996381108,4.1922097343627085,7.085479661307012,5.482478680773028,3.2563025913482484,6.200194152197685,2.0965139708823908,5.161254784739022,2.119713027149753,2.8849584378279136,2.872494315040078,6.119873473742504,3.61003036882233,2.977442340059088,2.2122212594972925,3.641900885585515,1.2409640439635674,1.2616683484041764,3.7425045520426172,2.5888148449034807,3.2861854482051256,2.9346832011116257,4.7581705904278815,2.276288386314561,4.304382015730752,3.7877494039574766,2.006513479208717,1.2055637888950428,3.5109332531108777,2.0366164433633958,1.9092609794086282,2.0405338518707485,1.8461534950656944,1.928583124821209,8.298311773027722,9.348272828295697,7.943239142777131,2.8409643756032428,2.921063909584712,1.7384699518811262,2.3233578491775866,3.1608035139846797,3.2867026211952863,1.580856586177664,4.875459599196424,4.399218097122786,0.9403815026024668,0.5556159346077078,1.38339052167002,2.478782813831147,1.2265358292489987,0.383085124231343,2.6657025271575154,2.320057473361964,1.3530218033365045,0.5500321515417848,2.0319382278771068,0.49715615181569073,1.4067544643222667,-0.558389288750766,0.5505281832670623,1.164408315419794,3.122092700189,2.1221827462596234,1.2855621068406906,0.47220442847913824,2.694770481592646,0.020386049314207066,0.6682626931922122,6.713565017265005,0.519903504103701,1.1474307018621754,1.6392502449701674,-0.064156746571436,0.5856251390901273,2.3334027322904465,0.020386049314207066,1.1217668534597642,0.3597644287116031,6.854098750133108,0.44962809874598486,1.8498480697813016,6.713565017265005,-0.07001398312444962,-1.2447900082122765,-0.479568927650481,1.5399836148631236,-1.3951012918940577,1.3055719807408273,2.384086505378945,1.7174798694260274,-1.0261554137660494,-0.12082900211592774,7.242431565805428,0.11560302389758204,1.8170008907705455,0.6620752860487085,0.8642089733700384,5.096791175046146,2.669323722109544,1.4883197375821418,-2.010011088774072,-1.2447900082122765,-1.2447900082122765,-1.2447900082122765,0.3638817773671747,1.873939118337748,1.3637917312965508,2.4827009499878234,3.5975327907583092,1.2341157675008942,2.969006066117937,0.7394102058401957,-1.3036531682554915,-0.31238782605299803,0.3939700944655825],\"y_values\":[0.8255027685969174,-1.3670191905480804,-1.3670191905480804,-0.9618426534887943,0.14669756709071163,-1.0766235421741444,-1.3670191905480804,-0.27997158419882406,0.7177638374143903,1.7983802159484443,0.13590647732115657,-1.3670191905480804,-0.6594433655832106,-1.3670191905480804,-0.8343718334217478,-0.7975210579036393,-1.3670191905480804,-1.3670191905480804,-0.029704292615908512,-1.3670191905480804,0.4338982911962859,0.31346710250109033,0.7517990256450657,-1.3670191905480804,-1.3670191905480804,-0.6501683942124202,-0.7959347121302565,-0.2648737007773066,-0.8402251010824767,-0.8232013450520623,0.1420203604338639,0.36693297267067093,-0.9650205086814161,-1.3670191905480804,-1.3670191905480804,2.2940402335947554,-1.3670191905480804,1.1030931920061222,1.96720245917863,-1.3670191905480804,1.2955694815558003,-0.12447781023293614,-0.2323857670837033,-1.3670191905480804,-1.3670191905480804,-1.3670191905480804,-1.3670191905480804,1.3203115166800397,-0.5147834191459483,-0.5369194132083412,1.0705195624029333,0.8618389726722062,-0.6076883470221588,-1.3670191905480804,-1.3670191905480804,1.2364008443979362,0.8372717889934671,-0.8274946438322941,-0.0591849130303953,-0.9910328208118456,0.10250812914628465,0.33579914626254115,-1.3670191905480804,-0.9409013048470143,-1.3670191905480804,-1.3670191905480804,0.23469430751441034,-1.3670191905480804,-0.2280229252591981,-0.2280229252591981,-1.3670191905480804,1.0892734791232561,-1.3670191905480804,-1.3670191905480804,-0.7147979369239997,-1.3670191905480804,-1.3670191905480804,-0.7975210579036393,-1.3670191905480804,-0.28797009711650773,2.817048722758017,-1.3670191905480804,-1.3670191905480804,-1.3670191905480804,-1.3670191905480804,-1.3670191905480804,-1.3670191905480804,0.6098163616733603,-1.3670191905480804,-1.3670191905480804,-1.3670191905480804,3.188965870607449,0.0026454420624890673,1.1601933974613372,-1.3670191905480804,-1.3670191905480804,0.8497790587638241,-0.44350870517871643,-1.3670191905480804,0.38528275605020035,-1.3670191905480804,0.8784722425469842,0.10250812914628465,0.053373761788806595,-1.3670191905480804,0.8618389726722062,1.5720354488406496,-0.6076883470221588,-0.6076883470221588,-0.6076883470221588,-1.3670191905480804,-0.7035138321900191,-0.7929082666993387,-1.3670191905480804,1.2274176288710863,-0.34965412306736615,-0.8413286065685963]}},\"id\":\"bb816034-cf78-42f0-9b0d-26e45db67f3e\",\"type\":\"ColumnDataSource\"},{\"attributes\":{\"callback\":null,\"column_names\":[\"x_values\",\"y_values\"],\"data\":{\"chart_index\":[{\"cluster\":1},{\"cluster\":1},{\"cluster\":1},{\"cluster\":1},{\"cluster\":1},{\"cluster\":1},{\"cluster\":1},{\"cluster\":1},{\"cluster\":1},{\"cluster\":1},{\"cluster\":1},{\"cluster\":1},{\"cluster\":1},{\"cluster\":1},{\"cluster\":1},{\"cluster\":1},{\"cluster\":1},{\"cluster\":1},{\"cluster\":1},{\"cluster\":1},{\"cluster\":1},{\"cluster\":1},{\"cluster\":1},{\"cluster\":1},{\"cluster\":1},{\"cluster\":1},{\"cluster\":1},{\"cluster\":1},{\"cluster\":1},{\"cluster\":1},{\"cluster\":1},{\"cluster\":1},{\"cluster\":1},{\"cluster\":1},{\"cluster\":1},{\"cluster\":1},{\"cluster\":1},{\"cluster\":1},{\"cluster\":1},{\"cluster\":1},{\"cluster\":1},{\"cluster\":1},{\"cluster\":1},{\"cluster\":1},{\"cluster\":1},{\"cluster\":1},{\"cluster\":1},{\"cluster\":1},{\"cluster\":1},{\"cluster\":1},{\"cluster\":1},{\"cluster\":1},{\"cluster\":1},{\"cluster\":1},{\"cluster\":1},{\"cluster\":1},{\"cluster\":1},{\"cluster\":1},{\"cluster\":1},{\"cluster\":1},{\"cluster\":1},{\"cluster\":1},{\"cluster\":1},{\"cluster\":1},{\"cluster\":1},{\"cluster\":1},{\"cluster\":1},{\"cluster\":1},{\"cluster\":1},{\"cluster\":1},{\"cluster\":1},{\"cluster\":1},{\"cluster\":1},{\"cluster\":1},{\"cluster\":1},{\"cluster\":1},{\"cluster\":1},{\"cluster\":1},{\"cluster\":1},{\"cluster\":1},{\"cluster\":1},{\"cluster\":1},{\"cluster\":1},{\"cluster\":1},{\"cluster\":1},{\"cluster\":1},{\"cluster\":1},{\"cluster\":1},{\"cluster\":1},{\"cluster\":1},{\"cluster\":1},{\"cluster\":1},{\"cluster\":1},{\"cluster\":1},{\"cluster\":1},{\"cluster\":1},{\"cluster\":1},{\"cluster\":1},{\"cluster\":1},{\"cluster\":1},{\"cluster\":1},{\"cluster\":1},{\"cluster\":1},{\"cluster\":1},{\"cluster\":1},{\"cluster\":1},{\"cluster\":1},{\"cluster\":1},{\"cluster\":1},{\"cluster\":1},{\"cluster\":1},{\"cluster\":1}],\"cluster\":[1,1,1,1,1,1,1,1,1,1,1,1,1,1,1,1,1,1,1,1,1,1,1,1,1,1,1,1,1,1,1,1,1,1,1,1,1,1,1,1,1,1,1,1,1,1,1,1,1,1,1,1,1,1,1,1,1,1,1,1,1,1,1,1,1,1,1,1,1,1,1,1,1,1,1,1,1,1,1,1,1,1,1,1,1,1,1,1,1,1,1,1,1,1,1,1,1,1,1,1,1,1,1,1,1,1,1,1,1,1,1,1],\"x_values\":[-0.7556962442174402,-0.49906708106799724,-1.3897015357127729,-0.4403309606000306,-0.7790765416540989,-0.873815677868536,-1.3131000447327565,-0.4385440053074596,-0.4380691031250365,-0.9345033909586142,-1.264900772417169,-0.8126315862511237,-2.0191836383663144,-2.0076185374553814,-1.2443218773338007,-1.1289776197302512,-0.6086193053827227,-0.4236474380230406,-1.1630631623593424,0.600414048090627,-0.8715765130099392,-1.5457965118988586,-0.8652000262375936,-1.8230719373558104,0.001836698170051341,0.012354800101550696,-1.5941749103677156,-1.1572644591517391,-2.1035103680578695,-1.2540809409815834,-1.5910947197859775,-0.9976417110008428,-1.7353786789617247,-0.06294113449100257,-0.9583362098784242,-0.5009059927668612,-1.2443218773338007,-1.1888332153643015,-1.2941793030388784,-1.4605445583130492,-0.8355590918599731,-0.20141052171451834,-2.4933897627343398,-1.178332752709079,-2.179836504504819,-0.33344906219342335,-1.1598341072143483,-0.9418939409142039,-0.3458983668325619,0.28963022555850243,-0.44675495773370005,-1.4974945319285826,-0.4696484261451023,0.22841069119025328,-0.3944200674403515,-1.2817674019097853,-0.4999007981481263,-0.8758336016617204,-1.0243036064442614,-0.7279897773365452,-1.9114518521706743,-0.722530055761456,-0.32678270824570077,-0.22734432924236236,-2.18290217845392,-1.151016015458684,-0.9965036457553943,-0.8508409014617684,-1.0386857991142993,-1.824421341052536,-1.0555006350170715,-1.0524595257415,-1.6086996103042106,-0.8033421177347877,-1.0430725531475984,-1.0621165057292181,-1.1008919178106693,-0.0903632986549262,-1.263201450916359,-1.9887021814565504,-1.3714576569432717,-0.9501824866270197,0.4483344564353943,-1.7329240558943682,-1.4551315272387613,-0.7484803588754839,-1.49708239238117,-1.3884421963573979,-1.1729448674197394,-0.9615639137172416,-1.2458128349017186,-2.3592252907775753,-0.3070054113356807,-2.491561959578655,-0.7458375875509974,-1.4272297310708564,0.43774419913876633,-1.5666503827139928,-1.2918515483526132,-0.4050898512397753,-0.9078283822456491,-1.0233127168527085,-2.3536567143614855,-1.0493516996500762,-1.4204071013939426,-1.2709899441736123,-1.8038214299279496,-1.3489049532817312,-1.1169763906850194,-1.3589563467676553,-1.611113574406085,-0.8270534942595911],\"y_values\":[-0.08446627655804069,0.471726773947433,0.16697727073799432,-0.2085868096406444,-0.5618551831954589,-0.17895418280622633,-0.5635319604431629,-0.6800651308526008,-1.4012767030694508,-1.436184800181939,-0.054854934040028225,-1.607479113673156,-1.1821498037290434,-1.1824474961704918,-1.2020951973060847,-1.3965835611098916,-1.150507920478709,-0.36264248881423805,-0.14894984605510728,0.10074628787366872,-0.5189032073815342,-0.2849900282556662,-1.1128614751611243,-0.60110132968027,-0.14747423257534584,-0.7338414782446635,1.0973430880673112,-0.87645986925978,-0.8567306519684872,-0.6580431136953775,-0.53130084831003,-1.4337431495158397,-0.2126276028934745,1.229937555275784,-0.6779220326225933,-0.04028074243631072,-1.2020951973060847,-0.9377773784435288,0.7190549021743061,0.5293881213195438,-0.1122125328260309,-1.0463672772666266,-0.83804259661247,-1.01253638488931,-0.5622848569975489,-0.9450406591854296,-0.5191809185135584,-0.2780151377916204,-1.1454419047420132,-0.4177301768200601,-1.6163885351723273,-1.195578385543289,-1.4916718059100667,-0.7114146572318163,-0.360400412488577,0.3132184339485696,-0.9335829825017031,0.0384802583957108,-0.1900286425681249,-0.25572808285806886,0.047658331325797554,0.2682786250280187,-0.8383211627031999,-0.20944954279869385,0.06676578694766257,-0.22953497272033876,-0.9584350801007951,-0.7662124537929179,0.05424677876474465,-0.8051750646653618,-0.47561292331139415,-1.3822658268025603,0.37459873217476203,-0.8352956607381741,-0.6174872634563605,-0.4564946071446918,-1.3612637189995787,-0.8754835906061372,-0.42889018950898017,-0.5818247807477425,0.15075147682103202,0.19908032528656772,-0.6196888336780947,0.3576700775444712,-0.40805507203147234,-0.600639472216261,-0.07152262857371393,-0.18243543525799222,-0.23271574723568558,-0.25128177080460595,-1.2230355268786937,-0.08208692502080063,0.28553456939819066,0.2979073183436146,0.07501185276817002,-0.8770912099076223,-0.3651431832056506,-0.07542104970224638,-0.22691516745797483,-1.3607386458524493,-0.4679460107511456,-0.38873268089780455,-0.1164413095288892,-0.8192722969021168,-0.5483203100557354,-0.29374145813451463,-0.5205855051967435,-0.9461314587237956,0.4998628692704451,-0.5076091949035056,-0.35087149847747323,-0.6607927921556264]}},\"id\":\"ac5cc265-c811-4b85-994a-dfc20dbf012a\",\"type\":\"ColumnDataSource\"},{\"attributes\":{\"axis_label\":\"first principal component\",\"formatter\":{\"id\":\"0b6080c5-1194-413e-9fd6-8577ecd60cf7\",\"type\":\"BasicTickFormatter\"},\"plot\":{\"id\":\"a4cf4327-8452-47a3-b4e2-dc5cd869859d\",\"subtype\":\"Chart\",\"type\":\"Plot\"},\"ticker\":{\"id\":\"a6857b1d-03a2-481e-bca3-d4c55716a2a6\",\"type\":\"BasicTicker\"}},\"id\":\"eed2e4e8-df5f-492e-86c5-df57e89b4ade\",\"type\":\"LinearAxis\"},{\"attributes\":{\"plot\":{\"id\":\"3e564601-0504-4937-81bc-40fa5433e628\",\"subtype\":\"Chart\",\"type\":\"Plot\"}},\"id\":\"639c2ae6-3ca7-4df5-a3f2-f36692dc7336\",\"type\":\"HelpTool\"},{\"attributes\":{},\"id\":\"069a1b29-497e-40be-abc3-2577e6a8842c\",\"type\":\"ToolEvents\"},{\"attributes\":{\"dimension\":1,\"plot\":{\"id\":\"a4cf4327-8452-47a3-b4e2-dc5cd869859d\",\"subtype\":\"Chart\",\"type\":\"Plot\"},\"ticker\":{\"id\":\"f3076d39-df7c-4e2b-a0ac-877e78a0efcd\",\"type\":\"BasicTicker\"}},\"id\":\"9f0d4054-35b2-4ee6-a437-9c7105ec8269\",\"type\":\"Grid\"},{\"attributes\":{},\"id\":\"330d9af2-b10c-41ca-a378-b7f6d82fb44e\",\"type\":\"ToolEvents\"},{\"attributes\":{\"axis_label\":\"first principal component\",\"formatter\":{\"id\":\"5361be7f-34f0-4d31-ab26-47e86782ea1f\",\"type\":\"BasicTickFormatter\"},\"plot\":{\"id\":\"3e564601-0504-4937-81bc-40fa5433e628\",\"subtype\":\"Chart\",\"type\":\"Plot\"},\"ticker\":{\"id\":\"3b88bcd2-83a8-4d9e-b570-96d4d6965ec1\",\"type\":\"BasicTicker\"}},\"id\":\"f8de7bb1-25e9-42ec-ac94-564370bdc3dc\",\"type\":\"LinearAxis\"},{\"attributes\":{\"callback\":null,\"column_names\":[\"x_values\",\"y_values\"],\"data\":{\"chart_index\":[{\"cluster\":2},{\"cluster\":2},{\"cluster\":2},{\"cluster\":2},{\"cluster\":2},{\"cluster\":2},{\"cluster\":2},{\"cluster\":2},{\"cluster\":2},{\"cluster\":2},{\"cluster\":2},{\"cluster\":2},{\"cluster\":2},{\"cluster\":2},{\"cluster\":2},{\"cluster\":2},{\"cluster\":2},{\"cluster\":2},{\"cluster\":2},{\"cluster\":2},{\"cluster\":2},{\"cluster\":2},{\"cluster\":2},{\"cluster\":2},{\"cluster\":2},{\"cluster\":2},{\"cluster\":2},{\"cluster\":2},{\"cluster\":2},{\"cluster\":2},{\"cluster\":2},{\"cluster\":2},{\"cluster\":2},{\"cluster\":2},{\"cluster\":2},{\"cluster\":2},{\"cluster\":2},{\"cluster\":2},{\"cluster\":2},{\"cluster\":2},{\"cluster\":2},{\"cluster\":2},{\"cluster\":2},{\"cluster\":2},{\"cluster\":2},{\"cluster\":2},{\"cluster\":2},{\"cluster\":2},{\"cluster\":2},{\"cluster\":2},{\"cluster\":2},{\"cluster\":2},{\"cluster\":2},{\"cluster\":2},{\"cluster\":2},{\"cluster\":2},{\"cluster\":2},{\"cluster\":2},{\"cluster\":2},{\"cluster\":2},{\"cluster\":2},{\"cluster\":2},{\"cluster\":2},{\"cluster\":2},{\"cluster\":2},{\"cluster\":2},{\"cluster\":2},{\"cluster\":2},{\"cluster\":2},{\"cluster\":2},{\"cluster\":2},{\"cluster\":2},{\"cluster\":2},{\"cluster\":2},{\"cluster\":2}],\"cluster\":[2,2,2,2,2,2,2,2,2,2,2,2,2,2,2,2,2,2,2,2,2,2,2,2,2,2,2,2,2,2,2,2,2,2,2,2,2,2,2,2,2,2,2,2,2,2,2,2,2,2,2,2,2,2,2,2,2,2,2,2,2,2,2,2,2,2,2,2,2,2,2,2,2,2,2],\"x_values\":[-0.9508523741691994,0.11229067689100308,1.4772688729689427,-0.7271975770831821,0.6075945474876181,-1.4408383842239763,-2.010011088774072,-1.2447900082122765,-2.010011088774072,-2.010011088774072,-0.8497841527236267,-1.068418747169854,-1.3602950769763211,-1.6153411904900516,-1.1649923206677226,-2.010011088774072,-0.49485754276524446,-1.1905682976173675,-1.856966872661713,-0.9819066221856492,-1.1408061637558773,-2.010011088774072,-0.7469844497906234,-0.7200197194518374,0.3610604500946657,2.4649689986683354,-1.1038282302140512,3.8813740568449804,-2.010011088774072,-1.2447900082122765,-2.010011088774072,-2.010011088774072,-1.253199031075593,3.39053620393066,-2.010011088774072,1.576314743584464,-2.010011088774072,-0.989716314691678,-0.8419096688902084,-0.38335615766859327,-0.883331705056303,-1.5569196594940617,-1.5822477518140623,-1.1802532905745347,0.6227252159053156,1.624005246674338,1.1895991915058215,-2.010011088774072,2.8324638109047635,-0.19541594650501193,-0.3067115511017119,-2.010011088774072,-2.010011088774072,-0.9114866902358179,-1.7549373952534735,-2.010011088774072,-1.499863701732875,1.1869476622318125,-1.2447900082122765,-0.6564129967152192,-0.6326131437628402,-1.2509054542581817,-1.091739919717327,0.8912024105671221,-2.010011088774072,-1.6274005484931742,-0.9361403013880374,-1.656832128514782,-2.010011088774072,-0.8963152372190674,-1.3036531682554915,-1.8468122801234523,-1.5039406657634786,-1.7399330603404972,-1.6274005484931742],\"y_values\":[-0.08564839209808783,0.1404758664519109,-1.3670191905480804,3.100524009363988,-1.3670191905480804,-1.3670191905480804,2.088362737856394,-1.3670191905480804,-0.2280229252591981,-0.6568227143796369,0.5434306636407366,-0.7582793538322717,-0.764022182480534,2.08164387002199,-1.3670191905480804,-0.30172447629541516,-0.8343718334217478,-0.9073345991758858,-0.9114206844325274,-0.9650205086814161,-0.19324441334198034,-1.3670191905480804,-0.6374130419644548,-0.38029681371027724,-1.3670191905480804,1.5205769749730296,6.551292705102936,-1.3670191905480804,0.9109733400296842,3.188965870607449,0.9109733400296842,0.9109733400296842,7.499036104193417,-1.3670191905480804,0.2731354314679102,0.24730622482198894,3.188965870607449,3.0906971358924924,1.647970923451902,-1.3670191905480804,0.08701859492708841,1.330603543030851,2.370817480690909,1.0231758475090194,-1.3670191905480804,-0.34705616626361374,-1.3670191905480804,0.6234597196655001,-1.3670191905480804,-0.5502091198229856,1.0449729006519055,0.9109733400296842,0.9109733400296842,0.1516424965037627,0.8618389726722062,3.041562768535015,0.1516424965037627,-0.6076883470221588,3.0906971358924924,1.6703041835556056,0.6831740869719078,-0.0002236722014216097,1.1308477810354371,-0.2169543316568382,0.8741225645115756,0.9109733400296842,0.3046244318671345,2.770473280331285,2.2787987968300545,0.667710944413348,0.2100525613903721,1.453637513130677,2.130365756303909,3.6508651766751195,0.5067407345879844]}},\"id\":\"916b6bda-ce06-4d8a-a67c-856c594a5c1d\",\"type\":\"ColumnDataSource\"},{\"attributes\":{\"callback\":null,\"end\":7.1122417264689775,\"start\":-3.628358564452873},\"id\":\"fa63e38d-1714-4295-8836-6d80bc4a8d54\",\"type\":\"Range1d\"},{\"attributes\":{\"plot\":{\"id\":\"8e82fca6-f450-48a5-99fd-fa8258f23551\",\"subtype\":\"Chart\",\"type\":\"Plot\"}},\"id\":\"0f160676-995c-43b8-a19f-857ea95937e4\",\"type\":\"PreviewSaveTool\"},{\"attributes\":{},\"id\":\"4290dd30-af2d-4a18-a5a9-c0b5d5c0055b\",\"type\":\"BasicTicker\"},{\"attributes\":{\"dimension\":1,\"plot\":{\"id\":\"9aa5f849-5b8c-4073-8e00-af6ebd0d1ec1\",\"subtype\":\"Chart\",\"type\":\"Plot\"},\"ticker\":{\"id\":\"4290dd30-af2d-4a18-a5a9-c0b5d5c0055b\",\"type\":\"BasicTicker\"}},\"id\":\"7f91b287-22c2-4a76-91a8-66c98b46d8d0\",\"type\":\"Grid\"},{\"attributes\":{\"plot\":{\"id\":\"9aa5f849-5b8c-4073-8e00-af6ebd0d1ec1\",\"subtype\":\"Chart\",\"type\":\"Plot\"}},\"id\":\"c96daaf4-0cf6-4bd1-8d40-f3fcd53c9fb2\",\"type\":\"PanTool\"},{\"attributes\":{\"plot\":{\"id\":\"9aa5f849-5b8c-4073-8e00-af6ebd0d1ec1\",\"subtype\":\"Chart\",\"type\":\"Plot\"}},\"id\":\"fc7755be-67ba-4d9b-8e98-7075a54d2812\",\"type\":\"ResetTool\"},{\"attributes\":{\"axis_label\":\"defensive attitude\",\"formatter\":{\"id\":\"22925c89-cff8-43d5-bd3a-192dc759e4ef\",\"type\":\"BasicTickFormatter\"},\"plot\":{\"id\":\"9aa5f849-5b8c-4073-8e00-af6ebd0d1ec1\",\"subtype\":\"Chart\",\"type\":\"Plot\"},\"ticker\":{\"id\":\"4290dd30-af2d-4a18-a5a9-c0b5d5c0055b\",\"type\":\"BasicTicker\"}},\"id\":\"4de3057b-c1ac-4aae-91da-9ae7ca7eb195\",\"type\":\"LinearAxis\"},{\"attributes\":{\"data_source\":{\"id\":\"80db2e44-429e-4004-a184-14c5685709ea\",\"type\":\"ColumnDataSource\"},\"glyph\":{\"id\":\"34912fb9-0719-447f-a955-0f77c1419c2c\",\"type\":\"Circle\"},\"hover_glyph\":null,\"nonselection_glyph\":null,\"selection_glyph\":null},\"id\":\"81c25af0-e850-4cbd-9708-7443a5f42543\",\"type\":\"GlyphRenderer\"},{\"attributes\":{\"below\":[{\"id\":\"f8de7bb1-25e9-42ec-ac94-564370bdc3dc\",\"type\":\"LinearAxis\"}],\"left\":[{\"id\":\"e51fd182-f6ec-4e67-8ae9-3d9d78432a77\",\"type\":\"LinearAxis\"}],\"legend\":\"top_right\",\"renderers\":[{\"id\":\"f0f28c50-15d9-4991-b5a9-484a3fc15ff6\",\"type\":\"BoxAnnotation\"},{\"id\":\"d9e94871-fd20-491f-8b04-45afa5e3a102\",\"type\":\"GlyphRenderer\"},{\"id\":\"8bb5965c-4567-4333-9cd8-7dd832c294c1\",\"type\":\"GlyphRenderer\"},{\"id\":\"92ffcded-51af-4a55-bd77-fe68c29d4b39\",\"type\":\"GlyphRenderer\"},{\"id\":\"9f253931-8f21-4be6-a105-538f3cdb053f\",\"type\":\"GlyphRenderer\"},{\"id\":\"589b627e-f98e-4bd2-b98d-a708e963de98\",\"type\":\"Legend\"},{\"id\":\"f8de7bb1-25e9-42ec-ac94-564370bdc3dc\",\"type\":\"LinearAxis\"},{\"id\":\"e51fd182-f6ec-4e67-8ae9-3d9d78432a77\",\"type\":\"LinearAxis\"},{\"id\":\"3be749fa-04c6-4640-8aa0-51370d937da1\",\"type\":\"Grid\"},{\"id\":\"d6f3a263-1bc0-421f-aa4c-6f980fa56d88\",\"type\":\"Grid\"}],\"title\":\"Player position\",\"title_text_font_size\":{\"value\":\"14pt\"},\"tool_events\":{\"id\":\"4c30bacf-f474-4db7-8d0d-cb006885db95\",\"type\":\"ToolEvents\"},\"tools\":[{\"id\":\"1f1e76a4-2b46-451e-8f7a-6446f5c79a40\",\"type\":\"PanTool\"},{\"id\":\"8a70936c-14b3-48f3-a409-cbf2b4975119\",\"type\":\"WheelZoomTool\"},{\"id\":\"2831af2a-38de-4e91-b61c-d739b68d4aaf\",\"type\":\"BoxZoomTool\"},{\"id\":\"57ead827-cea0-4f8d-9666-9ee68752fcda\",\"type\":\"PreviewSaveTool\"},{\"id\":\"17be00d4-adf0-4723-ac48-5a5ffa91a907\",\"type\":\"ResizeTool\"},{\"id\":\"88dd6707-f114-4dcc-bf61-95121053d520\",\"type\":\"ResetTool\"},{\"id\":\"639c2ae6-3ca7-4df5-a3f2-f36692dc7336\",\"type\":\"HelpTool\"}],\"x_mapper_type\":\"auto\",\"x_range\":{\"id\":\"5de13dba-0002-4fa3-a5ac-9e414d9ac1a0\",\"type\":\"Range1d\"},\"xscale\":\"auto\",\"y_mapper_type\":\"auto\",\"y_range\":{\"id\":\"fbbe002c-eb5d-45d7-bcca-aa51ca8a0db0\",\"type\":\"Range1d\"},\"yscale\":\"auto\"},\"id\":\"3e564601-0504-4937-81bc-40fa5433e628\",\"subtype\":\"Chart\",\"type\":\"Plot\"},{\"attributes\":{\"axis_label\":\"second princ component\",\"formatter\":{\"id\":\"bcb48863-b049-466f-b24c-035895448465\",\"type\":\"BasicTickFormatter\"},\"plot\":{\"id\":\"3e564601-0504-4937-81bc-40fa5433e628\",\"subtype\":\"Chart\",\"type\":\"Plot\"},\"ticker\":{\"id\":\"b575581b-d29f-40bc-b6af-21395c319826\",\"type\":\"BasicTicker\"}},\"id\":\"e51fd182-f6ec-4e67-8ae9-3d9d78432a77\",\"type\":\"LinearAxis\"},{\"attributes\":{\"fill_alpha\":{\"value\":0.7},\"fill_color\":{\"value\":\"#f22c40\"},\"line_color\":{\"value\":\"#f22c40\"},\"size\":{\"units\":\"screen\",\"value\":8},\"x\":{\"field\":\"x_values\"},\"y\":{\"field\":\"y_values\"}},\"id\":\"bba69ffb-4aca-4278-ab3d-024726e32b44\",\"type\":\"Circle\"},{\"attributes\":{\"data_source\":{\"id\":\"d53fb34b-4f87-4bc6-a8b6-ed3105aaa0e8\",\"type\":\"ColumnDataSource\"},\"glyph\":{\"id\":\"b88b492d-0728-4dcb-ab93-b0698955f698\",\"type\":\"Circle\"},\"hover_glyph\":null,\"nonselection_glyph\":null,\"selection_glyph\":null},\"id\":\"867b4f23-7856-4b5f-a808-0343aaff5366\",\"type\":\"GlyphRenderer\"},{\"attributes\":{\"callback\":null,\"column_names\":[\"x_values\",\"y_values\"],\"data\":{\"chart_index\":[{\"cluster\":3},{\"cluster\":3},{\"cluster\":3},{\"cluster\":3},{\"cluster\":3},{\"cluster\":3},{\"cluster\":3},{\"cluster\":3},{\"cluster\":3},{\"cluster\":3},{\"cluster\":3},{\"cluster\":3},{\"cluster\":3},{\"cluster\":3},{\"cluster\":3},{\"cluster\":3},{\"cluster\":3},{\"cluster\":3},{\"cluster\":3},{\"cluster\":3},{\"cluster\":3},{\"cluster\":3},{\"cluster\":3},{\"cluster\":3},{\"cluster\":3},{\"cluster\":3},{\"cluster\":3},{\"cluster\":3},{\"cluster\":3},{\"cluster\":3},{\"cluster\":3},{\"cluster\":3},{\"cluster\":3},{\"cluster\":3},{\"cluster\":3},{\"cluster\":3},{\"cluster\":3},{\"cluster\":3},{\"cluster\":3},{\"cluster\":3},{\"cluster\":3},{\"cluster\":3},{\"cluster\":3},{\"cluster\":3},{\"cluster\":3},{\"cluster\":3},{\"cluster\":3},{\"cluster\":3},{\"cluster\":3},{\"cluster\":3}],\"cluster\":[3,3,3,3,3,3,3,3,3,3,3,3,3,3,3,3,3,3,3,3,3,3,3,3,3,3,3,3,3,3,3,3,3,3,3,3,3,3,3,3,3,3,3,3,3,3,3,3,3,3],\"x_values\":[-1.163250057004872,-2.010011088774072,-2.010011088774072,-2.010011088774072,-2.010011088774072,-0.9821021745865856,-1.0261554137660494,-0.17348049542576272,-1.170134293035516,-0.35049549237499733,0.3924271874083092,-0.4623729483120138,1.0508732334731101,-1.2447900082122765,-2.010011088774072,-2.010011088774072,-2.010011088774072,-0.5601185150780386,-1.3602950769763211,0.7362999075715634,-1.372326854972576,-1.4921923124540601,-0.479568927650481,0.04972215848515454,-2.010011088774072,-1.5685373884499594,-0.6855899878017336,-1.5685373884499594,-2.010011088774072,-1.1852219001445918,-1.2138273055305855,-0.4358420087612356,-2.010011088774072,0.610880991210373,2.288562644636488,-1.3572158541715924,-1.3693608817921037,-0.479568927650481,-1.4655850235522414,-1.7549373952534735,-0.989716314691678,-2.010011088774072,-2.010011088774072,-1.376239028186082,-1.3574847553793241,-0.3893845261463805,-1.0534847380718277,-0.6708741977909298,-2.010011088774072,-1.4741718173510907],\"y_values\":[0.2590971058350285,-1.3670191905480804,-1.3670191905480804,1.9970693807761255,-1.3670191905480804,-1.3670191905480804,-1.3670191905480804,1.1896881236583163,-1.3670191905480804,1.1030931920061222,-1.3670191905480804,-1.3670191905480804,-1.3670191905480804,0.7635702379572502,-1.3670191905480804,0.7635702379572502,0.7401571673143346,-1.3670191905480804,-1.3670191905480804,0.4084719998730282,-1.3670191905480804,-1.3670191905480804,-1.3670191905480804,0.05672614106302232,1.123280141471137,1.176393478153705,-0.13783298179500525,1.0913532269580701,1.0523245674853254,-1.3670191905480804,-0.2586200658921282,-1.3670191905480804,-0.2280229252591981,-1.3670191905480804,0.5497555742706565,-1.3670191905480804,-0.475144546057477,1.24864936448729,0.14881518546361705,1.4737667141256936,-0.6568227143796369,0.627982249733134,0.5947322257284474,-0.19062011959421699,-1.3670191905480804,0.30019164481440774,-0.7975210579036393,-0.7975210579036393,0.8372717889934671,0.4377153841858463]}},\"id\":\"d8e092a2-6a8c-4acd-8423-055a7b148c21\",\"type\":\"ColumnDataSource\"},{\"attributes\":{\"dimension\":1,\"plot\":{\"id\":\"8e82fca6-f450-48a5-99fd-fa8258f23551\",\"subtype\":\"Chart\",\"type\":\"Plot\"},\"ticker\":{\"id\":\"f77b6f4e-4047-4c29-b208-a5d798c1bb9c\",\"type\":\"BasicTicker\"}},\"id\":\"d1ed55f3-5efb-419a-b440-b3fae0b2ffdf\",\"type\":\"Grid\"},{\"attributes\":{\"plot\":{\"id\":\"a4cf4327-8452-47a3-b4e2-dc5cd869859d\",\"subtype\":\"Chart\",\"type\":\"Plot\"}},\"id\":\"5abd674d-44a9-4b8f-ab7d-dddf961a552b\",\"type\":\"PreviewSaveTool\"},{\"attributes\":{},\"id\":\"0b6080c5-1194-413e-9fd6-8577ecd60cf7\",\"type\":\"BasicTickFormatter\"},{\"attributes\":{\"legends\":[[\"0\",[{\"id\":\"d9e94871-fd20-491f-8b04-45afa5e3a102\",\"type\":\"GlyphRenderer\"}]],[\"2\",[{\"id\":\"8bb5965c-4567-4333-9cd8-7dd832c294c1\",\"type\":\"GlyphRenderer\"}]],[\"1\",[{\"id\":\"92ffcded-51af-4a55-bd77-fe68c29d4b39\",\"type\":\"GlyphRenderer\"}]],[\"3\",[{\"id\":\"9f253931-8f21-4be6-a105-538f3cdb053f\",\"type\":\"GlyphRenderer\"}]]],\"plot\":{\"id\":\"3e564601-0504-4937-81bc-40fa5433e628\",\"subtype\":\"Chart\",\"type\":\"Plot\"}},\"id\":\"589b627e-f98e-4bd2-b98d-a708e963de98\",\"type\":\"Legend\"},{\"attributes\":{},\"id\":\"a38c6120-430b-4998-ad72-a845bdd9638e\",\"type\":\"ToolEvents\"},{\"attributes\":{\"data_source\":{\"id\":\"916b6bda-ce06-4d8a-a67c-856c594a5c1d\",\"type\":\"ColumnDataSource\"},\"glyph\":{\"id\":\"85d82020-41ff-4cbb-a1b8-44e8d3af2f7c\",\"type\":\"Circle\"},\"hover_glyph\":null,\"nonselection_glyph\":null,\"selection_glyph\":null},\"id\":\"fc058ce0-05b5-4d0a-ae10-f2e564561544\",\"type\":\"GlyphRenderer\"},{\"attributes\":{\"plot\":{\"id\":\"9aa5f849-5b8c-4073-8e00-af6ebd0d1ec1\",\"subtype\":\"Chart\",\"type\":\"Plot\"}},\"id\":\"8a1cbdd2-44e0-439b-a9fb-e302e4be1359\",\"type\":\"WheelZoomTool\"},{\"attributes\":{\"data_source\":{\"id\":\"bccd5d7e-69b1-4bca-a689-3e2035960b28\",\"type\":\"ColumnDataSource\"},\"glyph\":{\"id\":\"218abdc9-1c67-4721-aae8-b044eb97ad2e\",\"type\":\"Circle\"},\"hover_glyph\":null,\"nonselection_glyph\":null,\"selection_glyph\":null},\"id\":\"8bb5965c-4567-4333-9cd8-7dd832c294c1\",\"type\":\"GlyphRenderer\"},{\"attributes\":{\"bottom_units\":\"screen\",\"fill_alpha\":{\"value\":0.5},\"fill_color\":{\"value\":\"lightgrey\"},\"left_units\":\"screen\",\"level\":\"overlay\",\"line_alpha\":{\"value\":1.0},\"line_color\":{\"value\":\"black\"},\"line_dash\":[4,4],\"line_width\":{\"value\":2},\"plot\":null,\"render_mode\":\"css\",\"right_units\":\"screen\",\"top_units\":\"screen\"},\"id\":\"ec73179e-831b-4801-b7d0-be442dfcff05\",\"type\":\"BoxAnnotation\"},{\"attributes\":{\"legends\":[[\"0\",[{\"id\":\"98e66068-3901-40ea-8a77-906cde93b2b2\",\"type\":\"GlyphRenderer\"}]],[\"2\",[{\"id\":\"fc058ce0-05b5-4d0a-ae10-f2e564561544\",\"type\":\"GlyphRenderer\"}]],[\"1\",[{\"id\":\"ca2e7b23-dce1-48e1-9808-bb9cc9db2706\",\"type\":\"GlyphRenderer\"}]],[\"3\",[{\"id\":\"916050f6-b1f0-4f1e-b739-2995b77224b7\",\"type\":\"GlyphRenderer\"}]]],\"plot\":{\"id\":\"8e82fca6-f450-48a5-99fd-fa8258f23551\",\"subtype\":\"Chart\",\"type\":\"Plot\"}},\"id\":\"bde2c7a4-1543-45e0-8cad-b61e94371d30\",\"type\":\"Legend\"},{\"attributes\":{},\"id\":\"7107944c-a024-47b3-b3f4-06a330b4c3cc\",\"type\":\"BasicTickFormatter\"},{\"attributes\":{},\"id\":\"4c30bacf-f474-4db7-8d0d-cb006885db95\",\"type\":\"ToolEvents\"},{\"attributes\":{\"callback\":null,\"column_names\":[\"x_values\",\"y_values\"],\"data\":{\"chart_index\":[{\"cluster\":2},{\"cluster\":2},{\"cluster\":2},{\"cluster\":2},{\"cluster\":2},{\"cluster\":2},{\"cluster\":2},{\"cluster\":2},{\"cluster\":2},{\"cluster\":2},{\"cluster\":2},{\"cluster\":2},{\"cluster\":2},{\"cluster\":2},{\"cluster\":2},{\"cluster\":2},{\"cluster\":2},{\"cluster\":2},{\"cluster\":2},{\"cluster\":2},{\"cluster\":2},{\"cluster\":2},{\"cluster\":2},{\"cluster\":2},{\"cluster\":2},{\"cluster\":2},{\"cluster\":2},{\"cluster\":2},{\"cluster\":2},{\"cluster\":2},{\"cluster\":2},{\"cluster\":2},{\"cluster\":2},{\"cluster\":2},{\"cluster\":2},{\"cluster\":2},{\"cluster\":2},{\"cluster\":2},{\"cluster\":2},{\"cluster\":2},{\"cluster\":2},{\"cluster\":2},{\"cluster\":2},{\"cluster\":2},{\"cluster\":2},{\"cluster\":2},{\"cluster\":2},{\"cluster\":2},{\"cluster\":2},{\"cluster\":2},{\"cluster\":2},{\"cluster\":2},{\"cluster\":2},{\"cluster\":2},{\"cluster\":2},{\"cluster\":2},{\"cluster\":2},{\"cluster\":2},{\"cluster\":2},{\"cluster\":2},{\"cluster\":2},{\"cluster\":2},{\"cluster\":2},{\"cluster\":2},{\"cluster\":2},{\"cluster\":2},{\"cluster\":2},{\"cluster\":2},{\"cluster\":2},{\"cluster\":2},{\"cluster\":2},{\"cluster\":2},{\"cluster\":2},{\"cluster\":2},{\"cluster\":2}],\"cluster\":[2,2,2,2,2,2,2,2,2,2,2,2,2,2,2,2,2,2,2,2,2,2,2,2,2,2,2,2,2,2,2,2,2,2,2,2,2,2,2,2,2,2,2,2,2,2,2,2,2,2,2,2,2,2,2,2,2,2,2,2,2,2,2,2,2,2,2,2,2,2,2,2,2,2,2],\"x_values\":[-0.3700166889375138,-0.026522195633325682,0.5146061885530127,-0.9340724220331015,1.151122237279351,-0.3087212553124318,-0.5258992657492605,0.6387729309730602,-0.552992977589261,-0.9037277029166209,0.26971980599467826,0.17950239137665294,0.010470046844189207,-0.05164011789303197,-0.1885899517387578,-1.3084902780433756,-0.2768763897424506,-0.022076646244256374,-0.8961731879893438,0.14704350528969018,-0.6646372505949425,-0.8013063971025689,-0.19920588542475096,-0.3812816521360217,-0.34995362302982475,0.9890786177081471,-1.4715848231479862,1.2204911378482644,-1.4727147630497712,-0.6596468911418781,-1.7605082904382225,-1.4106552574043072,-1.8936629182900562,0.8640182864278121,-1.3640819109845654,0.9222823697660668,-1.6043375053297906,-1.3464372893142065,-0.6220763841198211,-0.5861048681241215,-0.7283832628327278,-1.0644738005947143,-1.2083619639078524,-1.1090982946850383,-0.01833668432027071,-0.030757222219842034,0.432384831061816,-1.412179812998597,1.268521055035784,-0.34822582156636794,-0.5337945793955087,-1.2152868718348402,-1.1158496620615233,-0.7370497907076518,-1.031016762550472,-1.7765067619710173,-1.1024628966500005,0.3200114465328193,-1.5543685775859162,-0.5620056628856982,-0.8070922055959096,-1.0429500971207608,-1.0875697394619193,0.5624385302579828,-1.5880750582362877,-1.0690467152274705,-0.6794909202971557,-1.502294891394715,-1.5102191437831334,-0.8996797821975494,-0.7557557304076894,-1.3220738418654194,-1.6540139524853623,-2.1119468278503803,-1.3682077909161758],\"y_values\":[-0.3049415824388582,-0.5773003401629917,0.24010278741182225,-0.568752743324461,0.41593287971875187,3.6209822025937233,-0.7913521550791268,-1.3417036181173123,-0.29557039305099175,-1.2902660086630657,0.6659371756574303,-1.162629711367905,-0.8125485961549247,-0.6103122300475935,-0.7503218017975211,0.031744303769331135,-0.4938989211430822,-0.9063957348583518,-0.587091632907328,-1.2863412764213842,-0.07299678155907895,-0.8951361973959142,0.12961745891436613,-0.6045559943097288,-1.5719798027113965,-2.5054760139477095,-1.2499171157177025,0.2905758609584448,2.0628279585701774,3.450711190954576,2.3330839028148915,0.03364561744149615,0.827336611707785,-1.3361815199118554,-0.3123618106878266,0.7335121039556176,1.8403516653824405,0.9652000969678463,-1.2705815811469354,-0.567846121224887,-1.510142959273284,0.314014020038996,-0.39239547339671443,0.5262091099771499,-0.9262535666688945,-0.6202768377344253,-0.7862703650430296,0.5080344398099701,-0.8737112191155461,-1.0862858896367034,-0.7880691268398186,-0.341980760611419,-0.6275218239160963,1.152964075797963,-0.8994448803232694,-0.7182656357678004,-0.3187788393777241,-1.5797091766340399,-0.25262253418706704,-0.017020482054684653,0.23279320033729906,-0.25955379875088713,0.2099289369417563,-1.319998803084148,-0.2831406050822434,-0.8688962110821747,-1.1803507154199073,0.213205365080959,-1.173847054652518,-0.054373607581085975,-0.18072243162075577,-0.9213630556649733,-0.36601066887888256,-0.1711916883578599,-0.05337329900910078]}},\"id\":\"bccd5d7e-69b1-4bca-a689-3e2035960b28\",\"type\":\"ColumnDataSource\"},{\"attributes\":{},\"id\":\"e3341536-7bd4-4855-990a-5479d3d3346e\",\"type\":\"BasicTicker\"},{\"attributes\":{\"callback\":null,\"column_names\":[\"x_values\",\"y_values\"],\"data\":{\"chart_index\":[{\"cluster\":0},{\"cluster\":0},{\"cluster\":0},{\"cluster\":0},{\"cluster\":0},{\"cluster\":0},{\"cluster\":0},{\"cluster\":0},{\"cluster\":0},{\"cluster\":0},{\"cluster\":0},{\"cluster\":0},{\"cluster\":0},{\"cluster\":0},{\"cluster\":0},{\"cluster\":0},{\"cluster\":0},{\"cluster\":0},{\"cluster\":0},{\"cluster\":0},{\"cluster\":0},{\"cluster\":0},{\"cluster\":0},{\"cluster\":0},{\"cluster\":0},{\"cluster\":0},{\"cluster\":0},{\"cluster\":0},{\"cluster\":0},{\"cluster\":0},{\"cluster\":0},{\"cluster\":0},{\"cluster\":0},{\"cluster\":0},{\"cluster\":0},{\"cluster\":0},{\"cluster\":0},{\"cluster\":0},{\"cluster\":0},{\"cluster\":0},{\"cluster\":0},{\"cluster\":0},{\"cluster\":0},{\"cluster\":0},{\"cluster\":0},{\"cluster\":0},{\"cluster\":0},{\"cluster\":0},{\"cluster\":0},{\"cluster\":0},{\"cluster\":0},{\"cluster\":0},{\"cluster\":0},{\"cluster\":0},{\"cluster\":0},{\"cluster\":0},{\"cluster\":0},{\"cluster\":0},{\"cluster\":0},{\"cluster\":0},{\"cluster\":0},{\"cluster\":0},{\"cluster\":0},{\"cluster\":0},{\"cluster\":0},{\"cluster\":0},{\"cluster\":0},{\"cluster\":0},{\"cluster\":0},{\"cluster\":0},{\"cluster\":0},{\"cluster\":0},{\"cluster\":0},{\"cluster\":0},{\"cluster\":0},{\"cluster\":0},{\"cluster\":0},{\"cluster\":0},{\"cluster\":0},{\"cluster\":0},{\"cluster\":0},{\"cluster\":0},{\"cluster\":0},{\"cluster\":0},{\"cluster\":0},{\"cluster\":0},{\"cluster\":0},{\"cluster\":0},{\"cluster\":0},{\"cluster\":0},{\"cluster\":0},{\"cluster\":0},{\"cluster\":0},{\"cluster\":0},{\"cluster\":0},{\"cluster\":0},{\"cluster\":0},{\"cluster\":0},{\"cluster\":0},{\"cluster\":0},{\"cluster\":0},{\"cluster\":0},{\"cluster\":0},{\"cluster\":0},{\"cluster\":0},{\"cluster\":0},{\"cluster\":0},{\"cluster\":0},{\"cluster\":0},{\"cluster\":0},{\"cluster\":0},{\"cluster\":0},{\"cluster\":0},{\"cluster\":0},{\"cluster\":0},{\"cluster\":0},{\"cluster\":0}],\"cluster\":[0,0,0,0,0,0,0,0,0,0,0,0,0,0,0,0,0,0,0,0,0,0,0,0,0,0,0,0,0,0,0,0,0,0,0,0,0,0,0,0,0,0,0,0,0,0,0,0,0,0,0,0,0,0,0,0,0,0,0,0,0,0,0,0,0,0,0,0,0,0,0,0,0,0,0,0,0,0,0,0,0,0,0,0,0,0,0,0,0,0,0,0,0,0,0,0,0,0,0,0,0,0,0,0,0,0,0,0,0,0,0,0,0,0,0,0,0],\"x_values\":[5.330951399777972,4.644955912761866,2.912013354931537,5.638030156671741,4.67294528936352,2.2838703826036926,4.115011832844031,1.4642143868473343,2.8261266604632835,1.2303888231487274,1.6843467600580948,1.729642897428503,3.612741310570761,2.915497516728186,1.5972998339052504,1.6566840402670797,2.1752749388605905,0.5242043735538475,0.22643283551750343,3.385258035314103,2.9713183729407873,3.4579110483414106,2.621417775360325,3.093687510975277,1.6155802557479173,3.0926231558600965,2.3550943802554927,1.0613403293708672,0.834991043715043,3.299064268622777,1.02124269686977,1.5556288656042,2.260656738510413,2.0978778988525058,1.0949863939927538,5.372619721737124,6.21719170222549,3.9141043926855867,0.9857849061992126,1.3012019677565572,0.5640680533075828,1.3978040331133763,1.93754724359542,2.166040126643418,0.3666125303731929,3.423710739969621,2.4369451302931004,-0.1597504645641021,0.11680758449613135,0.6258409428089381,1.3767977778537828,0.24479779507340882,0.23026223920213904,2.692607342523555,1.5416255679630877,0.8976386217018575,0.5237458923081426,1.50158481644018,0.294197102973448,1.1935207843560447,-0.02509837356889874,0.9701051429952638,1.4078120562799725,4.454395342207803,4.745465106589357,1.4924683589477836,0.5128274605389804,2.89731050739169,1.5502306956731626,2.5201279607177116,4.515139697722161,1.2434592862293739,1.2433523451122228,1.3950254615897675,0.6692328393280506,1.0271219540873413,1.708465349539136,1.6865169557929933,1.5978884119174652,1.2753016201443237,2.477783518594572,1.3846400435204902,2.5502506610328823,4.053677168739964,0.44644950473998046,1.1635289096553558,0.6545778324809182,1.0685163556623938,-0.02307181229213913,1.0057232111132053,1.776101059929063,0.3575452096792215,-0.6137981296043259,-0.18104112805561126,5.671348108720593,0.43664876776166617,1.1891617078000547,0.8878007904163238,1.0191114240321377,3.047590902974727,2.9517247449319197,1.2249799820166298,-0.2455777386813513,-0.4925336790859551,0.48377989704720575,-0.6070930121091878,0.7437562170799233,1.4156378470386513,1.0552219544994328,2.30011037456992,2.1943934654671176,1.6847571369788,1.7371428595265164,0.8362463092527979,-0.38182340949905375,-0.028984438662752497,1.1452324255810211],\"y_values\":[0.6976111637351402,0.8564244896667639,0.724921738433249,-1.9122588377068686,0.8598009333332198,0.13687262879187417,3.089475764525391,0.3877754242871221,0.5754628790492111,-0.38450557579163863,0.7137036674691603,0.584997112000507,0.8368614374708371,0.11026110575957762,2.4961283943889745,-0.6334859233658652,0.3809097134744387,0.4860619667850333,1.2155323894603836,-1.9375114778354818,-0.2260952117243705,0.9158559404106124,-0.7814238458181191,-0.1148297176752464,0.12535124047374274,-0.7707439256238999,0.018008191585950566,-0.9177112981962187,-0.42919001698800024,-0.7089120149298076,-0.1951721129806238,0.0037447786274481085,-0.5988893194084106,-0.6808601567558065,0.5181208189688395,4.151557549709712,4.94468831555085,1.3548224429256608,1.2807549473552786,2.157742481525952,0.5600043041043585,1.6717580157223597,1.3209112291380567,1.3531739784691443,1.727214648819591,0.47013199769316183,-1.1079015062922335,2.5874635988847325,-0.49134204661543707,0.8665742486333932,2.0329454132147577,0.8638078328181954,0.8098864754263269,-0.5436561776230302,-0.8569059167860461,-0.49425927963532557,-0.326907510562287,-0.406542818809527,-0.06775135017849465,-0.07271435940222575,-0.004557737827798598,0.5659329363592088,-0.7964469053395973,-1.1106679043628493,-1.1094477466873511,-1.8942366500477197,-1.9635522300263257,0.49955325673812845,-1.49840982035056,-0.7081838241959717,-1.1993076596268113,-1.1927246810885566,-0.6683920731806992,-0.016459413589116182,-0.4188722032530015,0.32610118432787993,-1.3470585522529148,-2.068179685619507,-0.11999832160410866,-1.1222985961660041,0.14046587671582017,-0.3061332382244008,-0.8378994634152035,-0.5385449076212384,-1.6610247744603903,-1.81486525522352,-1.518284284325703,-0.6736381284218166,-1.5278813832419063,0.7256154817954946,0.9177763960617425,-0.7514683021082648,0.08225354432194917,-0.4785179013330841,-0.4576554892794086,-0.9032733500368736,-0.3535571590246078,-0.4538471020126145,-0.026737734027888507,-0.239146861529393,-0.43664805331128764,0.22667987483451577,-1.7609593949087134,-0.7508028549162692,-1.3854082466462823,-0.34373224801354485,-1.105320638742116,-0.7800095001196666,-0.7550977795720579,0.027513720359067715,-2.148095686211642,-0.41604962057251255,-1.0453112750063405,0.18106470476756517,-1.0676877421438846,-0.5518080781610072,-1.0116860441623852]}},\"id\":\"1b7a4947-65f9-4d20-acf2-5f199f4b8aad\",\"type\":\"ColumnDataSource\"},{\"attributes\":{\"fill_alpha\":{\"value\":0.7},\"fill_color\":{\"value\":\"#5ab738\"},\"line_color\":{\"value\":\"#5ab738\"},\"size\":{\"units\":\"screen\",\"value\":8},\"x\":{\"field\":\"x_values\"},\"y\":{\"field\":\"y_values\"}},\"id\":\"ee65c062-e3c9-4141-98e4-ec86f58b85cb\",\"type\":\"Circle\"},{\"attributes\":{\"fill_alpha\":{\"value\":0.7},\"fill_color\":{\"value\":\"#5ab738\"},\"line_color\":{\"value\":\"#5ab738\"},\"size\":{\"units\":\"screen\",\"value\":8},\"x\":{\"field\":\"x_values\"},\"y\":{\"field\":\"y_values\"}},\"id\":\"55c03d3a-fd14-446a-9e72-3a325077220a\",\"type\":\"Circle\"},{\"attributes\":{},\"id\":\"22925c89-cff8-43d5-bd3a-192dc759e4ef\",\"type\":\"BasicTickFormatter\"},{\"attributes\":{\"fill_alpha\":{\"value\":0.7},\"fill_color\":{\"value\":\"#407ee7\"},\"line_color\":{\"value\":\"#407ee7\"},\"size\":{\"units\":\"screen\",\"value\":8},\"x\":{\"field\":\"x_values\"},\"y\":{\"field\":\"y_values\"}},\"id\":\"34912fb9-0719-447f-a955-0f77c1419c2c\",\"type\":\"Circle\"},{\"attributes\":{\"data_source\":{\"id\":\"d8e092a2-6a8c-4acd-8423-055a7b148c21\",\"type\":\"ColumnDataSource\"},\"glyph\":{\"id\":\"3e004740-2b85-440b-bb8e-9dbe71bb749e\",\"type\":\"Circle\"},\"hover_glyph\":null,\"nonselection_glyph\":null,\"selection_glyph\":null},\"id\":\"24d9c996-6fda-4d03-ba75-c2c34d723ad0\",\"type\":\"GlyphRenderer\"},{\"attributes\":{\"fill_alpha\":{\"value\":0.7},\"fill_color\":{\"value\":\"#df5320\"},\"line_color\":{\"value\":\"#df5320\"},\"size\":{\"units\":\"screen\",\"value\":8},\"x\":{\"field\":\"x_values\"},\"y\":{\"field\":\"y_values\"}},\"id\":\"3e004740-2b85-440b-bb8e-9dbe71bb749e\",\"type\":\"Circle\"},{\"attributes\":{\"fill_alpha\":{\"value\":0.7},\"fill_color\":{\"value\":\"#407ee7\"},\"line_color\":{\"value\":\"#407ee7\"},\"size\":{\"units\":\"screen\",\"value\":8},\"x\":{\"field\":\"x_values\"},\"y\":{\"field\":\"y_values\"}},\"id\":\"9e4596d3-9978-4b64-baed-c66f9c52c09c\",\"type\":\"Circle\"},{\"attributes\":{},\"id\":\"5361be7f-34f0-4d31-ab26-47e86782ea1f\",\"type\":\"BasicTickFormatter\"},{\"attributes\":{\"callback\":null,\"column_names\":[\"x_values\",\"y_values\"],\"data\":{\"chart_index\":[{\"cluster\":3},{\"cluster\":3},{\"cluster\":3},{\"cluster\":3},{\"cluster\":3},{\"cluster\":3},{\"cluster\":3},{\"cluster\":3},{\"cluster\":3},{\"cluster\":3},{\"cluster\":3},{\"cluster\":3},{\"cluster\":3},{\"cluster\":3},{\"cluster\":3},{\"cluster\":3},{\"cluster\":3},{\"cluster\":3},{\"cluster\":3},{\"cluster\":3},{\"cluster\":3},{\"cluster\":3},{\"cluster\":3},{\"cluster\":3},{\"cluster\":3},{\"cluster\":3},{\"cluster\":3},{\"cluster\":3},{\"cluster\":3},{\"cluster\":3},{\"cluster\":3},{\"cluster\":3},{\"cluster\":3},{\"cluster\":3},{\"cluster\":3},{\"cluster\":3},{\"cluster\":3},{\"cluster\":3},{\"cluster\":3},{\"cluster\":3},{\"cluster\":3},{\"cluster\":3},{\"cluster\":3},{\"cluster\":3},{\"cluster\":3},{\"cluster\":3},{\"cluster\":3},{\"cluster\":3},{\"cluster\":3},{\"cluster\":3}],\"cluster\":[3,3,3,3,3,3,3,3,3,3,3,3,3,3,3,3,3,3,3,3,3,3,3,3,3,3,3,3,3,3,3,3,3,3,3,3,3,3,3,3,3,3,3,3,3,3,3,3,3,3],\"x_values\":[-0.9041589862869073,-1.9493958370487416,-1.2950341545035298,-2.19135282031013,-0.9320709687033097,0.3603877564138099,-1.2743069093847788,-0.8407544390393366,-0.9194151365667639,-0.01887947296901421,0.8202864653540961,0.658338441064638,1.656385942832402,-1.783285017362019,-0.7413124301338616,-1.844108141218809,-2.152318022401913,-0.03602224132376945,-1.0019093908332155,-0.5916205317262911,-0.4974005919421866,-0.8357308320660598,0.655946654826808,-0.7354150299262374,-2.335849058657835,-1.651223715852296,-1.5704256799675078,-2.7333085402093853,-2.0314220381910943,-1.0412364120478124,-0.5824502302303711,0.41116720418908964,-1.5181922367832605,-0.10233033837256092,0.34410310425502055,-0.9612779406854466,-1.2083721807489642,-0.5578867152413584,-1.5145451174663376,-2.112331927088855,-0.9594413323823486,-1.5921709273296594,-1.845072886029608,-1.1962726030166895,-1.1797074614988268,-0.7772598648605863,-0.2752216017767789,0.0020648585156865357,-1.7917901138970163,-0.7511860915064493],\"y_values\":[2.2319134113469103,4.444046059081832,1.6250325943138397,1.5985285273746266,3.2699298864233106,2.152669659665696,5.638558248805988,7.114015647795064,2.4101432162927563,2.5999160871423923,1.9292665834215323,1.460186186598458,3.385052461818709,1.2012034321687681,0.872942501002487,0.5716331616583653,1.0865404253278756,2.059971829035163,2.0901368972726284,0.9089757305813372,1.5929541777806941,1.0561477551183793,1.0453782313239641,3.314512354548928,2.5307024627594763,0.8973506358991655,1.5112262006519621,3.731611875311991,2.007855782392563,1.0813220003011863,0.6206778987904082,0.8791219453701528,1.4450452212583804,1.4783091243922957,2.261719176444889,1.1250116224960005,0.709984268297233,0.46406308458767237,0.3155469527041275,0.5755661448229352,0.18451999891823978,0.7938070184920183,0.5570659915161256,0.17488189840575238,1.2967733608321652,0.08367233449518227,1.6109449932961821,0.7084469998035068,0.8659912865673113,0.3227798341578006]}},\"id\":\"d53fb34b-4f87-4bc6-a8b6-ed3105aaa0e8\",\"type\":\"ColumnDataSource\"},{\"attributes\":{\"callback\":null,\"column_names\":[\"x_values\",\"y_values\"],\"data\":{\"chart_index\":[{\"cluster\":1},{\"cluster\":1},{\"cluster\":1},{\"cluster\":1},{\"cluster\":1},{\"cluster\":1},{\"cluster\":1},{\"cluster\":1},{\"cluster\":1},{\"cluster\":1},{\"cluster\":1},{\"cluster\":1},{\"cluster\":1},{\"cluster\":1},{\"cluster\":1},{\"cluster\":1},{\"cluster\":1},{\"cluster\":1},{\"cluster\":1},{\"cluster\":1},{\"cluster\":1},{\"cluster\":1},{\"cluster\":1},{\"cluster\":1},{\"cluster\":1},{\"cluster\":1},{\"cluster\":1},{\"cluster\":1},{\"cluster\":1},{\"cluster\":1},{\"cluster\":1},{\"cluster\":1},{\"cluster\":1},{\"cluster\":1},{\"cluster\":1},{\"cluster\":1},{\"cluster\":1},{\"cluster\":1},{\"cluster\":1},{\"cluster\":1},{\"cluster\":1},{\"cluster\":1},{\"cluster\":1},{\"cluster\":1},{\"cluster\":1},{\"cluster\":1},{\"cluster\":1},{\"cluster\":1},{\"cluster\":1},{\"cluster\":1},{\"cluster\":1},{\"cluster\":1},{\"cluster\":1},{\"cluster\":1},{\"cluster\":1},{\"cluster\":1},{\"cluster\":1},{\"cluster\":1},{\"cluster\":1},{\"cluster\":1},{\"cluster\":1},{\"cluster\":1},{\"cluster\":1},{\"cluster\":1},{\"cluster\":1},{\"cluster\":1},{\"cluster\":1},{\"cluster\":1},{\"cluster\":1},{\"cluster\":1},{\"cluster\":1},{\"cluster\":1},{\"cluster\":1},{\"cluster\":1},{\"cluster\":1},{\"cluster\":1},{\"cluster\":1},{\"cluster\":1},{\"cluster\":1},{\"cluster\":1},{\"cluster\":1},{\"cluster\":1},{\"cluster\":1},{\"cluster\":1},{\"cluster\":1},{\"cluster\":1},{\"cluster\":1},{\"cluster\":1},{\"cluster\":1},{\"cluster\":1},{\"cluster\":1},{\"cluster\":1},{\"cluster\":1},{\"cluster\":1},{\"cluster\":1},{\"cluster\":1},{\"cluster\":1},{\"cluster\":1},{\"cluster\":1},{\"cluster\":1},{\"cluster\":1},{\"cluster\":1},{\"cluster\":1},{\"cluster\":1},{\"cluster\":1},{\"cluster\":1},{\"cluster\":1},{\"cluster\":1},{\"cluster\":1},{\"cluster\":1},{\"cluster\":1},{\"cluster\":1}],\"cluster\":[1,1,1,1,1,1,1,1,1,1,1,1,1,1,1,1,1,1,1,1,1,1,1,1,1,1,1,1,1,1,1,1,1,1,1,1,1,1,1,1,1,1,1,1,1,1,1,1,1,1,1,1,1,1,1,1,1,1,1,1,1,1,1,1,1,1,1,1,1,1,1,1,1,1,1,1,1,1,1,1,1,1,1,1,1,1,1,1,1,1,1,1,1,1,1,1,1,1,1,1,1,1,1,1,1,1,1,1,1,1,1,1],\"x_values\":[-0.18476821444790809,0.35310574844056486,-0.7097650964202641,-0.1150207126337457,-0.2931787354023057,-0.009127089481638831,-1.2776614897485694,-0.3622244909666906,-1.3688330451672472,-1.9056627596065545,-2.010011088774072,-2.010011088774072,-2.010011088774072,-2.010011088774072,-2.010011088774072,-1.1155968387667785,-2.010011088774072,-0.33025749729695986,-1.2091983300466116,1.156420968723013,-1.236192018543043,-2.010011088774072,-1.2447900082122765,-2.010011088774072,-1.2447900082122765,-1.2447900082122765,-2.010011088774072,-0.24488005428290038,-2.010011088774072,-2.010011088774072,0.22265254215501656,-2.010011088774072,-2.010011088774072,0.49434881124634944,-1.4163050779933686,-1.4882694429364842,-2.010011088774072,-1.5284034156932218,-2.010011088774072,-2.010011088774072,-1.149137373142052,-1.1802532905745347,-2.010011088774072,-2.010011088774072,-2.010011088774072,-1.6274005484931742,-1.2447900082122765,-1.6274005484931742,0.020386049314207066,-1.2447900082122765,-0.4811369258600069,-2.010011088774072,-1.6820591971047312,0.03876901550164408,-0.691781810528167,-2.010011088774072,-0.2371891209926358,-1.7345314997718257,-1.7345314997718257,-0.9381060732011289,-1.7491402658552782,-1.4921923124540601,-1.499863701732875,-0.7346426211710797,-1.7549373952534735,-1.499863701732875,-1.1665603837564162,-1.7549373952534735,-0.9114866902358179,-1.7549373952534735,-1.2447900082122765,-2.010011088774072,-0.479568927650481,-1.7549373952534735,-1.4216340772770149,-1.1665603837564162,-2.010011088774072,-1.1665603837564162,-1.7549373952534735,-1.7549373952534735,-2.010011088774072,-0.6564129967152192,1.504016545097132,-1.8115387624035777,-1.8187058186336231,-1.4360952783527254,-1.568728330151279,-1.8187058186336231,-1.8187058186336231,-1.0534847380718277,-2.010011088774072,-1.6274005484931742,-0.288263657510032,-2.010011088774072,-0.7448350312475884,-2.010011088774072,-0.15184100733768913,-1.3036531682554915,-1.4802426483851368,-1.656832128514782,-0.2193802118339227,-1.5508784404369949,-2.010011088774072,-1.703922656549354,-2.010011088774072,-2.010011088774072,-1.7399330603404972,-1.4284393483714668,-1.8765422956528286,-1.5727418998816174,-1.5809151557487662,-1.664963073085031],\"y_values\":[1.9205078449869406,3.1260833619194983,2.658104149818659,0.8225314787862238,1.2961195504045273,2.637330163093315,1.9472310315713224,1.3699191461197997,-1.0306103334156598,-0.4552135783215996,-1.3670191905480804,-1.3670191905480804,1.5383300301410068,1.494966608936692,-1.3670191905480804,1.123280141471137,-1.3670191905480804,-1.3670191905480804,0.8626674206784282,-1.3670191905480804,-1.3670191905480804,0.7635702379572502,-1.3670191905480804,0.7635702379572502,-1.3670191905480804,-1.3670191905480804,-1.3670191905480804,0.7635702379572502,2.8941596664625804,-1.3670191905480804,4.2727763554954405,-1.3670191905480804,0.4084719998730282,-1.3670191905480804,-1.3670191905480804,0.18615753484585007,-1.3670191905480804,-0.026088780999271033,-1.3670191905480804,-1.3670191905480804,-1.3670191905480804,-1.3670191905480804,4.1874466495314495,-0.2280229252591981,2.9678612174987977,-1.3670191905480804,-0.30172447629541516,-1.3670191905480804,0.7635702379572502,-1.3670191905480804,-0.3786014144373601,-0.41774667289719064,-1.3670191905480804,-0.39994688983110493,-0.4558221783169746,-1.3670191905480804,-0.5302056078868607,-0.5469418795400851,-0.6000069962861614,-1.3670191905480804,1.5383300301410068,-1.3670191905480804,0.1516424965037627,-0.6568227143796369,3.70262487734598,0.10250812914628465,-0.6568227143796369,-1.3670191905480804,0.10250812914628465,2.943294033820058,0.7635702379572502,-1.3670191905480804,2.943294033820058,-0.6076883470221588,-1.3670191905480804,0.10250812914628465,-0.6076883470221588,-0.6076883470221588,0.8127046053147282,1.4737667141256936,-1.3670191905480804,0.7635702379572502,-0.7403752409876891,0.8816219433090898,0.8372717889934671,-1.3670191905480804,0.8004210134753587,0.8372717889934671,-1.3670191905480804,0.26777365634902606,0.3046244318671345,4.0331559317514625,-0.2648737007773066,3.5005085746251297,0.3046244318671345,0.2542629716639259,-0.29361956880986667,1.5830277104593002,0.6336948439350942,-0.8753447070468503,0.49078669861486723,0.39641359308515756,2.953120907291554,0.39641359308515756,-0.967533672703331,-0.18703545707851696,1.6668840794722273,0.13692628839685872,-1.3670191905480804,1.4144252466937544,1.0637548700389539,-0.47531400133147694]}},\"id\":\"ce789b6a-48c2-499a-8702-a530fd86ec5a\",\"type\":\"ColumnDataSource\"},{\"attributes\":{\"plot\":{\"id\":\"3e564601-0504-4937-81bc-40fa5433e628\",\"subtype\":\"Chart\",\"type\":\"Plot\"}},\"id\":\"1f1e76a4-2b46-451e-8f7a-6446f5c79a40\",\"type\":\"PanTool\"},{\"attributes\":{\"callback\":null,\"column_names\":[\"x_values\",\"y_values\"],\"data\":{\"chart_index\":[{\"cluster\":0},{\"cluster\":0},{\"cluster\":0},{\"cluster\":0},{\"cluster\":0},{\"cluster\":0},{\"cluster\":0},{\"cluster\":0},{\"cluster\":0},{\"cluster\":0},{\"cluster\":0},{\"cluster\":0},{\"cluster\":0},{\"cluster\":0},{\"cluster\":0},{\"cluster\":0},{\"cluster\":0},{\"cluster\":0},{\"cluster\":0},{\"cluster\":0},{\"cluster\":0},{\"cluster\":0},{\"cluster\":0},{\"cluster\":0},{\"cluster\":0},{\"cluster\":0},{\"cluster\":0},{\"cluster\":0},{\"cluster\":0},{\"cluster\":0},{\"cluster\":0},{\"cluster\":0},{\"cluster\":0},{\"cluster\":0},{\"cluster\":0},{\"cluster\":0},{\"cluster\":0},{\"cluster\":0},{\"cluster\":0},{\"cluster\":0},{\"cluster\":0},{\"cluster\":0},{\"cluster\":0},{\"cluster\":0},{\"cluster\":0},{\"cluster\":0},{\"cluster\":0},{\"cluster\":0},{\"cluster\":0},{\"cluster\":0},{\"cluster\":0},{\"cluster\":0},{\"cluster\":0},{\"cluster\":0},{\"cluster\":0},{\"cluster\":0},{\"cluster\":0},{\"cluster\":0},{\"cluster\":0},{\"cluster\":0},{\"cluster\":0},{\"cluster\":0},{\"cluster\":0},{\"cluster\":0},{\"cluster\":0},{\"cluster\":0},{\"cluster\":0},{\"cluster\":0},{\"cluster\":0},{\"cluster\":0},{\"cluster\":0},{\"cluster\":0},{\"cluster\":0},{\"cluster\":0},{\"cluster\":0},{\"cluster\":0},{\"cluster\":0},{\"cluster\":0},{\"cluster\":0},{\"cluster\":0},{\"cluster\":0},{\"cluster\":0},{\"cluster\":0},{\"cluster\":0},{\"cluster\":0},{\"cluster\":0},{\"cluster\":0},{\"cluster\":0},{\"cluster\":0},{\"cluster\":0},{\"cluster\":0},{\"cluster\":0},{\"cluster\":0},{\"cluster\":0},{\"cluster\":0},{\"cluster\":0},{\"cluster\":0},{\"cluster\":0},{\"cluster\":0},{\"cluster\":0},{\"cluster\":0},{\"cluster\":0},{\"cluster\":0},{\"cluster\":0},{\"cluster\":0},{\"cluster\":0},{\"cluster\":0},{\"cluster\":0},{\"cluster\":0},{\"cluster\":0},{\"cluster\":0},{\"cluster\":0},{\"cluster\":0},{\"cluster\":0},{\"cluster\":0},{\"cluster\":0},{\"cluster\":0}],\"cluster\":[0,0,0,0,0,0,0,0,0,0,0,0,0,0,0,0,0,0,0,0,0,0,0,0,0,0,0,0,0,0,0,0,0,0,0,0,0,0,0,0,0,0,0,0,0,0,0,0,0,0,0,0,0,0,0,0,0,0,0,0,0,0,0,0,0,0,0,0,0,0,0,0,0,0,0,0,0,0,0,0,0,0,0,0,0,0,0,0,0,0,0,0,0,0,0,0,0,0,0,0,0,0,0,0,0,0,0,0,0,0,0,0,0,0,0,0,0],\"x_values\":[5.330951399777972,4.644955912761866,2.912013354931537,5.638030156671741,4.67294528936352,2.2838703826036926,4.115011832844031,1.4642143868473343,2.8261266604632835,1.2303888231487274,1.6843467600580948,1.729642897428503,3.612741310570761,2.915497516728186,1.5972998339052504,1.6566840402670797,2.1752749388605905,0.5242043735538475,0.22643283551750343,3.385258035314103,2.9713183729407873,3.4579110483414106,2.621417775360325,3.093687510975277,1.6155802557479173,3.0926231558600965,2.3550943802554927,1.0613403293708672,0.834991043715043,3.299064268622777,1.02124269686977,1.5556288656042,2.260656738510413,2.0978778988525058,1.0949863939927538,5.372619721737124,6.21719170222549,3.9141043926855867,0.9857849061992126,1.3012019677565572,0.5640680533075828,1.3978040331133763,1.93754724359542,2.166040126643418,0.3666125303731929,3.423710739969621,2.4369451302931004,-0.1597504645641021,0.11680758449613135,0.6258409428089381,1.3767977778537828,0.24479779507340882,0.23026223920213904,2.692607342523555,1.5416255679630877,0.8976386217018575,0.5237458923081426,1.50158481644018,0.294197102973448,1.1935207843560447,-0.02509837356889874,0.9701051429952638,1.4078120562799725,4.454395342207803,4.745465106589357,1.4924683589477836,0.5128274605389804,2.89731050739169,1.5502306956731626,2.5201279607177116,4.515139697722161,1.2434592862293739,1.2433523451122228,1.3950254615897675,0.6692328393280506,1.0271219540873413,1.708465349539136,1.6865169557929933,1.5978884119174652,1.2753016201443237,2.477783518594572,1.3846400435204902,2.5502506610328823,4.053677168739964,0.44644950473998046,1.1635289096553558,0.6545778324809182,1.0685163556623938,-0.02307181229213913,1.0057232111132053,1.776101059929063,0.3575452096792215,-0.6137981296043259,-0.18104112805561126,5.671348108720593,0.43664876776166617,1.1891617078000547,0.8878007904163238,1.0191114240321377,3.047590902974727,2.9517247449319197,1.2249799820166298,-0.2455777386813513,-0.4925336790859551,0.48377989704720575,-0.6070930121091878,0.7437562170799233,1.4156378470386513,1.0552219544994328,2.30011037456992,2.1943934654671176,1.6847571369788,1.7371428595265164,0.8362463092527979,-0.38182340949905375,-0.028984438662752497,1.1452324255810211],\"y_values\":[0.6976111637351402,0.8564244896667639,0.724921738433249,-1.9122588377068686,0.8598009333332198,0.13687262879187417,3.089475764525391,0.3877754242871221,0.5754628790492111,-0.38450557579163863,0.7137036674691603,0.584997112000507,0.8368614374708371,0.11026110575957762,2.4961283943889745,-0.6334859233658652,0.3809097134744387,0.4860619667850333,1.2155323894603836,-1.9375114778354818,-0.2260952117243705,0.9158559404106124,-0.7814238458181191,-0.1148297176752464,0.12535124047374274,-0.7707439256238999,0.018008191585950566,-0.9177112981962187,-0.42919001698800024,-0.7089120149298076,-0.1951721129806238,0.0037447786274481085,-0.5988893194084106,-0.6808601567558065,0.5181208189688395,4.151557549709712,4.94468831555085,1.3548224429256608,1.2807549473552786,2.157742481525952,0.5600043041043585,1.6717580157223597,1.3209112291380567,1.3531739784691443,1.727214648819591,0.47013199769316183,-1.1079015062922335,2.5874635988847325,-0.49134204661543707,0.8665742486333932,2.0329454132147577,0.8638078328181954,0.8098864754263269,-0.5436561776230302,-0.8569059167860461,-0.49425927963532557,-0.326907510562287,-0.406542818809527,-0.06775135017849465,-0.07271435940222575,-0.004557737827798598,0.5659329363592088,-0.7964469053395973,-1.1106679043628493,-1.1094477466873511,-1.8942366500477197,-1.9635522300263257,0.49955325673812845,-1.49840982035056,-0.7081838241959717,-1.1993076596268113,-1.1927246810885566,-0.6683920731806992,-0.016459413589116182,-0.4188722032530015,0.32610118432787993,-1.3470585522529148,-2.068179685619507,-0.11999832160410866,-1.1222985961660041,0.14046587671582017,-0.3061332382244008,-0.8378994634152035,-0.5385449076212384,-1.6610247744603903,-1.81486525522352,-1.518284284325703,-0.6736381284218166,-1.5278813832419063,0.7256154817954946,0.9177763960617425,-0.7514683021082648,0.08225354432194917,-0.4785179013330841,-0.4576554892794086,-0.9032733500368736,-0.3535571590246078,-0.4538471020126145,-0.026737734027888507,-0.239146861529393,-0.43664805331128764,0.22667987483451577,-1.7609593949087134,-0.7508028549162692,-1.3854082466462823,-0.34373224801354485,-1.105320638742116,-0.7800095001196666,-0.7550977795720579,0.027513720359067715,-2.148095686211642,-0.41604962057251255,-1.0453112750063405,0.18106470476756517,-1.0676877421438846,-0.5518080781610072,-1.0116860441623852]}},\"id\":\"e84e4fa6-e90d-4a27-a1c4-a38e3ae4a0aa\",\"type\":\"ColumnDataSource\"},{\"attributes\":{\"plot\":{\"id\":\"8e82fca6-f450-48a5-99fd-fa8258f23551\",\"subtype\":\"Chart\",\"type\":\"Plot\"},\"ticker\":{\"id\":\"e3341536-7bd4-4855-990a-5479d3d3346e\",\"type\":\"BasicTicker\"}},\"id\":\"43b66b44-d3f0-4f97-b0bb-6d90cbc6fde3\",\"type\":\"Grid\"},{\"attributes\":{\"legends\":[[\"0\",[{\"id\":\"63070415-9d10-4a2f-9f01-0161b175bd00\",\"type\":\"GlyphRenderer\"}]],[\"2\",[{\"id\":\"0ef3d0d4-14a9-4c49-bc16-4e59ae659f51\",\"type\":\"GlyphRenderer\"}]],[\"1\",[{\"id\":\"ddb70a78-307e-45eb-957d-be1323a6dd6d\",\"type\":\"GlyphRenderer\"}]],[\"3\",[{\"id\":\"24d9c996-6fda-4d03-ba75-c2c34d723ad0\",\"type\":\"GlyphRenderer\"}]]],\"plot\":{\"id\":\"9aa5f849-5b8c-4073-8e00-af6ebd0d1ec1\",\"subtype\":\"Chart\",\"type\":\"Plot\"}},\"id\":\"60924e64-7626-4f66-9de9-b442974c9362\",\"type\":\"Legend\"},{\"attributes\":{\"bottom_units\":\"screen\",\"fill_alpha\":{\"value\":0.5},\"fill_color\":{\"value\":\"lightgrey\"},\"left_units\":\"screen\",\"level\":\"overlay\",\"line_alpha\":{\"value\":1.0},\"line_color\":{\"value\":\"black\"},\"line_dash\":[4,4],\"line_width\":{\"value\":2},\"plot\":null,\"render_mode\":\"css\",\"right_units\":\"screen\",\"top_units\":\"screen\"},\"id\":\"f84eaa4b-86bf-4a2d-a841-0cba0c874d7f\",\"type\":\"BoxAnnotation\"},{\"attributes\":{\"data_source\":{\"id\":\"a318a316-0c69-421d-a681-9c14c9942884\",\"type\":\"ColumnDataSource\"},\"glyph\":{\"id\":\"bae17a57-f182-40eb-8847-c8ae701252a9\",\"type\":\"Circle\"},\"hover_glyph\":null,\"nonselection_glyph\":null,\"selection_glyph\":null},\"id\":\"98e66068-3901-40ea-8a77-906cde93b2b2\",\"type\":\"GlyphRenderer\"},{\"attributes\":{\"plot\":{\"id\":\"a4cf4327-8452-47a3-b4e2-dc5cd869859d\",\"subtype\":\"Chart\",\"type\":\"Plot\"}},\"id\":\"3f89f420-d69f-438e-949f-a14d0b111559\",\"type\":\"ResetTool\"},{\"attributes\":{\"callback\":null,\"column_names\":[\"x_values\",\"y_values\"],\"data\":{\"chart_index\":[{\"cluster\":3},{\"cluster\":3},{\"cluster\":3},{\"cluster\":3},{\"cluster\":3},{\"cluster\":3},{\"cluster\":3},{\"cluster\":3},{\"cluster\":3},{\"cluster\":3},{\"cluster\":3},{\"cluster\":3},{\"cluster\":3},{\"cluster\":3},{\"cluster\":3},{\"cluster\":3},{\"cluster\":3},{\"cluster\":3},{\"cluster\":3},{\"cluster\":3},{\"cluster\":3},{\"cluster\":3},{\"cluster\":3},{\"cluster\":3},{\"cluster\":3},{\"cluster\":3},{\"cluster\":3},{\"cluster\":3},{\"cluster\":3},{\"cluster\":3},{\"cluster\":3},{\"cluster\":3},{\"cluster\":3},{\"cluster\":3},{\"cluster\":3},{\"cluster\":3},{\"cluster\":3},{\"cluster\":3},{\"cluster\":3},{\"cluster\":3},{\"cluster\":3},{\"cluster\":3},{\"cluster\":3},{\"cluster\":3},{\"cluster\":3},{\"cluster\":3},{\"cluster\":3},{\"cluster\":3},{\"cluster\":3},{\"cluster\":3}],\"cluster\":[3,3,3,3,3,3,3,3,3,3,3,3,3,3,3,3,3,3,3,3,3,3,3,3,3,3,3,3,3,3,3,3,3,3,3,3,3,3,3,3,3,3,3,3,3,3,3,3,3,3],\"x_values\":[-1.163250057004872,-2.010011088774072,-2.010011088774072,-2.010011088774072,-2.010011088774072,-0.9821021745865856,-1.0261554137660494,-0.17348049542576272,-1.170134293035516,-0.35049549237499733,0.3924271874083092,-0.4623729483120138,1.0508732334731101,-1.2447900082122765,-2.010011088774072,-2.010011088774072,-2.010011088774072,-0.5601185150780386,-1.3602950769763211,0.7362999075715634,-1.372326854972576,-1.4921923124540601,-0.479568927650481,0.04972215848515454,-2.010011088774072,-1.5685373884499594,-0.6855899878017336,-1.5685373884499594,-2.010011088774072,-1.1852219001445918,-1.2138273055305855,-0.4358420087612356,-2.010011088774072,0.610880991210373,2.288562644636488,-1.3572158541715924,-1.3693608817921037,-0.479568927650481,-1.4655850235522414,-1.7549373952534735,-0.989716314691678,-2.010011088774072,-2.010011088774072,-1.376239028186082,-1.3574847553793241,-0.3893845261463805,-1.0534847380718277,-0.6708741977909298,-2.010011088774072,-1.4741718173510907],\"y_values\":[0.2590971058350285,-1.3670191905480804,-1.3670191905480804,1.9970693807761255,-1.3670191905480804,-1.3670191905480804,-1.3670191905480804,1.1896881236583163,-1.3670191905480804,1.1030931920061222,-1.3670191905480804,-1.3670191905480804,-1.3670191905480804,0.7635702379572502,-1.3670191905480804,0.7635702379572502,0.7401571673143346,-1.3670191905480804,-1.3670191905480804,0.4084719998730282,-1.3670191905480804,-1.3670191905480804,-1.3670191905480804,0.05672614106302232,1.123280141471137,1.176393478153705,-0.13783298179500525,1.0913532269580701,1.0523245674853254,-1.3670191905480804,-0.2586200658921282,-1.3670191905480804,-0.2280229252591981,-1.3670191905480804,0.5497555742706565,-1.3670191905480804,-0.475144546057477,1.24864936448729,0.14881518546361705,1.4737667141256936,-0.6568227143796369,0.627982249733134,0.5947322257284474,-0.19062011959421699,-1.3670191905480804,0.30019164481440774,-0.7975210579036393,-0.7975210579036393,0.8372717889934671,0.4377153841858463]}},\"id\":\"c7410dca-d778-4fd6-813a-02047086716f\",\"type\":\"ColumnDataSource\"},{\"attributes\":{\"data_source\":{\"id\":\"1b7a4947-65f9-4d20-acf2-5f199f4b8aad\",\"type\":\"ColumnDataSource\"},\"glyph\":{\"id\":\"04bf47e4-5f7d-4f5f-bf2e-2ac055c09c4e\",\"type\":\"Circle\"},\"hover_glyph\":null,\"nonselection_glyph\":null,\"selection_glyph\":null},\"id\":\"56d699a1-90ae-480c-8ec4-6932f9bcd7ef\",\"type\":\"GlyphRenderer\"},{\"attributes\":{\"fill_alpha\":{\"value\":0.7},\"fill_color\":{\"value\":\"#f22c40\"},\"line_color\":{\"value\":\"#f22c40\"},\"size\":{\"units\":\"screen\",\"value\":8},\"x\":{\"field\":\"x_values\"},\"y\":{\"field\":\"y_values\"}},\"id\":\"34a95965-699d-4c8a-9420-1eec30432691\",\"type\":\"Circle\"}],\"root_ids\":[\"3e564601-0504-4937-81bc-40fa5433e628\",\"8e82fca6-f450-48a5-99fd-fa8258f23551\",\"a4cf4327-8452-47a3-b4e2-dc5cd869859d\",\"9aa5f849-5b8c-4073-8e00-af6ebd0d1ec1\"]},\"title\":\"Bokeh Application\",\"version\":\"0.11.1\"}};\n",
       "            var render_items = [{\"docid\":\"d879d77a-fb3f-4049-9b61-34dfc9efea42\",\"elementid\":\"b737c9b6-b093-41ec-ac0c-d510c2d4458d\",\"modelid\":\"9aa5f849-5b8c-4073-8e00-af6ebd0d1ec1\",\"notebook_comms_target\":\"96bef6ef-ec7f-4b43-81f0-b0abea68d527\"}];\n",
       "            \n",
       "            Bokeh.embed.embed_items(docs_json, render_items);\n",
       "        });\n",
       "      },\n",
       "      function(Bokeh) {\n",
       "      }\n",
       "    ];\n",
       "  \n",
       "    function run_inline_js() {\n",
       "      for (var i = 0; i < inline_js.length; i++) {\n",
       "        inline_js[i](window.Bokeh);\n",
       "      }\n",
       "    }\n",
       "  \n",
       "    if (window._bokeh_is_loading === 0) {\n",
       "      console.log(\"Bokeh: BokehJS loaded, going straight to plotting\");\n",
       "      run_inline_js();\n",
       "    } else {\n",
       "      load_libs(js_urls, function() {\n",
       "        console.log(\"Bokeh: BokehJS plotting callback run at\", now());\n",
       "        run_inline_js();\n",
       "      });\n",
       "    }\n",
       "  }(this));\n",
       "</script>"
      ]
     },
     "metadata": {},
     "output_type": "display_data"
    },
    {
     "data": {
      "text/html": [
       "<p><code>&lt;Bokeh Notebook handle for <strong>In[72]</strong>&gt;</code></p>"
      ],
      "text/plain": [
       "<bokeh.io._CommsHandle at 0x7f2519274910>"
      ]
     },
     "execution_count": 72,
     "metadata": {},
     "output_type": "execute_result"
    }
   ],
   "source": [
    "p1 = Scatter(df2, x='offensive', y='defensive', color='cluster',\n",
    "            title=\"Player attitude\", xlabel=\"offensive attitude\",\n",
    "            ylabel=\"defensive attitude\",legend=\"top_right\")\n",
    "\n",
    "show(p1)"
   ]
  },
  {
   "cell_type": "markdown",
   "metadata": {},
   "source": [
    "### It seems that the red cluster lacks deensive attitude, while the green one, lacks offensive attitude. Things will become pretty clear when calculating the cluster centroinds as averages:"
   ]
  },
  {
   "cell_type": "code",
   "execution_count": 73,
   "metadata": {
    "collapsed": false
   },
   "outputs": [
    {
     "data": {
      "text/html": [
       "<div>\n",
       "<table border=\"1\" class=\"dataframe\">\n",
       "  <thead>\n",
       "    <tr style=\"text-align: right;\">\n",
       "      <th></th>\n",
       "      <th>Goals</th>\n",
       "      <th>Assists</th>\n",
       "      <th>Solo runs into penalty area</th>\n",
       "      <th>Deliveries into penalty area</th>\n",
       "      <th>Total attempts</th>\n",
       "      <th>On target</th>\n",
       "      <th>Red cards</th>\n",
       "      <th>Yellow cards</th>\n",
       "      <th>Fouls committed</th>\n",
       "      <th>Tackles</th>\n",
       "      <th>Blocks</th>\n",
       "      <th>Cluster</th>\n",
       "    </tr>\n",
       "    <tr>\n",
       "      <th>Name</th>\n",
       "      <th></th>\n",
       "      <th></th>\n",
       "      <th></th>\n",
       "      <th></th>\n",
       "      <th></th>\n",
       "      <th></th>\n",
       "      <th></th>\n",
       "      <th></th>\n",
       "      <th></th>\n",
       "      <th></th>\n",
       "      <th></th>\n",
       "      <th></th>\n",
       "    </tr>\n",
       "  </thead>\n",
       "  <tbody>\n",
       "    <tr>\n",
       "      <th>Antoine Griezmann</th>\n",
       "      <td>4.334542</td>\n",
       "      <td>1.349193</td>\n",
       "      <td>0.829062</td>\n",
       "      <td>0.907426</td>\n",
       "      <td>2.235545</td>\n",
       "      <td>3.320213</td>\n",
       "      <td>-0.075378</td>\n",
       "      <td>-0.645252</td>\n",
       "      <td>-0.652384</td>\n",
       "      <td>1.158730</td>\n",
       "      <td>-0.333227</td>\n",
       "      <td>0</td>\n",
       "    </tr>\n",
       "    <tr>\n",
       "      <th>Cristiano Ronaldo</th>\n",
       "      <td>1.692633</td>\n",
       "      <td>1.923765</td>\n",
       "      <td>0.414591</td>\n",
       "      <td>-0.158653</td>\n",
       "      <td>4.078032</td>\n",
       "      <td>2.359938</td>\n",
       "      <td>-0.075378</td>\n",
       "      <td>-0.222420</td>\n",
       "      <td>-0.195612</td>\n",
       "      <td>-0.688291</td>\n",
       "      <td>-0.678728</td>\n",
       "      <td>0</td>\n",
       "    </tr>\n",
       "    <tr>\n",
       "      <th>Olivier Giroud</th>\n",
       "      <td>2.474527</td>\n",
       "      <td>1.724924</td>\n",
       "      <td>0.443018</td>\n",
       "      <td>-0.484618</td>\n",
       "      <td>1.274664</td>\n",
       "      <td>1.396974</td>\n",
       "      <td>-0.075378</td>\n",
       "      <td>-0.065713</td>\n",
       "      <td>-0.166383</td>\n",
       "      <td>-0.688291</td>\n",
       "      <td>-0.678728</td>\n",
       "      <td>0</td>\n",
       "    </tr>\n",
       "  </tbody>\n",
       "</table>\n",
       "</div>"
      ],
      "text/plain": [
       "                      Goals   Assists  Solo runs into penalty area  \\\n",
       "Name                                                                 \n",
       "Antoine Griezmann  4.334542  1.349193                     0.829062   \n",
       "Cristiano Ronaldo  1.692633  1.923765                     0.414591   \n",
       "Olivier Giroud     2.474527  1.724924                     0.443018   \n",
       "\n",
       "                   Deliveries into penalty area  Total attempts  On target  \\\n",
       "Name                                                                         \n",
       "Antoine Griezmann                      0.907426        2.235545   3.320213   \n",
       "Cristiano Ronaldo                     -0.158653        4.078032   2.359938   \n",
       "Olivier Giroud                        -0.484618        1.274664   1.396974   \n",
       "\n",
       "                   Red cards  Yellow cards  Fouls committed   Tackles  \\\n",
       "Name                                                                    \n",
       "Antoine Griezmann  -0.075378     -0.645252        -0.652384  1.158730   \n",
       "Cristiano Ronaldo  -0.075378     -0.222420        -0.195612 -0.688291   \n",
       "Olivier Giroud     -0.075378     -0.065713        -0.166383 -0.688291   \n",
       "\n",
       "                     Blocks  Cluster  \n",
       "Name                                  \n",
       "Antoine Griezmann -0.333227        0  \n",
       "Cristiano Ronaldo -0.678728        0  \n",
       "Olivier Giroud    -0.678728        0  "
      ]
     },
     "execution_count": 73,
     "metadata": {},
     "output_type": "execute_result"
    }
   ],
   "source": [
    "df1['Cluster'] = y\n",
    "df1.head(3)"
   ]
  },
  {
   "cell_type": "code",
   "execution_count": 74,
   "metadata": {
    "collapsed": false
   },
   "outputs": [],
   "source": [
    "framelist = []\n",
    "for cl in set(y):\n",
    "    frame = df1[df1['Cluster'] == cl]\n",
    "    name = str(cl)\n",
    "    data = frame.mean(axis=0).to_frame(name=name)\n",
    "    framelist.append(data)\n",
    "    "
   ]
  },
  {
   "cell_type": "code",
   "execution_count": 75,
   "metadata": {
    "collapsed": false
   },
   "outputs": [],
   "source": [
    "centroidsDf = pd.concat(framelist,axis=1)"
   ]
  },
  {
   "cell_type": "code",
   "execution_count": 76,
   "metadata": {
    "collapsed": false
   },
   "outputs": [
    {
     "data": {
      "text/html": [
       "<div>\n",
       "<table border=\"1\" class=\"dataframe\">\n",
       "  <thead>\n",
       "    <tr style=\"text-align: right;\">\n",
       "      <th></th>\n",
       "      <th>0</th>\n",
       "      <th>1</th>\n",
       "      <th>2</th>\n",
       "      <th>3</th>\n",
       "    </tr>\n",
       "  </thead>\n",
       "  <tbody>\n",
       "    <tr>\n",
       "      <th>Goals</th>\n",
       "      <td>0.753128</td>\n",
       "      <td>-0.362210</td>\n",
       "      <td>-0.355917</td>\n",
       "      <td>-0.417093</td>\n",
       "    </tr>\n",
       "    <tr>\n",
       "      <th>Assists</th>\n",
       "      <td>0.395850</td>\n",
       "      <td>-0.334341</td>\n",
       "      <td>0.109811</td>\n",
       "      <td>-0.342082</td>\n",
       "    </tr>\n",
       "    <tr>\n",
       "      <th>Solo runs into penalty area</th>\n",
       "      <td>0.581985</td>\n",
       "      <td>-0.447813</td>\n",
       "      <td>0.069149</td>\n",
       "      <td>-0.462467</td>\n",
       "    </tr>\n",
       "    <tr>\n",
       "      <th>Deliveries into penalty area</th>\n",
       "      <td>0.631561</td>\n",
       "      <td>-0.376981</td>\n",
       "      <td>-0.127531</td>\n",
       "      <td>-0.442118</td>\n",
       "    </tr>\n",
       "    <tr>\n",
       "      <th>Total attempts</th>\n",
       "      <td>0.910037</td>\n",
       "      <td>-0.513629</td>\n",
       "      <td>-0.529223</td>\n",
       "      <td>-0.185125</td>\n",
       "    </tr>\n",
       "    <tr>\n",
       "      <th>On target</th>\n",
       "      <td>0.879822</td>\n",
       "      <td>-0.476286</td>\n",
       "      <td>-0.546234</td>\n",
       "      <td>-0.172550</td>\n",
       "    </tr>\n",
       "    <tr>\n",
       "      <th>Red cards</th>\n",
       "      <td>-0.075378</td>\n",
       "      <td>-0.075378</td>\n",
       "      <td>-0.075378</td>\n",
       "      <td>0.458297</td>\n",
       "    </tr>\n",
       "    <tr>\n",
       "      <th>Yellow cards</th>\n",
       "      <td>-0.245679</td>\n",
       "      <td>-0.256392</td>\n",
       "      <td>-0.106207</td>\n",
       "      <td>1.308516</td>\n",
       "    </tr>\n",
       "    <tr>\n",
       "      <th>Fouls committed</th>\n",
       "      <td>-0.153558</td>\n",
       "      <td>-0.425222</td>\n",
       "      <td>0.054973</td>\n",
       "      <td>1.229361</td>\n",
       "    </tr>\n",
       "    <tr>\n",
       "      <th>Tackles</th>\n",
       "      <td>-0.089131</td>\n",
       "      <td>-0.299624</td>\n",
       "      <td>0.850994</td>\n",
       "      <td>-0.396767</td>\n",
       "    </tr>\n",
       "    <tr>\n",
       "      <th>Blocks</th>\n",
       "      <td>-0.345199</td>\n",
       "      <td>0.461545</td>\n",
       "      <td>-0.242723</td>\n",
       "      <td>0.137990</td>\n",
       "    </tr>\n",
       "    <tr>\n",
       "      <th>Cluster</th>\n",
       "      <td>0.000000</td>\n",
       "      <td>1.000000</td>\n",
       "      <td>2.000000</td>\n",
       "      <td>3.000000</td>\n",
       "    </tr>\n",
       "  </tbody>\n",
       "</table>\n",
       "</div>"
      ],
      "text/plain": [
       "                                     0         1         2         3\n",
       "Goals                         0.753128 -0.362210 -0.355917 -0.417093\n",
       "Assists                       0.395850 -0.334341  0.109811 -0.342082\n",
       "Solo runs into penalty area   0.581985 -0.447813  0.069149 -0.462467\n",
       "Deliveries into penalty area  0.631561 -0.376981 -0.127531 -0.442118\n",
       "Total attempts                0.910037 -0.513629 -0.529223 -0.185125\n",
       "On target                     0.879822 -0.476286 -0.546234 -0.172550\n",
       "Red cards                    -0.075378 -0.075378 -0.075378  0.458297\n",
       "Yellow cards                 -0.245679 -0.256392 -0.106207  1.308516\n",
       "Fouls committed              -0.153558 -0.425222  0.054973  1.229361\n",
       "Tackles                      -0.089131 -0.299624  0.850994 -0.396767\n",
       "Blocks                       -0.345199  0.461545 -0.242723  0.137990\n",
       "Cluster                       0.000000  1.000000  2.000000  3.000000"
      ]
     },
     "execution_count": 76,
     "metadata": {},
     "output_type": "execute_result"
    }
   ],
   "source": [
    "centroidsDf"
   ]
  },
  {
   "cell_type": "markdown",
   "metadata": {
    "collapsed": true
   },
   "source": [
    "### The cluser 0 is for gloal oriented players, largely overlapping the attacking role. The clusster 1 has a value that is greater than average only for blocks, they surely are the defenders. The cluster 2 consists of players with some assists, some tackles; they are more or less the midfielders. And finally, the misterious fourth role in a team is revealed: the bone braker, the only one with above average number of fouls, yellow and red cards and everything else, below average. Good to have in a team, it seems."
   ]
  },
  {
   "cell_type": "markdown",
   "metadata": {},
   "source": [
    "Any comment is welcome: cvasii23 at gmail dot com"
   ]
  },
  {
   "cell_type": "code",
   "execution_count": null,
   "metadata": {
    "collapsed": true
   },
   "outputs": [],
   "source": []
  }
 ],
 "metadata": {
  "kernelspec": {
   "display_name": "Python 2",
   "language": "python",
   "name": "python2"
  },
  "language_info": {
   "codemirror_mode": {
    "name": "ipython",
    "version": 2
   },
   "file_extension": ".py",
   "mimetype": "text/x-python",
   "name": "python",
   "nbconvert_exporter": "python",
   "pygments_lexer": "ipython2",
   "version": "2.7.12"
  }
 },
 "nbformat": 4,
 "nbformat_minor": 0
}
