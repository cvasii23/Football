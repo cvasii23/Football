{
 "cells": [
  {
   "cell_type": "code",
   "execution_count": 221,
   "metadata": {
    "collapsed": false
   },
   "outputs": [],
   "source": [
    "import numpy as np\n",
    "import pandas as pd\n",
    "from __future__ import division\n",
    "import matplotlib.pyplot as plt\n",
    "%matplotlib inline"
   ]
  },
  {
   "cell_type": "code",
   "execution_count": 222,
   "metadata": {
    "collapsed": true
   },
   "outputs": [],
   "source": [
    "df = pd.read_csv('jucatori.csv')"
   ]
  },
  {
   "cell_type": "code",
   "execution_count": 223,
   "metadata": {
    "collapsed": false
   },
   "outputs": [
    {
     "data": {
      "text/html": [
       "<div>\n",
       "<table border=\"1\" class=\"dataframe\">\n",
       "  <thead>\n",
       "    <tr style=\"text-align: right;\">\n",
       "      <th></th>\n",
       "      <th>Name</th>\n",
       "      <th>Goals</th>\n",
       "      <th>Assists</th>\n",
       "      <th>Minutes</th>\n",
       "      <th>Solo runs into attacking third</th>\n",
       "      <th>Solo runs into key area</th>\n",
       "      <th>Solo runs into penalty area</th>\n",
       "      <th>Deliveries into attacking third</th>\n",
       "      <th>Deliveries into a key area</th>\n",
       "      <th>Deliveries into penalty area</th>\n",
       "      <th>Total attempts</th>\n",
       "      <th>On target</th>\n",
       "      <th>Red cards</th>\n",
       "      <th>Yellow cards</th>\n",
       "      <th>Fouls committed</th>\n",
       "      <th>Tackles</th>\n",
       "      <th>Blocks</th>\n",
       "    </tr>\n",
       "  </thead>\n",
       "  <tbody>\n",
       "    <tr>\n",
       "      <th>0</th>\n",
       "      <td>Antoine Griezmann</td>\n",
       "      <td>6</td>\n",
       "      <td>2</td>\n",
       "      <td>555</td>\n",
       "      <td>11</td>\n",
       "      <td>11</td>\n",
       "      <td>5</td>\n",
       "      <td>21</td>\n",
       "      <td>17</td>\n",
       "      <td>11</td>\n",
       "      <td>26</td>\n",
       "      <td>14</td>\n",
       "      <td>0</td>\n",
       "      <td>0</td>\n",
       "      <td>4</td>\n",
       "      <td>5</td>\n",
       "      <td>1</td>\n",
       "    </tr>\n",
       "    <tr>\n",
       "      <th>1</th>\n",
       "      <td>Cristiano Ronaldo</td>\n",
       "      <td>3</td>\n",
       "      <td>3</td>\n",
       "      <td>625</td>\n",
       "      <td>18</td>\n",
       "      <td>11</td>\n",
       "      <td>4</td>\n",
       "      <td>20</td>\n",
       "      <td>14</td>\n",
       "      <td>5</td>\n",
       "      <td>46</td>\n",
       "      <td>12</td>\n",
       "      <td>0</td>\n",
       "      <td>1</td>\n",
       "      <td>8</td>\n",
       "      <td>0</td>\n",
       "      <td>0</td>\n",
       "    </tr>\n",
       "    <tr>\n",
       "      <th>2</th>\n",
       "      <td>Olivier Giroud</td>\n",
       "      <td>3</td>\n",
       "      <td>2</td>\n",
       "      <td>456</td>\n",
       "      <td>3</td>\n",
       "      <td>0</td>\n",
       "      <td>3</td>\n",
       "      <td>8</td>\n",
       "      <td>6</td>\n",
       "      <td>2</td>\n",
       "      <td>15</td>\n",
       "      <td>6</td>\n",
       "      <td>0</td>\n",
       "      <td>1</td>\n",
       "      <td>6</td>\n",
       "      <td>0</td>\n",
       "      <td>0</td>\n",
       "    </tr>\n",
       "    <tr>\n",
       "      <th>3</th>\n",
       "      <td>Dimitri Payet</td>\n",
       "      <td>3</td>\n",
       "      <td>2</td>\n",
       "      <td>506</td>\n",
       "      <td>22</td>\n",
       "      <td>17</td>\n",
       "      <td>12</td>\n",
       "      <td>32</td>\n",
       "      <td>24</td>\n",
       "      <td>32</td>\n",
       "      <td>20</td>\n",
       "      <td>7</td>\n",
       "      <td>0</td>\n",
       "      <td>0</td>\n",
       "      <td>2</td>\n",
       "      <td>1</td>\n",
       "      <td>0</td>\n",
       "    </tr>\n",
       "    <tr>\n",
       "      <th>4</th>\n",
       "      <td>Gareth Bale</td>\n",
       "      <td>3</td>\n",
       "      <td>1</td>\n",
       "      <td>533</td>\n",
       "      <td>27</td>\n",
       "      <td>21</td>\n",
       "      <td>6</td>\n",
       "      <td>21</td>\n",
       "      <td>11</td>\n",
       "      <td>8</td>\n",
       "      <td>25</td>\n",
       "      <td>16</td>\n",
       "      <td>0</td>\n",
       "      <td>1</td>\n",
       "      <td>5</td>\n",
       "      <td>3</td>\n",
       "      <td>1</td>\n",
       "    </tr>\n",
       "  </tbody>\n",
       "</table>\n",
       "</div>"
      ],
      "text/plain": [
       "                Name  Goals  Assists  Minutes  Solo runs into attacking third  \\\n",
       "0  Antoine Griezmann      6        2      555                              11   \n",
       "1  Cristiano Ronaldo      3        3      625                              18   \n",
       "2     Olivier Giroud      3        2      456                               3   \n",
       "3      Dimitri Payet      3        2      506                              22   \n",
       "4        Gareth Bale      3        1      533                              27   \n",
       "\n",
       "   Solo runs into key area  Solo runs into penalty area  \\\n",
       "0                       11                            5   \n",
       "1                       11                            4   \n",
       "2                        0                            3   \n",
       "3                       17                           12   \n",
       "4                       21                            6   \n",
       "\n",
       "   Deliveries into attacking third  Deliveries into a key area  \\\n",
       "0                               21                          17   \n",
       "1                               20                          14   \n",
       "2                                8                           6   \n",
       "3                               32                          24   \n",
       "4                               21                          11   \n",
       "\n",
       "   Deliveries into penalty area  Total attempts  On target  Red cards  \\\n",
       "0                            11              26         14          0   \n",
       "1                             5              46         12          0   \n",
       "2                             2              15          6          0   \n",
       "3                            32              20          7          0   \n",
       "4                             8              25         16          0   \n",
       "\n",
       "   Yellow cards  Fouls committed  Tackles  Blocks  \n",
       "0             0                4        5       1  \n",
       "1             1                8        0       0  \n",
       "2             1                6        0       0  \n",
       "3             0                2        1       0  \n",
       "4             1                5        3       1  "
      ]
     },
     "execution_count": 223,
     "metadata": {},
     "output_type": "execute_result"
    }
   ],
   "source": [
    "df.head()"
   ]
  },
  {
   "cell_type": "code",
   "execution_count": 224,
   "metadata": {
    "collapsed": false
   },
   "outputs": [],
   "source": [
    "df.drop(['Solo runs into attacking third','Solo runs into key area',\\\n",
    "'Deliveries into attacking third','Deliveries into a key area'],axis=1,inplace=True)"
   ]
  },
  {
   "cell_type": "code",
   "execution_count": 225,
   "metadata": {
    "collapsed": false
   },
   "outputs": [
    {
     "data": {
      "text/html": [
       "<div>\n",
       "<table border=\"1\" class=\"dataframe\">\n",
       "  <thead>\n",
       "    <tr style=\"text-align: right;\">\n",
       "      <th></th>\n",
       "      <th>Name</th>\n",
       "      <th>Goals</th>\n",
       "      <th>Assists</th>\n",
       "      <th>Minutes</th>\n",
       "      <th>Solo runs into penalty area</th>\n",
       "      <th>Deliveries into penalty area</th>\n",
       "      <th>Total attempts</th>\n",
       "      <th>On target</th>\n",
       "      <th>Red cards</th>\n",
       "      <th>Yellow cards</th>\n",
       "      <th>Fouls committed</th>\n",
       "      <th>Tackles</th>\n",
       "      <th>Blocks</th>\n",
       "    </tr>\n",
       "  </thead>\n",
       "  <tbody>\n",
       "    <tr>\n",
       "      <th>0</th>\n",
       "      <td>Antoine Griezmann</td>\n",
       "      <td>6</td>\n",
       "      <td>2</td>\n",
       "      <td>555</td>\n",
       "      <td>5</td>\n",
       "      <td>11</td>\n",
       "      <td>26</td>\n",
       "      <td>14</td>\n",
       "      <td>0</td>\n",
       "      <td>0</td>\n",
       "      <td>4</td>\n",
       "      <td>5</td>\n",
       "      <td>1</td>\n",
       "    </tr>\n",
       "    <tr>\n",
       "      <th>1</th>\n",
       "      <td>Cristiano Ronaldo</td>\n",
       "      <td>3</td>\n",
       "      <td>3</td>\n",
       "      <td>625</td>\n",
       "      <td>4</td>\n",
       "      <td>5</td>\n",
       "      <td>46</td>\n",
       "      <td>12</td>\n",
       "      <td>0</td>\n",
       "      <td>1</td>\n",
       "      <td>8</td>\n",
       "      <td>0</td>\n",
       "      <td>0</td>\n",
       "    </tr>\n",
       "    <tr>\n",
       "      <th>2</th>\n",
       "      <td>Olivier Giroud</td>\n",
       "      <td>3</td>\n",
       "      <td>2</td>\n",
       "      <td>456</td>\n",
       "      <td>3</td>\n",
       "      <td>2</td>\n",
       "      <td>15</td>\n",
       "      <td>6</td>\n",
       "      <td>0</td>\n",
       "      <td>1</td>\n",
       "      <td>6</td>\n",
       "      <td>0</td>\n",
       "      <td>0</td>\n",
       "    </tr>\n",
       "    <tr>\n",
       "      <th>3</th>\n",
       "      <td>Dimitri Payet</td>\n",
       "      <td>3</td>\n",
       "      <td>2</td>\n",
       "      <td>506</td>\n",
       "      <td>12</td>\n",
       "      <td>32</td>\n",
       "      <td>20</td>\n",
       "      <td>7</td>\n",
       "      <td>0</td>\n",
       "      <td>0</td>\n",
       "      <td>2</td>\n",
       "      <td>1</td>\n",
       "      <td>0</td>\n",
       "    </tr>\n",
       "    <tr>\n",
       "      <th>4</th>\n",
       "      <td>Gareth Bale</td>\n",
       "      <td>3</td>\n",
       "      <td>1</td>\n",
       "      <td>533</td>\n",
       "      <td>6</td>\n",
       "      <td>8</td>\n",
       "      <td>25</td>\n",
       "      <td>16</td>\n",
       "      <td>0</td>\n",
       "      <td>1</td>\n",
       "      <td>5</td>\n",
       "      <td>3</td>\n",
       "      <td>1</td>\n",
       "    </tr>\n",
       "  </tbody>\n",
       "</table>\n",
       "</div>"
      ],
      "text/plain": [
       "                Name  Goals  Assists  Minutes  Solo runs into penalty area  \\\n",
       "0  Antoine Griezmann      6        2      555                            5   \n",
       "1  Cristiano Ronaldo      3        3      625                            4   \n",
       "2     Olivier Giroud      3        2      456                            3   \n",
       "3      Dimitri Payet      3        2      506                           12   \n",
       "4        Gareth Bale      3        1      533                            6   \n",
       "\n",
       "   Deliveries into penalty area  Total attempts  On target  Red cards  \\\n",
       "0                            11              26         14          0   \n",
       "1                             5              46         12          0   \n",
       "2                             2              15          6          0   \n",
       "3                            32              20          7          0   \n",
       "4                             8              25         16          0   \n",
       "\n",
       "   Yellow cards  Fouls committed  Tackles  Blocks  \n",
       "0             0                4        5       1  \n",
       "1             1                8        0       0  \n",
       "2             1                6        0       0  \n",
       "3             0                2        1       0  \n",
       "4             1                5        3       1  "
      ]
     },
     "execution_count": 225,
     "metadata": {},
     "output_type": "execute_result"
    }
   ],
   "source": [
    "df.head()"
   ]
  },
  {
   "cell_type": "code",
   "execution_count": 226,
   "metadata": {
    "collapsed": false
   },
   "outputs": [],
   "source": [
    "df.set_index('Name',inplace=True)"
   ]
  },
  {
   "cell_type": "code",
   "execution_count": 227,
   "metadata": {
    "collapsed": false
   },
   "outputs": [],
   "source": [
    "coloane = df.columns.tolist()\n",
    "coloane.remove('Minutes')"
   ]
  },
  {
   "cell_type": "code",
   "execution_count": 228,
   "metadata": {
    "collapsed": true
   },
   "outputs": [],
   "source": [
    "for col in coloane:\n",
    "    df[col] = df[col] / df['Minutes']\n",
    "\n",
    "df.drop('Minutes',axis=1,inplace=True)"
   ]
  },
  {
   "cell_type": "code",
   "execution_count": 229,
   "metadata": {
    "collapsed": false
   },
   "outputs": [
    {
     "data": {
      "text/html": [
       "<div>\n",
       "<table border=\"1\" class=\"dataframe\">\n",
       "  <thead>\n",
       "    <tr style=\"text-align: right;\">\n",
       "      <th></th>\n",
       "      <th>Goals</th>\n",
       "      <th>Assists</th>\n",
       "      <th>Solo runs into penalty area</th>\n",
       "      <th>Deliveries into penalty area</th>\n",
       "      <th>Total attempts</th>\n",
       "      <th>On target</th>\n",
       "      <th>Red cards</th>\n",
       "      <th>Yellow cards</th>\n",
       "      <th>Fouls committed</th>\n",
       "      <th>Tackles</th>\n",
       "      <th>Blocks</th>\n",
       "    </tr>\n",
       "    <tr>\n",
       "      <th>Name</th>\n",
       "      <th></th>\n",
       "      <th></th>\n",
       "      <th></th>\n",
       "      <th></th>\n",
       "      <th></th>\n",
       "      <th></th>\n",
       "      <th></th>\n",
       "      <th></th>\n",
       "      <th></th>\n",
       "      <th></th>\n",
       "      <th></th>\n",
       "    </tr>\n",
       "  </thead>\n",
       "  <tbody>\n",
       "    <tr>\n",
       "      <th>Antoine Griezmann</th>\n",
       "      <td>0.010811</td>\n",
       "      <td>0.003604</td>\n",
       "      <td>0.009009</td>\n",
       "      <td>0.019820</td>\n",
       "      <td>0.046847</td>\n",
       "      <td>0.025225</td>\n",
       "      <td>0.0</td>\n",
       "      <td>0.000000</td>\n",
       "      <td>0.007207</td>\n",
       "      <td>0.009009</td>\n",
       "      <td>0.001802</td>\n",
       "    </tr>\n",
       "    <tr>\n",
       "      <th>Cristiano Ronaldo</th>\n",
       "      <td>0.004800</td>\n",
       "      <td>0.004800</td>\n",
       "      <td>0.006400</td>\n",
       "      <td>0.008000</td>\n",
       "      <td>0.073600</td>\n",
       "      <td>0.019200</td>\n",
       "      <td>0.0</td>\n",
       "      <td>0.001600</td>\n",
       "      <td>0.012800</td>\n",
       "      <td>0.000000</td>\n",
       "      <td>0.000000</td>\n",
       "    </tr>\n",
       "    <tr>\n",
       "      <th>Olivier Giroud</th>\n",
       "      <td>0.006579</td>\n",
       "      <td>0.004386</td>\n",
       "      <td>0.006579</td>\n",
       "      <td>0.004386</td>\n",
       "      <td>0.032895</td>\n",
       "      <td>0.013158</td>\n",
       "      <td>0.0</td>\n",
       "      <td>0.002193</td>\n",
       "      <td>0.013158</td>\n",
       "      <td>0.000000</td>\n",
       "      <td>0.000000</td>\n",
       "    </tr>\n",
       "    <tr>\n",
       "      <th>Dimitri Payet</th>\n",
       "      <td>0.005929</td>\n",
       "      <td>0.003953</td>\n",
       "      <td>0.023715</td>\n",
       "      <td>0.063241</td>\n",
       "      <td>0.039526</td>\n",
       "      <td>0.013834</td>\n",
       "      <td>0.0</td>\n",
       "      <td>0.000000</td>\n",
       "      <td>0.003953</td>\n",
       "      <td>0.001976</td>\n",
       "      <td>0.000000</td>\n",
       "    </tr>\n",
       "    <tr>\n",
       "      <th>Gareth Bale</th>\n",
       "      <td>0.005629</td>\n",
       "      <td>0.001876</td>\n",
       "      <td>0.011257</td>\n",
       "      <td>0.015009</td>\n",
       "      <td>0.046904</td>\n",
       "      <td>0.030019</td>\n",
       "      <td>0.0</td>\n",
       "      <td>0.001876</td>\n",
       "      <td>0.009381</td>\n",
       "      <td>0.005629</td>\n",
       "      <td>0.001876</td>\n",
       "    </tr>\n",
       "  </tbody>\n",
       "</table>\n",
       "</div>"
      ],
      "text/plain": [
       "                      Goals   Assists  Solo runs into penalty area  \\\n",
       "Name                                                                 \n",
       "Antoine Griezmann  0.010811  0.003604                     0.009009   \n",
       "Cristiano Ronaldo  0.004800  0.004800                     0.006400   \n",
       "Olivier Giroud     0.006579  0.004386                     0.006579   \n",
       "Dimitri Payet      0.005929  0.003953                     0.023715   \n",
       "Gareth Bale        0.005629  0.001876                     0.011257   \n",
       "\n",
       "                   Deliveries into penalty area  Total attempts  On target  \\\n",
       "Name                                                                         \n",
       "Antoine Griezmann                      0.019820        0.046847   0.025225   \n",
       "Cristiano Ronaldo                      0.008000        0.073600   0.019200   \n",
       "Olivier Giroud                         0.004386        0.032895   0.013158   \n",
       "Dimitri Payet                          0.063241        0.039526   0.013834   \n",
       "Gareth Bale                            0.015009        0.046904   0.030019   \n",
       "\n",
       "                   Red cards  Yellow cards  Fouls committed   Tackles  \\\n",
       "Name                                                                    \n",
       "Antoine Griezmann        0.0      0.000000         0.007207  0.009009   \n",
       "Cristiano Ronaldo        0.0      0.001600         0.012800  0.000000   \n",
       "Olivier Giroud           0.0      0.002193         0.013158  0.000000   \n",
       "Dimitri Payet            0.0      0.000000         0.003953  0.001976   \n",
       "Gareth Bale              0.0      0.001876         0.009381  0.005629   \n",
       "\n",
       "                     Blocks  \n",
       "Name                         \n",
       "Antoine Griezmann  0.001802  \n",
       "Cristiano Ronaldo  0.000000  \n",
       "Olivier Giroud     0.000000  \n",
       "Dimitri Payet      0.000000  \n",
       "Gareth Bale        0.001876  "
      ]
     },
     "execution_count": 229,
     "metadata": {},
     "output_type": "execute_result"
    }
   ],
   "source": [
    "df.head()"
   ]
  },
  {
   "cell_type": "code",
   "execution_count": 230,
   "metadata": {
    "collapsed": true
   },
   "outputs": [],
   "source": [
    "from sklearn.preprocessing import StandardScaler\n",
    "from sklearn.metrics.pairwise import pairwise_distances"
   ]
  },
  {
   "cell_type": "code",
   "execution_count": 231,
   "metadata": {
    "collapsed": false
   },
   "outputs": [
    {
     "data": {
      "text/plain": [
       "array([[ 2.77913465,  1.38920964,  0.41110031, ..., -0.55315295,\n",
       "         1.20008975, -0.30916313],\n",
       "       [ 1.01058376,  1.97410162,  0.14349923, ..., -0.19805193,\n",
       "        -0.66775738, -0.65865095],\n",
       "       [ 1.53400049,  1.77168894,  0.16185352, ..., -0.17532826,\n",
       "        -0.66775738, -0.65865095],\n",
       "       ..., \n",
       "       [-0.40171227, -0.3725132 , -0.51293658, ..., -0.60762967,\n",
       "        -0.00956363,  1.49652395],\n",
       "       [-0.40171227, -0.3725132 , -0.51293658, ..., -0.61516476,\n",
       "        -0.02186632,  1.15411298],\n",
       "       [-0.40171227, -0.3725132 , -0.35753037, ..., -0.04874809,\n",
       "        -0.35361946, -0.07087598]])"
      ]
     },
     "execution_count": 231,
     "metadata": {},
     "output_type": "execute_result"
    }
   ],
   "source": [
    "normalizer = StandardScaler(copy=False)\n",
    "normalizer.fit_transform(df)"
   ]
  },
  {
   "cell_type": "code",
   "execution_count": 232,
   "metadata": {
    "collapsed": false
   },
   "outputs": [
    {
     "data": {
      "text/html": [
       "<div>\n",
       "<table border=\"1\" class=\"dataframe\">\n",
       "  <thead>\n",
       "    <tr style=\"text-align: right;\">\n",
       "      <th></th>\n",
       "      <th>Goals</th>\n",
       "      <th>Assists</th>\n",
       "      <th>Solo runs into penalty area</th>\n",
       "      <th>Deliveries into penalty area</th>\n",
       "      <th>Total attempts</th>\n",
       "      <th>On target</th>\n",
       "      <th>Red cards</th>\n",
       "      <th>Yellow cards</th>\n",
       "      <th>Fouls committed</th>\n",
       "      <th>Tackles</th>\n",
       "      <th>Blocks</th>\n",
       "    </tr>\n",
       "    <tr>\n",
       "      <th>Name</th>\n",
       "      <th></th>\n",
       "      <th></th>\n",
       "      <th></th>\n",
       "      <th></th>\n",
       "      <th></th>\n",
       "      <th></th>\n",
       "      <th></th>\n",
       "      <th></th>\n",
       "      <th></th>\n",
       "      <th></th>\n",
       "      <th></th>\n",
       "    </tr>\n",
       "  </thead>\n",
       "  <tbody>\n",
       "    <tr>\n",
       "      <th>Antoine Griezmann</th>\n",
       "      <td>2.779135</td>\n",
       "      <td>1.389210</td>\n",
       "      <td>0.411100</td>\n",
       "      <td>0.824423</td>\n",
       "      <td>1.656113</td>\n",
       "      <td>2.266231</td>\n",
       "      <td>-0.073821</td>\n",
       "      <td>-0.628797</td>\n",
       "      <td>-0.553153</td>\n",
       "      <td>1.200090</td>\n",
       "      <td>-0.309163</td>\n",
       "    </tr>\n",
       "    <tr>\n",
       "      <th>Cristiano Ronaldo</th>\n",
       "      <td>1.010584</td>\n",
       "      <td>1.974102</td>\n",
       "      <td>0.143499</td>\n",
       "      <td>-0.196196</td>\n",
       "      <td>3.084556</td>\n",
       "      <td>1.579303</td>\n",
       "      <td>-0.073821</td>\n",
       "      <td>-0.236723</td>\n",
       "      <td>-0.198052</td>\n",
       "      <td>-0.667757</td>\n",
       "      <td>-0.658651</td>\n",
       "    </tr>\n",
       "    <tr>\n",
       "      <th>Olivier Giroud</th>\n",
       "      <td>1.534000</td>\n",
       "      <td>1.771689</td>\n",
       "      <td>0.161854</td>\n",
       "      <td>-0.508261</td>\n",
       "      <td>0.911161</td>\n",
       "      <td>0.890450</td>\n",
       "      <td>-0.073821</td>\n",
       "      <td>-0.091414</td>\n",
       "      <td>-0.175328</td>\n",
       "      <td>-0.667757</td>\n",
       "      <td>-0.658651</td>\n",
       "    </tr>\n",
       "    <tr>\n",
       "      <th>Dimitri Payet</th>\n",
       "      <td>1.342725</td>\n",
       "      <td>1.559811</td>\n",
       "      <td>1.919508</td>\n",
       "      <td>4.573767</td>\n",
       "      <td>1.265211</td>\n",
       "      <td>0.967531</td>\n",
       "      <td>-0.073821</td>\n",
       "      <td>-0.628797</td>\n",
       "      <td>-0.759798</td>\n",
       "      <td>-0.258012</td>\n",
       "      <td>-0.658651</td>\n",
       "    </tr>\n",
       "    <tr>\n",
       "      <th>Gareth Bale</th>\n",
       "      <td>1.254357</td>\n",
       "      <td>0.544706</td>\n",
       "      <td>0.641676</td>\n",
       "      <td>0.409051</td>\n",
       "      <td>1.659181</td>\n",
       "      <td>2.812736</td>\n",
       "      <td>-0.073821</td>\n",
       "      <td>-0.169048</td>\n",
       "      <td>-0.415142</td>\n",
       "      <td>0.499209</td>\n",
       "      <td>-0.294738</td>\n",
       "    </tr>\n",
       "  </tbody>\n",
       "</table>\n",
       "</div>"
      ],
      "text/plain": [
       "                      Goals   Assists  Solo runs into penalty area  \\\n",
       "Name                                                                 \n",
       "Antoine Griezmann  2.779135  1.389210                     0.411100   \n",
       "Cristiano Ronaldo  1.010584  1.974102                     0.143499   \n",
       "Olivier Giroud     1.534000  1.771689                     0.161854   \n",
       "Dimitri Payet      1.342725  1.559811                     1.919508   \n",
       "Gareth Bale        1.254357  0.544706                     0.641676   \n",
       "\n",
       "                   Deliveries into penalty area  Total attempts  On target  \\\n",
       "Name                                                                         \n",
       "Antoine Griezmann                      0.824423        1.656113   2.266231   \n",
       "Cristiano Ronaldo                     -0.196196        3.084556   1.579303   \n",
       "Olivier Giroud                        -0.508261        0.911161   0.890450   \n",
       "Dimitri Payet                          4.573767        1.265211   0.967531   \n",
       "Gareth Bale                            0.409051        1.659181   2.812736   \n",
       "\n",
       "                   Red cards  Yellow cards  Fouls committed   Tackles  \\\n",
       "Name                                                                    \n",
       "Antoine Griezmann  -0.073821     -0.628797        -0.553153  1.200090   \n",
       "Cristiano Ronaldo  -0.073821     -0.236723        -0.198052 -0.667757   \n",
       "Olivier Giroud     -0.073821     -0.091414        -0.175328 -0.667757   \n",
       "Dimitri Payet      -0.073821     -0.628797        -0.759798 -0.258012   \n",
       "Gareth Bale        -0.073821     -0.169048        -0.415142  0.499209   \n",
       "\n",
       "                     Blocks  \n",
       "Name                         \n",
       "Antoine Griezmann -0.309163  \n",
       "Cristiano Ronaldo -0.658651  \n",
       "Olivier Giroud    -0.658651  \n",
       "Dimitri Payet     -0.658651  \n",
       "Gareth Bale       -0.294738  "
      ]
     },
     "execution_count": 232,
     "metadata": {},
     "output_type": "execute_result"
    }
   ],
   "source": [
    "df.head()"
   ]
  },
  {
   "cell_type": "code",
   "execution_count": 233,
   "metadata": {
    "collapsed": true
   },
   "outputs": [],
   "source": [
    "dataL2 = pairwise_distances(df, metric='l2')"
   ]
  },
  {
   "cell_type": "code",
   "execution_count": 234,
   "metadata": {
    "collapsed": false
   },
   "outputs": [
    {
     "data": {
      "text/plain": [
       "array([2, 3, 3])"
      ]
     },
     "execution_count": 234,
     "metadata": {},
     "output_type": "execute_result"
    }
   ],
   "source": [
    "A = np.array([[1,2,3],[1,2,3],[1,2,3]])\n",
    "\n",
    "A[np.triu_indices_from(A,k=1)]"
   ]
  },
  {
   "cell_type": "code",
   "execution_count": 235,
   "metadata": {
    "collapsed": false
   },
   "outputs": [
    {
     "data": {
      "image/png": "[encoded data removed]",
      "text/plain": [
       "<matplotlib.figure.Figure at 0x7f9f031de190>"
      ]
     },
     "metadata": {},
     "output_type": "display_data"
    }
   ],
   "source": [
    "\n",
    "plt.hist(dataL2[np.triu_indices_from(dataL2,k=1)])\n",
    "plt.title(\"L2-distances\")\n",
    "plt.xlabel(\"Value\")\n",
    "plt.ylabel(\"Frequency\")\n",
    "plt.show()"
   ]
  },
  {
   "cell_type": "code",
   "execution_count": 236,
   "metadata": {
    "collapsed": true
   },
   "outputs": [],
   "source": [
    "dataL1 = pairwise_distances(df, metric='l1')"
   ]
  },
  {
   "cell_type": "code",
   "execution_count": 237,
   "metadata": {
    "collapsed": false
   },
   "outputs": [
    {
     "data": {
      "image/png": "[encoded data removed]",
      "text/plain": [
       "<matplotlib.figure.Figure at 0x7f9f03358ed0>"
      ]
     },
     "metadata": {},
     "output_type": "display_data"
    }
   ],
   "source": [
    "plt.hist(dataL1[np.triu_indices_from(dataL1,k=1)])\n",
    "plt.title(\"L1-distances\")\n",
    "plt.xlabel(\"Value\")\n",
    "plt.ylabel(\"Frequency\")\n",
    "plt.show()"
   ]
  },
  {
   "cell_type": "code",
   "execution_count": 238,
   "metadata": {
    "collapsed": true
   },
   "outputs": [],
   "source": [
    "dataCosine = pairwise_distances(df, metric='cosine')"
   ]
  },
  {
   "cell_type": "code",
   "execution_count": 239,
   "metadata": {
    "collapsed": false
   },
   "outputs": [
    {
     "data": {
      "image/png": "[encoded data removed]",
      "text/plain": [
       "<matplotlib.figure.Figure at 0x7f9f031af850>"
      ]
     },
     "metadata": {},
     "output_type": "display_data"
    }
   ],
   "source": [
    "#A[np.triu_indices_from(A,k=1)]\n",
    "plt.hist(dataCosine[np.triu_indices_from(dataCosine,k=1)])\n",
    "plt.title(\"Cosine-distances\")\n",
    "plt.xlabel(\"Value\")\n",
    "plt.ylabel(\"Frequency\")\n",
    "plt.show()"
   ]
  },
  {
   "cell_type": "code",
   "execution_count": 240,
   "metadata": {
    "collapsed": true
   },
   "outputs": [],
   "source": [
    "from scipy.cluster.hierarchy import dendrogram, linkage\n"
   ]
  },
  {
   "cell_type": "code",
   "execution_count": 241,
   "metadata": {
    "collapsed": false,
    "scrolled": true
   },
   "outputs": [
    {
     "data": {
      "image/png": "[encoded data removed]",
      "text/plain": [
       "<matplotlib.figure.Figure at 0x7f9f031a12d0>"
      ]
     },
     "metadata": {},
     "output_type": "display_data"
    }
   ],
   "source": [
    "linkage_matrix = linkage(dataL1, \"single\")\n",
    "plt.figure(figsize=(18, 7))\n",
    "dendrogram(linkage_matrix,truncate_mode='lastp')\n",
    "plt.title('denrdo')\n",
    "plt.show()"
   ]
  },
  {
   "cell_type": "code",
   "execution_count": null,
   "metadata": {
    "collapsed": true
   },
   "outputs": [],
   "source": []
  }
 ],
 "metadata": {
  "kernelspec": {
   "display_name": "Python 2",
   "language": "python",
   "name": "python2"
  },
  "language_info": {
   "codemirror_mode": {
    "name": "ipython",
    "version": 2
   },
   "file_extension": ".py",
   "mimetype": "text/x-python",
   "name": "python",
   "nbconvert_exporter": "python",
   "pygments_lexer": "ipython2",
   "version": "2.7.12"
  }
 },
 "nbformat": 4,
 "nbformat_minor": 0
}
