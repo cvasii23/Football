{
 "cells": [
  {
   "cell_type": "markdown",
   "metadata": {},
   "source": [
    "# An Unsupervised Learning Approach to Football Coaching\n",
    "## A. Types of players\n",
    "## By Catalin Vasii"
   ]
  },
  {
   "cell_type": "code",
   "execution_count": 1,
   "metadata": {
    "collapsed": false
   },
   "outputs": [],
   "source": [
    "import numpy as np\n",
    "import pandas as pd\n",
    "from __future__ import division\n",
    "from IPython.display import YouTubeVideo\n",
    "import matplotlib.pyplot as plt\n",
    "%matplotlib inline"
   ]
  },
  {
   "cell_type": "markdown",
   "metadata": {},
   "source": [
    "### Nobody can deny that there are several types of players in the game of football. Some say there are two types: germans and greeks"
   ]
  },
  {
   "cell_type": "code",
   "execution_count": 2,
   "metadata": {
    "collapsed": false
   },
   "outputs": [
    {
     "data": {
      "text/html": [
       "\n",
       "        <iframe\n",
       "            width=\"400\"\n",
       "            height=\"300\"\n",
       "            src=\"https://www.youtube.com/embed/https://www.youtube.com/watch?v=ur5fGSBsfq8\"\n",
       "            frameborder=\"0\"\n",
       "            allowfullscreen\n",
       "        ></iframe>\n",
       "        "
      ],
      "text/plain": [
       "<IPython.lib.display.YouTubeVideo at 0x7fdb28492ed0>"
      ]
     },
     "execution_count": 2,
     "metadata": {},
     "output_type": "execute_result"
    }
   ],
   "source": [
    "YouTubeVideo('https://www.youtube.com/watch?v=ur5fGSBsfq8')"
   ]
  },
  {
   "cell_type": "markdown",
   "metadata": {},
   "source": [
    "### While other people say there are defenders, midfielders and attackers (excepting the goalkeepers who are standing most of the time).  These other people are called football coaches. Awful people that we aim to replace with machine learning and data science. "
   ]
  },
  {
   "cell_type": "markdown",
   "metadata": {},
   "source": [
    "### We were able to develop an AI system that beated humans at the game of GO, but is football more complex and hard to beat? This notebook is a small step in answering this question."
   ]
  },
  {
   "cell_type": "markdown",
   "metadata": {},
   "source": [
    "## 1. Getting and pre-processing the data"
   ]
  },
  {
   "cell_type": "markdown",
   "metadata": {},
   "source": [
    "![](euro2016.jpg)"
   ]
  },
  {
   "cell_type": "markdown",
   "metadata": {},
   "source": [
    "We got __UEFA EURO 2016__ data from the [UEFA website](http://www.uefa.com/uefaeuro/season=2016/statistics/index.html)\n",
    "To download speciffic datapoints we have simply done:\n",
    "\n",
    "```python\n",
    "url_g = r'http://www.uefa.com/uefaeuro/season=2016/statistics/round=2000448/players/\\\n",
    "category=attacking/kind=goals/index.html'\n",
    "tabele = pd.read_html(url_g)\n",
    "dfGoals = tabele[0]\n",
    "```\n",
    "\n",
    "more details in the speciffic noteboon in my [Football repo](https://github.com/cvasii23/Football)\n",
    "A csv file with various datapoints was created:"
   ]
  },
  {
   "cell_type": "code",
   "execution_count": 3,
   "metadata": {
    "collapsed": true
   },
   "outputs": [],
   "source": [
    "df = pd.read_csv('jucatori.csv')"
   ]
  },
  {
   "cell_type": "code",
   "execution_count": 4,
   "metadata": {
    "collapsed": false
   },
   "outputs": [
    {
     "data": {
      "text/html": [
       "<div>\n",
       "<table border=\"1\" class=\"dataframe\">\n",
       "  <thead>\n",
       "    <tr style=\"text-align: right;\">\n",
       "      <th></th>\n",
       "      <th>Name</th>\n",
       "      <th>Goals</th>\n",
       "      <th>Assists</th>\n",
       "      <th>Minutes</th>\n",
       "      <th>Solo runs into attacking third</th>\n",
       "      <th>Solo runs into key area</th>\n",
       "      <th>Solo runs into penalty area</th>\n",
       "      <th>Deliveries into attacking third</th>\n",
       "      <th>Deliveries into a key area</th>\n",
       "      <th>Deliveries into penalty area</th>\n",
       "      <th>Total attempts</th>\n",
       "      <th>On target</th>\n",
       "      <th>Red cards</th>\n",
       "      <th>Yellow cards</th>\n",
       "      <th>Fouls committed</th>\n",
       "      <th>Tackles</th>\n",
       "      <th>Blocks</th>\n",
       "    </tr>\n",
       "  </thead>\n",
       "  <tbody>\n",
       "    <tr>\n",
       "      <th>0</th>\n",
       "      <td>Antoine Griezmann</td>\n",
       "      <td>6</td>\n",
       "      <td>2</td>\n",
       "      <td>555</td>\n",
       "      <td>11</td>\n",
       "      <td>11</td>\n",
       "      <td>5</td>\n",
       "      <td>21</td>\n",
       "      <td>17</td>\n",
       "      <td>11</td>\n",
       "      <td>26</td>\n",
       "      <td>14</td>\n",
       "      <td>0</td>\n",
       "      <td>0</td>\n",
       "      <td>4</td>\n",
       "      <td>5</td>\n",
       "      <td>1</td>\n",
       "    </tr>\n",
       "    <tr>\n",
       "      <th>1</th>\n",
       "      <td>Cristiano Ronaldo</td>\n",
       "      <td>3</td>\n",
       "      <td>3</td>\n",
       "      <td>625</td>\n",
       "      <td>18</td>\n",
       "      <td>11</td>\n",
       "      <td>4</td>\n",
       "      <td>20</td>\n",
       "      <td>14</td>\n",
       "      <td>5</td>\n",
       "      <td>46</td>\n",
       "      <td>12</td>\n",
       "      <td>0</td>\n",
       "      <td>1</td>\n",
       "      <td>8</td>\n",
       "      <td>0</td>\n",
       "      <td>0</td>\n",
       "    </tr>\n",
       "    <tr>\n",
       "      <th>2</th>\n",
       "      <td>Olivier Giroud</td>\n",
       "      <td>3</td>\n",
       "      <td>2</td>\n",
       "      <td>456</td>\n",
       "      <td>3</td>\n",
       "      <td>0</td>\n",
       "      <td>3</td>\n",
       "      <td>8</td>\n",
       "      <td>6</td>\n",
       "      <td>2</td>\n",
       "      <td>15</td>\n",
       "      <td>6</td>\n",
       "      <td>0</td>\n",
       "      <td>1</td>\n",
       "      <td>6</td>\n",
       "      <td>0</td>\n",
       "      <td>0</td>\n",
       "    </tr>\n",
       "    <tr>\n",
       "      <th>3</th>\n",
       "      <td>Dimitri Payet</td>\n",
       "      <td>3</td>\n",
       "      <td>2</td>\n",
       "      <td>506</td>\n",
       "      <td>22</td>\n",
       "      <td>17</td>\n",
       "      <td>12</td>\n",
       "      <td>32</td>\n",
       "      <td>24</td>\n",
       "      <td>32</td>\n",
       "      <td>20</td>\n",
       "      <td>7</td>\n",
       "      <td>0</td>\n",
       "      <td>0</td>\n",
       "      <td>2</td>\n",
       "      <td>1</td>\n",
       "      <td>0</td>\n",
       "    </tr>\n",
       "    <tr>\n",
       "      <th>4</th>\n",
       "      <td>Gareth Bale</td>\n",
       "      <td>3</td>\n",
       "      <td>1</td>\n",
       "      <td>533</td>\n",
       "      <td>27</td>\n",
       "      <td>21</td>\n",
       "      <td>6</td>\n",
       "      <td>21</td>\n",
       "      <td>11</td>\n",
       "      <td>8</td>\n",
       "      <td>25</td>\n",
       "      <td>16</td>\n",
       "      <td>0</td>\n",
       "      <td>1</td>\n",
       "      <td>5</td>\n",
       "      <td>3</td>\n",
       "      <td>1</td>\n",
       "    </tr>\n",
       "  </tbody>\n",
       "</table>\n",
       "</div>"
      ],
      "text/plain": [
       "                Name  Goals  Assists  Minutes  Solo runs into attacking third  \\\n",
       "0  Antoine Griezmann      6        2      555                              11   \n",
       "1  Cristiano Ronaldo      3        3      625                              18   \n",
       "2     Olivier Giroud      3        2      456                               3   \n",
       "3      Dimitri Payet      3        2      506                              22   \n",
       "4        Gareth Bale      3        1      533                              27   \n",
       "\n",
       "   Solo runs into key area  Solo runs into penalty area  \\\n",
       "0                       11                            5   \n",
       "1                       11                            4   \n",
       "2                        0                            3   \n",
       "3                       17                           12   \n",
       "4                       21                            6   \n",
       "\n",
       "   Deliveries into attacking third  Deliveries into a key area  \\\n",
       "0                               21                          17   \n",
       "1                               20                          14   \n",
       "2                                8                           6   \n",
       "3                               32                          24   \n",
       "4                               21                          11   \n",
       "\n",
       "   Deliveries into penalty area  Total attempts  On target  Red cards  \\\n",
       "0                            11              26         14          0   \n",
       "1                             5              46         12          0   \n",
       "2                             2              15          6          0   \n",
       "3                            32              20          7          0   \n",
       "4                             8              25         16          0   \n",
       "\n",
       "   Yellow cards  Fouls committed  Tackles  Blocks  \n",
       "0             0                4        5       1  \n",
       "1             1                8        0       0  \n",
       "2             1                6        0       0  \n",
       "3             0                2        1       0  \n",
       "4             1                5        3       1  "
      ]
     },
     "execution_count": 4,
     "metadata": {},
     "output_type": "execute_result"
    }
   ],
   "source": [
    "df.head()"
   ]
  },
  {
   "cell_type": "code",
   "execution_count": 5,
   "metadata": {
    "collapsed": false
   },
   "outputs": [],
   "source": [
    "df.drop(['Solo runs into attacking third','Solo runs into key area',\\\n",
    "'Deliveries into attacking third','Deliveries into a key area'],axis=1,inplace=True)"
   ]
  },
  {
   "cell_type": "markdown",
   "metadata": {},
   "source": [
    "### After dropping some datapoints that we decided are not so relevant for this exercise, we don't want the number of goals, attacks, tackles and fouls, but a density of them, per minute of football played, for each player"
   ]
  },
  {
   "cell_type": "code",
   "execution_count": 6,
   "metadata": {
    "collapsed": false
   },
   "outputs": [],
   "source": [
    "df.set_index('Name',inplace=True)"
   ]
  },
  {
   "cell_type": "markdown",
   "metadata": {},
   "source": [
    "We made the copy just to have the initial one as it is"
   ]
  },
  {
   "cell_type": "code",
   "execution_count": 7,
   "metadata": {
    "collapsed": true
   },
   "outputs": [],
   "source": [
    "df1 = df.copy()"
   ]
  },
  {
   "cell_type": "code",
   "execution_count": 8,
   "metadata": {
    "collapsed": false
   },
   "outputs": [],
   "source": [
    "coloane = df1.columns.tolist()\n",
    "coloane.remove('Minutes')"
   ]
  },
  {
   "cell_type": "code",
   "execution_count": 9,
   "metadata": {
    "collapsed": true
   },
   "outputs": [],
   "source": [
    "for col in coloane:\n",
    "    df1[col] = df1[col] / df1['Minutes']\n",
    "\n",
    "df1.drop('Minutes',axis=1,inplace=True)"
   ]
  },
  {
   "cell_type": "code",
   "execution_count": 10,
   "metadata": {
    "collapsed": false
   },
   "outputs": [
    {
     "data": {
      "text/html": [
       "<div>\n",
       "<table border=\"1\" class=\"dataframe\">\n",
       "  <thead>\n",
       "    <tr style=\"text-align: right;\">\n",
       "      <th></th>\n",
       "      <th>Goals</th>\n",
       "      <th>Assists</th>\n",
       "      <th>Solo runs into penalty area</th>\n",
       "      <th>Deliveries into penalty area</th>\n",
       "      <th>Total attempts</th>\n",
       "      <th>On target</th>\n",
       "      <th>Red cards</th>\n",
       "      <th>Yellow cards</th>\n",
       "      <th>Fouls committed</th>\n",
       "      <th>Tackles</th>\n",
       "      <th>Blocks</th>\n",
       "    </tr>\n",
       "    <tr>\n",
       "      <th>Name</th>\n",
       "      <th></th>\n",
       "      <th></th>\n",
       "      <th></th>\n",
       "      <th></th>\n",
       "      <th></th>\n",
       "      <th></th>\n",
       "      <th></th>\n",
       "      <th></th>\n",
       "      <th></th>\n",
       "      <th></th>\n",
       "      <th></th>\n",
       "    </tr>\n",
       "  </thead>\n",
       "  <tbody>\n",
       "    <tr>\n",
       "      <th>Antoine Griezmann</th>\n",
       "      <td>0.010811</td>\n",
       "      <td>0.003604</td>\n",
       "      <td>0.009009</td>\n",
       "      <td>0.019820</td>\n",
       "      <td>0.046847</td>\n",
       "      <td>0.025225</td>\n",
       "      <td>0.0</td>\n",
       "      <td>0.000000</td>\n",
       "      <td>0.007207</td>\n",
       "      <td>0.009009</td>\n",
       "      <td>0.001802</td>\n",
       "    </tr>\n",
       "    <tr>\n",
       "      <th>Cristiano Ronaldo</th>\n",
       "      <td>0.004800</td>\n",
       "      <td>0.004800</td>\n",
       "      <td>0.006400</td>\n",
       "      <td>0.008000</td>\n",
       "      <td>0.073600</td>\n",
       "      <td>0.019200</td>\n",
       "      <td>0.0</td>\n",
       "      <td>0.001600</td>\n",
       "      <td>0.012800</td>\n",
       "      <td>0.000000</td>\n",
       "      <td>0.000000</td>\n",
       "    </tr>\n",
       "    <tr>\n",
       "      <th>Olivier Giroud</th>\n",
       "      <td>0.006579</td>\n",
       "      <td>0.004386</td>\n",
       "      <td>0.006579</td>\n",
       "      <td>0.004386</td>\n",
       "      <td>0.032895</td>\n",
       "      <td>0.013158</td>\n",
       "      <td>0.0</td>\n",
       "      <td>0.002193</td>\n",
       "      <td>0.013158</td>\n",
       "      <td>0.000000</td>\n",
       "      <td>0.000000</td>\n",
       "    </tr>\n",
       "    <tr>\n",
       "      <th>Dimitri Payet</th>\n",
       "      <td>0.005929</td>\n",
       "      <td>0.003953</td>\n",
       "      <td>0.023715</td>\n",
       "      <td>0.063241</td>\n",
       "      <td>0.039526</td>\n",
       "      <td>0.013834</td>\n",
       "      <td>0.0</td>\n",
       "      <td>0.000000</td>\n",
       "      <td>0.003953</td>\n",
       "      <td>0.001976</td>\n",
       "      <td>0.000000</td>\n",
       "    </tr>\n",
       "    <tr>\n",
       "      <th>Gareth Bale</th>\n",
       "      <td>0.005629</td>\n",
       "      <td>0.001876</td>\n",
       "      <td>0.011257</td>\n",
       "      <td>0.015009</td>\n",
       "      <td>0.046904</td>\n",
       "      <td>0.030019</td>\n",
       "      <td>0.0</td>\n",
       "      <td>0.001876</td>\n",
       "      <td>0.009381</td>\n",
       "      <td>0.005629</td>\n",
       "      <td>0.001876</td>\n",
       "    </tr>\n",
       "  </tbody>\n",
       "</table>\n",
       "</div>"
      ],
      "text/plain": [
       "                      Goals   Assists  Solo runs into penalty area  \\\n",
       "Name                                                                 \n",
       "Antoine Griezmann  0.010811  0.003604                     0.009009   \n",
       "Cristiano Ronaldo  0.004800  0.004800                     0.006400   \n",
       "Olivier Giroud     0.006579  0.004386                     0.006579   \n",
       "Dimitri Payet      0.005929  0.003953                     0.023715   \n",
       "Gareth Bale        0.005629  0.001876                     0.011257   \n",
       "\n",
       "                   Deliveries into penalty area  Total attempts  On target  \\\n",
       "Name                                                                         \n",
       "Antoine Griezmann                      0.019820        0.046847   0.025225   \n",
       "Cristiano Ronaldo                      0.008000        0.073600   0.019200   \n",
       "Olivier Giroud                         0.004386        0.032895   0.013158   \n",
       "Dimitri Payet                          0.063241        0.039526   0.013834   \n",
       "Gareth Bale                            0.015009        0.046904   0.030019   \n",
       "\n",
       "                   Red cards  Yellow cards  Fouls committed   Tackles  \\\n",
       "Name                                                                    \n",
       "Antoine Griezmann        0.0      0.000000         0.007207  0.009009   \n",
       "Cristiano Ronaldo        0.0      0.001600         0.012800  0.000000   \n",
       "Olivier Giroud           0.0      0.002193         0.013158  0.000000   \n",
       "Dimitri Payet            0.0      0.000000         0.003953  0.001976   \n",
       "Gareth Bale              0.0      0.001876         0.009381  0.005629   \n",
       "\n",
       "                     Blocks  \n",
       "Name                         \n",
       "Antoine Griezmann  0.001802  \n",
       "Cristiano Ronaldo  0.000000  \n",
       "Olivier Giroud     0.000000  \n",
       "Dimitri Payet      0.000000  \n",
       "Gareth Bale        0.001876  "
      ]
     },
     "execution_count": 10,
     "metadata": {},
     "output_type": "execute_result"
    }
   ],
   "source": [
    "df1.head()"
   ]
  },
  {
   "cell_type": "markdown",
   "metadata": {},
   "source": [
    "### Moreover, since not all the datapoints are on the same scale, we want to standardize. Easiest way: use scikit-learn"
   ]
  },
  {
   "cell_type": "code",
   "execution_count": 11,
   "metadata": {
    "collapsed": true
   },
   "outputs": [],
   "source": [
    "from sklearn.preprocessing import StandardScaler\n",
    "from sklearn.metrics.pairwise import pairwise_distances"
   ]
  },
  {
   "cell_type": "code",
   "execution_count": 12,
   "metadata": {
    "collapsed": false
   },
   "outputs": [
    {
     "data": {
      "text/plain": [
       "array([[  4.33454227e+00,   1.34919285e+00,   8.29062366e-01, ...,\n",
       "         -6.52384087e-01,   1.15872964e+00,  -3.33226871e-01],\n",
       "       [  1.69263292e+00,   1.92376516e+00,   4.14590517e-01, ...,\n",
       "         -1.95612374e-01,  -6.88291331e-01,  -6.78727860e-01],\n",
       "       [  2.47452705e+00,   1.72492379e+00,   4.43018416e-01, ...,\n",
       "         -1.66382578e-01,  -6.88291331e-01,  -6.78727860e-01],\n",
       "       ..., \n",
       "       [ -4.17093249e-01,  -3.81446641e-01,  -6.02124959e-01, ...,\n",
       "         -7.22458294e-01,  -3.74363221e-02,   1.45186157e+00],\n",
       "       [ -4.17093249e-01,  -3.81446641e-01,  -6.02124959e-01, ...,\n",
       "         -7.32150801e-01,  -4.96018363e-02,   1.11335671e+00],\n",
       "       [ -4.17093249e-01,  -3.81446641e-01,  -3.61425273e-01, ...,\n",
       "         -3.56063145e-03,  -3.77655986e-01,  -9.76580155e-02]])"
      ]
     },
     "execution_count": 12,
     "metadata": {},
     "output_type": "execute_result"
    }
   ],
   "source": [
    "\n",
    "normalizer = StandardScaler(copy=False)\n",
    "normalizer.fit_transform(df1)"
   ]
  },
  {
   "cell_type": "code",
   "execution_count": 13,
   "metadata": {
    "collapsed": false
   },
   "outputs": [
    {
     "data": {
      "text/html": [
       "<div>\n",
       "<table border=\"1\" class=\"dataframe\">\n",
       "  <thead>\n",
       "    <tr style=\"text-align: right;\">\n",
       "      <th></th>\n",
       "      <th>Goals</th>\n",
       "      <th>Assists</th>\n",
       "      <th>Solo runs into penalty area</th>\n",
       "      <th>Deliveries into penalty area</th>\n",
       "      <th>Total attempts</th>\n",
       "      <th>On target</th>\n",
       "      <th>Red cards</th>\n",
       "      <th>Yellow cards</th>\n",
       "      <th>Fouls committed</th>\n",
       "      <th>Tackles</th>\n",
       "      <th>Blocks</th>\n",
       "    </tr>\n",
       "    <tr>\n",
       "      <th>Name</th>\n",
       "      <th></th>\n",
       "      <th></th>\n",
       "      <th></th>\n",
       "      <th></th>\n",
       "      <th></th>\n",
       "      <th></th>\n",
       "      <th></th>\n",
       "      <th></th>\n",
       "      <th></th>\n",
       "      <th></th>\n",
       "      <th></th>\n",
       "    </tr>\n",
       "  </thead>\n",
       "  <tbody>\n",
       "    <tr>\n",
       "      <th>Antoine Griezmann</th>\n",
       "      <td>4.334542</td>\n",
       "      <td>1.349193</td>\n",
       "      <td>0.829062</td>\n",
       "      <td>0.907426</td>\n",
       "      <td>2.235545</td>\n",
       "      <td>3.320213</td>\n",
       "      <td>-0.075378</td>\n",
       "      <td>-0.645252</td>\n",
       "      <td>-0.652384</td>\n",
       "      <td>1.158730</td>\n",
       "      <td>-0.333227</td>\n",
       "    </tr>\n",
       "    <tr>\n",
       "      <th>Cristiano Ronaldo</th>\n",
       "      <td>1.692633</td>\n",
       "      <td>1.923765</td>\n",
       "      <td>0.414591</td>\n",
       "      <td>-0.158653</td>\n",
       "      <td>4.078032</td>\n",
       "      <td>2.359938</td>\n",
       "      <td>-0.075378</td>\n",
       "      <td>-0.222420</td>\n",
       "      <td>-0.195612</td>\n",
       "      <td>-0.688291</td>\n",
       "      <td>-0.678728</td>\n",
       "    </tr>\n",
       "    <tr>\n",
       "      <th>Olivier Giroud</th>\n",
       "      <td>2.474527</td>\n",
       "      <td>1.724924</td>\n",
       "      <td>0.443018</td>\n",
       "      <td>-0.484618</td>\n",
       "      <td>1.274664</td>\n",
       "      <td>1.396974</td>\n",
       "      <td>-0.075378</td>\n",
       "      <td>-0.065713</td>\n",
       "      <td>-0.166383</td>\n",
       "      <td>-0.688291</td>\n",
       "      <td>-0.678728</td>\n",
       "    </tr>\n",
       "    <tr>\n",
       "      <th>Dimitri Payet</th>\n",
       "      <td>2.188794</td>\n",
       "      <td>1.516784</td>\n",
       "      <td>3.165348</td>\n",
       "      <td>4.823774</td>\n",
       "      <td>1.731337</td>\n",
       "      <td>1.504727</td>\n",
       "      <td>-0.075378</td>\n",
       "      <td>-0.645252</td>\n",
       "      <td>-0.918195</td>\n",
       "      <td>-0.283115</td>\n",
       "      <td>-0.678728</td>\n",
       "    </tr>\n",
       "    <tr>\n",
       "      <th>Gareth Bale</th>\n",
       "      <td>2.056788</td>\n",
       "      <td>0.519590</td>\n",
       "      <td>1.186188</td>\n",
       "      <td>0.473552</td>\n",
       "      <td>2.239502</td>\n",
       "      <td>4.084186</td>\n",
       "      <td>-0.075378</td>\n",
       "      <td>-0.149436</td>\n",
       "      <td>-0.474858</td>\n",
       "      <td>0.465664</td>\n",
       "      <td>-0.318966</td>\n",
       "    </tr>\n",
       "  </tbody>\n",
       "</table>\n",
       "</div>"
      ],
      "text/plain": [
       "                      Goals   Assists  Solo runs into penalty area  \\\n",
       "Name                                                                 \n",
       "Antoine Griezmann  4.334542  1.349193                     0.829062   \n",
       "Cristiano Ronaldo  1.692633  1.923765                     0.414591   \n",
       "Olivier Giroud     2.474527  1.724924                     0.443018   \n",
       "Dimitri Payet      2.188794  1.516784                     3.165348   \n",
       "Gareth Bale        2.056788  0.519590                     1.186188   \n",
       "\n",
       "                   Deliveries into penalty area  Total attempts  On target  \\\n",
       "Name                                                                         \n",
       "Antoine Griezmann                      0.907426        2.235545   3.320213   \n",
       "Cristiano Ronaldo                     -0.158653        4.078032   2.359938   \n",
       "Olivier Giroud                        -0.484618        1.274664   1.396974   \n",
       "Dimitri Payet                          4.823774        1.731337   1.504727   \n",
       "Gareth Bale                            0.473552        2.239502   4.084186   \n",
       "\n",
       "                   Red cards  Yellow cards  Fouls committed   Tackles  \\\n",
       "Name                                                                    \n",
       "Antoine Griezmann  -0.075378     -0.645252        -0.652384  1.158730   \n",
       "Cristiano Ronaldo  -0.075378     -0.222420        -0.195612 -0.688291   \n",
       "Olivier Giroud     -0.075378     -0.065713        -0.166383 -0.688291   \n",
       "Dimitri Payet      -0.075378     -0.645252        -0.918195 -0.283115   \n",
       "Gareth Bale        -0.075378     -0.149436        -0.474858  0.465664   \n",
       "\n",
       "                     Blocks  \n",
       "Name                         \n",
       "Antoine Griezmann -0.333227  \n",
       "Cristiano Ronaldo -0.678728  \n",
       "Olivier Giroud    -0.678728  \n",
       "Dimitri Payet     -0.678728  \n",
       "Gareth Bale       -0.318966  "
      ]
     },
     "execution_count": 13,
     "metadata": {},
     "output_type": "execute_result"
    }
   ],
   "source": [
    "df1.head()"
   ]
  },
  {
   "cell_type": "markdown",
   "metadata": {},
   "source": [
    "## 2. The quest for the best distance"
   ]
  },
  {
   "cell_type": "markdown",
   "metadata": {},
   "source": [
    "### We would like to choose the best distance to use for our clustering. So we took the most popular: $L_1$, $L_2$ and cosine similarity."
   ]
  },
  {
   "cell_type": "code",
   "execution_count": 14,
   "metadata": {
    "collapsed": true
   },
   "outputs": [],
   "source": [
    "dataL2 = pairwise_distances(df1, metric='l2')\n",
    "\n",
    "dataL1 = pairwise_distances(df1, metric='l1')\n",
    "\n",
    "dataCosine = pairwise_distances(df1, metric='cosine')"
   ]
  },
  {
   "cell_type": "markdown",
   "metadata": {},
   "source": [
    "### For each, we want to plot a histogram with all the paiwise distances. Te above procedure has constructed symmetric distance matirces, but since we want for our histogram, to count only once each distance, there is the following trick to extract the upper triangle in a single vector:"
   ]
  },
  {
   "cell_type": "code",
   "execution_count": 15,
   "metadata": {
    "collapsed": false
   },
   "outputs": [
    {
     "data": {
      "text/plain": [
       "array([2, 3, 3])"
      ]
     },
     "execution_count": 15,
     "metadata": {},
     "output_type": "execute_result"
    }
   ],
   "source": [
    "A = np.array([[1,2,3],[1,2,3],[1,2,3]])\n",
    "\n",
    "A[np.triu_indices_from(A,k=1)]"
   ]
  },
  {
   "cell_type": "code",
   "execution_count": 16,
   "metadata": {
    "collapsed": false
   },
   "outputs": [
    {
     "data": {
      "image/png": "[encoded data removed]",
      "text/plain": [
       "<matplotlib.figure.Figure at 0x7fdaf5bbdd90>"
      ]
     },
     "metadata": {},
     "output_type": "display_data"
    }
   ],
   "source": [
    "\n",
    "fig = plt.figure(figsize=(15, 5))\n",
    "fig.suptitle(\"histograms for variaous distances\", fontsize=14)\n",
    "\n",
    "ax1 = fig.add_subplot(131)\n",
    "ax1.hist(dataL1[np.triu_indices_from(dataL1,k=1)])\n",
    "ax1.set_title(\"L1-distances\")\n",
    "\n",
    "\n",
    "ax2 = fig.add_subplot(132)\n",
    "ax2.hist(dataL2[np.triu_indices_from(dataL2,k=1)])\n",
    "ax2.set_title(\"L2-distances\")\n",
    "\n",
    "\n",
    "ax3 = fig.add_subplot(133)\n",
    "ax3.hist(dataCosine[np.triu_indices_from(dataCosine,k=1)])\n",
    "ax3.set_title(\"Cosine-distances\")\n",
    "\n",
    "plt.show()"
   ]
  },
  {
   "cell_type": "markdown",
   "metadata": {},
   "source": [
    "### It's time to remember what a clustering algorithm is looking for: to minimize distances within the clusters and to maximize the distances between different clusters.\n",
    "### Both $L_1$ and $L_2$ seem not to be proper for this purpose: the distances are too grouped, with a very little amout of small distances that we need inside a cluster. The choice remains the cosine. Moreover, taking into account that our data is standardized, it make sense for $-u$ to be the opposite of $u$."
   ]
  },
  {
   "cell_type": "markdown",
   "metadata": {},
   "source": [
    "## 3. The clustering itself"
   ]
  },
  {
   "cell_type": "code",
   "execution_count": 17,
   "metadata": {
    "collapsed": true
   },
   "outputs": [],
   "source": [
    "from scipy.cluster.hierarchy import dendrogram, linkage\n"
   ]
  },
  {
   "cell_type": "markdown",
   "metadata": {},
   "source": [
    "### Traditionally, the numer of clusters should be 3, equal to the number of football roles, but we aim to find out if the computer is able to find different behavior classes, so our choice is for a hierarchical clustering. \n",
    "### From the dendrogram:"
   ]
  },
  {
   "cell_type": "code",
   "execution_count": 18,
   "metadata": {
    "collapsed": false,
    "scrolled": true
   },
   "outputs": [
    {
     "data": {
      "image/png": "[encoded data removed]",
      "text/plain": [
       "<matplotlib.figure.Figure at 0x7fdaf5bbda90>"
      ]
     },
     "metadata": {},
     "output_type": "display_data"
    }
   ],
   "source": [
    "linkage_matrix = linkage(dataCosine, \"complete\")\n",
    "plt.figure(figsize=(15, 6))\n",
    "dendrogram(linkage_matrix,truncate_mode='lastp')\n",
    "plt.title('denrdo')\n",
    "plt.show()"
   ]
  },
  {
   "cell_type": "markdown",
   "metadata": {},
   "source": [
    "### A choice of 3 or 4 clusters would work. We go for the four cluster structure. Moreover, we choose agglomerative clustering, in which small clusters consisting by a single player are initially formed, then merged into bigger and bigger clusters. The complete linkage considers the distance between clusters to be maximum of the distances from all the players in the two clusters."
   ]
  },
  {
   "cell_type": "code",
   "execution_count": 19,
   "metadata": {
    "collapsed": true
   },
   "outputs": [],
   "source": [
    "from sklearn.cluster import AgglomerativeClustering"
   ]
  },
  {
   "cell_type": "code",
   "execution_count": 20,
   "metadata": {
    "collapsed": true
   },
   "outputs": [],
   "source": [
    "clusterizare = AgglomerativeClustering(n_clusters=4, affinity='cosine', linkage='complete')"
   ]
  },
  {
   "cell_type": "code",
   "execution_count": 21,
   "metadata": {
    "collapsed": false
   },
   "outputs": [],
   "source": [
    "y = clusterizare.fit_predict(df1)"
   ]
  },
  {
   "cell_type": "code",
   "execution_count": 22,
   "metadata": {
    "collapsed": false
   },
   "outputs": [],
   "source": [
    "df['cluster'] = y"
   ]
  },
  {
   "cell_type": "code",
   "execution_count": 23,
   "metadata": {
    "collapsed": false
   },
   "outputs": [
    {
     "data": {
      "text/html": [
       "<div>\n",
       "<table border=\"1\" class=\"dataframe\">\n",
       "  <thead>\n",
       "    <tr style=\"text-align: right;\">\n",
       "      <th></th>\n",
       "      <th>Goals</th>\n",
       "      <th>Assists</th>\n",
       "      <th>Minutes</th>\n",
       "      <th>Solo runs into penalty area</th>\n",
       "      <th>Deliveries into penalty area</th>\n",
       "      <th>Total attempts</th>\n",
       "      <th>On target</th>\n",
       "      <th>Red cards</th>\n",
       "      <th>Yellow cards</th>\n",
       "      <th>Fouls committed</th>\n",
       "      <th>Tackles</th>\n",
       "      <th>Blocks</th>\n",
       "      <th>cluster</th>\n",
       "    </tr>\n",
       "    <tr>\n",
       "      <th>Name</th>\n",
       "      <th></th>\n",
       "      <th></th>\n",
       "      <th></th>\n",
       "      <th></th>\n",
       "      <th></th>\n",
       "      <th></th>\n",
       "      <th></th>\n",
       "      <th></th>\n",
       "      <th></th>\n",
       "      <th></th>\n",
       "      <th></th>\n",
       "      <th></th>\n",
       "      <th></th>\n",
       "    </tr>\n",
       "  </thead>\n",
       "  <tbody>\n",
       "    <tr>\n",
       "      <th>Antoine Griezmann</th>\n",
       "      <td>6</td>\n",
       "      <td>2</td>\n",
       "      <td>555</td>\n",
       "      <td>5</td>\n",
       "      <td>11</td>\n",
       "      <td>26</td>\n",
       "      <td>14</td>\n",
       "      <td>0</td>\n",
       "      <td>0</td>\n",
       "      <td>4</td>\n",
       "      <td>5</td>\n",
       "      <td>1</td>\n",
       "      <td>0</td>\n",
       "    </tr>\n",
       "    <tr>\n",
       "      <th>Cristiano Ronaldo</th>\n",
       "      <td>3</td>\n",
       "      <td>3</td>\n",
       "      <td>625</td>\n",
       "      <td>4</td>\n",
       "      <td>5</td>\n",
       "      <td>46</td>\n",
       "      <td>12</td>\n",
       "      <td>0</td>\n",
       "      <td>1</td>\n",
       "      <td>8</td>\n",
       "      <td>0</td>\n",
       "      <td>0</td>\n",
       "      <td>0</td>\n",
       "    </tr>\n",
       "    <tr>\n",
       "      <th>Olivier Giroud</th>\n",
       "      <td>3</td>\n",
       "      <td>2</td>\n",
       "      <td>456</td>\n",
       "      <td>3</td>\n",
       "      <td>2</td>\n",
       "      <td>15</td>\n",
       "      <td>6</td>\n",
       "      <td>0</td>\n",
       "      <td>1</td>\n",
       "      <td>6</td>\n",
       "      <td>0</td>\n",
       "      <td>0</td>\n",
       "      <td>0</td>\n",
       "    </tr>\n",
       "  </tbody>\n",
       "</table>\n",
       "</div>"
      ],
      "text/plain": [
       "                   Goals  Assists  Minutes  Solo runs into penalty area  \\\n",
       "Name                                                                      \n",
       "Antoine Griezmann      6        2      555                            5   \n",
       "Cristiano Ronaldo      3        3      625                            4   \n",
       "Olivier Giroud         3        2      456                            3   \n",
       "\n",
       "                   Deliveries into penalty area  Total attempts  On target  \\\n",
       "Name                                                                         \n",
       "Antoine Griezmann                            11              26         14   \n",
       "Cristiano Ronaldo                             5              46         12   \n",
       "Olivier Giroud                                2              15          6   \n",
       "\n",
       "                   Red cards  Yellow cards  Fouls committed  Tackles  Blocks  \\\n",
       "Name                                                                           \n",
       "Antoine Griezmann          0             0                4        5       1   \n",
       "Cristiano Ronaldo          0             1                8        0       0   \n",
       "Olivier Giroud             0             1                6        0       0   \n",
       "\n",
       "                   cluster  \n",
       "Name                        \n",
       "Antoine Griezmann        0  \n",
       "Cristiano Ronaldo        0  \n",
       "Olivier Giroud           0  "
      ]
     },
     "execution_count": 23,
     "metadata": {},
     "output_type": "execute_result"
    }
   ],
   "source": [
    "df.head(3)"
   ]
  },
  {
   "cell_type": "markdown",
   "metadata": {},
   "source": [
    "### Notice that the clusters are well balanced:"
   ]
  },
  {
   "cell_type": "code",
   "execution_count": 24,
   "metadata": {
    "collapsed": false
   },
   "outputs": [
    {
     "name": "stdout",
     "output_type": "stream",
     "text": [
      "A proposrtion of  0.330508474576 players are in the cluster  0\n",
      "A proposrtion of  0.316384180791 players are in the cluster  1\n",
      "A proposrtion of  0.21186440678 players are in the cluster  2\n",
      "A proposrtion of  0.141242937853 players are in the cluster  3\n"
     ]
    }
   ],
   "source": [
    "for i in set(y):\n",
    "    print 'A proposrtion of ', len(df[df['cluster'] == i]) / float(len(df)), 'players are in the cluster ', i"
   ]
  },
  {
   "cell_type": "markdown",
   "metadata": {},
   "source": [
    "## 4. Visualizing and describing the clusters"
   ]
  },
  {
   "cell_type": "markdown",
   "metadata": {},
   "source": [
    "### When in doubt about finding two axes for the plot, the two top principal components will always work"
   ]
  },
  {
   "cell_type": "code",
   "execution_count": 25,
   "metadata": {
    "collapsed": false
   },
   "outputs": [],
   "source": [
    "from sklearn.decomposition import PCA\n"
   ]
  },
  {
   "cell_type": "code",
   "execution_count": 26,
   "metadata": {
    "collapsed": false
   },
   "outputs": [],
   "source": [
    "pca = PCA(n_components=2)\n",
    "dfSmall = pd.DataFrame(pca.fit_transform(df1), index = df1.index, columns = ['firstComp',\\\n",
    "                                                                            'secondComp'])\n"
   ]
  },
  {
   "cell_type": "code",
   "execution_count": 27,
   "metadata": {
    "collapsed": true
   },
   "outputs": [],
   "source": [
    "dfSmall['cluster'] = y"
   ]
  },
  {
   "cell_type": "code",
   "execution_count": 28,
   "metadata": {
    "collapsed": false
   },
   "outputs": [
    {
     "data": {
      "text/html": [
       "<div>\n",
       "<table border=\"1\" class=\"dataframe\">\n",
       "  <thead>\n",
       "    <tr style=\"text-align: right;\">\n",
       "      <th></th>\n",
       "      <th>firstComp</th>\n",
       "      <th>secondComp</th>\n",
       "      <th>cluster</th>\n",
       "    </tr>\n",
       "    <tr>\n",
       "      <th>Name</th>\n",
       "      <th></th>\n",
       "      <th></th>\n",
       "      <th></th>\n",
       "    </tr>\n",
       "  </thead>\n",
       "  <tbody>\n",
       "    <tr>\n",
       "      <th>Antoine Griezmann</th>\n",
       "      <td>-5.330951</td>\n",
       "      <td>0.697611</td>\n",
       "      <td>0</td>\n",
       "    </tr>\n",
       "    <tr>\n",
       "      <th>Cristiano Ronaldo</th>\n",
       "      <td>-4.644956</td>\n",
       "      <td>0.856424</td>\n",
       "      <td>0</td>\n",
       "    </tr>\n",
       "    <tr>\n",
       "      <th>Olivier Giroud</th>\n",
       "      <td>-2.912013</td>\n",
       "      <td>0.724922</td>\n",
       "      <td>0</td>\n",
       "    </tr>\n",
       "    <tr>\n",
       "      <th>Dimitri Payet</th>\n",
       "      <td>-5.638030</td>\n",
       "      <td>-1.912259</td>\n",
       "      <td>0</td>\n",
       "    </tr>\n",
       "    <tr>\n",
       "      <th>Gareth Bale</th>\n",
       "      <td>-4.672945</td>\n",
       "      <td>0.859801</td>\n",
       "      <td>0</td>\n",
       "    </tr>\n",
       "  </tbody>\n",
       "</table>\n",
       "</div>"
      ],
      "text/plain": [
       "                   firstComp  secondComp  cluster\n",
       "Name                                             \n",
       "Antoine Griezmann  -5.330951    0.697611        0\n",
       "Cristiano Ronaldo  -4.644956    0.856424        0\n",
       "Olivier Giroud     -2.912013    0.724922        0\n",
       "Dimitri Payet      -5.638030   -1.912259        0\n",
       "Gareth Bale        -4.672945    0.859801        0"
      ]
     },
     "execution_count": 28,
     "metadata": {},
     "output_type": "execute_result"
    }
   ],
   "source": [
    "dfSmall.head()"
   ]
  },
  {
   "cell_type": "code",
   "execution_count": 29,
   "metadata": {
    "collapsed": false
   },
   "outputs": [
    {
     "data": {
      "text/html": [
       "\n",
       "    <div class=\"bk-banner\">\n",
       "        <a href=\"http://bokeh.pydata.org\" target=\"_blank\" class=\"bk-logo bk-logo-small bk-logo-notebook\"></a>\n",
       "        <span id=\"aeb70cd7-2a28-4e2d-bca1-e13cfa0247b5\">Loading BokehJS ...</span>\n",
       "    </div>"
      ]
     },
     "metadata": {},
     "output_type": "display_data"
    },
    {
     "data": {
      "application/javascript": [
       "\n",
       "(function(global) {\n",
       "  function now() {\n",
       "    return new Date();\n",
       "  }\n",
       "\n",
       "  if (typeof (window._bokeh_onload_callbacks) === \"undefined\") {\n",
       "    window._bokeh_onload_callbacks = [];\n",
       "  }\n",
       "\n",
       "  function run_callbacks() {\n",
       "    window._bokeh_onload_callbacks.forEach(function(callback) { callback() });\n",
       "    delete window._bokeh_onload_callbacks\n",
       "    console.info(\"Bokeh: all callbacks have finished\");\n",
       "  }\n",
       "\n",
       "  function load_libs(js_urls, callback) {\n",
       "    window._bokeh_onload_callbacks.push(callback);\n",
       "    if (window._bokeh_is_loading > 0) {\n",
       "      console.log(\"Bokeh: BokehJS is being loaded, scheduling callback at\", now());\n",
       "      return null;\n",
       "    }\n",
       "    if (js_urls == null || js_urls.length === 0) {\n",
       "      run_callbacks();\n",
       "      return null;\n",
       "    }\n",
       "    console.log(\"Bokeh: BokehJS not loaded, scheduling load and callback at\", now());\n",
       "    window._bokeh_is_loading = js_urls.length;\n",
       "    for (var i = 0; i < js_urls.length; i++) {\n",
       "      var url = js_urls[i];\n",
       "      var s = document.createElement('script');\n",
       "      s.src = url;\n",
       "      s.async = false;\n",
       "      s.onreadystatechange = s.onload = function() {\n",
       "        window._bokeh_is_loading--;\n",
       "        if (window._bokeh_is_loading === 0) {\n",
       "          console.log(\"Bokeh: all BokehJS libraries loaded\");\n",
       "          run_callbacks()\n",
       "        }\n",
       "      };\n",
       "      s.onerror = function() {\n",
       "        console.warn(\"failed to load library \" + url);\n",
       "      };\n",
       "      console.log(\"Bokeh: injecting script tag for BokehJS library: \", url);\n",
       "      document.getElementsByTagName(\"head\")[0].appendChild(s);\n",
       "    }\n",
       "  };\n",
       "\n",
       "  var js_urls = ['https://cdn.pydata.org/bokeh/release/bokeh-0.11.1.min.js', 'https://cdn.pydata.org/bokeh/release/bokeh-widgets-0.11.1.min.js', 'https://cdn.pydata.org/bokeh/release/bokeh-compiler-0.11.1.min.js'];\n",
       "\n",
       "  var inline_js = [\n",
       "    function(Bokeh) {\n",
       "      Bokeh.set_log_level(\"info\");\n",
       "    },\n",
       "    \n",
       "    function(Bokeh) {\n",
       "      Bokeh.$(\"#aeb70cd7-2a28-4e2d-bca1-e13cfa0247b5\").text(\"BokehJS successfully loaded\");\n",
       "    },\n",
       "    function(Bokeh) {\n",
       "      console.log(\"Bokeh: injecting CSS: https://cdn.pydata.org/bokeh/release/bokeh-0.11.1.min.css\");\n",
       "      Bokeh.embed.inject_css(\"https://cdn.pydata.org/bokeh/release/bokeh-0.11.1.min.css\");\n",
       "      console.log(\"Bokeh: injecting CSS: https://cdn.pydata.org/bokeh/release/bokeh-widgets-0.11.1.min.css\");\n",
       "      Bokeh.embed.inject_css(\"https://cdn.pydata.org/bokeh/release/bokeh-widgets-0.11.1.min.css\");\n",
       "    }\n",
       "  ];\n",
       "\n",
       "  function run_inline_js() {\n",
       "    for (var i = 0; i < inline_js.length; i++) {\n",
       "      inline_js[i](window.Bokeh);\n",
       "    }\n",
       "  }\n",
       "\n",
       "  if (window._bokeh_is_loading === 0) {\n",
       "    console.log(\"Bokeh: BokehJS loaded, going straight to plotting\");\n",
       "    run_inline_js();\n",
       "  } else {\n",
       "    load_libs(js_urls, function() {\n",
       "      console.log(\"Bokeh: BokehJS plotting callback run at\", now());\n",
       "      run_inline_js();\n",
       "    });\n",
       "  }\n",
       "}(this));"
      ]
     },
     "metadata": {},
     "output_type": "display_data"
    }
   ],
   "source": [
    "from bokeh.charts import Scatter, output_notebook, show #, output_file\n",
    "output_notebook()"
   ]
  },
  {
   "cell_type": "code",
   "execution_count": 30,
   "metadata": {
    "collapsed": false
   },
   "outputs": [
    {
     "data": {
      "text/html": [
       "\n",
       "\n",
       "    <div class=\"plotdiv\" id=\"0ef6d182-18b1-46e9-8e8b-7e32b2b61252\"></div>\n",
       "<script type=\"text/javascript\">\n",
       "  \n",
       "  (function(global) {\n",
       "    function now() {\n",
       "      return new Date();\n",
       "    }\n",
       "  \n",
       "    if (typeof (window._bokeh_onload_callbacks) === \"undefined\") {\n",
       "      window._bokeh_onload_callbacks = [];\n",
       "    }\n",
       "  \n",
       "    function run_callbacks() {\n",
       "      window._bokeh_onload_callbacks.forEach(function(callback) { callback() });\n",
       "      delete window._bokeh_onload_callbacks\n",
       "      console.info(\"Bokeh: all callbacks have finished\");\n",
       "    }\n",
       "  \n",
       "    function load_libs(js_urls, callback) {\n",
       "      window._bokeh_onload_callbacks.push(callback);\n",
       "      if (window._bokeh_is_loading > 0) {\n",
       "        console.log(\"Bokeh: BokehJS is being loaded, scheduling callback at\", now());\n",
       "        return null;\n",
       "      }\n",
       "      if (js_urls == null || js_urls.length === 0) {\n",
       "        run_callbacks();\n",
       "        return null;\n",
       "      }\n",
       "      console.log(\"Bokeh: BokehJS not loaded, scheduling load and callback at\", now());\n",
       "      window._bokeh_is_loading = js_urls.length;\n",
       "      for (var i = 0; i < js_urls.length; i++) {\n",
       "        var url = js_urls[i];\n",
       "        var s = document.createElement('script');\n",
       "        s.src = url;\n",
       "        s.async = false;\n",
       "        s.onreadystatechange = s.onload = function() {\n",
       "          window._bokeh_is_loading--;\n",
       "          if (window._bokeh_is_loading === 0) {\n",
       "            console.log(\"Bokeh: all BokehJS libraries loaded\");\n",
       "            run_callbacks()\n",
       "          }\n",
       "        };\n",
       "        s.onerror = function() {\n",
       "          console.warn(\"failed to load library \" + url);\n",
       "        };\n",
       "        console.log(\"Bokeh: injecting script tag for BokehJS library: \", url);\n",
       "        document.getElementsByTagName(\"head\")[0].appendChild(s);\n",
       "      }\n",
       "    };var element = document.getElementById(\"0ef6d182-18b1-46e9-8e8b-7e32b2b61252\");\n",
       "    if (element == null) {\n",
       "      console.log(\"Bokeh: ERROR: autoload.js configured with elementid '0ef6d182-18b1-46e9-8e8b-7e32b2b61252' but no matching script tag was found. \")\n",
       "      return false;\n",
       "    }\n",
       "  \n",
       "    var js_urls = [];\n",
       "  \n",
       "    var inline_js = [\n",
       "      function(Bokeh) {\n",
       "        Bokeh.$(function() {\n",
       "            var docs_json = {\"86c77973-9fc3-4741-b7eb-8011f2096744\":{\"roots\":{\"references\":[{\"attributes\":{},\"id\":\"3bd5c5fe-fc27-478b-a260-332934c03cbb\",\"type\":\"ToolEvents\"},{\"attributes\":{\"plot\":{\"id\":\"fc0601f3-4215-44e2-9e72-1e8d897e6fc1\",\"subtype\":\"Chart\",\"type\":\"Plot\"}},\"id\":\"5d4a6a9a-c116-4ffd-bfa9-a87e85069562\",\"type\":\"ResizeTool\"},{\"attributes\":{\"data_source\":{\"id\":\"b69a3c69-db26-4e7b-9133-b04f17f91a82\",\"type\":\"ColumnDataSource\"},\"glyph\":{\"id\":\"cea8cbdd-f384-46af-8dcf-787ce7b8e37f\",\"type\":\"Circle\"},\"hover_glyph\":null,\"nonselection_glyph\":null,\"selection_glyph\":null},\"id\":\"ad92dd4a-0885-449e-a11a-1214a5c9b6d7\",\"type\":\"GlyphRenderer\"},{\"attributes\":{\"legends\":[[\"0\",[{\"id\":\"c2a2f3ad-af58-4314-ad32-e5dec4ccf826\",\"type\":\"GlyphRenderer\"}]],[\"2\",[{\"id\":\"bfe36b5c-4cf6-4c6f-9b86-85936a292ee6\",\"type\":\"GlyphRenderer\"}]],[\"1\",[{\"id\":\"800901af-4499-4c23-bac9-b7c5b4d5b480\",\"type\":\"GlyphRenderer\"}]],[\"3\",[{\"id\":\"ad92dd4a-0885-449e-a11a-1214a5c9b6d7\",\"type\":\"GlyphRenderer\"}]]],\"plot\":{\"id\":\"fc0601f3-4215-44e2-9e72-1e8d897e6fc1\",\"subtype\":\"Chart\",\"type\":\"Plot\"}},\"id\":\"0cad8779-ebe6-4b52-8916-eccd00500cf6\",\"type\":\"Legend\"},{\"attributes\":{\"fill_alpha\":{\"value\":0.7},\"fill_color\":{\"value\":\"#f22c40\"},\"line_color\":{\"value\":\"#f22c40\"},\"size\":{\"units\":\"screen\",\"value\":8},\"x\":{\"field\":\"x_values\"},\"y\":{\"field\":\"y_values\"}},\"id\":\"34cc9f3d-a972-4802-a4a7-04ce84332096\",\"type\":\"Circle\"},{\"attributes\":{\"axis_label\":\"second princ component\",\"formatter\":{\"id\":\"dd3dfd7a-73b1-4085-a10b-7483ee6f5bab\",\"type\":\"BasicTickFormatter\"},\"plot\":{\"id\":\"fc0601f3-4215-44e2-9e72-1e8d897e6fc1\",\"subtype\":\"Chart\",\"type\":\"Plot\"},\"ticker\":{\"id\":\"6e793f79-d179-48a3-97ed-7cd81bec539f\",\"type\":\"BasicTicker\"}},\"id\":\"8a7ff1f2-f719-46f1-bd20-44665e081ce8\",\"type\":\"LinearAxis\"},{\"attributes\":{\"dimension\":1,\"plot\":{\"id\":\"fc0601f3-4215-44e2-9e72-1e8d897e6fc1\",\"subtype\":\"Chart\",\"type\":\"Plot\"},\"ticker\":{\"id\":\"6e793f79-d179-48a3-97ed-7cd81bec539f\",\"type\":\"BasicTicker\"}},\"id\":\"303dcd41-35d3-48a2-ba1d-bb220e33b17c\",\"type\":\"Grid\"},{\"attributes\":{\"fill_alpha\":{\"value\":0.7},\"fill_color\":{\"value\":\"#df5320\"},\"line_color\":{\"value\":\"#df5320\"},\"size\":{\"units\":\"screen\",\"value\":8},\"x\":{\"field\":\"x_values\"},\"y\":{\"field\":\"y_values\"}},\"id\":\"cea8cbdd-f384-46af-8dcf-787ce7b8e37f\",\"type\":\"Circle\"},{\"attributes\":{\"plot\":{\"id\":\"fc0601f3-4215-44e2-9e72-1e8d897e6fc1\",\"subtype\":\"Chart\",\"type\":\"Plot\"}},\"id\":\"e4dd72f4-3dc3-4cca-b3d1-d9e52f3060b1\",\"type\":\"PreviewSaveTool\"},{\"attributes\":{\"callback\":null,\"end\":3.628358564452875,\"start\":-7.112241726468976},\"id\":\"aa007b5f-b7df-413a-b6a4-7fc3228e316a\",\"type\":\"Range1d\"},{\"attributes\":{\"callback\":null,\"column_names\":[\"x_values\",\"y_values\"],\"data\":{\"chart_index\":[{\"cluster\":1},{\"cluster\":1},{\"cluster\":1},{\"cluster\":1},{\"cluster\":1},{\"cluster\":1},{\"cluster\":1},{\"cluster\":1},{\"cluster\":1},{\"cluster\":1},{\"cluster\":1},{\"cluster\":1},{\"cluster\":1},{\"cluster\":1},{\"cluster\":1},{\"cluster\":1},{\"cluster\":1},{\"cluster\":1},{\"cluster\":1},{\"cluster\":1},{\"cluster\":1},{\"cluster\":1},{\"cluster\":1},{\"cluster\":1},{\"cluster\":1},{\"cluster\":1},{\"cluster\":1},{\"cluster\":1},{\"cluster\":1},{\"cluster\":1},{\"cluster\":1},{\"cluster\":1},{\"cluster\":1},{\"cluster\":1},{\"cluster\":1},{\"cluster\":1},{\"cluster\":1},{\"cluster\":1},{\"cluster\":1},{\"cluster\":1},{\"cluster\":1},{\"cluster\":1},{\"cluster\":1},{\"cluster\":1},{\"cluster\":1},{\"cluster\":1},{\"cluster\":1},{\"cluster\":1},{\"cluster\":1},{\"cluster\":1},{\"cluster\":1},{\"cluster\":1},{\"cluster\":1},{\"cluster\":1},{\"cluster\":1},{\"cluster\":1},{\"cluster\":1},{\"cluster\":1},{\"cluster\":1},{\"cluster\":1},{\"cluster\":1},{\"cluster\":1},{\"cluster\":1},{\"cluster\":1},{\"cluster\":1},{\"cluster\":1},{\"cluster\":1},{\"cluster\":1},{\"cluster\":1},{\"cluster\":1},{\"cluster\":1},{\"cluster\":1},{\"cluster\":1},{\"cluster\":1},{\"cluster\":1},{\"cluster\":1},{\"cluster\":1},{\"cluster\":1},{\"cluster\":1},{\"cluster\":1},{\"cluster\":1},{\"cluster\":1},{\"cluster\":1},{\"cluster\":1},{\"cluster\":1},{\"cluster\":1},{\"cluster\":1},{\"cluster\":1},{\"cluster\":1},{\"cluster\":1},{\"cluster\":1},{\"cluster\":1},{\"cluster\":1},{\"cluster\":1},{\"cluster\":1},{\"cluster\":1},{\"cluster\":1},{\"cluster\":1},{\"cluster\":1},{\"cluster\":1},{\"cluster\":1},{\"cluster\":1},{\"cluster\":1},{\"cluster\":1},{\"cluster\":1},{\"cluster\":1},{\"cluster\":1},{\"cluster\":1},{\"cluster\":1},{\"cluster\":1},{\"cluster\":1},{\"cluster\":1}],\"cluster\":[1,1,1,1,1,1,1,1,1,1,1,1,1,1,1,1,1,1,1,1,1,1,1,1,1,1,1,1,1,1,1,1,1,1,1,1,1,1,1,1,1,1,1,1,1,1,1,1,1,1,1,1,1,1,1,1,1,1,1,1,1,1,1,1,1,1,1,1,1,1,1,1,1,1,1,1,1,1,1,1,1,1,1,1,1,1,1,1,1,1,1,1,1,1,1,1,1,1,1,1,1,1,1,1,1,1,1,1,1,1,1,1],\"x_values\":[0.7556962442174437,0.4990670810679996,1.389701535712777,0.4403309606000332,0.779076541654101,0.8738156778685385,1.3131000447327565,0.43854400530745824,0.438069103125036,0.9345033909586148,1.2649007724171712,0.8126315862511254,2.0191836383663166,2.007618537455384,1.2443218773338027,1.1289776197302532,0.6086193053827226,0.423647438023043,1.163063162359344,-0.6004140480906264,0.8715765130099413,1.5457965118988604,0.865200026237596,1.8230719373558126,-0.0018366981700501635,-0.01235480010154942,1.5941749103677179,1.1572644591517387,2.1035103680578717,1.2540809409815854,1.5910947197859775,0.9976417110008442,1.735378678961727,0.06294113449100383,0.9583362098784267,0.5009059927668625,1.2443218773338027,1.1888332153643035,1.29417930303888,1.4605445583130516,0.8355590918599749,0.20141052171451948,2.493389762734343,1.1783327527090808,2.179836504504822,0.3334490621934242,1.1598341072143508,0.9418939409142048,0.3458983668325614,-0.28963022555850226,0.44675495773369983,1.4974945319285846,0.46964842614510266,-0.22841069119025378,0.394420067440352,1.2817674019097873,0.49990079814812727,0.8758336016617215,1.0243036064442625,0.7279897773365469,1.9114518521706771,0.7225300557614576,0.326782708245701,0.22734432924236372,2.1829021784539226,1.1510160154586864,0.9965036457553949,0.8508409014617699,1.0386857991143001,1.8244213410525387,1.0555006350170733,1.0524595257415015,1.6086996103042133,0.8033421177347886,1.0430725531475993,1.0621165057292188,1.1008919178106706,0.09036329865492487,1.2632014509163612,1.9887021814565533,1.371457656943274,0.9501824866270205,-0.4483344564353946,1.7329240558943706,1.455131527238763,0.7484803588754858,1.4970823923811711,1.3884421963573996,1.1729448674197416,0.9615639137172437,1.2458128349017203,2.3592252907775775,0.3070054113356823,2.4915619595786573,0.7458375875509976,1.4272297310708584,-0.43774419913876694,1.5666503827139955,1.2918515483526152,0.4050898512397756,0.9078283822456498,1.0233127168527105,2.353656714361489,1.0493516996500776,1.420407101393945,1.2709899441736137,1.803821429927952,1.3489049532817325,1.1169763906850214,1.358956346767657,1.6111135744060872,0.8270534942595915],\"y_values\":[-0.08446627655804094,0.47172677394743273,0.16697727073799296,-0.20858680964064374,-0.5618551831954577,-0.1789541828062269,-0.5635319604431648,-0.680065130852601,-1.401276703069449,-1.4361848001819382,-0.054854934040028724,-1.6074791136731528,-1.1821498037290423,-1.1824474961704907,-1.202095197306083,-1.396583561109889,-1.1505079204787068,-0.3626424888142365,-0.14894984605510722,0.10074628787367153,-0.5189032073815328,-0.28499002825566666,-1.1128614751611223,-0.60110132968027,-0.14747423257534648,-0.7338414782446631,1.0973430880673105,-0.8764598692597796,-0.856730651968487,-0.6580431136953768,-0.5313008483100297,-1.433743149515837,-0.212627602893475,1.2299375552757854,-0.6779220326225922,-0.0402807424363124,-1.202095197306083,-0.9377773784435277,0.7190549021743053,0.5293881213195436,-0.11221253282603035,-1.046367277266625,-0.8380425966124709,-1.0125363848893094,-0.5622848569975498,-0.945040659185428,-0.5191809185135574,-0.278015137791619,-1.1454419047420106,-0.4177301768200599,-1.6163885351723242,-1.1955783855432875,-1.4916718059100644,-0.7114146572318151,-0.3604004124885772,0.31321843394856913,-0.9335829825017016,0.03848025839570959,-0.19002864256812524,-0.25572808285806786,0.0476583313257964,0.26827862502801825,-0.8383211627031991,-0.20944954279869343,0.06676578694766046,-0.22953497272033915,-0.958435080100794,-0.7662124537929159,0.05424677876474446,-0.8051750646653619,-0.475612923311394,-1.3822658268025583,0.3745987321747616,-0.8352956607381723,-0.6174872634563597,-0.45649460714469137,-1.361263718999577,-0.8754835906061361,-0.4288901895089805,-0.5818247807477421,0.15075147682103163,0.19908032528656738,-0.6196888336780917,0.35767007754446994,-0.40805507203147245,-0.6006394722162604,-0.07152262857371455,-0.18243543525799263,-0.23271574723568517,-0.2512817708046056,-1.2230355268786923,-0.08208692502080184,0.28553456939819094,0.29790731834361317,0.07501185276816923,-0.8770912099076219,-0.36514318320565015,-0.07542104970224651,-0.2269151674579749,-1.3607386458524469,-0.4679460107511449,-0.38873268089780477,-0.11644130952889017,-0.8192722969021156,-0.5483203100557348,-0.29374145813451435,-0.5205855051967434,-0.9461314587237946,0.49986286927044443,-0.5076091949035056,-0.3508714984774732,-0.6607927921556249]}},\"id\":\"249b328e-56c5-45ef-b6f8-fefe03af65be\",\"type\":\"ColumnDataSource\"},{\"attributes\":{\"below\":[{\"id\":\"d3d14281-1139-4752-a149-b95e097ff866\",\"type\":\"LinearAxis\"}],\"left\":[{\"id\":\"8a7ff1f2-f719-46f1-bd20-44665e081ce8\",\"type\":\"LinearAxis\"}],\"legend\":\"top_right\",\"renderers\":[{\"id\":\"cab170d9-f1e6-45bd-a5c2-f6bb6c197ae9\",\"type\":\"BoxAnnotation\"},{\"id\":\"c2a2f3ad-af58-4314-ad32-e5dec4ccf826\",\"type\":\"GlyphRenderer\"},{\"id\":\"bfe36b5c-4cf6-4c6f-9b86-85936a292ee6\",\"type\":\"GlyphRenderer\"},{\"id\":\"800901af-4499-4c23-bac9-b7c5b4d5b480\",\"type\":\"GlyphRenderer\"},{\"id\":\"ad92dd4a-0885-449e-a11a-1214a5c9b6d7\",\"type\":\"GlyphRenderer\"},{\"id\":\"0cad8779-ebe6-4b52-8916-eccd00500cf6\",\"type\":\"Legend\"},{\"id\":\"d3d14281-1139-4752-a149-b95e097ff866\",\"type\":\"LinearAxis\"},{\"id\":\"8a7ff1f2-f719-46f1-bd20-44665e081ce8\",\"type\":\"LinearAxis\"},{\"id\":\"83fc37d8-b6d1-4ac3-a8a5-180ab410f14e\",\"type\":\"Grid\"},{\"id\":\"303dcd41-35d3-48a2-ba1d-bb220e33b17c\",\"type\":\"Grid\"}],\"title\":\"Player position\",\"title_text_font_size\":{\"value\":\"14pt\"},\"tool_events\":{\"id\":\"3bd5c5fe-fc27-478b-a260-332934c03cbb\",\"type\":\"ToolEvents\"},\"tools\":[{\"id\":\"84ee6768-1187-4b4f-bef1-a7f26f855fe1\",\"type\":\"PanTool\"},{\"id\":\"b41037d9-5ece-431b-a471-258c966f3a9e\",\"type\":\"WheelZoomTool\"},{\"id\":\"f675de74-b792-4e67-91c8-714a01928775\",\"type\":\"BoxZoomTool\"},{\"id\":\"e4dd72f4-3dc3-4cca-b3d1-d9e52f3060b1\",\"type\":\"PreviewSaveTool\"},{\"id\":\"5d4a6a9a-c116-4ffd-bfa9-a87e85069562\",\"type\":\"ResizeTool\"},{\"id\":\"f93b5e48-27e8-4468-a193-fad5cc69e9c2\",\"type\":\"ResetTool\"},{\"id\":\"61b514cf-6d1a-42e0-8bde-74c8a57376cb\",\"type\":\"HelpTool\"}],\"x_mapper_type\":\"auto\",\"x_range\":{\"id\":\"aa007b5f-b7df-413a-b6a4-7fc3228e316a\",\"type\":\"Range1d\"},\"xscale\":\"auto\",\"y_mapper_type\":\"auto\",\"y_range\":{\"id\":\"c4e5e7dd-e797-42ff-ac94-b71de005709e\",\"type\":\"Range1d\"},\"yscale\":\"auto\"},\"id\":\"fc0601f3-4215-44e2-9e72-1e8d897e6fc1\",\"subtype\":\"Chart\",\"type\":\"Plot\"},{\"attributes\":{\"data_source\":{\"id\":\"ad90b4b2-8d84-467a-a894-5dae3db1edd8\",\"type\":\"ColumnDataSource\"},\"glyph\":{\"id\":\"0eb66f32-e73f-460e-9de4-a5ef0aec416b\",\"type\":\"Circle\"},\"hover_glyph\":null,\"nonselection_glyph\":null,\"selection_glyph\":null},\"id\":\"bfe36b5c-4cf6-4c6f-9b86-85936a292ee6\",\"type\":\"GlyphRenderer\"},{\"attributes\":{\"plot\":{\"id\":\"fc0601f3-4215-44e2-9e72-1e8d897e6fc1\",\"subtype\":\"Chart\",\"type\":\"Plot\"}},\"id\":\"f93b5e48-27e8-4468-a193-fad5cc69e9c2\",\"type\":\"ResetTool\"},{\"attributes\":{\"fill_alpha\":{\"value\":0.7},\"fill_color\":{\"value\":\"#5ab738\"},\"line_color\":{\"value\":\"#5ab738\"},\"size\":{\"units\":\"screen\",\"value\":8},\"x\":{\"field\":\"x_values\"},\"y\":{\"field\":\"y_values\"}},\"id\":\"6ed77c23-01ff-4ae4-9db1-e8ad4be86a32\",\"type\":\"Circle\"},{\"attributes\":{\"callback\":null,\"column_names\":[\"x_values\",\"y_values\"],\"data\":{\"chart_index\":[{\"cluster\":3},{\"cluster\":3},{\"cluster\":3},{\"cluster\":3},{\"cluster\":3},{\"cluster\":3},{\"cluster\":3},{\"cluster\":3},{\"cluster\":3},{\"cluster\":3},{\"cluster\":3},{\"cluster\":3},{\"cluster\":3},{\"cluster\":3},{\"cluster\":3},{\"cluster\":3},{\"cluster\":3},{\"cluster\":3},{\"cluster\":3},{\"cluster\":3},{\"cluster\":3},{\"cluster\":3},{\"cluster\":3},{\"cluster\":3},{\"cluster\":3},{\"cluster\":3},{\"cluster\":3},{\"cluster\":3},{\"cluster\":3},{\"cluster\":3},{\"cluster\":3},{\"cluster\":3},{\"cluster\":3},{\"cluster\":3},{\"cluster\":3},{\"cluster\":3},{\"cluster\":3},{\"cluster\":3},{\"cluster\":3},{\"cluster\":3},{\"cluster\":3},{\"cluster\":3},{\"cluster\":3},{\"cluster\":3},{\"cluster\":3},{\"cluster\":3},{\"cluster\":3},{\"cluster\":3},{\"cluster\":3},{\"cluster\":3}],\"cluster\":[3,3,3,3,3,3,3,3,3,3,3,3,3,3,3,3,3,3,3,3,3,3,3,3,3,3,3,3,3,3,3,3,3,3,3,3,3,3,3,3,3,3,3,3,3,3,3,3,3,3],\"x_values\":[0.9041589862869072,1.949395837048744,1.2950341545035315,2.1913528203101325,0.932070968703309,-0.3603877564138099,1.27430690938478,0.8407544390393374,0.919415136566765,0.018879472969015276,-0.8202864653540953,-0.6583384410646387,-1.6563859428324026,1.7832850173620218,0.7413124301338612,1.8441081412188114,2.152318022401916,0.03602224132377078,1.0019093908332166,0.5916205317262904,0.4974005919421879,0.835730832066061,-0.6559466548268076,0.7354150299262368,2.335849058657838,1.6512237158522982,1.5704256799675094,2.7333085402093875,2.031422038191097,1.0412364120478144,0.582450230230372,-0.4111672041890888,1.5181922367832623,0.10233033837256066,-0.3441031042550229,0.9612779406854484,1.208372180748966,0.5578867152413598,1.5145451174663398,2.1123319270888583,0.9594413323823506,1.5921709273296607,1.8450728860296104,1.1962726030166912,1.1797074614988283,0.7772598648605871,0.2752216017767797,-0.002064858515685734,1.7917901138970185,0.7511860915064485],\"y_values\":[2.231913411346905,4.444046059081826,1.6250325943138362,1.5985285273746217,3.2699298864233075,2.1526696596656936,5.63855824880598,7.114015647795056,2.410143216292754,2.5999160871423883,1.92926658342153,1.4601861865984564,3.385052461818705,1.2012034321687675,0.8729425010024879,0.5716331616583629,1.0865404253278743,2.059971829035161,2.0901368972726257,0.9089757305813375,1.5929541777806924,1.056147755118377,1.0453782313239617,3.3145123545489232,2.5307024627594736,0.897350635899164,1.5112262006519628,3.7316118753119887,2.00785578239256,1.0813220003011854,0.6206778987904081,0.879121945370151,1.445045221258377,1.4783091243922952,2.2617191764448887,1.1250116224959992,0.7099842682972322,0.4640630845876708,0.3155469527041272,0.5755661448229342,0.18451999891824014,0.793807018492016,0.5570659915161246,0.17488189840575233,1.2967733608321634,0.08367233449518259,1.610944993296179,0.7084469998035061,0.8659912865673091,0.32277983415779976]}},\"id\":\"b69a3c69-db26-4e7b-9133-b04f17f91a82\",\"type\":\"ColumnDataSource\"},{\"attributes\":{\"plot\":{\"id\":\"fc0601f3-4215-44e2-9e72-1e8d897e6fc1\",\"subtype\":\"Chart\",\"type\":\"Plot\"}},\"id\":\"61b514cf-6d1a-42e0-8bde-74c8a57376cb\",\"type\":\"HelpTool\"},{\"attributes\":{\"overlay\":{\"id\":\"cab170d9-f1e6-45bd-a5c2-f6bb6c197ae9\",\"type\":\"BoxAnnotation\"},\"plot\":{\"id\":\"fc0601f3-4215-44e2-9e72-1e8d897e6fc1\",\"subtype\":\"Chart\",\"type\":\"Plot\"}},\"id\":\"f675de74-b792-4e67-91c8-714a01928775\",\"type\":\"BoxZoomTool\"},{\"attributes\":{\"data_source\":{\"id\":\"369b19bd-7d5c-4070-a49e-9354f5b65b8e\",\"type\":\"ColumnDataSource\"},\"glyph\":{\"id\":\"34cc9f3d-a972-4802-a4a7-04ce84332096\",\"type\":\"Circle\"},\"hover_glyph\":null,\"nonselection_glyph\":null,\"selection_glyph\":null},\"id\":\"c2a2f3ad-af58-4314-ad32-e5dec4ccf826\",\"type\":\"GlyphRenderer\"},{\"attributes\":{\"callback\":null,\"end\":8.075964813969332,\"start\":-3.4674251801219818},\"id\":\"c4e5e7dd-e797-42ff-ac94-b71de005709e\",\"type\":\"Range1d\"},{\"attributes\":{\"callback\":null,\"column_names\":[\"x_values\",\"y_values\"],\"data\":{\"chart_index\":[{\"cluster\":0},{\"cluster\":0},{\"cluster\":0},{\"cluster\":0},{\"cluster\":0},{\"cluster\":0},{\"cluster\":0},{\"cluster\":0},{\"cluster\":0},{\"cluster\":0},{\"cluster\":0},{\"cluster\":0},{\"cluster\":0},{\"cluster\":0},{\"cluster\":0},{\"cluster\":0},{\"cluster\":0},{\"cluster\":0},{\"cluster\":0},{\"cluster\":0},{\"cluster\":0},{\"cluster\":0},{\"cluster\":0},{\"cluster\":0},{\"cluster\":0},{\"cluster\":0},{\"cluster\":0},{\"cluster\":0},{\"cluster\":0},{\"cluster\":0},{\"cluster\":0},{\"cluster\":0},{\"cluster\":0},{\"cluster\":0},{\"cluster\":0},{\"cluster\":0},{\"cluster\":0},{\"cluster\":0},{\"cluster\":0},{\"cluster\":0},{\"cluster\":0},{\"cluster\":0},{\"cluster\":0},{\"cluster\":0},{\"cluster\":0},{\"cluster\":0},{\"cluster\":0},{\"cluster\":0},{\"cluster\":0},{\"cluster\":0},{\"cluster\":0},{\"cluster\":0},{\"cluster\":0},{\"cluster\":0},{\"cluster\":0},{\"cluster\":0},{\"cluster\":0},{\"cluster\":0},{\"cluster\":0},{\"cluster\":0},{\"cluster\":0},{\"cluster\":0},{\"cluster\":0},{\"cluster\":0},{\"cluster\":0},{\"cluster\":0},{\"cluster\":0},{\"cluster\":0},{\"cluster\":0},{\"cluster\":0},{\"cluster\":0},{\"cluster\":0},{\"cluster\":0},{\"cluster\":0},{\"cluster\":0},{\"cluster\":0},{\"cluster\":0},{\"cluster\":0},{\"cluster\":0},{\"cluster\":0},{\"cluster\":0},{\"cluster\":0},{\"cluster\":0},{\"cluster\":0},{\"cluster\":0},{\"cluster\":0},{\"cluster\":0},{\"cluster\":0},{\"cluster\":0},{\"cluster\":0},{\"cluster\":0},{\"cluster\":0},{\"cluster\":0},{\"cluster\":0},{\"cluster\":0},{\"cluster\":0},{\"cluster\":0},{\"cluster\":0},{\"cluster\":0},{\"cluster\":0},{\"cluster\":0},{\"cluster\":0},{\"cluster\":0},{\"cluster\":0},{\"cluster\":0},{\"cluster\":0},{\"cluster\":0},{\"cluster\":0},{\"cluster\":0},{\"cluster\":0},{\"cluster\":0},{\"cluster\":0},{\"cluster\":0},{\"cluster\":0},{\"cluster\":0},{\"cluster\":0},{\"cluster\":0}],\"cluster\":[0,0,0,0,0,0,0,0,0,0,0,0,0,0,0,0,0,0,0,0,0,0,0,0,0,0,0,0,0,0,0,0,0,0,0,0,0,0,0,0,0,0,0,0,0,0,0,0,0,0,0,0,0,0,0,0,0,0,0,0,0,0,0,0,0,0,0,0,0,0,0,0,0,0,0,0,0,0,0,0,0,0,0,0,0,0,0,0,0,0,0,0,0,0,0,0,0,0,0,0,0,0,0,0,0,0,0,0,0,0,0,0,0,0,0,0,0],\"x_values\":[-5.330951399777983,-4.644955912761862,-2.9120133549315264,-5.63803015667175,-4.672945289363525,-2.283870382603693,-4.1150118328440275,-1.4642143868473323,-2.8261266604632853,-1.2303888231487272,-1.6843467600580915,-1.729642897428499,-3.612741310570762,-2.9154975167281862,-1.5972998339052484,-1.6566840402670793,-2.1752749388605905,-0.5242043735538446,-0.22643283551750115,-3.3852580353141106,-2.971318372940793,-3.4579110483414106,-2.621417775360328,-3.0936875109752826,-1.6155802557479186,-3.0926231558601014,-2.355094380255496,-1.0613403293708668,-0.8349910437150431,-3.2990642686227836,-1.0212426968697723,-1.5556288656042019,-2.2606567385104146,-2.0978778988525093,-1.094986393992754,-5.3726197217371165,-6.217191702225488,-3.914104392685589,-0.9857849061992069,-1.301201967756553,-0.5640680533075781,-1.3978040331133723,-1.9375472435954189,-2.166040126643414,-0.3666125303731906,-3.4237107399696227,-2.436945130293103,0.15975046456410588,-0.11680758449612831,-0.6258409428089348,-1.3767977778537799,-0.24479779507340618,-0.2302622392021361,-2.692607342523556,-1.5416255679630886,-0.8976386217018556,-0.5237458923081402,-1.5015848164401815,-0.2941971029734463,-1.1935207843560445,0.025098373568899626,-0.9701051429952634,-1.4078120562799774,-4.454395342207811,-4.745465106589364,-1.4924683589477883,-0.5128274605389859,-2.897310507391696,-1.550230695673166,-2.520127960717716,-4.51513969772217,-1.2434592862293752,-1.2433523451122264,-1.3950254615897701,-0.6692328393280523,-1.027121954087344,-1.70846534953914,-1.6865169557929975,-1.5978884119174668,-1.2753016201443261,-2.4777835185945745,-1.3846400435204893,-2.5502506610328886,-4.053677168739971,-0.44644950473998046,-1.163528909655358,-0.6545778324809197,-1.0685163556623931,0.023071812292138644,-1.0057232111132075,-1.776101059929067,-0.357545209679222,0.6137981296043261,0.18104112805561062,-5.6713481087206015,-0.43664876776166606,-1.189161707800058,-0.887800790416326,-1.0191114240321382,-3.047590902974734,-2.9517247449319233,-1.2249799820166312,0.2455777386813501,0.49253367908595524,-0.48377989704720703,0.6070930121091874,-0.7437562170799249,-1.4156378470386544,-1.0552219544994361,-2.300110374569925,-2.194393465467125,-1.684757136978802,-1.7371428595265226,-0.8362463092527987,0.38182340949905336,0.028984438662750796,-1.1452324255810236],\"y_values\":[0.6976111637351381,0.8564244896667665,0.7249217384332531,-1.9122588377068612,0.8598009333332193,0.13687262879187614,3.0894757645253885,0.38777542428712225,0.5754628790492119,-0.3845055757916387,0.7137036674691597,0.5849971120005079,0.8368614374708387,0.11026110575958095,2.4961283943889736,-0.6334859233658616,0.3809097134744397,0.4860619667850342,1.2155323894603827,-1.9375114778354803,-0.2260952117243728,0.9158559404106087,-0.7814238458181183,-0.11482971767524375,0.1253512404737427,-0.7707439256238974,0.018008191585952,-0.9177112981962163,-0.4291900169880001,-0.7089120149298049,-0.19517211298062348,0.003744778627447684,-0.5988893194084087,-0.6808601567558032,0.5181208189688403,4.151557549709707,4.944688315550849,1.3548224429256617,1.280754947355277,2.1577424815259496,0.5600043041043578,1.6717580157223573,1.3209112291380554,1.3531739784691463,1.7272146488195896,0.470131997693166,-1.1079015062922297,2.587463598884729,-0.49134204661543535,0.8665742486333924,2.0329454132147555,0.8638078328181943,0.8098864754263262,-0.543656177623026,-0.8569059167860428,-0.4942592796353246,-0.3269075105622866,-0.4065428188095243,-0.0677513501784936,-0.07271435940222488,-0.004557737827798344,0.5659329363592079,-0.7964469053395964,-1.1106679043628471,-1.1094477466873574,-1.8942366500477206,-1.963552230026327,0.49955325673812745,-1.4984098203505603,-0.7081838241959707,-1.1993076596268086,-1.1927246810885557,-0.6683920731806983,-0.016459413589115627,-0.4188722032530022,0.3261011843278799,-1.347058552252911,-2.068179685619504,-0.11999832160410845,-1.1222985961660021,0.1404658767158227,-0.30613323822439975,-0.8378994634152013,-0.5385449076212341,-1.6610247744603859,-1.8148652552235167,-1.5182842843256983,-0.6736381284218138,-1.527881383241903,0.7256154817954957,0.9177763960617429,-0.7514683021082643,0.08225354432195048,-0.4785179013330844,-0.4576554892794037,-0.9032733500368698,-0.35355715902460655,-0.4538471020126132,-0.026737734027887698,-0.23914686152939285,-0.436648053311284,0.2266798748345149,-1.7609593949087101,-0.7508028549162673,-1.3854082466462798,-0.34373224801354413,-1.1053206387421144,-0.7800095001196653,-0.7550977795720567,0.027513720359071056,-2.148095686211635,-0.41604962057251177,-1.0453112750063356,0.18106470476756548,-1.0676877421438824,-0.5518080781610054,-1.0116860441623827]}},\"id\":\"369b19bd-7d5c-4070-a49e-9354f5b65b8e\",\"type\":\"ColumnDataSource\"},{\"attributes\":{},\"id\":\"d1336adc-5d13-4d79-a9c5-bd9f2860941f\",\"type\":\"BasicTicker\"},{\"attributes\":{\"plot\":{\"id\":\"fc0601f3-4215-44e2-9e72-1e8d897e6fc1\",\"subtype\":\"Chart\",\"type\":\"Plot\"},\"ticker\":{\"id\":\"d1336adc-5d13-4d79-a9c5-bd9f2860941f\",\"type\":\"BasicTicker\"}},\"id\":\"83fc37d8-b6d1-4ac3-a8a5-180ab410f14e\",\"type\":\"Grid\"},{\"attributes\":{\"plot\":{\"id\":\"fc0601f3-4215-44e2-9e72-1e8d897e6fc1\",\"subtype\":\"Chart\",\"type\":\"Plot\"}},\"id\":\"b41037d9-5ece-431b-a471-258c966f3a9e\",\"type\":\"WheelZoomTool\"},{\"attributes\":{\"callback\":null,\"column_names\":[\"x_values\",\"y_values\"],\"data\":{\"chart_index\":[{\"cluster\":2},{\"cluster\":2},{\"cluster\":2},{\"cluster\":2},{\"cluster\":2},{\"cluster\":2},{\"cluster\":2},{\"cluster\":2},{\"cluster\":2},{\"cluster\":2},{\"cluster\":2},{\"cluster\":2},{\"cluster\":2},{\"cluster\":2},{\"cluster\":2},{\"cluster\":2},{\"cluster\":2},{\"cluster\":2},{\"cluster\":2},{\"cluster\":2},{\"cluster\":2},{\"cluster\":2},{\"cluster\":2},{\"cluster\":2},{\"cluster\":2},{\"cluster\":2},{\"cluster\":2},{\"cluster\":2},{\"cluster\":2},{\"cluster\":2},{\"cluster\":2},{\"cluster\":2},{\"cluster\":2},{\"cluster\":2},{\"cluster\":2},{\"cluster\":2},{\"cluster\":2},{\"cluster\":2},{\"cluster\":2},{\"cluster\":2},{\"cluster\":2},{\"cluster\":2},{\"cluster\":2},{\"cluster\":2},{\"cluster\":2},{\"cluster\":2},{\"cluster\":2},{\"cluster\":2},{\"cluster\":2},{\"cluster\":2},{\"cluster\":2},{\"cluster\":2},{\"cluster\":2},{\"cluster\":2},{\"cluster\":2},{\"cluster\":2},{\"cluster\":2},{\"cluster\":2},{\"cluster\":2},{\"cluster\":2},{\"cluster\":2},{\"cluster\":2},{\"cluster\":2},{\"cluster\":2},{\"cluster\":2},{\"cluster\":2},{\"cluster\":2},{\"cluster\":2},{\"cluster\":2},{\"cluster\":2},{\"cluster\":2},{\"cluster\":2},{\"cluster\":2},{\"cluster\":2},{\"cluster\":2}],\"cluster\":[2,2,2,2,2,2,2,2,2,2,2,2,2,2,2,2,2,2,2,2,2,2,2,2,2,2,2,2,2,2,2,2,2,2,2,2,2,2,2,2,2,2,2,2,2,2,2,2,2,2,2,2,2,2,2,2,2,2,2,2,2,2,2,2,2,2,2,2,2,2,2,2,2,2,2],\"x_values\":[0.37001668893751477,0.02652219563332882,-0.5146061885530132,0.9340724220331046,-1.1511222372793561,0.30872125531242955,0.5258992657492596,-0.6387729309730632,0.55299297758926,0.9037277029166207,-0.2697198059946801,-0.17950239137665558,-0.010470046844190199,0.0516401178930302,0.18858995173875698,1.3084902780433765,0.27687638974244866,0.02207664624425522,0.8961731879893441,-0.14704350528969215,0.6646372505949422,0.801306397102569,0.1992058854247503,0.381281652136021,0.34995362302982336,-0.9890786177081542,1.4715848231479884,-1.2204911378482688,1.4727147630497728,0.6596468911418795,1.7605082904382243,1.4106552574043094,1.8936629182900588,-0.8640182864278173,1.3640819109845674,-0.9222823697660706,1.6043375053297926,1.3464372893142091,0.6220763841198204,0.5861048681241218,0.7283832628327278,1.0644738005947159,1.208361963907854,1.1090982946850398,0.01833668432026923,0.03075722221984002,-0.4323848310618196,1.4121798129985985,-1.2685210550357868,0.34822582156636744,0.5337945793955096,1.2152868718348415,1.1158496620615246,0.7370497907076516,1.0310167625504731,1.7765067619710195,1.1024628966500027,-0.320011446532823,1.5543685775859188,0.5620056628856989,0.8070922055959113,1.042950097120762,1.0875697394619197,-0.5624385302579861,1.58807505823629,1.0690467152274723,0.6794909202971554,1.502294891394717,1.5102191437831356,0.8996797821975502,0.7557557304076908,1.322073841865421,1.654013952485364,2.1119468278503835,1.368207790916178],\"y_values\":[-0.3049415824388589,-0.5773003401629913,0.24010278741182314,-0.5687527433244624,0.41593287971874554,3.6209822025937144,-0.7913521550791308,-1.3417036181173119,-0.2955703930509939,-1.290266008663066,0.6659371756574275,-1.1626297113679036,-0.8125485961549253,-0.6103122300475958,-0.7503218017975207,0.03174430376933,-0.4938989211430823,-0.9063957348583509,-0.5870916329073285,-1.2863412764213822,-0.07299678155908021,-0.8951361973959139,0.1296174589143656,-0.6045559943097284,-1.5719798027113943,-2.5054760139477055,-1.2499171157177036,0.2905758609584462,2.062827958570174,3.4507111909545674,2.333083902814887,0.033645617441494025,0.8273366117077785,-1.336181519911852,-0.31236181068782765,0.7335121039556162,1.8403516653824357,0.9652000969678421,-1.2705815811469356,-0.5678461212248859,-1.510142959273283,0.31401402003899503,-0.3923954733967157,0.5262091099771494,-0.9262535666688924,-0.6202768377344239,-0.7862703650430273,0.5080344398099682,-0.873711219115543,-1.0862858896367018,-0.7880691268398182,-0.34198076061142046,-0.6275218239160972,1.1529640757979611,-0.8994448803232691,-0.7182656357678017,-0.31877883937772455,-1.5797091766340374,-0.2526225341870685,-0.017020482054686585,0.23279320033729872,-0.2595537987508872,0.20992893694175543,-1.319998803084146,-0.2831406050822442,-0.8688962110821742,-1.180350715419906,0.21320536508095725,-1.1738470546525186,-0.054373607581086045,-0.18072243162075582,-0.9213630556649733,-0.36601066887888334,-0.17119168835786158,-0.05337329900910112]}},\"id\":\"ad90b4b2-8d84-467a-a894-5dae3db1edd8\",\"type\":\"ColumnDataSource\"},{\"attributes\":{\"bottom_units\":\"screen\",\"fill_alpha\":{\"value\":0.5},\"fill_color\":{\"value\":\"lightgrey\"},\"left_units\":\"screen\",\"level\":\"overlay\",\"line_alpha\":{\"value\":1.0},\"line_color\":{\"value\":\"black\"},\"line_dash\":[4,4],\"line_width\":{\"value\":2},\"plot\":null,\"render_mode\":\"css\",\"right_units\":\"screen\",\"top_units\":\"screen\"},\"id\":\"cab170d9-f1e6-45bd-a5c2-f6bb6c197ae9\",\"type\":\"BoxAnnotation\"},{\"attributes\":{},\"id\":\"dd3dfd7a-73b1-4085-a10b-7483ee6f5bab\",\"type\":\"BasicTickFormatter\"},{\"attributes\":{},\"id\":\"6e793f79-d179-48a3-97ed-7cd81bec539f\",\"type\":\"BasicTicker\"},{\"attributes\":{},\"id\":\"de7c8b47-a909-485f-8143-712491dbcdb0\",\"type\":\"BasicTickFormatter\"},{\"attributes\":{\"plot\":{\"id\":\"fc0601f3-4215-44e2-9e72-1e8d897e6fc1\",\"subtype\":\"Chart\",\"type\":\"Plot\"}},\"id\":\"84ee6768-1187-4b4f-bef1-a7f26f855fe1\",\"type\":\"PanTool\"},{\"attributes\":{\"axis_label\":\"first principal component\",\"formatter\":{\"id\":\"de7c8b47-a909-485f-8143-712491dbcdb0\",\"type\":\"BasicTickFormatter\"},\"plot\":{\"id\":\"fc0601f3-4215-44e2-9e72-1e8d897e6fc1\",\"subtype\":\"Chart\",\"type\":\"Plot\"},\"ticker\":{\"id\":\"d1336adc-5d13-4d79-a9c5-bd9f2860941f\",\"type\":\"BasicTicker\"}},\"id\":\"d3d14281-1139-4752-a149-b95e097ff866\",\"type\":\"LinearAxis\"},{\"attributes\":{\"fill_alpha\":{\"value\":0.7},\"fill_color\":{\"value\":\"#407ee7\"},\"line_color\":{\"value\":\"#407ee7\"},\"size\":{\"units\":\"screen\",\"value\":8},\"x\":{\"field\":\"x_values\"},\"y\":{\"field\":\"y_values\"}},\"id\":\"0eb66f32-e73f-460e-9de4-a5ef0aec416b\",\"type\":\"Circle\"},{\"attributes\":{\"data_source\":{\"id\":\"249b328e-56c5-45ef-b6f8-fefe03af65be\",\"type\":\"ColumnDataSource\"},\"glyph\":{\"id\":\"6ed77c23-01ff-4ae4-9db1-e8ad4be86a32\",\"type\":\"Circle\"},\"hover_glyph\":null,\"nonselection_glyph\":null,\"selection_glyph\":null},\"id\":\"800901af-4499-4c23-bac9-b7c5b4d5b480\",\"type\":\"GlyphRenderer\"}],\"root_ids\":[\"fc0601f3-4215-44e2-9e72-1e8d897e6fc1\"]},\"title\":\"Bokeh Application\",\"version\":\"0.11.1\"}};\n",
       "            var render_items = [{\"docid\":\"86c77973-9fc3-4741-b7eb-8011f2096744\",\"elementid\":\"0ef6d182-18b1-46e9-8e8b-7e32b2b61252\",\"modelid\":\"fc0601f3-4215-44e2-9e72-1e8d897e6fc1\",\"notebook_comms_target\":\"b8700c04-37c1-4077-baed-cd1f59800081\"}];\n",
       "            \n",
       "            Bokeh.embed.embed_items(docs_json, render_items);\n",
       "        });\n",
       "      },\n",
       "      function(Bokeh) {\n",
       "      }\n",
       "    ];\n",
       "  \n",
       "    function run_inline_js() {\n",
       "      for (var i = 0; i < inline_js.length; i++) {\n",
       "        inline_js[i](window.Bokeh);\n",
       "      }\n",
       "    }\n",
       "  \n",
       "    if (window._bokeh_is_loading === 0) {\n",
       "      console.log(\"Bokeh: BokehJS loaded, going straight to plotting\");\n",
       "      run_inline_js();\n",
       "    } else {\n",
       "      load_libs(js_urls, function() {\n",
       "        console.log(\"Bokeh: BokehJS plotting callback run at\", now());\n",
       "        run_inline_js();\n",
       "      });\n",
       "    }\n",
       "  }(this));\n",
       "</script>"
      ]
     },
     "metadata": {},
     "output_type": "display_data"
    },
    {
     "data": {
      "text/html": [
       "<p><code>&lt;Bokeh Notebook handle for <strong>In[30]</strong>&gt;</code></p>"
      ],
      "text/plain": [
       "<bokeh.io._CommsHandle at 0x7fdae8dc55d0>"
      ]
     },
     "execution_count": 30,
     "metadata": {},
     "output_type": "execute_result"
    }
   ],
   "source": [
    "p = Scatter(dfSmall, x='firstComp', y='secondComp', color='cluster',\\\n",
    "            title=\"Player position\", xlabel=\"first principal component\",\\\n",
    "            ylabel=\"second princ component\",legend=\"top_right\")\n",
    "\n",
    "#output_file(\"scatter.html\")\n",
    "\n",
    "show(p)"
   ]
  },
  {
   "cell_type": "markdown",
   "metadata": {},
   "source": [
    "### Except for the cluster no2, i.e. the blue cluster, the other three are pretty well defined"
   ]
  },
  {
   "cell_type": "code",
   "execution_count": 31,
   "metadata": {
    "collapsed": false
   },
   "outputs": [
    {
     "data": {
      "text/html": [
       "<div>\n",
       "<table border=\"1\" class=\"dataframe\">\n",
       "  <thead>\n",
       "    <tr style=\"text-align: right;\">\n",
       "      <th></th>\n",
       "      <th>Goals</th>\n",
       "      <th>Assists</th>\n",
       "      <th>Solo runs into penalty area</th>\n",
       "      <th>Deliveries into penalty area</th>\n",
       "      <th>Total attempts</th>\n",
       "      <th>On target</th>\n",
       "      <th>Red cards</th>\n",
       "      <th>Yellow cards</th>\n",
       "      <th>Fouls committed</th>\n",
       "      <th>Tackles</th>\n",
       "      <th>Blocks</th>\n",
       "    </tr>\n",
       "    <tr>\n",
       "      <th>Name</th>\n",
       "      <th></th>\n",
       "      <th></th>\n",
       "      <th></th>\n",
       "      <th></th>\n",
       "      <th></th>\n",
       "      <th></th>\n",
       "      <th></th>\n",
       "      <th></th>\n",
       "      <th></th>\n",
       "      <th></th>\n",
       "      <th></th>\n",
       "    </tr>\n",
       "  </thead>\n",
       "  <tbody>\n",
       "    <tr>\n",
       "      <th>Antoine Griezmann</th>\n",
       "      <td>4.334542</td>\n",
       "      <td>1.349193</td>\n",
       "      <td>0.829062</td>\n",
       "      <td>0.907426</td>\n",
       "      <td>2.235545</td>\n",
       "      <td>3.320213</td>\n",
       "      <td>-0.075378</td>\n",
       "      <td>-0.645252</td>\n",
       "      <td>-0.652384</td>\n",
       "      <td>1.158730</td>\n",
       "      <td>-0.333227</td>\n",
       "    </tr>\n",
       "    <tr>\n",
       "      <th>Cristiano Ronaldo</th>\n",
       "      <td>1.692633</td>\n",
       "      <td>1.923765</td>\n",
       "      <td>0.414591</td>\n",
       "      <td>-0.158653</td>\n",
       "      <td>4.078032</td>\n",
       "      <td>2.359938</td>\n",
       "      <td>-0.075378</td>\n",
       "      <td>-0.222420</td>\n",
       "      <td>-0.195612</td>\n",
       "      <td>-0.688291</td>\n",
       "      <td>-0.678728</td>\n",
       "    </tr>\n",
       "    <tr>\n",
       "      <th>Olivier Giroud</th>\n",
       "      <td>2.474527</td>\n",
       "      <td>1.724924</td>\n",
       "      <td>0.443018</td>\n",
       "      <td>-0.484618</td>\n",
       "      <td>1.274664</td>\n",
       "      <td>1.396974</td>\n",
       "      <td>-0.075378</td>\n",
       "      <td>-0.065713</td>\n",
       "      <td>-0.166383</td>\n",
       "      <td>-0.688291</td>\n",
       "      <td>-0.678728</td>\n",
       "    </tr>\n",
       "    <tr>\n",
       "      <th>Dimitri Payet</th>\n",
       "      <td>2.188794</td>\n",
       "      <td>1.516784</td>\n",
       "      <td>3.165348</td>\n",
       "      <td>4.823774</td>\n",
       "      <td>1.731337</td>\n",
       "      <td>1.504727</td>\n",
       "      <td>-0.075378</td>\n",
       "      <td>-0.645252</td>\n",
       "      <td>-0.918195</td>\n",
       "      <td>-0.283115</td>\n",
       "      <td>-0.678728</td>\n",
       "    </tr>\n",
       "    <tr>\n",
       "      <th>Gareth Bale</th>\n",
       "      <td>2.056788</td>\n",
       "      <td>0.519590</td>\n",
       "      <td>1.186188</td>\n",
       "      <td>0.473552</td>\n",
       "      <td>2.239502</td>\n",
       "      <td>4.084186</td>\n",
       "      <td>-0.075378</td>\n",
       "      <td>-0.149436</td>\n",
       "      <td>-0.474858</td>\n",
       "      <td>0.465664</td>\n",
       "      <td>-0.318966</td>\n",
       "    </tr>\n",
       "  </tbody>\n",
       "</table>\n",
       "</div>"
      ],
      "text/plain": [
       "                      Goals   Assists  Solo runs into penalty area  \\\n",
       "Name                                                                 \n",
       "Antoine Griezmann  4.334542  1.349193                     0.829062   \n",
       "Cristiano Ronaldo  1.692633  1.923765                     0.414591   \n",
       "Olivier Giroud     2.474527  1.724924                     0.443018   \n",
       "Dimitri Payet      2.188794  1.516784                     3.165348   \n",
       "Gareth Bale        2.056788  0.519590                     1.186188   \n",
       "\n",
       "                   Deliveries into penalty area  Total attempts  On target  \\\n",
       "Name                                                                         \n",
       "Antoine Griezmann                      0.907426        2.235545   3.320213   \n",
       "Cristiano Ronaldo                     -0.158653        4.078032   2.359938   \n",
       "Olivier Giroud                        -0.484618        1.274664   1.396974   \n",
       "Dimitri Payet                          4.823774        1.731337   1.504727   \n",
       "Gareth Bale                            0.473552        2.239502   4.084186   \n",
       "\n",
       "                   Red cards  Yellow cards  Fouls committed   Tackles  \\\n",
       "Name                                                                    \n",
       "Antoine Griezmann  -0.075378     -0.645252        -0.652384  1.158730   \n",
       "Cristiano Ronaldo  -0.075378     -0.222420        -0.195612 -0.688291   \n",
       "Olivier Giroud     -0.075378     -0.065713        -0.166383 -0.688291   \n",
       "Dimitri Payet      -0.075378     -0.645252        -0.918195 -0.283115   \n",
       "Gareth Bale        -0.075378     -0.149436        -0.474858  0.465664   \n",
       "\n",
       "                     Blocks  \n",
       "Name                         \n",
       "Antoine Griezmann -0.333227  \n",
       "Cristiano Ronaldo -0.678728  \n",
       "Olivier Giroud    -0.678728  \n",
       "Dimitri Payet     -0.678728  \n",
       "Gareth Bale       -0.318966  "
      ]
     },
     "execution_count": 31,
     "metadata": {},
     "output_type": "execute_result"
    }
   ],
   "source": [
    "df2 = df1.copy()\n",
    "df2.head()"
   ]
  },
  {
   "cell_type": "markdown",
   "metadata": {},
   "source": [
    "### But do, somehow, these clusters represent the traditional roles in a football team? Let's do a second scatterplot, this time with respect to the offensive and defensive attitude. We can extract thevalues for both these measures by summing speciffic columns:"
   ]
  },
  {
   "cell_type": "code",
   "execution_count": 32,
   "metadata": {
    "collapsed": true
   },
   "outputs": [],
   "source": [
    "df2['offensive'] = df2['Goals'] +  df2['Solo runs into penalty area'] + df2['Total attempts']\n",
    "df2['defensive'] = df2['Tackles'] + df2['Blocks']\n",
    "df2['cluster'] = y"
   ]
  },
  {
   "cell_type": "code",
   "execution_count": 33,
   "metadata": {
    "collapsed": false
   },
   "outputs": [],
   "source": [
    "df2 = df2[['offensive', 'defensive', 'cluster']]"
   ]
  },
  {
   "cell_type": "code",
   "execution_count": 34,
   "metadata": {
    "collapsed": false
   },
   "outputs": [
    {
     "data": {
      "text/html": [
       "\n",
       "\n",
       "    <div class=\"plotdiv\" id=\"0a214462-cf00-40fb-9739-d19b54c6a349\"></div>\n",
       "<script type=\"text/javascript\">\n",
       "  \n",
       "  (function(global) {\n",
       "    function now() {\n",
       "      return new Date();\n",
       "    }\n",
       "  \n",
       "    if (typeof (window._bokeh_onload_callbacks) === \"undefined\") {\n",
       "      window._bokeh_onload_callbacks = [];\n",
       "    }\n",
       "  \n",
       "    function run_callbacks() {\n",
       "      window._bokeh_onload_callbacks.forEach(function(callback) { callback() });\n",
       "      delete window._bokeh_onload_callbacks\n",
       "      console.info(\"Bokeh: all callbacks have finished\");\n",
       "    }\n",
       "  \n",
       "    function load_libs(js_urls, callback) {\n",
       "      window._bokeh_onload_callbacks.push(callback);\n",
       "      if (window._bokeh_is_loading > 0) {\n",
       "        console.log(\"Bokeh: BokehJS is being loaded, scheduling callback at\", now());\n",
       "        return null;\n",
       "      }\n",
       "      if (js_urls == null || js_urls.length === 0) {\n",
       "        run_callbacks();\n",
       "        return null;\n",
       "      }\n",
       "      console.log(\"Bokeh: BokehJS not loaded, scheduling load and callback at\", now());\n",
       "      window._bokeh_is_loading = js_urls.length;\n",
       "      for (var i = 0; i < js_urls.length; i++) {\n",
       "        var url = js_urls[i];\n",
       "        var s = document.createElement('script');\n",
       "        s.src = url;\n",
       "        s.async = false;\n",
       "        s.onreadystatechange = s.onload = function() {\n",
       "          window._bokeh_is_loading--;\n",
       "          if (window._bokeh_is_loading === 0) {\n",
       "            console.log(\"Bokeh: all BokehJS libraries loaded\");\n",
       "            run_callbacks()\n",
       "          }\n",
       "        };\n",
       "        s.onerror = function() {\n",
       "          console.warn(\"failed to load library \" + url);\n",
       "        };\n",
       "        console.log(\"Bokeh: injecting script tag for BokehJS library: \", url);\n",
       "        document.getElementsByTagName(\"head\")[0].appendChild(s);\n",
       "      }\n",
       "    };var element = document.getElementById(\"0a214462-cf00-40fb-9739-d19b54c6a349\");\n",
       "    if (element == null) {\n",
       "      console.log(\"Bokeh: ERROR: autoload.js configured with elementid '0a214462-cf00-40fb-9739-d19b54c6a349' but no matching script tag was found. \")\n",
       "      return false;\n",
       "    }\n",
       "  \n",
       "    var js_urls = [];\n",
       "  \n",
       "    var inline_js = [\n",
       "      function(Bokeh) {\n",
       "        Bokeh.$(function() {\n",
       "            var docs_json = {\"5b7b9647-2805-41c9-bb24-a96a856f3f28\":{\"roots\":{\"references\":[{\"attributes\":{\"data_source\":{\"id\":\"23ed8abd-3867-4e60-9319-b96731d60675\",\"type\":\"ColumnDataSource\"},\"glyph\":{\"id\":\"8d92da9b-eccf-4098-98dd-0a0321a91e67\",\"type\":\"Circle\"},\"hover_glyph\":null,\"nonselection_glyph\":null,\"selection_glyph\":null},\"id\":\"997759e5-7d08-493a-84b7-b5de788d1df3\",\"type\":\"GlyphRenderer\"},{\"attributes\":{},\"id\":\"cf3c2cd4-28f1-48f6-84b0-f3f165b526cd\",\"type\":\"ToolEvents\"},{\"attributes\":{},\"id\":\"3bd5c5fe-fc27-478b-a260-332934c03cbb\",\"type\":\"ToolEvents\"},{\"attributes\":{\"plot\":{\"id\":\"fc0601f3-4215-44e2-9e72-1e8d897e6fc1\",\"subtype\":\"Chart\",\"type\":\"Plot\"}},\"id\":\"5d4a6a9a-c116-4ffd-bfa9-a87e85069562\",\"type\":\"ResizeTool\"},{\"attributes\":{\"axis_label\":\"defensive attitude\",\"formatter\":{\"id\":\"5e6bf1ec-83e8-4f7d-a624-f3eccbc9fc01\",\"type\":\"BasicTickFormatter\"},\"plot\":{\"id\":\"faf3ed73-780b-45a0-86e8-2a96e0001d11\",\"subtype\":\"Chart\",\"type\":\"Plot\"},\"ticker\":{\"id\":\"b449c61b-d360-4f1d-844d-2e54c661aee7\",\"type\":\"BasicTicker\"}},\"id\":\"fd9438fd-85cc-45cd-a622-1fdd37bf4156\",\"type\":\"LinearAxis\"},{\"attributes\":{\"data_source\":{\"id\":\"b69a3c69-db26-4e7b-9133-b04f17f91a82\",\"type\":\"ColumnDataSource\"},\"glyph\":{\"id\":\"cea8cbdd-f384-46af-8dcf-787ce7b8e37f\",\"type\":\"Circle\"},\"hover_glyph\":null,\"nonselection_glyph\":null,\"selection_glyph\":null},\"id\":\"ad92dd4a-0885-449e-a11a-1214a5c9b6d7\",\"type\":\"GlyphRenderer\"},{\"attributes\":{\"callback\":null,\"column_names\":[\"x_values\",\"y_values\"],\"data\":{\"chart_index\":[{\"cluster\":2},{\"cluster\":2},{\"cluster\":2},{\"cluster\":2},{\"cluster\":2},{\"cluster\":2},{\"cluster\":2},{\"cluster\":2},{\"cluster\":2},{\"cluster\":2},{\"cluster\":2},{\"cluster\":2},{\"cluster\":2},{\"cluster\":2},{\"cluster\":2},{\"cluster\":2},{\"cluster\":2},{\"cluster\":2},{\"cluster\":2},{\"cluster\":2},{\"cluster\":2},{\"cluster\":2},{\"cluster\":2},{\"cluster\":2},{\"cluster\":2},{\"cluster\":2},{\"cluster\":2},{\"cluster\":2},{\"cluster\":2},{\"cluster\":2},{\"cluster\":2},{\"cluster\":2},{\"cluster\":2},{\"cluster\":2},{\"cluster\":2},{\"cluster\":2},{\"cluster\":2},{\"cluster\":2},{\"cluster\":2},{\"cluster\":2},{\"cluster\":2},{\"cluster\":2},{\"cluster\":2},{\"cluster\":2},{\"cluster\":2},{\"cluster\":2},{\"cluster\":2},{\"cluster\":2},{\"cluster\":2},{\"cluster\":2},{\"cluster\":2},{\"cluster\":2},{\"cluster\":2},{\"cluster\":2},{\"cluster\":2},{\"cluster\":2},{\"cluster\":2},{\"cluster\":2},{\"cluster\":2},{\"cluster\":2},{\"cluster\":2},{\"cluster\":2},{\"cluster\":2},{\"cluster\":2},{\"cluster\":2},{\"cluster\":2},{\"cluster\":2},{\"cluster\":2},{\"cluster\":2},{\"cluster\":2},{\"cluster\":2},{\"cluster\":2},{\"cluster\":2},{\"cluster\":2},{\"cluster\":2}],\"cluster\":[2,2,2,2,2,2,2,2,2,2,2,2,2,2,2,2,2,2,2,2,2,2,2,2,2,2,2,2,2,2,2,2,2,2,2,2,2,2,2,2,2,2,2,2,2,2,2,2,2,2,2,2,2,2,2,2,2,2,2,2,2,2,2,2,2,2,2,2,2,2,2,2,2,2,2],\"x_values\":[0.37001668893751477,0.02652219563332882,-0.5146061885530132,0.9340724220331046,-1.1511222372793561,0.30872125531242955,0.5258992657492596,-0.6387729309730632,0.55299297758926,0.9037277029166207,-0.2697198059946801,-0.17950239137665558,-0.010470046844190199,0.0516401178930302,0.18858995173875698,1.3084902780433765,0.27687638974244866,0.02207664624425522,0.8961731879893441,-0.14704350528969215,0.6646372505949422,0.801306397102569,0.1992058854247503,0.381281652136021,0.34995362302982336,-0.9890786177081542,1.4715848231479884,-1.2204911378482688,1.4727147630497728,0.6596468911418795,1.7605082904382243,1.4106552574043094,1.8936629182900588,-0.8640182864278173,1.3640819109845674,-0.9222823697660706,1.6043375053297926,1.3464372893142091,0.6220763841198204,0.5861048681241218,0.7283832628327278,1.0644738005947159,1.208361963907854,1.1090982946850398,0.01833668432026923,0.03075722221984002,-0.4323848310618196,1.4121798129985985,-1.2685210550357868,0.34822582156636744,0.5337945793955096,1.2152868718348415,1.1158496620615246,0.7370497907076516,1.0310167625504731,1.7765067619710195,1.1024628966500027,-0.320011446532823,1.5543685775859188,0.5620056628856989,0.8070922055959113,1.042950097120762,1.0875697394619197,-0.5624385302579861,1.58807505823629,1.0690467152274723,0.6794909202971554,1.502294891394717,1.5102191437831356,0.8996797821975502,0.7557557304076908,1.322073841865421,1.654013952485364,2.1119468278503835,1.368207790916178],\"y_values\":[-0.3049415824388589,-0.5773003401629913,0.24010278741182314,-0.5687527433244624,0.41593287971874554,3.6209822025937144,-0.7913521550791308,-1.3417036181173119,-0.2955703930509939,-1.290266008663066,0.6659371756574275,-1.1626297113679036,-0.8125485961549253,-0.6103122300475958,-0.7503218017975207,0.03174430376933,-0.4938989211430823,-0.9063957348583509,-0.5870916329073285,-1.2863412764213822,-0.07299678155908021,-0.8951361973959139,0.1296174589143656,-0.6045559943097284,-1.5719798027113943,-2.5054760139477055,-1.2499171157177036,0.2905758609584462,2.062827958570174,3.4507111909545674,2.333083902814887,0.033645617441494025,0.8273366117077785,-1.336181519911852,-0.31236181068782765,0.7335121039556162,1.8403516653824357,0.9652000969678421,-1.2705815811469356,-0.5678461212248859,-1.510142959273283,0.31401402003899503,-0.3923954733967157,0.5262091099771494,-0.9262535666688924,-0.6202768377344239,-0.7862703650430273,0.5080344398099682,-0.873711219115543,-1.0862858896367018,-0.7880691268398182,-0.34198076061142046,-0.6275218239160972,1.1529640757979611,-0.8994448803232691,-0.7182656357678017,-0.31877883937772455,-1.5797091766340374,-0.2526225341870685,-0.017020482054686585,0.23279320033729872,-0.2595537987508872,0.20992893694175543,-1.319998803084146,-0.2831406050822442,-0.8688962110821742,-1.180350715419906,0.21320536508095725,-1.1738470546525186,-0.054373607581086045,-0.18072243162075582,-0.9213630556649733,-0.36601066887888334,-0.17119168835786158,-0.05337329900910112]}},\"id\":\"ad90b4b2-8d84-467a-a894-5dae3db1edd8\",\"type\":\"ColumnDataSource\"},{\"attributes\":{\"legends\":[[\"0\",[{\"id\":\"c2a2f3ad-af58-4314-ad32-e5dec4ccf826\",\"type\":\"GlyphRenderer\"}]],[\"2\",[{\"id\":\"bfe36b5c-4cf6-4c6f-9b86-85936a292ee6\",\"type\":\"GlyphRenderer\"}]],[\"1\",[{\"id\":\"800901af-4499-4c23-bac9-b7c5b4d5b480\",\"type\":\"GlyphRenderer\"}]],[\"3\",[{\"id\":\"ad92dd4a-0885-449e-a11a-1214a5c9b6d7\",\"type\":\"GlyphRenderer\"}]]],\"plot\":{\"id\":\"fc0601f3-4215-44e2-9e72-1e8d897e6fc1\",\"subtype\":\"Chart\",\"type\":\"Plot\"}},\"id\":\"0cad8779-ebe6-4b52-8916-eccd00500cf6\",\"type\":\"Legend\"},{\"attributes\":{\"data_source\":{\"id\":\"6e9da27f-5e3c-411d-aa62-0d27e9bfabc9\",\"type\":\"ColumnDataSource\"},\"glyph\":{\"id\":\"50d8f053-32ec-498e-a850-4cee6946add6\",\"type\":\"Circle\"},\"hover_glyph\":null,\"nonselection_glyph\":null,\"selection_glyph\":null},\"id\":\"716e9f64-0e3f-4926-8eb9-f982b4d913f1\",\"type\":\"GlyphRenderer\"},{\"attributes\":{},\"id\":\"b449c61b-d360-4f1d-844d-2e54c661aee7\",\"type\":\"BasicTicker\"},{\"attributes\":{\"fill_alpha\":{\"value\":0.7},\"fill_color\":{\"value\":\"#f22c40\"},\"line_color\":{\"value\":\"#f22c40\"},\"size\":{\"units\":\"screen\",\"value\":8},\"x\":{\"field\":\"x_values\"},\"y\":{\"field\":\"y_values\"}},\"id\":\"34cc9f3d-a972-4802-a4a7-04ce84332096\",\"type\":\"Circle\"},{\"attributes\":{\"axis_label\":\"second princ component\",\"formatter\":{\"id\":\"dd3dfd7a-73b1-4085-a10b-7483ee6f5bab\",\"type\":\"BasicTickFormatter\"},\"plot\":{\"id\":\"fc0601f3-4215-44e2-9e72-1e8d897e6fc1\",\"subtype\":\"Chart\",\"type\":\"Plot\"},\"ticker\":{\"id\":\"6e793f79-d179-48a3-97ed-7cd81bec539f\",\"type\":\"BasicTicker\"}},\"id\":\"8a7ff1f2-f719-46f1-bd20-44665e081ce8\",\"type\":\"LinearAxis\"},{\"attributes\":{\"dimension\":1,\"plot\":{\"id\":\"fc0601f3-4215-44e2-9e72-1e8d897e6fc1\",\"subtype\":\"Chart\",\"type\":\"Plot\"},\"ticker\":{\"id\":\"6e793f79-d179-48a3-97ed-7cd81bec539f\",\"type\":\"BasicTicker\"}},\"id\":\"303dcd41-35d3-48a2-ba1d-bb220e33b17c\",\"type\":\"Grid\"},{\"attributes\":{\"fill_alpha\":{\"value\":0.7},\"fill_color\":{\"value\":\"#df5320\"},\"line_color\":{\"value\":\"#df5320\"},\"size\":{\"units\":\"screen\",\"value\":8},\"x\":{\"field\":\"x_values\"},\"y\":{\"field\":\"y_values\"}},\"id\":\"cea8cbdd-f384-46af-8dcf-787ce7b8e37f\",\"type\":\"Circle\"},{\"attributes\":{\"plot\":{\"id\":\"faf3ed73-780b-45a0-86e8-2a96e0001d11\",\"subtype\":\"Chart\",\"type\":\"Plot\"},\"ticker\":{\"id\":\"c91e260a-5103-43c6-afce-b4b80cda2a95\",\"type\":\"BasicTicker\"}},\"id\":\"2db90554-076a-4094-9854-5e1c7a3545c2\",\"type\":\"Grid\"},{\"attributes\":{\"plot\":{\"id\":\"faf3ed73-780b-45a0-86e8-2a96e0001d11\",\"subtype\":\"Chart\",\"type\":\"Plot\"}},\"id\":\"094a7661-4e3c-4570-987c-5f6330f65323\",\"type\":\"ResizeTool\"},{\"attributes\":{\"plot\":{\"id\":\"fc0601f3-4215-44e2-9e72-1e8d897e6fc1\",\"subtype\":\"Chart\",\"type\":\"Plot\"}},\"id\":\"e4dd72f4-3dc3-4cca-b3d1-d9e52f3060b1\",\"type\":\"PreviewSaveTool\"},{\"attributes\":{},\"id\":\"c91e260a-5103-43c6-afce-b4b80cda2a95\",\"type\":\"BasicTicker\"},{\"attributes\":{\"callback\":null,\"end\":3.628358564452875,\"start\":-7.112241726468976},\"id\":\"aa007b5f-b7df-413a-b6a4-7fc3228e316a\",\"type\":\"Range1d\"},{\"attributes\":{\"data_source\":{\"id\":\"abae2732-b3a1-441d-9d90-9856b218e453\",\"type\":\"ColumnDataSource\"},\"glyph\":{\"id\":\"dd89b110-127e-46be-b997-b09936df2411\",\"type\":\"Circle\"},\"hover_glyph\":null,\"nonselection_glyph\":null,\"selection_glyph\":null},\"id\":\"0f56ec40-dbf9-48f3-94ba-b3532d9eaa39\",\"type\":\"GlyphRenderer\"},{\"attributes\":{\"callback\":null,\"column_names\":[\"x_values\",\"y_values\"],\"data\":{\"chart_index\":[{\"cluster\":1},{\"cluster\":1},{\"cluster\":1},{\"cluster\":1},{\"cluster\":1},{\"cluster\":1},{\"cluster\":1},{\"cluster\":1},{\"cluster\":1},{\"cluster\":1},{\"cluster\":1},{\"cluster\":1},{\"cluster\":1},{\"cluster\":1},{\"cluster\":1},{\"cluster\":1},{\"cluster\":1},{\"cluster\":1},{\"cluster\":1},{\"cluster\":1},{\"cluster\":1},{\"cluster\":1},{\"cluster\":1},{\"cluster\":1},{\"cluster\":1},{\"cluster\":1},{\"cluster\":1},{\"cluster\":1},{\"cluster\":1},{\"cluster\":1},{\"cluster\":1},{\"cluster\":1},{\"cluster\":1},{\"cluster\":1},{\"cluster\":1},{\"cluster\":1},{\"cluster\":1},{\"cluster\":1},{\"cluster\":1},{\"cluster\":1},{\"cluster\":1},{\"cluster\":1},{\"cluster\":1},{\"cluster\":1},{\"cluster\":1},{\"cluster\":1},{\"cluster\":1},{\"cluster\":1},{\"cluster\":1},{\"cluster\":1},{\"cluster\":1},{\"cluster\":1},{\"cluster\":1},{\"cluster\":1},{\"cluster\":1},{\"cluster\":1},{\"cluster\":1},{\"cluster\":1},{\"cluster\":1},{\"cluster\":1},{\"cluster\":1},{\"cluster\":1},{\"cluster\":1},{\"cluster\":1},{\"cluster\":1},{\"cluster\":1},{\"cluster\":1},{\"cluster\":1},{\"cluster\":1},{\"cluster\":1},{\"cluster\":1},{\"cluster\":1},{\"cluster\":1},{\"cluster\":1},{\"cluster\":1},{\"cluster\":1},{\"cluster\":1},{\"cluster\":1},{\"cluster\":1},{\"cluster\":1},{\"cluster\":1},{\"cluster\":1},{\"cluster\":1},{\"cluster\":1},{\"cluster\":1},{\"cluster\":1},{\"cluster\":1},{\"cluster\":1},{\"cluster\":1},{\"cluster\":1},{\"cluster\":1},{\"cluster\":1},{\"cluster\":1},{\"cluster\":1},{\"cluster\":1},{\"cluster\":1},{\"cluster\":1},{\"cluster\":1},{\"cluster\":1},{\"cluster\":1},{\"cluster\":1},{\"cluster\":1},{\"cluster\":1},{\"cluster\":1},{\"cluster\":1},{\"cluster\":1},{\"cluster\":1},{\"cluster\":1},{\"cluster\":1},{\"cluster\":1},{\"cluster\":1},{\"cluster\":1}],\"cluster\":[1,1,1,1,1,1,1,1,1,1,1,1,1,1,1,1,1,1,1,1,1,1,1,1,1,1,1,1,1,1,1,1,1,1,1,1,1,1,1,1,1,1,1,1,1,1,1,1,1,1,1,1,1,1,1,1,1,1,1,1,1,1,1,1,1,1,1,1,1,1,1,1,1,1,1,1,1,1,1,1,1,1,1,1,1,1,1,1,1,1,1,1,1,1,1,1,1,1,1,1,1,1,1,1,1,1,1,1,1,1,1,1],\"x_values\":[0.7556962442174437,0.4990670810679996,1.389701535712777,0.4403309606000332,0.779076541654101,0.8738156778685385,1.3131000447327565,0.43854400530745824,0.438069103125036,0.9345033909586148,1.2649007724171712,0.8126315862511254,2.0191836383663166,2.007618537455384,1.2443218773338027,1.1289776197302532,0.6086193053827226,0.423647438023043,1.163063162359344,-0.6004140480906264,0.8715765130099413,1.5457965118988604,0.865200026237596,1.8230719373558126,-0.0018366981700501635,-0.01235480010154942,1.5941749103677179,1.1572644591517387,2.1035103680578717,1.2540809409815854,1.5910947197859775,0.9976417110008442,1.735378678961727,0.06294113449100383,0.9583362098784267,0.5009059927668625,1.2443218773338027,1.1888332153643035,1.29417930303888,1.4605445583130516,0.8355590918599749,0.20141052171451948,2.493389762734343,1.1783327527090808,2.179836504504822,0.3334490621934242,1.1598341072143508,0.9418939409142048,0.3458983668325614,-0.28963022555850226,0.44675495773369983,1.4974945319285846,0.46964842614510266,-0.22841069119025378,0.394420067440352,1.2817674019097873,0.49990079814812727,0.8758336016617215,1.0243036064442625,0.7279897773365469,1.9114518521706771,0.7225300557614576,0.326782708245701,0.22734432924236372,2.1829021784539226,1.1510160154586864,0.9965036457553949,0.8508409014617699,1.0386857991143001,1.8244213410525387,1.0555006350170733,1.0524595257415015,1.6086996103042133,0.8033421177347886,1.0430725531475993,1.0621165057292188,1.1008919178106706,0.09036329865492487,1.2632014509163612,1.9887021814565533,1.371457656943274,0.9501824866270205,-0.4483344564353946,1.7329240558943706,1.455131527238763,0.7484803588754858,1.4970823923811711,1.3884421963573996,1.1729448674197416,0.9615639137172437,1.2458128349017203,2.3592252907775775,0.3070054113356823,2.4915619595786573,0.7458375875509976,1.4272297310708584,-0.43774419913876694,1.5666503827139955,1.2918515483526152,0.4050898512397756,0.9078283822456498,1.0233127168527105,2.353656714361489,1.0493516996500776,1.420407101393945,1.2709899441736137,1.803821429927952,1.3489049532817325,1.1169763906850214,1.358956346767657,1.6111135744060872,0.8270534942595915],\"y_values\":[-0.08446627655804094,0.47172677394743273,0.16697727073799296,-0.20858680964064374,-0.5618551831954577,-0.1789541828062269,-0.5635319604431648,-0.680065130852601,-1.401276703069449,-1.4361848001819382,-0.054854934040028724,-1.6074791136731528,-1.1821498037290423,-1.1824474961704907,-1.202095197306083,-1.396583561109889,-1.1505079204787068,-0.3626424888142365,-0.14894984605510722,0.10074628787367153,-0.5189032073815328,-0.28499002825566666,-1.1128614751611223,-0.60110132968027,-0.14747423257534648,-0.7338414782446631,1.0973430880673105,-0.8764598692597796,-0.856730651968487,-0.6580431136953768,-0.5313008483100297,-1.433743149515837,-0.212627602893475,1.2299375552757854,-0.6779220326225922,-0.0402807424363124,-1.202095197306083,-0.9377773784435277,0.7190549021743053,0.5293881213195436,-0.11221253282603035,-1.046367277266625,-0.8380425966124709,-1.0125363848893094,-0.5622848569975498,-0.945040659185428,-0.5191809185135574,-0.278015137791619,-1.1454419047420106,-0.4177301768200599,-1.6163885351723242,-1.1955783855432875,-1.4916718059100644,-0.7114146572318151,-0.3604004124885772,0.31321843394856913,-0.9335829825017016,0.03848025839570959,-0.19002864256812524,-0.25572808285806786,0.0476583313257964,0.26827862502801825,-0.8383211627031991,-0.20944954279869343,0.06676578694766046,-0.22953497272033915,-0.958435080100794,-0.7662124537929159,0.05424677876474446,-0.8051750646653619,-0.475612923311394,-1.3822658268025583,0.3745987321747616,-0.8352956607381723,-0.6174872634563597,-0.45649460714469137,-1.361263718999577,-0.8754835906061361,-0.4288901895089805,-0.5818247807477421,0.15075147682103163,0.19908032528656738,-0.6196888336780917,0.35767007754446994,-0.40805507203147245,-0.6006394722162604,-0.07152262857371455,-0.18243543525799263,-0.23271574723568517,-0.2512817708046056,-1.2230355268786923,-0.08208692502080184,0.28553456939819094,0.29790731834361317,0.07501185276816923,-0.8770912099076219,-0.36514318320565015,-0.07542104970224651,-0.2269151674579749,-1.3607386458524469,-0.4679460107511449,-0.38873268089780477,-0.11644130952889017,-0.8192722969021156,-0.5483203100557348,-0.29374145813451435,-0.5205855051967434,-0.9461314587237946,0.49986286927044443,-0.5076091949035056,-0.3508714984774732,-0.6607927921556249]}},\"id\":\"249b328e-56c5-45ef-b6f8-fefe03af65be\",\"type\":\"ColumnDataSource\"},{\"attributes\":{\"plot\":{\"id\":\"faf3ed73-780b-45a0-86e8-2a96e0001d11\",\"subtype\":\"Chart\",\"type\":\"Plot\"}},\"id\":\"57de6be6-af67-46cc-94fc-3f1722b1991d\",\"type\":\"PanTool\"},{\"attributes\":{\"data_source\":{\"id\":\"369b19bd-7d5c-4070-a49e-9354f5b65b8e\",\"type\":\"ColumnDataSource\"},\"glyph\":{\"id\":\"34cc9f3d-a972-4802-a4a7-04ce84332096\",\"type\":\"Circle\"},\"hover_glyph\":null,\"nonselection_glyph\":null,\"selection_glyph\":null},\"id\":\"c2a2f3ad-af58-4314-ad32-e5dec4ccf826\",\"type\":\"GlyphRenderer\"},{\"attributes\":{\"plot\":{\"id\":\"faf3ed73-780b-45a0-86e8-2a96e0001d11\",\"subtype\":\"Chart\",\"type\":\"Plot\"}},\"id\":\"e5045df3-f663-431c-ba27-bbabbd1542f9\",\"type\":\"HelpTool\"},{\"attributes\":{\"data_source\":{\"id\":\"ad90b4b2-8d84-467a-a894-5dae3db1edd8\",\"type\":\"ColumnDataSource\"},\"glyph\":{\"id\":\"0eb66f32-e73f-460e-9de4-a5ef0aec416b\",\"type\":\"Circle\"},\"hover_glyph\":null,\"nonselection_glyph\":null,\"selection_glyph\":null},\"id\":\"bfe36b5c-4cf6-4c6f-9b86-85936a292ee6\",\"type\":\"GlyphRenderer\"},{\"attributes\":{\"plot\":{\"id\":\"fc0601f3-4215-44e2-9e72-1e8d897e6fc1\",\"subtype\":\"Chart\",\"type\":\"Plot\"}},\"id\":\"f93b5e48-27e8-4468-a193-fad5cc69e9c2\",\"type\":\"ResetTool\"},{\"attributes\":{\"callback\":null,\"column_names\":[\"x_values\",\"y_values\"],\"data\":{\"chart_index\":[{\"cluster\":0},{\"cluster\":0},{\"cluster\":0},{\"cluster\":0},{\"cluster\":0},{\"cluster\":0},{\"cluster\":0},{\"cluster\":0},{\"cluster\":0},{\"cluster\":0},{\"cluster\":0},{\"cluster\":0},{\"cluster\":0},{\"cluster\":0},{\"cluster\":0},{\"cluster\":0},{\"cluster\":0},{\"cluster\":0},{\"cluster\":0},{\"cluster\":0},{\"cluster\":0},{\"cluster\":0},{\"cluster\":0},{\"cluster\":0},{\"cluster\":0},{\"cluster\":0},{\"cluster\":0},{\"cluster\":0},{\"cluster\":0},{\"cluster\":0},{\"cluster\":0},{\"cluster\":0},{\"cluster\":0},{\"cluster\":0},{\"cluster\":0},{\"cluster\":0},{\"cluster\":0},{\"cluster\":0},{\"cluster\":0},{\"cluster\":0},{\"cluster\":0},{\"cluster\":0},{\"cluster\":0},{\"cluster\":0},{\"cluster\":0},{\"cluster\":0},{\"cluster\":0},{\"cluster\":0},{\"cluster\":0},{\"cluster\":0},{\"cluster\":0},{\"cluster\":0},{\"cluster\":0},{\"cluster\":0},{\"cluster\":0},{\"cluster\":0},{\"cluster\":0},{\"cluster\":0},{\"cluster\":0},{\"cluster\":0},{\"cluster\":0},{\"cluster\":0},{\"cluster\":0},{\"cluster\":0},{\"cluster\":0},{\"cluster\":0},{\"cluster\":0},{\"cluster\":0},{\"cluster\":0},{\"cluster\":0},{\"cluster\":0},{\"cluster\":0},{\"cluster\":0},{\"cluster\":0},{\"cluster\":0},{\"cluster\":0},{\"cluster\":0},{\"cluster\":0},{\"cluster\":0},{\"cluster\":0},{\"cluster\":0},{\"cluster\":0},{\"cluster\":0},{\"cluster\":0},{\"cluster\":0},{\"cluster\":0},{\"cluster\":0},{\"cluster\":0},{\"cluster\":0},{\"cluster\":0},{\"cluster\":0},{\"cluster\":0},{\"cluster\":0},{\"cluster\":0},{\"cluster\":0},{\"cluster\":0},{\"cluster\":0},{\"cluster\":0},{\"cluster\":0},{\"cluster\":0},{\"cluster\":0},{\"cluster\":0},{\"cluster\":0},{\"cluster\":0},{\"cluster\":0},{\"cluster\":0},{\"cluster\":0},{\"cluster\":0},{\"cluster\":0},{\"cluster\":0},{\"cluster\":0},{\"cluster\":0},{\"cluster\":0},{\"cluster\":0},{\"cluster\":0},{\"cluster\":0},{\"cluster\":0}],\"cluster\":[0,0,0,0,0,0,0,0,0,0,0,0,0,0,0,0,0,0,0,0,0,0,0,0,0,0,0,0,0,0,0,0,0,0,0,0,0,0,0,0,0,0,0,0,0,0,0,0,0,0,0,0,0,0,0,0,0,0,0,0,0,0,0,0,0,0,0,0,0,0,0,0,0,0,0,0,0,0,0,0,0,0,0,0,0,0,0,0,0,0,0,0,0,0,0,0,0,0,0,0,0,0,0,0,0,0,0,0,0,0,0,0,0,0,0,0,0],\"x_values\":[-5.330951399777983,-4.644955912761862,-2.9120133549315264,-5.63803015667175,-4.672945289363525,-2.283870382603693,-4.1150118328440275,-1.4642143868473323,-2.8261266604632853,-1.2303888231487272,-1.6843467600580915,-1.729642897428499,-3.612741310570762,-2.9154975167281862,-1.5972998339052484,-1.6566840402670793,-2.1752749388605905,-0.5242043735538446,-0.22643283551750115,-3.3852580353141106,-2.971318372940793,-3.4579110483414106,-2.621417775360328,-3.0936875109752826,-1.6155802557479186,-3.0926231558601014,-2.355094380255496,-1.0613403293708668,-0.8349910437150431,-3.2990642686227836,-1.0212426968697723,-1.5556288656042019,-2.2606567385104146,-2.0978778988525093,-1.094986393992754,-5.3726197217371165,-6.217191702225488,-3.914104392685589,-0.9857849061992069,-1.301201967756553,-0.5640680533075781,-1.3978040331133723,-1.9375472435954189,-2.166040126643414,-0.3666125303731906,-3.4237107399696227,-2.436945130293103,0.15975046456410588,-0.11680758449612831,-0.6258409428089348,-1.3767977778537799,-0.24479779507340618,-0.2302622392021361,-2.692607342523556,-1.5416255679630886,-0.8976386217018556,-0.5237458923081402,-1.5015848164401815,-0.2941971029734463,-1.1935207843560445,0.025098373568899626,-0.9701051429952634,-1.4078120562799774,-4.454395342207811,-4.745465106589364,-1.4924683589477883,-0.5128274605389859,-2.897310507391696,-1.550230695673166,-2.520127960717716,-4.51513969772217,-1.2434592862293752,-1.2433523451122264,-1.3950254615897701,-0.6692328393280523,-1.027121954087344,-1.70846534953914,-1.6865169557929975,-1.5978884119174668,-1.2753016201443261,-2.4777835185945745,-1.3846400435204893,-2.5502506610328886,-4.053677168739971,-0.44644950473998046,-1.163528909655358,-0.6545778324809197,-1.0685163556623931,0.023071812292138644,-1.0057232111132075,-1.776101059929067,-0.357545209679222,0.6137981296043261,0.18104112805561062,-5.6713481087206015,-0.43664876776166606,-1.189161707800058,-0.887800790416326,-1.0191114240321382,-3.047590902974734,-2.9517247449319233,-1.2249799820166312,0.2455777386813501,0.49253367908595524,-0.48377989704720703,0.6070930121091874,-0.7437562170799249,-1.4156378470386544,-1.0552219544994361,-2.300110374569925,-2.194393465467125,-1.684757136978802,-1.7371428595265226,-0.8362463092527987,0.38182340949905336,0.028984438662750796,-1.1452324255810236],\"y_values\":[0.6976111637351381,0.8564244896667665,0.7249217384332531,-1.9122588377068612,0.8598009333332193,0.13687262879187614,3.0894757645253885,0.38777542428712225,0.5754628790492119,-0.3845055757916387,0.7137036674691597,0.5849971120005079,0.8368614374708387,0.11026110575958095,2.4961283943889736,-0.6334859233658616,0.3809097134744397,0.4860619667850342,1.2155323894603827,-1.9375114778354803,-0.2260952117243728,0.9158559404106087,-0.7814238458181183,-0.11482971767524375,0.1253512404737427,-0.7707439256238974,0.018008191585952,-0.9177112981962163,-0.4291900169880001,-0.7089120149298049,-0.19517211298062348,0.003744778627447684,-0.5988893194084087,-0.6808601567558032,0.5181208189688403,4.151557549709707,4.944688315550849,1.3548224429256617,1.280754947355277,2.1577424815259496,0.5600043041043578,1.6717580157223573,1.3209112291380554,1.3531739784691463,1.7272146488195896,0.470131997693166,-1.1079015062922297,2.587463598884729,-0.49134204661543535,0.8665742486333924,2.0329454132147555,0.8638078328181943,0.8098864754263262,-0.543656177623026,-0.8569059167860428,-0.4942592796353246,-0.3269075105622866,-0.4065428188095243,-0.0677513501784936,-0.07271435940222488,-0.004557737827798344,0.5659329363592079,-0.7964469053395964,-1.1106679043628471,-1.1094477466873574,-1.8942366500477206,-1.963552230026327,0.49955325673812745,-1.4984098203505603,-0.7081838241959707,-1.1993076596268086,-1.1927246810885557,-0.6683920731806983,-0.016459413589115627,-0.4188722032530022,0.3261011843278799,-1.347058552252911,-2.068179685619504,-0.11999832160410845,-1.1222985961660021,0.1404658767158227,-0.30613323822439975,-0.8378994634152013,-0.5385449076212341,-1.6610247744603859,-1.8148652552235167,-1.5182842843256983,-0.6736381284218138,-1.527881383241903,0.7256154817954957,0.9177763960617429,-0.7514683021082643,0.08225354432195048,-0.4785179013330844,-0.4576554892794037,-0.9032733500368698,-0.35355715902460655,-0.4538471020126132,-0.026737734027887698,-0.23914686152939285,-0.436648053311284,0.2266798748345149,-1.7609593949087101,-0.7508028549162673,-1.3854082466462798,-0.34373224801354413,-1.1053206387421144,-0.7800095001196653,-0.7550977795720567,0.027513720359071056,-2.148095686211635,-0.41604962057251177,-1.0453112750063356,0.18106470476756548,-1.0676877421438824,-0.5518080781610054,-1.0116860441623827]}},\"id\":\"369b19bd-7d5c-4070-a49e-9354f5b65b8e\",\"type\":\"ColumnDataSource\"},{\"attributes\":{\"callback\":null,\"column_names\":[\"x_values\",\"y_values\"],\"data\":{\"chart_index\":[{\"cluster\":3},{\"cluster\":3},{\"cluster\":3},{\"cluster\":3},{\"cluster\":3},{\"cluster\":3},{\"cluster\":3},{\"cluster\":3},{\"cluster\":3},{\"cluster\":3},{\"cluster\":3},{\"cluster\":3},{\"cluster\":3},{\"cluster\":3},{\"cluster\":3},{\"cluster\":3},{\"cluster\":3},{\"cluster\":3},{\"cluster\":3},{\"cluster\":3},{\"cluster\":3},{\"cluster\":3},{\"cluster\":3},{\"cluster\":3},{\"cluster\":3},{\"cluster\":3},{\"cluster\":3},{\"cluster\":3},{\"cluster\":3},{\"cluster\":3},{\"cluster\":3},{\"cluster\":3},{\"cluster\":3},{\"cluster\":3},{\"cluster\":3},{\"cluster\":3},{\"cluster\":3},{\"cluster\":3},{\"cluster\":3},{\"cluster\":3},{\"cluster\":3},{\"cluster\":3},{\"cluster\":3},{\"cluster\":3},{\"cluster\":3},{\"cluster\":3},{\"cluster\":3},{\"cluster\":3},{\"cluster\":3},{\"cluster\":3}],\"cluster\":[3,3,3,3,3,3,3,3,3,3,3,3,3,3,3,3,3,3,3,3,3,3,3,3,3,3,3,3,3,3,3,3,3,3,3,3,3,3,3,3,3,3,3,3,3,3,3,3,3,3],\"x_values\":[0.9041589862869072,1.949395837048744,1.2950341545035315,2.1913528203101325,0.932070968703309,-0.3603877564138099,1.27430690938478,0.8407544390393374,0.919415136566765,0.018879472969015276,-0.8202864653540953,-0.6583384410646387,-1.6563859428324026,1.7832850173620218,0.7413124301338612,1.8441081412188114,2.152318022401916,0.03602224132377078,1.0019093908332166,0.5916205317262904,0.4974005919421879,0.835730832066061,-0.6559466548268076,0.7354150299262368,2.335849058657838,1.6512237158522982,1.5704256799675094,2.7333085402093875,2.031422038191097,1.0412364120478144,0.582450230230372,-0.4111672041890888,1.5181922367832623,0.10233033837256066,-0.3441031042550229,0.9612779406854484,1.208372180748966,0.5578867152413598,1.5145451174663398,2.1123319270888583,0.9594413323823506,1.5921709273296607,1.8450728860296104,1.1962726030166912,1.1797074614988283,0.7772598648605871,0.2752216017767797,-0.002064858515685734,1.7917901138970185,0.7511860915064485],\"y_values\":[2.231913411346905,4.444046059081826,1.6250325943138362,1.5985285273746217,3.2699298864233075,2.1526696596656936,5.63855824880598,7.114015647795056,2.410143216292754,2.5999160871423883,1.92926658342153,1.4601861865984564,3.385052461818705,1.2012034321687675,0.8729425010024879,0.5716331616583629,1.0865404253278743,2.059971829035161,2.0901368972726257,0.9089757305813375,1.5929541777806924,1.056147755118377,1.0453782313239617,3.3145123545489232,2.5307024627594736,0.897350635899164,1.5112262006519628,3.7316118753119887,2.00785578239256,1.0813220003011854,0.6206778987904081,0.879121945370151,1.445045221258377,1.4783091243922952,2.2617191764448887,1.1250116224959992,0.7099842682972322,0.4640630845876708,0.3155469527041272,0.5755661448229342,0.18451999891824014,0.793807018492016,0.5570659915161246,0.17488189840575233,1.2967733608321634,0.08367233449518259,1.610944993296179,0.7084469998035061,0.8659912865673091,0.32277983415779976]}},\"id\":\"b69a3c69-db26-4e7b-9133-b04f17f91a82\",\"type\":\"ColumnDataSource\"},{\"attributes\":{},\"id\":\"5e6bf1ec-83e8-4f7d-a624-f3eccbc9fc01\",\"type\":\"BasicTickFormatter\"},{\"attributes\":{\"plot\":{\"id\":\"fc0601f3-4215-44e2-9e72-1e8d897e6fc1\",\"subtype\":\"Chart\",\"type\":\"Plot\"}},\"id\":\"61b514cf-6d1a-42e0-8bde-74c8a57376cb\",\"type\":\"HelpTool\"},{\"attributes\":{\"overlay\":{\"id\":\"cab170d9-f1e6-45bd-a5c2-f6bb6c197ae9\",\"type\":\"BoxAnnotation\"},\"plot\":{\"id\":\"fc0601f3-4215-44e2-9e72-1e8d897e6fc1\",\"subtype\":\"Chart\",\"type\":\"Plot\"}},\"id\":\"f675de74-b792-4e67-91c8-714a01928775\",\"type\":\"BoxZoomTool\"},{\"attributes\":{\"plot\":{\"id\":\"faf3ed73-780b-45a0-86e8-2a96e0001d11\",\"subtype\":\"Chart\",\"type\":\"Plot\"}},\"id\":\"570b7780-d067-4d38-a54d-fa45ab00c194\",\"type\":\"PreviewSaveTool\"},{\"attributes\":{\"callback\":null,\"end\":8.075964813969332,\"start\":-3.4674251801219818},\"id\":\"c4e5e7dd-e797-42ff-ac94-b71de005709e\",\"type\":\"Range1d\"},{\"attributes\":{\"below\":[{\"id\":\"6199a2ae-6338-411e-bea1-f7aefaf57d4d\",\"type\":\"LinearAxis\"}],\"left\":[{\"id\":\"fd9438fd-85cc-45cd-a622-1fdd37bf4156\",\"type\":\"LinearAxis\"}],\"legend\":\"top_right\",\"renderers\":[{\"id\":\"204ec429-cb3f-41a2-b22e-48be7fe48a35\",\"type\":\"BoxAnnotation\"},{\"id\":\"997759e5-7d08-493a-84b7-b5de788d1df3\",\"type\":\"GlyphRenderer\"},{\"id\":\"716e9f64-0e3f-4926-8eb9-f982b4d913f1\",\"type\":\"GlyphRenderer\"},{\"id\":\"0f56ec40-dbf9-48f3-94ba-b3532d9eaa39\",\"type\":\"GlyphRenderer\"},{\"id\":\"ef98d049-5961-45b7-9914-db6822bf5a84\",\"type\":\"GlyphRenderer\"},{\"id\":\"e07f58db-892a-4ae0-b0a8-c0d7513a266b\",\"type\":\"Legend\"},{\"id\":\"6199a2ae-6338-411e-bea1-f7aefaf57d4d\",\"type\":\"LinearAxis\"},{\"id\":\"fd9438fd-85cc-45cd-a622-1fdd37bf4156\",\"type\":\"LinearAxis\"},{\"id\":\"2db90554-076a-4094-9854-5e1c7a3545c2\",\"type\":\"Grid\"},{\"id\":\"49a519b4-823f-43d4-86bf-3adea81c0e1b\",\"type\":\"Grid\"}],\"title\":\"Player attitude\",\"title_text_font_size\":{\"value\":\"14pt\"},\"tool_events\":{\"id\":\"cf3c2cd4-28f1-48f6-84b0-f3f165b526cd\",\"type\":\"ToolEvents\"},\"tools\":[{\"id\":\"57de6be6-af67-46cc-94fc-3f1722b1991d\",\"type\":\"PanTool\"},{\"id\":\"eea3e7a5-da1c-43f9-8a24-718da0032ebb\",\"type\":\"WheelZoomTool\"},{\"id\":\"4aee24ce-6c24-4848-991e-a9c805a47a7f\",\"type\":\"BoxZoomTool\"},{\"id\":\"570b7780-d067-4d38-a54d-fa45ab00c194\",\"type\":\"PreviewSaveTool\"},{\"id\":\"094a7661-4e3c-4570-987c-5f6330f65323\",\"type\":\"ResizeTool\"},{\"id\":\"76dbe0f1-1496-4754-9f26-11e54d7d90bd\",\"type\":\"ResetTool\"},{\"id\":\"e5045df3-f663-431c-ba27-bbabbd1542f9\",\"type\":\"HelpTool\"}],\"x_mapper_type\":\"auto\",\"x_range\":{\"id\":\"2e67d096-a1e1-4bdc-8059-230b120c96a4\",\"type\":\"Range1d\"},\"xscale\":\"auto\",\"y_mapper_type\":\"auto\",\"y_range\":{\"id\":\"4dcb8554-7ee5-4856-a717-881e29946d92\",\"type\":\"Range1d\"},\"yscale\":\"auto\"},\"id\":\"faf3ed73-780b-45a0-86e8-2a96e0001d11\",\"subtype\":\"Chart\",\"type\":\"Plot\"},{\"attributes\":{\"callback\":null,\"column_names\":[\"x_values\",\"y_values\"],\"data\":{\"chart_index\":[{\"cluster\":1},{\"cluster\":1},{\"cluster\":1},{\"cluster\":1},{\"cluster\":1},{\"cluster\":1},{\"cluster\":1},{\"cluster\":1},{\"cluster\":1},{\"cluster\":1},{\"cluster\":1},{\"cluster\":1},{\"cluster\":1},{\"cluster\":1},{\"cluster\":1},{\"cluster\":1},{\"cluster\":1},{\"cluster\":1},{\"cluster\":1},{\"cluster\":1},{\"cluster\":1},{\"cluster\":1},{\"cluster\":1},{\"cluster\":1},{\"cluster\":1},{\"cluster\":1},{\"cluster\":1},{\"cluster\":1},{\"cluster\":1},{\"cluster\":1},{\"cluster\":1},{\"cluster\":1},{\"cluster\":1},{\"cluster\":1},{\"cluster\":1},{\"cluster\":1},{\"cluster\":1},{\"cluster\":1},{\"cluster\":1},{\"cluster\":1},{\"cluster\":1},{\"cluster\":1},{\"cluster\":1},{\"cluster\":1},{\"cluster\":1},{\"cluster\":1},{\"cluster\":1},{\"cluster\":1},{\"cluster\":1},{\"cluster\":1},{\"cluster\":1},{\"cluster\":1},{\"cluster\":1},{\"cluster\":1},{\"cluster\":1},{\"cluster\":1},{\"cluster\":1},{\"cluster\":1},{\"cluster\":1},{\"cluster\":1},{\"cluster\":1},{\"cluster\":1},{\"cluster\":1},{\"cluster\":1},{\"cluster\":1},{\"cluster\":1},{\"cluster\":1},{\"cluster\":1},{\"cluster\":1},{\"cluster\":1},{\"cluster\":1},{\"cluster\":1},{\"cluster\":1},{\"cluster\":1},{\"cluster\":1},{\"cluster\":1},{\"cluster\":1},{\"cluster\":1},{\"cluster\":1},{\"cluster\":1},{\"cluster\":1},{\"cluster\":1},{\"cluster\":1},{\"cluster\":1},{\"cluster\":1},{\"cluster\":1},{\"cluster\":1},{\"cluster\":1},{\"cluster\":1},{\"cluster\":1},{\"cluster\":1},{\"cluster\":1},{\"cluster\":1},{\"cluster\":1},{\"cluster\":1},{\"cluster\":1},{\"cluster\":1},{\"cluster\":1},{\"cluster\":1},{\"cluster\":1},{\"cluster\":1},{\"cluster\":1},{\"cluster\":1},{\"cluster\":1},{\"cluster\":1},{\"cluster\":1},{\"cluster\":1},{\"cluster\":1},{\"cluster\":1},{\"cluster\":1},{\"cluster\":1},{\"cluster\":1}],\"cluster\":[1,1,1,1,1,1,1,1,1,1,1,1,1,1,1,1,1,1,1,1,1,1,1,1,1,1,1,1,1,1,1,1,1,1,1,1,1,1,1,1,1,1,1,1,1,1,1,1,1,1,1,1,1,1,1,1,1,1,1,1,1,1,1,1,1,1,1,1,1,1,1,1,1,1,1,1,1,1,1,1,1,1,1,1,1,1,1,1,1,1,1,1,1,1,1,1,1,1,1,1,1,1,1,1,1,1,1,1,1,1,1,1],\"x_values\":[-0.18476821444790809,0.35310574844056486,-0.7097650964202641,-0.1150207126337457,-0.2931787354023057,-0.009127089481638831,-1.2776614897485694,-0.3622244909666906,-1.3688330451672472,-1.9056627596065545,-2.010011088774072,-2.010011088774072,-2.010011088774072,-2.010011088774072,-2.010011088774072,-1.1155968387667785,-2.010011088774072,-0.33025749729695986,-1.2091983300466116,1.156420968723013,-1.236192018543043,-2.010011088774072,-1.2447900082122765,-2.010011088774072,-1.2447900082122765,-1.2447900082122765,-2.010011088774072,-0.24488005428290038,-2.010011088774072,-2.010011088774072,0.22265254215501656,-2.010011088774072,-2.010011088774072,0.49434881124634944,-1.4163050779933686,-1.4882694429364842,-2.010011088774072,-1.5284034156932218,-2.010011088774072,-2.010011088774072,-1.149137373142052,-1.1802532905745347,-2.010011088774072,-2.010011088774072,-2.010011088774072,-1.6274005484931742,-1.2447900082122765,-1.6274005484931742,0.020386049314207066,-1.2447900082122765,-0.4811369258600069,-2.010011088774072,-1.6820591971047312,0.03876901550164408,-0.691781810528167,-2.010011088774072,-0.2371891209926358,-1.7345314997718257,-1.7345314997718257,-0.9381060732011289,-1.7491402658552782,-1.4921923124540601,-1.499863701732875,-0.7346426211710797,-1.7549373952534735,-1.499863701732875,-1.1665603837564162,-1.7549373952534735,-0.9114866902358179,-1.7549373952534735,-1.2447900082122765,-2.010011088774072,-0.479568927650481,-1.7549373952534735,-1.4216340772770149,-1.1665603837564162,-2.010011088774072,-1.1665603837564162,-1.7549373952534735,-1.7549373952534735,-2.010011088774072,-0.6564129967152192,1.504016545097132,-1.8115387624035777,-1.8187058186336231,-1.4360952783527254,-1.568728330151279,-1.8187058186336231,-1.8187058186336231,-1.0534847380718277,-2.010011088774072,-1.6274005484931742,-0.288263657510032,-2.010011088774072,-0.7448350312475884,-2.010011088774072,-0.15184100733768913,-1.3036531682554915,-1.4802426483851368,-1.656832128514782,-0.2193802118339227,-1.5508784404369949,-2.010011088774072,-1.703922656549354,-2.010011088774072,-2.010011088774072,-1.7399330603404972,-1.4284393483714668,-1.8765422956528286,-1.5727418998816174,-1.5809151557487662,-1.664963073085031],\"y_values\":[1.9205078449869406,3.1260833619194983,2.658104149818659,0.8225314787862238,1.2961195504045273,2.637330163093315,1.9472310315713224,1.3699191461197997,-1.0306103334156598,-0.4552135783215996,-1.3670191905480804,-1.3670191905480804,1.5383300301410068,1.494966608936692,-1.3670191905480804,1.123280141471137,-1.3670191905480804,-1.3670191905480804,0.8626674206784282,-1.3670191905480804,-1.3670191905480804,0.7635702379572502,-1.3670191905480804,0.7635702379572502,-1.3670191905480804,-1.3670191905480804,-1.3670191905480804,0.7635702379572502,2.8941596664625804,-1.3670191905480804,4.2727763554954405,-1.3670191905480804,0.4084719998730282,-1.3670191905480804,-1.3670191905480804,0.18615753484585007,-1.3670191905480804,-0.026088780999271033,-1.3670191905480804,-1.3670191905480804,-1.3670191905480804,-1.3670191905480804,4.1874466495314495,-0.2280229252591981,2.9678612174987977,-1.3670191905480804,-0.30172447629541516,-1.3670191905480804,0.7635702379572502,-1.3670191905480804,-0.3786014144373601,-0.41774667289719064,-1.3670191905480804,-0.39994688983110493,-0.4558221783169746,-1.3670191905480804,-0.5302056078868607,-0.5469418795400851,-0.6000069962861614,-1.3670191905480804,1.5383300301410068,-1.3670191905480804,0.1516424965037627,-0.6568227143796369,3.70262487734598,0.10250812914628465,-0.6568227143796369,-1.3670191905480804,0.10250812914628465,2.943294033820058,0.7635702379572502,-1.3670191905480804,2.943294033820058,-0.6076883470221588,-1.3670191905480804,0.10250812914628465,-0.6076883470221588,-0.6076883470221588,0.8127046053147282,1.4737667141256936,-1.3670191905480804,0.7635702379572502,-0.7403752409876891,0.8816219433090898,0.8372717889934671,-1.3670191905480804,0.8004210134753587,0.8372717889934671,-1.3670191905480804,0.26777365634902606,0.3046244318671345,4.0331559317514625,-0.2648737007773066,3.5005085746251297,0.3046244318671345,0.2542629716639259,-0.29361956880986667,1.5830277104593002,0.6336948439350942,-0.8753447070468503,0.49078669861486723,0.39641359308515756,2.953120907291554,0.39641359308515756,-0.967533672703331,-0.18703545707851696,1.6668840794722273,0.13692628839685872,-1.3670191905480804,1.4144252466937544,1.0637548700389539,-0.47531400133147694]}},\"id\":\"abae2732-b3a1-441d-9d90-9856b218e453\",\"type\":\"ColumnDataSource\"},{\"attributes\":{\"fill_alpha\":{\"value\":0.7},\"fill_color\":{\"value\":\"#5ab738\"},\"line_color\":{\"value\":\"#5ab738\"},\"size\":{\"units\":\"screen\",\"value\":8},\"x\":{\"field\":\"x_values\"},\"y\":{\"field\":\"y_values\"}},\"id\":\"6ed77c23-01ff-4ae4-9db1-e8ad4be86a32\",\"type\":\"Circle\"},{\"attributes\":{},\"id\":\"d1336adc-5d13-4d79-a9c5-bd9f2860941f\",\"type\":\"BasicTicker\"},{\"attributes\":{\"fill_alpha\":{\"value\":0.7},\"fill_color\":{\"value\":\"#f22c40\"},\"line_color\":{\"value\":\"#f22c40\"},\"size\":{\"units\":\"screen\",\"value\":8},\"x\":{\"field\":\"x_values\"},\"y\":{\"field\":\"y_values\"}},\"id\":\"8d92da9b-eccf-4098-98dd-0a0321a91e67\",\"type\":\"Circle\"},{\"attributes\":{\"below\":[{\"id\":\"d3d14281-1139-4752-a149-b95e097ff866\",\"type\":\"LinearAxis\"}],\"left\":[{\"id\":\"8a7ff1f2-f719-46f1-bd20-44665e081ce8\",\"type\":\"LinearAxis\"}],\"legend\":\"top_right\",\"renderers\":[{\"id\":\"cab170d9-f1e6-45bd-a5c2-f6bb6c197ae9\",\"type\":\"BoxAnnotation\"},{\"id\":\"c2a2f3ad-af58-4314-ad32-e5dec4ccf826\",\"type\":\"GlyphRenderer\"},{\"id\":\"bfe36b5c-4cf6-4c6f-9b86-85936a292ee6\",\"type\":\"GlyphRenderer\"},{\"id\":\"800901af-4499-4c23-bac9-b7c5b4d5b480\",\"type\":\"GlyphRenderer\"},{\"id\":\"ad92dd4a-0885-449e-a11a-1214a5c9b6d7\",\"type\":\"GlyphRenderer\"},{\"id\":\"0cad8779-ebe6-4b52-8916-eccd00500cf6\",\"type\":\"Legend\"},{\"id\":\"d3d14281-1139-4752-a149-b95e097ff866\",\"type\":\"LinearAxis\"},{\"id\":\"8a7ff1f2-f719-46f1-bd20-44665e081ce8\",\"type\":\"LinearAxis\"},{\"id\":\"83fc37d8-b6d1-4ac3-a8a5-180ab410f14e\",\"type\":\"Grid\"},{\"id\":\"303dcd41-35d3-48a2-ba1d-bb220e33b17c\",\"type\":\"Grid\"}],\"title\":\"Player position\",\"title_text_font_size\":{\"value\":\"14pt\"},\"tool_events\":{\"id\":\"3bd5c5fe-fc27-478b-a260-332934c03cbb\",\"type\":\"ToolEvents\"},\"tools\":[{\"id\":\"84ee6768-1187-4b4f-bef1-a7f26f855fe1\",\"type\":\"PanTool\"},{\"id\":\"b41037d9-5ece-431b-a471-258c966f3a9e\",\"type\":\"WheelZoomTool\"},{\"id\":\"f675de74-b792-4e67-91c8-714a01928775\",\"type\":\"BoxZoomTool\"},{\"id\":\"e4dd72f4-3dc3-4cca-b3d1-d9e52f3060b1\",\"type\":\"PreviewSaveTool\"},{\"id\":\"5d4a6a9a-c116-4ffd-bfa9-a87e85069562\",\"type\":\"ResizeTool\"},{\"id\":\"f93b5e48-27e8-4468-a193-fad5cc69e9c2\",\"type\":\"ResetTool\"},{\"id\":\"61b514cf-6d1a-42e0-8bde-74c8a57376cb\",\"type\":\"HelpTool\"}],\"x_mapper_type\":\"auto\",\"x_range\":{\"id\":\"aa007b5f-b7df-413a-b6a4-7fc3228e316a\",\"type\":\"Range1d\"},\"xscale\":\"auto\",\"y_mapper_type\":\"auto\",\"y_range\":{\"id\":\"c4e5e7dd-e797-42ff-ac94-b71de005709e\",\"type\":\"Range1d\"},\"yscale\":\"auto\"},\"id\":\"fc0601f3-4215-44e2-9e72-1e8d897e6fc1\",\"subtype\":\"Chart\",\"type\":\"Plot\"},{\"attributes\":{\"plot\":{\"id\":\"faf3ed73-780b-45a0-86e8-2a96e0001d11\",\"subtype\":\"Chart\",\"type\":\"Plot\"}},\"id\":\"eea3e7a5-da1c-43f9-8a24-718da0032ebb\",\"type\":\"WheelZoomTool\"},{\"attributes\":{\"plot\":{\"id\":\"fc0601f3-4215-44e2-9e72-1e8d897e6fc1\",\"subtype\":\"Chart\",\"type\":\"Plot\"},\"ticker\":{\"id\":\"d1336adc-5d13-4d79-a9c5-bd9f2860941f\",\"type\":\"BasicTicker\"}},\"id\":\"83fc37d8-b6d1-4ac3-a8a5-180ab410f14e\",\"type\":\"Grid\"},{\"attributes\":{\"callback\":null,\"column_names\":[\"x_values\",\"y_values\"],\"data\":{\"chart_index\":[{\"cluster\":2},{\"cluster\":2},{\"cluster\":2},{\"cluster\":2},{\"cluster\":2},{\"cluster\":2},{\"cluster\":2},{\"cluster\":2},{\"cluster\":2},{\"cluster\":2},{\"cluster\":2},{\"cluster\":2},{\"cluster\":2},{\"cluster\":2},{\"cluster\":2},{\"cluster\":2},{\"cluster\":2},{\"cluster\":2},{\"cluster\":2},{\"cluster\":2},{\"cluster\":2},{\"cluster\":2},{\"cluster\":2},{\"cluster\":2},{\"cluster\":2},{\"cluster\":2},{\"cluster\":2},{\"cluster\":2},{\"cluster\":2},{\"cluster\":2},{\"cluster\":2},{\"cluster\":2},{\"cluster\":2},{\"cluster\":2},{\"cluster\":2},{\"cluster\":2},{\"cluster\":2},{\"cluster\":2},{\"cluster\":2},{\"cluster\":2},{\"cluster\":2},{\"cluster\":2},{\"cluster\":2},{\"cluster\":2},{\"cluster\":2},{\"cluster\":2},{\"cluster\":2},{\"cluster\":2},{\"cluster\":2},{\"cluster\":2},{\"cluster\":2},{\"cluster\":2},{\"cluster\":2},{\"cluster\":2},{\"cluster\":2},{\"cluster\":2},{\"cluster\":2},{\"cluster\":2},{\"cluster\":2},{\"cluster\":2},{\"cluster\":2},{\"cluster\":2},{\"cluster\":2},{\"cluster\":2},{\"cluster\":2},{\"cluster\":2},{\"cluster\":2},{\"cluster\":2},{\"cluster\":2},{\"cluster\":2},{\"cluster\":2},{\"cluster\":2},{\"cluster\":2},{\"cluster\":2},{\"cluster\":2}],\"cluster\":[2,2,2,2,2,2,2,2,2,2,2,2,2,2,2,2,2,2,2,2,2,2,2,2,2,2,2,2,2,2,2,2,2,2,2,2,2,2,2,2,2,2,2,2,2,2,2,2,2,2,2,2,2,2,2,2,2,2,2,2,2,2,2,2,2,2,2,2,2,2,2,2,2,2,2],\"x_values\":[-0.9508523741691994,0.11229067689100308,1.4772688729689427,-0.7271975770831821,0.6075945474876181,-1.4408383842239763,-2.010011088774072,-1.2447900082122765,-2.010011088774072,-2.010011088774072,-0.8497841527236267,-1.068418747169854,-1.3602950769763211,-1.6153411904900516,-1.1649923206677226,-2.010011088774072,-0.49485754276524446,-1.1905682976173675,-1.856966872661713,-0.9819066221856492,-1.1408061637558773,-2.010011088774072,-0.7469844497906234,-0.7200197194518374,0.3610604500946657,2.4649689986683354,-1.1038282302140512,3.8813740568449804,-2.010011088774072,-1.2447900082122765,-2.010011088774072,-2.010011088774072,-1.253199031075593,3.39053620393066,-2.010011088774072,1.576314743584464,-2.010011088774072,-0.989716314691678,-0.8419096688902084,-0.38335615766859327,-0.883331705056303,-1.5569196594940617,-1.5822477518140623,-1.1802532905745347,0.6227252159053156,1.624005246674338,1.1895991915058215,-2.010011088774072,2.8324638109047635,-0.19541594650501193,-0.3067115511017119,-2.010011088774072,-2.010011088774072,-0.9114866902358179,-1.7549373952534735,-2.010011088774072,-1.499863701732875,1.1869476622318125,-1.2447900082122765,-0.6564129967152192,-0.6326131437628402,-1.2509054542581817,-1.091739919717327,0.8912024105671221,-2.010011088774072,-1.6274005484931742,-0.9361403013880374,-1.656832128514782,-2.010011088774072,-0.8963152372190674,-1.3036531682554915,-1.8468122801234523,-1.5039406657634786,-1.7399330603404972,-1.6274005484931742],\"y_values\":[-0.08564839209808783,0.1404758664519109,-1.3670191905480804,3.100524009363988,-1.3670191905480804,-1.3670191905480804,2.088362737856394,-1.3670191905480804,-0.2280229252591981,-0.6568227143796369,0.5434306636407366,-0.7582793538322717,-0.764022182480534,2.08164387002199,-1.3670191905480804,-0.30172447629541516,-0.8343718334217478,-0.9073345991758858,-0.9114206844325274,-0.9650205086814161,-0.19324441334198034,-1.3670191905480804,-0.6374130419644548,-0.38029681371027724,-1.3670191905480804,1.5205769749730296,6.551292705102936,-1.3670191905480804,0.9109733400296842,3.188965870607449,0.9109733400296842,0.9109733400296842,7.499036104193417,-1.3670191905480804,0.2731354314679102,0.24730622482198894,3.188965870607449,3.0906971358924924,1.647970923451902,-1.3670191905480804,0.08701859492708841,1.330603543030851,2.370817480690909,1.0231758475090194,-1.3670191905480804,-0.34705616626361374,-1.3670191905480804,0.6234597196655001,-1.3670191905480804,-0.5502091198229856,1.0449729006519055,0.9109733400296842,0.9109733400296842,0.1516424965037627,0.8618389726722062,3.041562768535015,0.1516424965037627,-0.6076883470221588,3.0906971358924924,1.6703041835556056,0.6831740869719078,-0.0002236722014216097,1.1308477810354371,-0.2169543316568382,0.8741225645115756,0.9109733400296842,0.3046244318671345,2.770473280331285,2.2787987968300545,0.667710944413348,0.2100525613903721,1.453637513130677,2.130365756303909,3.6508651766751195,0.5067407345879844]}},\"id\":\"6e9da27f-5e3c-411d-aa62-0d27e9bfabc9\",\"type\":\"ColumnDataSource\"},{\"attributes\":{\"fill_alpha\":{\"value\":0.7},\"fill_color\":{\"value\":\"#407ee7\"},\"line_color\":{\"value\":\"#407ee7\"},\"size\":{\"units\":\"screen\",\"value\":8},\"x\":{\"field\":\"x_values\"},\"y\":{\"field\":\"y_values\"}},\"id\":\"50d8f053-32ec-498e-a850-4cee6946add6\",\"type\":\"Circle\"},{\"attributes\":{\"legends\":[[\"0\",[{\"id\":\"997759e5-7d08-493a-84b7-b5de788d1df3\",\"type\":\"GlyphRenderer\"}]],[\"2\",[{\"id\":\"716e9f64-0e3f-4926-8eb9-f982b4d913f1\",\"type\":\"GlyphRenderer\"}]],[\"1\",[{\"id\":\"0f56ec40-dbf9-48f3-94ba-b3532d9eaa39\",\"type\":\"GlyphRenderer\"}]],[\"3\",[{\"id\":\"ef98d049-5961-45b7-9914-db6822bf5a84\",\"type\":\"GlyphRenderer\"}]]],\"plot\":{\"id\":\"faf3ed73-780b-45a0-86e8-2a96e0001d11\",\"subtype\":\"Chart\",\"type\":\"Plot\"}},\"id\":\"e07f58db-892a-4ae0-b0a8-c0d7513a266b\",\"type\":\"Legend\"},{\"attributes\":{\"fill_alpha\":{\"value\":0.7},\"fill_color\":{\"value\":\"#df5320\"},\"line_color\":{\"value\":\"#df5320\"},\"size\":{\"units\":\"screen\",\"value\":8},\"x\":{\"field\":\"x_values\"},\"y\":{\"field\":\"y_values\"}},\"id\":\"b1a57ad7-1760-441b-9103-9b524496a98f\",\"type\":\"Circle\"},{\"attributes\":{\"plot\":{\"id\":\"faf3ed73-780b-45a0-86e8-2a96e0001d11\",\"subtype\":\"Chart\",\"type\":\"Plot\"}},\"id\":\"76dbe0f1-1496-4754-9f26-11e54d7d90bd\",\"type\":\"ResetTool\"},{\"attributes\":{},\"id\":\"6e793f79-d179-48a3-97ed-7cd81bec539f\",\"type\":\"BasicTicker\"},{\"attributes\":{},\"id\":\"b50ff9e5-24e7-4fbe-a5f6-2279e618a9f1\",\"type\":\"BasicTickFormatter\"},{\"attributes\":{\"bottom_units\":\"screen\",\"fill_alpha\":{\"value\":0.5},\"fill_color\":{\"value\":\"lightgrey\"},\"left_units\":\"screen\",\"level\":\"overlay\",\"line_alpha\":{\"value\":1.0},\"line_color\":{\"value\":\"black\"},\"line_dash\":[4,4],\"line_width\":{\"value\":2},\"plot\":null,\"render_mode\":\"css\",\"right_units\":\"screen\",\"top_units\":\"screen\"},\"id\":\"cab170d9-f1e6-45bd-a5c2-f6bb6c197ae9\",\"type\":\"BoxAnnotation\"},{\"attributes\":{},\"id\":\"dd3dfd7a-73b1-4085-a10b-7483ee6f5bab\",\"type\":\"BasicTickFormatter\"},{\"attributes\":{\"callback\":null,\"column_names\":[\"x_values\",\"y_values\"],\"data\":{\"chart_index\":[{\"cluster\":0},{\"cluster\":0},{\"cluster\":0},{\"cluster\":0},{\"cluster\":0},{\"cluster\":0},{\"cluster\":0},{\"cluster\":0},{\"cluster\":0},{\"cluster\":0},{\"cluster\":0},{\"cluster\":0},{\"cluster\":0},{\"cluster\":0},{\"cluster\":0},{\"cluster\":0},{\"cluster\":0},{\"cluster\":0},{\"cluster\":0},{\"cluster\":0},{\"cluster\":0},{\"cluster\":0},{\"cluster\":0},{\"cluster\":0},{\"cluster\":0},{\"cluster\":0},{\"cluster\":0},{\"cluster\":0},{\"cluster\":0},{\"cluster\":0},{\"cluster\":0},{\"cluster\":0},{\"cluster\":0},{\"cluster\":0},{\"cluster\":0},{\"cluster\":0},{\"cluster\":0},{\"cluster\":0},{\"cluster\":0},{\"cluster\":0},{\"cluster\":0},{\"cluster\":0},{\"cluster\":0},{\"cluster\":0},{\"cluster\":0},{\"cluster\":0},{\"cluster\":0},{\"cluster\":0},{\"cluster\":0},{\"cluster\":0},{\"cluster\":0},{\"cluster\":0},{\"cluster\":0},{\"cluster\":0},{\"cluster\":0},{\"cluster\":0},{\"cluster\":0},{\"cluster\":0},{\"cluster\":0},{\"cluster\":0},{\"cluster\":0},{\"cluster\":0},{\"cluster\":0},{\"cluster\":0},{\"cluster\":0},{\"cluster\":0},{\"cluster\":0},{\"cluster\":0},{\"cluster\":0},{\"cluster\":0},{\"cluster\":0},{\"cluster\":0},{\"cluster\":0},{\"cluster\":0},{\"cluster\":0},{\"cluster\":0},{\"cluster\":0},{\"cluster\":0},{\"cluster\":0},{\"cluster\":0},{\"cluster\":0},{\"cluster\":0},{\"cluster\":0},{\"cluster\":0},{\"cluster\":0},{\"cluster\":0},{\"cluster\":0},{\"cluster\":0},{\"cluster\":0},{\"cluster\":0},{\"cluster\":0},{\"cluster\":0},{\"cluster\":0},{\"cluster\":0},{\"cluster\":0},{\"cluster\":0},{\"cluster\":0},{\"cluster\":0},{\"cluster\":0},{\"cluster\":0},{\"cluster\":0},{\"cluster\":0},{\"cluster\":0},{\"cluster\":0},{\"cluster\":0},{\"cluster\":0},{\"cluster\":0},{\"cluster\":0},{\"cluster\":0},{\"cluster\":0},{\"cluster\":0},{\"cluster\":0},{\"cluster\":0},{\"cluster\":0},{\"cluster\":0},{\"cluster\":0},{\"cluster\":0}],\"cluster\":[0,0,0,0,0,0,0,0,0,0,0,0,0,0,0,0,0,0,0,0,0,0,0,0,0,0,0,0,0,0,0,0,0,0,0,0,0,0,0,0,0,0,0,0,0,0,0,0,0,0,0,0,0,0,0,0,0,0,0,0,0,0,0,0,0,0,0,0,0,0,0,0,0,0,0,0,0,0,0,0,0,0,0,0,0,0,0,0,0,0,0,0,0,0,0,0,0,0,0,0,0,0,0,0,0,0,0,0,0,0,0,0,0,0,0,0,0],\"x_values\":[7.3991492870715,6.185254996381108,4.1922097343627085,7.085479661307012,5.482478680773028,3.2563025913482484,6.200194152197685,2.0965139708823908,5.161254784739022,2.119713027149753,2.8849584378279136,2.872494315040078,6.119873473742504,3.61003036882233,2.977442340059088,2.2122212594972925,3.641900885585515,1.2409640439635674,1.2616683484041764,3.7425045520426172,2.5888148449034807,3.2861854482051256,2.9346832011116257,4.7581705904278815,2.276288386314561,4.304382015730752,3.7877494039574766,2.006513479208717,1.2055637888950428,3.5109332531108777,2.0366164433633958,1.9092609794086282,2.0405338518707485,1.8461534950656944,1.928583124821209,8.298311773027722,9.348272828295697,7.943239142777131,2.8409643756032428,2.921063909584712,1.7384699518811262,2.3233578491775866,3.1608035139846797,3.2867026211952863,1.580856586177664,4.875459599196424,4.399218097122786,0.9403815026024668,0.5556159346077078,1.38339052167002,2.478782813831147,1.2265358292489987,0.383085124231343,2.6657025271575154,2.320057473361964,1.3530218033365045,0.5500321515417848,2.0319382278771068,0.49715615181569073,1.4067544643222667,-0.558389288750766,0.5505281832670623,1.164408315419794,3.122092700189,2.1221827462596234,1.2855621068406906,0.47220442847913824,2.694770481592646,0.020386049314207066,0.6682626931922122,6.713565017265005,0.519903504103701,1.1474307018621754,1.6392502449701674,-0.064156746571436,0.5856251390901273,2.3334027322904465,0.020386049314207066,1.1217668534597642,0.3597644287116031,6.854098750133108,0.44962809874598486,1.8498480697813016,6.713565017265005,-0.07001398312444962,-1.2447900082122765,-0.479568927650481,1.5399836148631236,-1.3951012918940577,1.3055719807408273,2.384086505378945,1.7174798694260274,-1.0261554137660494,-0.12082900211592774,7.242431565805428,0.11560302389758204,1.8170008907705455,0.6620752860487085,0.8642089733700384,5.096791175046146,2.669323722109544,1.4883197375821418,-2.010011088774072,-1.2447900082122765,-1.2447900082122765,-1.2447900082122765,0.3638817773671747,1.873939118337748,1.3637917312965508,2.4827009499878234,3.5975327907583092,1.2341157675008942,2.969006066117937,0.7394102058401957,-1.3036531682554915,-0.31238782605299803,0.3939700944655825],\"y_values\":[0.8255027685969174,-1.3670191905480804,-1.3670191905480804,-0.9618426534887943,0.14669756709071163,-1.0766235421741444,-1.3670191905480804,-0.27997158419882406,0.7177638374143903,1.7983802159484443,0.13590647732115657,-1.3670191905480804,-0.6594433655832106,-1.3670191905480804,-0.8343718334217478,-0.7975210579036393,-1.3670191905480804,-1.3670191905480804,-0.029704292615908512,-1.3670191905480804,0.4338982911962859,0.31346710250109033,0.7517990256450657,-1.3670191905480804,-1.3670191905480804,-0.6501683942124202,-0.7959347121302565,-0.2648737007773066,-0.8402251010824767,-0.8232013450520623,0.1420203604338639,0.36693297267067093,-0.9650205086814161,-1.3670191905480804,-1.3670191905480804,2.2940402335947554,-1.3670191905480804,1.1030931920061222,1.96720245917863,-1.3670191905480804,1.2955694815558003,-0.12447781023293614,-0.2323857670837033,-1.3670191905480804,-1.3670191905480804,-1.3670191905480804,-1.3670191905480804,1.3203115166800397,-0.5147834191459483,-0.5369194132083412,1.0705195624029333,0.8618389726722062,-0.6076883470221588,-1.3670191905480804,-1.3670191905480804,1.2364008443979362,0.8372717889934671,-0.8274946438322941,-0.0591849130303953,-0.9910328208118456,0.10250812914628465,0.33579914626254115,-1.3670191905480804,-0.9409013048470143,-1.3670191905480804,-1.3670191905480804,0.23469430751441034,-1.3670191905480804,-0.2280229252591981,-0.2280229252591981,-1.3670191905480804,1.0892734791232561,-1.3670191905480804,-1.3670191905480804,-0.7147979369239997,-1.3670191905480804,-1.3670191905480804,-0.7975210579036393,-1.3670191905480804,-0.28797009711650773,2.817048722758017,-1.3670191905480804,-1.3670191905480804,-1.3670191905480804,-1.3670191905480804,-1.3670191905480804,-1.3670191905480804,0.6098163616733603,-1.3670191905480804,-1.3670191905480804,-1.3670191905480804,3.188965870607449,0.0026454420624890673,1.1601933974613372,-1.3670191905480804,-1.3670191905480804,0.8497790587638241,-0.44350870517871643,-1.3670191905480804,0.38528275605020035,-1.3670191905480804,0.8784722425469842,0.10250812914628465,0.053373761788806595,-1.3670191905480804,0.8618389726722062,1.5720354488406496,-0.6076883470221588,-0.6076883470221588,-0.6076883470221588,-1.3670191905480804,-0.7035138321900191,-0.7929082666993387,-1.3670191905480804,1.2274176288710863,-0.34965412306736615,-0.8413286065685963]}},\"id\":\"23ed8abd-3867-4e60-9319-b96731d60675\",\"type\":\"ColumnDataSource\"},{\"attributes\":{\"callback\":null,\"end\":10.484101220002673,\"start\":-3.145839480481049},\"id\":\"2e67d096-a1e1-4bdc-8059-230b120c96a4\",\"type\":\"Range1d\"},{\"attributes\":{\"axis_label\":\"offensive attitude\",\"formatter\":{\"id\":\"b50ff9e5-24e7-4fbe-a5f6-2279e618a9f1\",\"type\":\"BasicTickFormatter\"},\"plot\":{\"id\":\"faf3ed73-780b-45a0-86e8-2a96e0001d11\",\"subtype\":\"Chart\",\"type\":\"Plot\"},\"ticker\":{\"id\":\"c91e260a-5103-43c6-afce-b4b80cda2a95\",\"type\":\"BasicTicker\"}},\"id\":\"6199a2ae-6338-411e-bea1-f7aefaf57d4d\",\"type\":\"LinearAxis\"},{\"attributes\":{},\"id\":\"de7c8b47-a909-485f-8143-712491dbcdb0\",\"type\":\"BasicTickFormatter\"},{\"attributes\":{\"callback\":null,\"column_names\":[\"x_values\",\"y_values\"],\"data\":{\"chart_index\":[{\"cluster\":3},{\"cluster\":3},{\"cluster\":3},{\"cluster\":3},{\"cluster\":3},{\"cluster\":3},{\"cluster\":3},{\"cluster\":3},{\"cluster\":3},{\"cluster\":3},{\"cluster\":3},{\"cluster\":3},{\"cluster\":3},{\"cluster\":3},{\"cluster\":3},{\"cluster\":3},{\"cluster\":3},{\"cluster\":3},{\"cluster\":3},{\"cluster\":3},{\"cluster\":3},{\"cluster\":3},{\"cluster\":3},{\"cluster\":3},{\"cluster\":3},{\"cluster\":3},{\"cluster\":3},{\"cluster\":3},{\"cluster\":3},{\"cluster\":3},{\"cluster\":3},{\"cluster\":3},{\"cluster\":3},{\"cluster\":3},{\"cluster\":3},{\"cluster\":3},{\"cluster\":3},{\"cluster\":3},{\"cluster\":3},{\"cluster\":3},{\"cluster\":3},{\"cluster\":3},{\"cluster\":3},{\"cluster\":3},{\"cluster\":3},{\"cluster\":3},{\"cluster\":3},{\"cluster\":3},{\"cluster\":3},{\"cluster\":3}],\"cluster\":[3,3,3,3,3,3,3,3,3,3,3,3,3,3,3,3,3,3,3,3,3,3,3,3,3,3,3,3,3,3,3,3,3,3,3,3,3,3,3,3,3,3,3,3,3,3,3,3,3,3],\"x_values\":[-1.163250057004872,-2.010011088774072,-2.010011088774072,-2.010011088774072,-2.010011088774072,-0.9821021745865856,-1.0261554137660494,-0.17348049542576272,-1.170134293035516,-0.35049549237499733,0.3924271874083092,-0.4623729483120138,1.0508732334731101,-1.2447900082122765,-2.010011088774072,-2.010011088774072,-2.010011088774072,-0.5601185150780386,-1.3602950769763211,0.7362999075715634,-1.372326854972576,-1.4921923124540601,-0.479568927650481,0.04972215848515454,-2.010011088774072,-1.5685373884499594,-0.6855899878017336,-1.5685373884499594,-2.010011088774072,-1.1852219001445918,-1.2138273055305855,-0.4358420087612356,-2.010011088774072,0.610880991210373,2.288562644636488,-1.3572158541715924,-1.3693608817921037,-0.479568927650481,-1.4655850235522414,-1.7549373952534735,-0.989716314691678,-2.010011088774072,-2.010011088774072,-1.376239028186082,-1.3574847553793241,-0.3893845261463805,-1.0534847380718277,-0.6708741977909298,-2.010011088774072,-1.4741718173510907],\"y_values\":[0.2590971058350285,-1.3670191905480804,-1.3670191905480804,1.9970693807761255,-1.3670191905480804,-1.3670191905480804,-1.3670191905480804,1.1896881236583163,-1.3670191905480804,1.1030931920061222,-1.3670191905480804,-1.3670191905480804,-1.3670191905480804,0.7635702379572502,-1.3670191905480804,0.7635702379572502,0.7401571673143346,-1.3670191905480804,-1.3670191905480804,0.4084719998730282,-1.3670191905480804,-1.3670191905480804,-1.3670191905480804,0.05672614106302232,1.123280141471137,1.176393478153705,-0.13783298179500525,1.0913532269580701,1.0523245674853254,-1.3670191905480804,-0.2586200658921282,-1.3670191905480804,-0.2280229252591981,-1.3670191905480804,0.5497555742706565,-1.3670191905480804,-0.475144546057477,1.24864936448729,0.14881518546361705,1.4737667141256936,-0.6568227143796369,0.627982249733134,0.5947322257284474,-0.19062011959421699,-1.3670191905480804,0.30019164481440774,-0.7975210579036393,-0.7975210579036393,0.8372717889934671,0.4377153841858463]}},\"id\":\"85c1760f-d1d8-4c29-bdb0-95083e56acc8\",\"type\":\"ColumnDataSource\"},{\"attributes\":{\"axis_label\":\"first principal component\",\"formatter\":{\"id\":\"de7c8b47-a909-485f-8143-712491dbcdb0\",\"type\":\"BasicTickFormatter\"},\"plot\":{\"id\":\"fc0601f3-4215-44e2-9e72-1e8d897e6fc1\",\"subtype\":\"Chart\",\"type\":\"Plot\"},\"ticker\":{\"id\":\"d1336adc-5d13-4d79-a9c5-bd9f2860941f\",\"type\":\"BasicTicker\"}},\"id\":\"d3d14281-1139-4752-a149-b95e097ff866\",\"type\":\"LinearAxis\"},{\"attributes\":{\"callback\":null,\"end\":8.385641633667566,\"start\":-2.25362472002223},\"id\":\"4dcb8554-7ee5-4856-a717-881e29946d92\",\"type\":\"Range1d\"},{\"attributes\":{\"fill_alpha\":{\"value\":0.7},\"fill_color\":{\"value\":\"#407ee7\"},\"line_color\":{\"value\":\"#407ee7\"},\"size\":{\"units\":\"screen\",\"value\":8},\"x\":{\"field\":\"x_values\"},\"y\":{\"field\":\"y_values\"}},\"id\":\"0eb66f32-e73f-460e-9de4-a5ef0aec416b\",\"type\":\"Circle\"},{\"attributes\":{\"plot\":{\"id\":\"fc0601f3-4215-44e2-9e72-1e8d897e6fc1\",\"subtype\":\"Chart\",\"type\":\"Plot\"}},\"id\":\"84ee6768-1187-4b4f-bef1-a7f26f855fe1\",\"type\":\"PanTool\"},{\"attributes\":{\"data_source\":{\"id\":\"85c1760f-d1d8-4c29-bdb0-95083e56acc8\",\"type\":\"ColumnDataSource\"},\"glyph\":{\"id\":\"b1a57ad7-1760-441b-9103-9b524496a98f\",\"type\":\"Circle\"},\"hover_glyph\":null,\"nonselection_glyph\":null,\"selection_glyph\":null},\"id\":\"ef98d049-5961-45b7-9914-db6822bf5a84\",\"type\":\"GlyphRenderer\"},{\"attributes\":{\"overlay\":{\"id\":\"204ec429-cb3f-41a2-b22e-48be7fe48a35\",\"type\":\"BoxAnnotation\"},\"plot\":{\"id\":\"faf3ed73-780b-45a0-86e8-2a96e0001d11\",\"subtype\":\"Chart\",\"type\":\"Plot\"}},\"id\":\"4aee24ce-6c24-4848-991e-a9c805a47a7f\",\"type\":\"BoxZoomTool\"},{\"attributes\":{\"dimension\":1,\"plot\":{\"id\":\"faf3ed73-780b-45a0-86e8-2a96e0001d11\",\"subtype\":\"Chart\",\"type\":\"Plot\"},\"ticker\":{\"id\":\"b449c61b-d360-4f1d-844d-2e54c661aee7\",\"type\":\"BasicTicker\"}},\"id\":\"49a519b4-823f-43d4-86bf-3adea81c0e1b\",\"type\":\"Grid\"},{\"attributes\":{\"plot\":{\"id\":\"fc0601f3-4215-44e2-9e72-1e8d897e6fc1\",\"subtype\":\"Chart\",\"type\":\"Plot\"}},\"id\":\"b41037d9-5ece-431b-a471-258c966f3a9e\",\"type\":\"WheelZoomTool\"},{\"attributes\":{\"fill_alpha\":{\"value\":0.7},\"fill_color\":{\"value\":\"#5ab738\"},\"line_color\":{\"value\":\"#5ab738\"},\"size\":{\"units\":\"screen\",\"value\":8},\"x\":{\"field\":\"x_values\"},\"y\":{\"field\":\"y_values\"}},\"id\":\"dd89b110-127e-46be-b997-b09936df2411\",\"type\":\"Circle\"},{\"attributes\":{\"data_source\":{\"id\":\"249b328e-56c5-45ef-b6f8-fefe03af65be\",\"type\":\"ColumnDataSource\"},\"glyph\":{\"id\":\"6ed77c23-01ff-4ae4-9db1-e8ad4be86a32\",\"type\":\"Circle\"},\"hover_glyph\":null,\"nonselection_glyph\":null,\"selection_glyph\":null},\"id\":\"800901af-4499-4c23-bac9-b7c5b4d5b480\",\"type\":\"GlyphRenderer\"},{\"attributes\":{\"bottom_units\":\"screen\",\"fill_alpha\":{\"value\":0.5},\"fill_color\":{\"value\":\"lightgrey\"},\"left_units\":\"screen\",\"level\":\"overlay\",\"line_alpha\":{\"value\":1.0},\"line_color\":{\"value\":\"black\"},\"line_dash\":[4,4],\"line_width\":{\"value\":2},\"plot\":null,\"render_mode\":\"css\",\"right_units\":\"screen\",\"top_units\":\"screen\"},\"id\":\"204ec429-cb3f-41a2-b22e-48be7fe48a35\",\"type\":\"BoxAnnotation\"}],\"root_ids\":[\"fc0601f3-4215-44e2-9e72-1e8d897e6fc1\",\"faf3ed73-780b-45a0-86e8-2a96e0001d11\"]},\"title\":\"Bokeh Application\",\"version\":\"0.11.1\"}};\n",
       "            var render_items = [{\"docid\":\"5b7b9647-2805-41c9-bb24-a96a856f3f28\",\"elementid\":\"0a214462-cf00-40fb-9739-d19b54c6a349\",\"modelid\":\"faf3ed73-780b-45a0-86e8-2a96e0001d11\",\"notebook_comms_target\":\"63c22c09-4bd7-4014-a7c1-32d5e0795083\"}];\n",
       "            \n",
       "            Bokeh.embed.embed_items(docs_json, render_items);\n",
       "        });\n",
       "      },\n",
       "      function(Bokeh) {\n",
       "      }\n",
       "    ];\n",
       "  \n",
       "    function run_inline_js() {\n",
       "      for (var i = 0; i < inline_js.length; i++) {\n",
       "        inline_js[i](window.Bokeh);\n",
       "      }\n",
       "    }\n",
       "  \n",
       "    if (window._bokeh_is_loading === 0) {\n",
       "      console.log(\"Bokeh: BokehJS loaded, going straight to plotting\");\n",
       "      run_inline_js();\n",
       "    } else {\n",
       "      load_libs(js_urls, function() {\n",
       "        console.log(\"Bokeh: BokehJS plotting callback run at\", now());\n",
       "        run_inline_js();\n",
       "      });\n",
       "    }\n",
       "  }(this));\n",
       "</script>"
      ]
     },
     "metadata": {},
     "output_type": "display_data"
    },
    {
     "data": {
      "text/html": [
       "<p><code>&lt;Bokeh Notebook handle for <strong>In[34]</strong>&gt;</code></p>"
      ],
      "text/plain": [
       "<bokeh.io._CommsHandle at 0x7fdae8cf1a90>"
      ]
     },
     "execution_count": 34,
     "metadata": {},
     "output_type": "execute_result"
    }
   ],
   "source": [
    "p1 = Scatter(df2, x='offensive', y='defensive', color='cluster',\\\n",
    "            title=\"Player attitude\", xlabel=\"offensive attitude\",\\\n",
    "            ylabel=\"defensive attitude\",legend=\"top_right\")\n",
    "\n",
    "#output_file(\"scatter.html\")\n",
    "\n",
    "show(p1)"
   ]
  },
  {
   "cell_type": "markdown",
   "metadata": {},
   "source": [
    "### It seems that the red cluster lacks deensive attitude, while the green one, lacks offensive attitude. Things will become pretty clear when calculating the cluster centroinds as averages:"
   ]
  },
  {
   "cell_type": "code",
   "execution_count": 35,
   "metadata": {
    "collapsed": false
   },
   "outputs": [
    {
     "data": {
      "text/html": [
       "<div>\n",
       "<table border=\"1\" class=\"dataframe\">\n",
       "  <thead>\n",
       "    <tr style=\"text-align: right;\">\n",
       "      <th></th>\n",
       "      <th>Goals</th>\n",
       "      <th>Assists</th>\n",
       "      <th>Solo runs into penalty area</th>\n",
       "      <th>Deliveries into penalty area</th>\n",
       "      <th>Total attempts</th>\n",
       "      <th>On target</th>\n",
       "      <th>Red cards</th>\n",
       "      <th>Yellow cards</th>\n",
       "      <th>Fouls committed</th>\n",
       "      <th>Tackles</th>\n",
       "      <th>Blocks</th>\n",
       "      <th>Cluster</th>\n",
       "    </tr>\n",
       "    <tr>\n",
       "      <th>Name</th>\n",
       "      <th></th>\n",
       "      <th></th>\n",
       "      <th></th>\n",
       "      <th></th>\n",
       "      <th></th>\n",
       "      <th></th>\n",
       "      <th></th>\n",
       "      <th></th>\n",
       "      <th></th>\n",
       "      <th></th>\n",
       "      <th></th>\n",
       "      <th></th>\n",
       "    </tr>\n",
       "  </thead>\n",
       "  <tbody>\n",
       "    <tr>\n",
       "      <th>Antoine Griezmann</th>\n",
       "      <td>4.334542</td>\n",
       "      <td>1.349193</td>\n",
       "      <td>0.829062</td>\n",
       "      <td>0.907426</td>\n",
       "      <td>2.235545</td>\n",
       "      <td>3.320213</td>\n",
       "      <td>-0.075378</td>\n",
       "      <td>-0.645252</td>\n",
       "      <td>-0.652384</td>\n",
       "      <td>1.158730</td>\n",
       "      <td>-0.333227</td>\n",
       "      <td>0</td>\n",
       "    </tr>\n",
       "    <tr>\n",
       "      <th>Cristiano Ronaldo</th>\n",
       "      <td>1.692633</td>\n",
       "      <td>1.923765</td>\n",
       "      <td>0.414591</td>\n",
       "      <td>-0.158653</td>\n",
       "      <td>4.078032</td>\n",
       "      <td>2.359938</td>\n",
       "      <td>-0.075378</td>\n",
       "      <td>-0.222420</td>\n",
       "      <td>-0.195612</td>\n",
       "      <td>-0.688291</td>\n",
       "      <td>-0.678728</td>\n",
       "      <td>0</td>\n",
       "    </tr>\n",
       "    <tr>\n",
       "      <th>Olivier Giroud</th>\n",
       "      <td>2.474527</td>\n",
       "      <td>1.724924</td>\n",
       "      <td>0.443018</td>\n",
       "      <td>-0.484618</td>\n",
       "      <td>1.274664</td>\n",
       "      <td>1.396974</td>\n",
       "      <td>-0.075378</td>\n",
       "      <td>-0.065713</td>\n",
       "      <td>-0.166383</td>\n",
       "      <td>-0.688291</td>\n",
       "      <td>-0.678728</td>\n",
       "      <td>0</td>\n",
       "    </tr>\n",
       "  </tbody>\n",
       "</table>\n",
       "</div>"
      ],
      "text/plain": [
       "                      Goals   Assists  Solo runs into penalty area  \\\n",
       "Name                                                                 \n",
       "Antoine Griezmann  4.334542  1.349193                     0.829062   \n",
       "Cristiano Ronaldo  1.692633  1.923765                     0.414591   \n",
       "Olivier Giroud     2.474527  1.724924                     0.443018   \n",
       "\n",
       "                   Deliveries into penalty area  Total attempts  On target  \\\n",
       "Name                                                                         \n",
       "Antoine Griezmann                      0.907426        2.235545   3.320213   \n",
       "Cristiano Ronaldo                     -0.158653        4.078032   2.359938   \n",
       "Olivier Giroud                        -0.484618        1.274664   1.396974   \n",
       "\n",
       "                   Red cards  Yellow cards  Fouls committed   Tackles  \\\n",
       "Name                                                                    \n",
       "Antoine Griezmann  -0.075378     -0.645252        -0.652384  1.158730   \n",
       "Cristiano Ronaldo  -0.075378     -0.222420        -0.195612 -0.688291   \n",
       "Olivier Giroud     -0.075378     -0.065713        -0.166383 -0.688291   \n",
       "\n",
       "                     Blocks  Cluster  \n",
       "Name                                  \n",
       "Antoine Griezmann -0.333227        0  \n",
       "Cristiano Ronaldo -0.678728        0  \n",
       "Olivier Giroud    -0.678728        0  "
      ]
     },
     "execution_count": 35,
     "metadata": {},
     "output_type": "execute_result"
    }
   ],
   "source": [
    "df1['Cluster'] = y\n",
    "df1.head(3)"
   ]
  },
  {
   "cell_type": "code",
   "execution_count": 36,
   "metadata": {
    "collapsed": false
   },
   "outputs": [],
   "source": [
    "framelist = []\n",
    "for cl in set(y):\n",
    "    frame = df1[df1['Cluster'] == cl]\n",
    "    name = str(cl)\n",
    "    data = frame.mean(axis=0).to_frame(name=name)\n",
    "    framelist.append(data)\n",
    "    "
   ]
  },
  {
   "cell_type": "code",
   "execution_count": 37,
   "metadata": {
    "collapsed": false
   },
   "outputs": [],
   "source": [
    "centroidsDf = pd.concat(framelist,axis=1)"
   ]
  },
  {
   "cell_type": "code",
   "execution_count": 38,
   "metadata": {
    "collapsed": false
   },
   "outputs": [
    {
     "data": {
      "text/html": [
       "<div>\n",
       "<table border=\"1\" class=\"dataframe\">\n",
       "  <thead>\n",
       "    <tr style=\"text-align: right;\">\n",
       "      <th></th>\n",
       "      <th>0</th>\n",
       "      <th>1</th>\n",
       "      <th>2</th>\n",
       "      <th>3</th>\n",
       "    </tr>\n",
       "  </thead>\n",
       "  <tbody>\n",
       "    <tr>\n",
       "      <th>Goals</th>\n",
       "      <td>0.753128</td>\n",
       "      <td>-0.362210</td>\n",
       "      <td>-0.355917</td>\n",
       "      <td>-0.417093</td>\n",
       "    </tr>\n",
       "    <tr>\n",
       "      <th>Assists</th>\n",
       "      <td>0.395850</td>\n",
       "      <td>-0.334341</td>\n",
       "      <td>0.109811</td>\n",
       "      <td>-0.342082</td>\n",
       "    </tr>\n",
       "    <tr>\n",
       "      <th>Solo runs into penalty area</th>\n",
       "      <td>0.581985</td>\n",
       "      <td>-0.447813</td>\n",
       "      <td>0.069149</td>\n",
       "      <td>-0.462467</td>\n",
       "    </tr>\n",
       "    <tr>\n",
       "      <th>Deliveries into penalty area</th>\n",
       "      <td>0.631561</td>\n",
       "      <td>-0.376981</td>\n",
       "      <td>-0.127531</td>\n",
       "      <td>-0.442118</td>\n",
       "    </tr>\n",
       "    <tr>\n",
       "      <th>Total attempts</th>\n",
       "      <td>0.910037</td>\n",
       "      <td>-0.513629</td>\n",
       "      <td>-0.529223</td>\n",
       "      <td>-0.185125</td>\n",
       "    </tr>\n",
       "    <tr>\n",
       "      <th>On target</th>\n",
       "      <td>0.879822</td>\n",
       "      <td>-0.476286</td>\n",
       "      <td>-0.546234</td>\n",
       "      <td>-0.172550</td>\n",
       "    </tr>\n",
       "    <tr>\n",
       "      <th>Red cards</th>\n",
       "      <td>-0.075378</td>\n",
       "      <td>-0.075378</td>\n",
       "      <td>-0.075378</td>\n",
       "      <td>0.458297</td>\n",
       "    </tr>\n",
       "    <tr>\n",
       "      <th>Yellow cards</th>\n",
       "      <td>-0.245679</td>\n",
       "      <td>-0.256392</td>\n",
       "      <td>-0.106207</td>\n",
       "      <td>1.308516</td>\n",
       "    </tr>\n",
       "    <tr>\n",
       "      <th>Fouls committed</th>\n",
       "      <td>-0.153558</td>\n",
       "      <td>-0.425222</td>\n",
       "      <td>0.054973</td>\n",
       "      <td>1.229361</td>\n",
       "    </tr>\n",
       "    <tr>\n",
       "      <th>Tackles</th>\n",
       "      <td>-0.089131</td>\n",
       "      <td>-0.299624</td>\n",
       "      <td>0.850994</td>\n",
       "      <td>-0.396767</td>\n",
       "    </tr>\n",
       "    <tr>\n",
       "      <th>Blocks</th>\n",
       "      <td>-0.345199</td>\n",
       "      <td>0.461545</td>\n",
       "      <td>-0.242723</td>\n",
       "      <td>0.137990</td>\n",
       "    </tr>\n",
       "    <tr>\n",
       "      <th>Cluster</th>\n",
       "      <td>0.000000</td>\n",
       "      <td>1.000000</td>\n",
       "      <td>2.000000</td>\n",
       "      <td>3.000000</td>\n",
       "    </tr>\n",
       "  </tbody>\n",
       "</table>\n",
       "</div>"
      ],
      "text/plain": [
       "                                     0         1         2         3\n",
       "Goals                         0.753128 -0.362210 -0.355917 -0.417093\n",
       "Assists                       0.395850 -0.334341  0.109811 -0.342082\n",
       "Solo runs into penalty area   0.581985 -0.447813  0.069149 -0.462467\n",
       "Deliveries into penalty area  0.631561 -0.376981 -0.127531 -0.442118\n",
       "Total attempts                0.910037 -0.513629 -0.529223 -0.185125\n",
       "On target                     0.879822 -0.476286 -0.546234 -0.172550\n",
       "Red cards                    -0.075378 -0.075378 -0.075378  0.458297\n",
       "Yellow cards                 -0.245679 -0.256392 -0.106207  1.308516\n",
       "Fouls committed              -0.153558 -0.425222  0.054973  1.229361\n",
       "Tackles                      -0.089131 -0.299624  0.850994 -0.396767\n",
       "Blocks                       -0.345199  0.461545 -0.242723  0.137990\n",
       "Cluster                       0.000000  1.000000  2.000000  3.000000"
      ]
     },
     "execution_count": 38,
     "metadata": {},
     "output_type": "execute_result"
    }
   ],
   "source": [
    "centroidsDf"
   ]
  },
  {
   "cell_type": "markdown",
   "metadata": {
    "collapsed": true
   },
   "source": [
    "### The cluser 0 is for gloal oriented players, largely overlapping the attacking role. The clusster 1 has a value that is greater than average only for blocks, they surely are the defenders. The cluster 2 consists of players with some assists, some tackles; they are more or less the midfielders. And finally, the misterious fourth role in a team is revealed: the bone braker, the only one with above average number of fouls, yellow and red cards and everything else, below average. Good to have in a team, it seems."
   ]
  },
  {
   "cell_type": "markdown",
   "metadata": {},
   "source": [
    "Any comment is welcome: cvasii23 at gmail dot com"
   ]
  },
  {
   "cell_type": "code",
   "execution_count": null,
   "metadata": {
    "collapsed": true
   },
   "outputs": [],
   "source": []
  }
 ],
 "metadata": {
  "kernelspec": {
   "display_name": "Python 2",
   "language": "python",
   "name": "python2"
  },
  "language_info": {
   "codemirror_mode": {
    "name": "ipython",
    "version": 2
   },
   "file_extension": ".py",
   "mimetype": "text/x-python",
   "name": "python",
   "nbconvert_exporter": "python",
   "pygments_lexer": "ipython2",
   "version": "2.7.12"
  }
 },
 "nbformat": 4,
 "nbformat_minor": 0
}
